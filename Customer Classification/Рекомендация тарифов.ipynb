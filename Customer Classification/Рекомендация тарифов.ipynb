{
 "cells": [
  {
   "cell_type": "markdown",
   "metadata": {},
   "source": [
    "# Рекомендация тарифов"
   ]
  },
  {
   "cell_type": "markdown",
   "metadata": {},
   "source": [
    "## Описание"
   ]
  },
  {
   "cell_type": "markdown",
   "metadata": {},
   "source": [
    "Имеются данные о поведении клиентов, использующих некоторые тарифы компании. Нужно построить модель для задачи классификации, которая выберет подходящий тариф."
   ]
  },
  {
   "cell_type": "code",
   "execution_count": 1,
   "metadata": {},
   "outputs": [],
   "source": [
    "import pandas\n",
    "import pandas as pd\n",
    "import sklearn\n",
    "import seaborn as sns\n",
    "from scipy.stats import spearmanr\n",
    "from sklearn.model_selection import train_test_split\n",
    "from sklearn.ensemble import RandomForestClassifier\n",
    "from sklearn.tree import DecisionTreeClassifier\n",
    "from sklearn.linear_model import LogisticRegression\n",
    "from sklearn.metrics import accuracy_score\n",
    "from sklearn.dummy import DummyClassifier\n",
    "import warnings"
   ]
  },
  {
   "cell_type": "markdown",
   "metadata": {},
   "source": [
    "Импортировал необходимые для работы библиотеки."
   ]
  },
  {
   "cell_type": "code",
   "execution_count": 2,
   "metadata": {},
   "outputs": [
    {
     "data": {
      "text/html": [
       "<div>\n",
       "<style scoped>\n",
       "    .dataframe tbody tr th:only-of-type {\n",
       "        vertical-align: middle;\n",
       "    }\n",
       "\n",
       "    .dataframe tbody tr th {\n",
       "        vertical-align: top;\n",
       "    }\n",
       "\n",
       "    .dataframe thead th {\n",
       "        text-align: right;\n",
       "    }\n",
       "</style>\n",
       "<table border=\"1\" class=\"dataframe\">\n",
       "  <thead>\n",
       "    <tr style=\"text-align: right;\">\n",
       "      <th></th>\n",
       "      <th>calls</th>\n",
       "      <th>minutes</th>\n",
       "      <th>messages</th>\n",
       "      <th>mb_used</th>\n",
       "      <th>is_ultra</th>\n",
       "    </tr>\n",
       "  </thead>\n",
       "  <tbody>\n",
       "    <tr>\n",
       "      <th>0</th>\n",
       "      <td>40.0</td>\n",
       "      <td>311.90</td>\n",
       "      <td>83.0</td>\n",
       "      <td>19915.42</td>\n",
       "      <td>0</td>\n",
       "    </tr>\n",
       "    <tr>\n",
       "      <th>1</th>\n",
       "      <td>85.0</td>\n",
       "      <td>516.75</td>\n",
       "      <td>56.0</td>\n",
       "      <td>22696.96</td>\n",
       "      <td>0</td>\n",
       "    </tr>\n",
       "    <tr>\n",
       "      <th>2</th>\n",
       "      <td>77.0</td>\n",
       "      <td>467.66</td>\n",
       "      <td>86.0</td>\n",
       "      <td>21060.45</td>\n",
       "      <td>0</td>\n",
       "    </tr>\n",
       "    <tr>\n",
       "      <th>3</th>\n",
       "      <td>106.0</td>\n",
       "      <td>745.53</td>\n",
       "      <td>81.0</td>\n",
       "      <td>8437.39</td>\n",
       "      <td>1</td>\n",
       "    </tr>\n",
       "    <tr>\n",
       "      <th>4</th>\n",
       "      <td>66.0</td>\n",
       "      <td>418.74</td>\n",
       "      <td>1.0</td>\n",
       "      <td>14502.75</td>\n",
       "      <td>0</td>\n",
       "    </tr>\n",
       "    <tr>\n",
       "      <th>...</th>\n",
       "      <td>...</td>\n",
       "      <td>...</td>\n",
       "      <td>...</td>\n",
       "      <td>...</td>\n",
       "      <td>...</td>\n",
       "    </tr>\n",
       "    <tr>\n",
       "      <th>3209</th>\n",
       "      <td>122.0</td>\n",
       "      <td>910.98</td>\n",
       "      <td>20.0</td>\n",
       "      <td>35124.90</td>\n",
       "      <td>1</td>\n",
       "    </tr>\n",
       "    <tr>\n",
       "      <th>3210</th>\n",
       "      <td>25.0</td>\n",
       "      <td>190.36</td>\n",
       "      <td>0.0</td>\n",
       "      <td>3275.61</td>\n",
       "      <td>0</td>\n",
       "    </tr>\n",
       "    <tr>\n",
       "      <th>3211</th>\n",
       "      <td>97.0</td>\n",
       "      <td>634.44</td>\n",
       "      <td>70.0</td>\n",
       "      <td>13974.06</td>\n",
       "      <td>0</td>\n",
       "    </tr>\n",
       "    <tr>\n",
       "      <th>3212</th>\n",
       "      <td>64.0</td>\n",
       "      <td>462.32</td>\n",
       "      <td>90.0</td>\n",
       "      <td>31239.78</td>\n",
       "      <td>0</td>\n",
       "    </tr>\n",
       "    <tr>\n",
       "      <th>3213</th>\n",
       "      <td>80.0</td>\n",
       "      <td>566.09</td>\n",
       "      <td>6.0</td>\n",
       "      <td>29480.52</td>\n",
       "      <td>1</td>\n",
       "    </tr>\n",
       "  </tbody>\n",
       "</table>\n",
       "<p>3214 rows × 5 columns</p>\n",
       "</div>"
      ],
      "text/plain": [
       "      calls  minutes  messages   mb_used  is_ultra\n",
       "0      40.0   311.90      83.0  19915.42         0\n",
       "1      85.0   516.75      56.0  22696.96         0\n",
       "2      77.0   467.66      86.0  21060.45         0\n",
       "3     106.0   745.53      81.0   8437.39         1\n",
       "4      66.0   418.74       1.0  14502.75         0\n",
       "...     ...      ...       ...       ...       ...\n",
       "3209  122.0   910.98      20.0  35124.90         1\n",
       "3210   25.0   190.36       0.0   3275.61         0\n",
       "3211   97.0   634.44      70.0  13974.06         0\n",
       "3212   64.0   462.32      90.0  31239.78         0\n",
       "3213   80.0   566.09       6.0  29480.52         1\n",
       "\n",
       "[3214 rows x 5 columns]"
      ]
     },
     "execution_count": 2,
     "metadata": {},
     "output_type": "execute_result"
    }
   ],
   "source": [
    "data = pandas.read_csv(f'/datasets/users_behavior.csv')\n",
    "data"
   ]
  },
  {
   "cell_type": "code",
   "execution_count": 3,
   "metadata": {},
   "outputs": [
    {
     "name": "stdout",
     "output_type": "stream",
     "text": [
      "<class 'pandas.core.frame.DataFrame'>\n",
      "RangeIndex: 3214 entries, 0 to 3213\n",
      "Data columns (total 5 columns):\n",
      " #   Column    Non-Null Count  Dtype  \n",
      "---  ------    --------------  -----  \n",
      " 0   calls     3214 non-null   float64\n",
      " 1   minutes   3214 non-null   float64\n",
      " 2   messages  3214 non-null   float64\n",
      " 3   mb_used   3214 non-null   float64\n",
      " 4   is_ultra  3214 non-null   int64  \n",
      "dtypes: float64(4), int64(1)\n",
      "memory usage: 125.7 KB\n"
     ]
    }
   ],
   "source": [
    "data.info()"
   ]
  },
  {
   "cell_type": "code",
   "execution_count": 4,
   "metadata": {},
   "outputs": [
    {
     "data": {
      "text/html": [
       "<div>\n",
       "<style scoped>\n",
       "    .dataframe tbody tr th:only-of-type {\n",
       "        vertical-align: middle;\n",
       "    }\n",
       "\n",
       "    .dataframe tbody tr th {\n",
       "        vertical-align: top;\n",
       "    }\n",
       "\n",
       "    .dataframe thead th {\n",
       "        text-align: right;\n",
       "    }\n",
       "</style>\n",
       "<table border=\"1\" class=\"dataframe\">\n",
       "  <thead>\n",
       "    <tr style=\"text-align: right;\">\n",
       "      <th></th>\n",
       "      <th>calls</th>\n",
       "      <th>minutes</th>\n",
       "      <th>messages</th>\n",
       "      <th>mb_used</th>\n",
       "      <th>is_ultra</th>\n",
       "    </tr>\n",
       "  </thead>\n",
       "  <tbody>\n",
       "    <tr>\n",
       "      <th>count</th>\n",
       "      <td>3214.000000</td>\n",
       "      <td>3214.000000</td>\n",
       "      <td>3214.000000</td>\n",
       "      <td>3214.000000</td>\n",
       "      <td>3214.000000</td>\n",
       "    </tr>\n",
       "    <tr>\n",
       "      <th>mean</th>\n",
       "      <td>63.038892</td>\n",
       "      <td>438.208787</td>\n",
       "      <td>38.281269</td>\n",
       "      <td>17207.673836</td>\n",
       "      <td>0.306472</td>\n",
       "    </tr>\n",
       "    <tr>\n",
       "      <th>std</th>\n",
       "      <td>33.236368</td>\n",
       "      <td>234.569872</td>\n",
       "      <td>36.148326</td>\n",
       "      <td>7570.968246</td>\n",
       "      <td>0.461100</td>\n",
       "    </tr>\n",
       "    <tr>\n",
       "      <th>min</th>\n",
       "      <td>0.000000</td>\n",
       "      <td>0.000000</td>\n",
       "      <td>0.000000</td>\n",
       "      <td>0.000000</td>\n",
       "      <td>0.000000</td>\n",
       "    </tr>\n",
       "    <tr>\n",
       "      <th>25%</th>\n",
       "      <td>40.000000</td>\n",
       "      <td>274.575000</td>\n",
       "      <td>9.000000</td>\n",
       "      <td>12491.902500</td>\n",
       "      <td>0.000000</td>\n",
       "    </tr>\n",
       "    <tr>\n",
       "      <th>50%</th>\n",
       "      <td>62.000000</td>\n",
       "      <td>430.600000</td>\n",
       "      <td>30.000000</td>\n",
       "      <td>16943.235000</td>\n",
       "      <td>0.000000</td>\n",
       "    </tr>\n",
       "    <tr>\n",
       "      <th>75%</th>\n",
       "      <td>82.000000</td>\n",
       "      <td>571.927500</td>\n",
       "      <td>57.000000</td>\n",
       "      <td>21424.700000</td>\n",
       "      <td>1.000000</td>\n",
       "    </tr>\n",
       "    <tr>\n",
       "      <th>max</th>\n",
       "      <td>244.000000</td>\n",
       "      <td>1632.060000</td>\n",
       "      <td>224.000000</td>\n",
       "      <td>49745.730000</td>\n",
       "      <td>1.000000</td>\n",
       "    </tr>\n",
       "  </tbody>\n",
       "</table>\n",
       "</div>"
      ],
      "text/plain": [
       "             calls      minutes     messages       mb_used     is_ultra\n",
       "count  3214.000000  3214.000000  3214.000000   3214.000000  3214.000000\n",
       "mean     63.038892   438.208787    38.281269  17207.673836     0.306472\n",
       "std      33.236368   234.569872    36.148326   7570.968246     0.461100\n",
       "min       0.000000     0.000000     0.000000      0.000000     0.000000\n",
       "25%      40.000000   274.575000     9.000000  12491.902500     0.000000\n",
       "50%      62.000000   430.600000    30.000000  16943.235000     0.000000\n",
       "75%      82.000000   571.927500    57.000000  21424.700000     1.000000\n",
       "max     244.000000  1632.060000   224.000000  49745.730000     1.000000"
      ]
     },
     "execution_count": 4,
     "metadata": {},
     "output_type": "execute_result"
    }
   ],
   "source": [
    "data.describe()"
   ]
  },
  {
   "cell_type": "code",
   "execution_count": 5,
   "metadata": {},
   "outputs": [
    {
     "data": {
      "text/plain": [
       "calls  minutes  messages  mb_used   is_ultra\n",
       "0.0    0.00     0.0       530.78    1           1\n",
       "75.0   529.66   20.0      21749.32  0           1\n",
       "       487.72   60.0      25759.17  0           1\n",
       "       489.47   7.0       20478.94  1           1\n",
       "       496.06   14.0      13850.84  1           1\n",
       "                                               ..\n",
       "48.0   334.49   19.0      17538.01  0           1\n",
       "       336.38   14.0      21902.41  0           1\n",
       "       338.06   3.0       20883.01  0           1\n",
       "       341.65   0.0       19000.02  0           1\n",
       "244.0  1632.06  39.0      9756.91   1           1\n",
       "Length: 3214, dtype: int64"
      ]
     },
     "execution_count": 5,
     "metadata": {},
     "output_type": "execute_result"
    }
   ],
   "source": [
    "data.value_counts()"
   ]
  },
  {
   "cell_type": "code",
   "execution_count": 6,
   "metadata": {},
   "outputs": [],
   "source": [
    "data['calls'] = data['calls'].astype('int')\n",
    "data['messages'] = data['messages'].astype('int')"
   ]
  },
  {
   "cell_type": "code",
   "execution_count": 7,
   "metadata": {},
   "outputs": [
    {
     "data": {
      "text/plain": [
       "SpearmanrResult(correlation=0.15503223116820483, pvalue=9.642126018301472e-19)"
      ]
     },
     "execution_count": 7,
     "metadata": {},
     "output_type": "execute_result"
    }
   ],
   "source": [
    "spearmanr(data['calls'], data['messages'])"
   ]
  },
  {
   "cell_type": "markdown",
   "metadata": {},
   "source": [
    "Можем заметить, что корелляция между количеством звонков и сообщений очень слабая."
   ]
  },
  {
   "cell_type": "markdown",
   "metadata": {},
   "source": [
    "### Вывод: \n",
    "Можно заметить, что пропусков в данных нет и форматы данных везде подходящие, разве что - заменил типы данных в колонках messages и calls на int, т.к. количество сообщений и звонков - целочисленные значения."
   ]
  },
  {
   "cell_type": "markdown",
   "metadata": {},
   "source": [
    "## Разделение данных на выборки"
   ]
  },
  {
   "cell_type": "code",
   "execution_count": 8,
   "metadata": {},
   "outputs": [],
   "source": [
    "features = data.drop(['is_ultra'], axis=1)\n",
    "target = data['is_ultra']"
   ]
  },
  {
   "cell_type": "code",
   "execution_count": 10,
   "metadata": {},
   "outputs": [
    {
     "name": "stdout",
     "output_type": "stream",
     "text": [
      "Размер выборки для тренировочных данных: 1928\n",
      "Размер выборки для тестовых данных: 643\n",
      "Размер выборки для валидационных данных: 643\n"
     ]
    }
   ],
   "source": [
    "features_train, features_test, target_train, target_test = train_test_split(features, target, test_size=0.4, random_state=12345)\n",
    "features_valid, features_test, target_valid, target_test = train_test_split(features_test, target_test, test_size=0.5, random_state=12345)\n",
    "print('Размер выборки для тренировочных данных:', len(features_train))\n",
    "print('Размер выборки для тестовых данных:', len(features_test))\n",
    "print('Размер выборки для валидационных данных:', len(features_valid))"
   ]
  },
  {
   "cell_type": "markdown",
   "metadata": {},
   "source": [
    "Создал три выборки:\n",
    " - train - для тренировочных данных\n",
    " - valid - для валидационных данных\n",
    " - test - для тестовых данных"
   ]
  },
  {
   "cell_type": "markdown",
   "metadata": {},
   "source": [
    "## Исследуйте модели"
   ]
  },
  {
   "cell_type": "markdown",
   "metadata": {},
   "source": [
    "### Проверим работу Decision Tree"
   ]
  },
  {
   "cell_type": "code",
   "execution_count": 11,
   "metadata": {},
   "outputs": [
    {
     "name": "stdout",
     "output_type": "stream",
     "text": [
      "9 0.7869362363919129\n"
     ]
    }
   ],
   "source": [
    "best_model = None\n",
    "best_acc_dt = 0\n",
    "best_depth = 0\n",
    "for depth in range(2,50):\n",
    "    dt_model = DecisionTreeClassifier(random_state=50, max_depth=depth)\n",
    "    dt_model.fit(features_train, target_train)\n",
    "    prediction_dt = dt_model.predict(features_valid)\n",
    "    acc = accuracy_score(prediction_dt, target_valid)\n",
    "    if best_acc_dt < acc:\n",
    "        best_model = dt_model\n",
    "        best_acc_dt = acc\n",
    "        best_depth = depth\n",
    "\n",
    "print(best_depth, best_acc_dt)"
   ]
  },
  {
   "cell_type": "markdown",
   "metadata": {},
   "source": [
    "Вывод: Точность прогноза модели Decision Tree равна 0.7869362363919129 (При глубине равной девяти)"
   ]
  },
  {
   "cell_type": "markdown",
   "metadata": {},
   "source": [
    "### Проверим работу Logistic Regression"
   ]
  },
  {
   "cell_type": "code",
   "execution_count": 12,
   "metadata": {},
   "outputs": [
    {
     "name": "stdout",
     "output_type": "stream",
     "text": [
      "newton-cg 0.7107309486780715\n"
     ]
    }
   ],
   "source": [
    "warnings.filterwarnings('ignore')\n",
    "best_log_reg = None\n",
    "best_res = 0\n",
    "solver = ['newton-cg', 'sag', 'saga', 'liblinear', 'lbfgs']\n",
    "\n",
    "for i in solver:\n",
    "    log_reg = LogisticRegression(random_state=50, solver=i, max_iter=10000)\n",
    "    log_reg.fit(features_train, target_train)\n",
    "    log_reg_prediction = log_reg.predict(features_valid)\n",
    "    log_reg_acc = accuracy_score(log_reg_prediction, target_valid)\n",
    "    if log_reg_acc > best_res:\n",
    "        best_res = log_reg_acc\n",
    "        best_log_reg = log_reg\n",
    "        best_solver = i\n",
    "\n",
    "print(best_solver, log_reg_acc)"
   ]
  },
  {
   "cell_type": "markdown",
   "metadata": {},
   "source": [
    "Вывод: Лучшая точность прогноза модели Logistic Regression (достигается при использовании решателя newton-cg) равна newton-cg 0.7107309486780715."
   ]
  },
  {
   "cell_type": "markdown",
   "metadata": {},
   "source": [
    "### Проверим работу Random Forest"
   ]
  },
  {
   "cell_type": "code",
   "execution_count": 13,
   "metadata": {},
   "outputs": [
    {
     "name": "stdout",
     "output_type": "stream",
     "text": [
      "7 150 2 0.8055987558320373\n"
     ]
    }
   ],
   "source": [
    "#from tqdm import tqdm\n",
    "\n",
    "best_rf = None\n",
    "best_acc_rf = 0\n",
    "best_est_rf = 0\n",
    "best_depth_rf = 0\n",
    "for f in range(2, 5):\n",
    "    for est in range(10, 200, 10):\n",
    "        for depth in range(2,25):\n",
    "            rf = RandomForestClassifier(random_state=50, n_estimators=est, max_depth=depth, max_features=f)\n",
    "            rf.fit(features_train, target_train)\n",
    "            prediction_rf = rf.predict(features_valid)\n",
    "            acc_rf = accuracy_score(prediction_rf, target_valid)\n",
    "            if best_acc_rf < acc_rf:\n",
    "                best_rf = rf\n",
    "                best_depth_rf = depth\n",
    "                best_est_rf = est\n",
    "                best_acc_rf = acc_rf\n",
    "                best_f_rf = f\n",
    "                \n",
    "print(best_depth_rf, best_est_rf, best_f_rf, best_acc_rf)"
   ]
  },
  {
   "cell_type": "markdown",
   "metadata": {},
   "source": [
    "Вывод: Лучшая точность прогноза модели Random Forest равна 0.8055987558320373 (При глубине равной семи, 150 оценщиках (деревьях) и с двумя признаками)."
   ]
  },
  {
   "cell_type": "markdown",
   "metadata": {},
   "source": [
    "### Вывод "
   ]
  },
  {
   "cell_type": "markdown",
   "metadata": {},
   "source": [
    "Самый точный прогноз дает модель Random Forest. Точность прогноза 0.8055987558320373."
   ]
  },
  {
   "cell_type": "markdown",
   "metadata": {},
   "source": [
    "## Проверка лучшей модели на тестовой выборке"
   ]
  },
  {
   "cell_type": "markdown",
   "metadata": {},
   "source": [
    "Проверка случайного леса на тестовой выборке:"
   ]
  },
  {
   "cell_type": "code",
   "execution_count": 14,
   "metadata": {},
   "outputs": [
    {
     "name": "stdout",
     "output_type": "stream",
     "text": [
      "0.7993779160186625\n"
     ]
    }
   ],
   "source": [
    "pred_testsample_rf = best_rf.predict(features_test)\n",
    "acc_testsample_rf = accuracy_score(pred_testsample_rf, target_test)\n",
    "print(acc_testsample_rf)"
   ]
  },
  {
   "cell_type": "markdown",
   "metadata": {},
   "source": [
    "### Вывод"
   ]
  },
  {
   "cell_type": "markdown",
   "metadata": {},
   "source": [
    "Как и в случае с тренировочной выборкой, доля правильных ответов у модели типа \"Случайный лес\" высока и выдает достаточно хороший результат 0.7993779160186625 или 79,9% правильных ответов."
   ]
  },
  {
   "cell_type": "markdown",
   "metadata": {},
   "source": [
    "## Проверка модели на адекватность"
   ]
  },
  {
   "cell_type": "markdown",
   "metadata": {},
   "source": [
    "Используем классификатор для сравнения нашей модели с его прогнозом."
   ]
  },
  {
   "cell_type": "code",
   "execution_count": 15,
   "metadata": {},
   "outputs": [
    {
     "name": "stdout",
     "output_type": "stream",
     "text": [
      "Точность дамми-модели: 0.6842923794712286\n"
     ]
    }
   ],
   "source": [
    "dummy_1 = DummyClassifier(strategy=\"most_frequent\", random_state=0).fit(features_train, target_train)\n",
    "dummy_prediction = dummy_1.predict(features_test)\n",
    "dummy_acc = accuracy_score(target_test, dummy_prediction)\n",
    "print(\"Точность дамми-модели:\", dummy_acc)"
   ]
  },
  {
   "cell_type": "markdown",
   "metadata": {},
   "source": [
    "### Вывод: \n",
    "Заметно, что такая модель дает правильные ответы значительно (на 11,5%) реже модели случайного леса, примененной ранее. Следовательно, наша модель проходит проверку на адекватность."
   ]
  },
  {
   "cell_type": "markdown",
   "metadata": {},
   "source": [
    "# Общий вывод:\n",
    "Наиболее точной моделью нашего исследования является \"Случайный лес\"."
   ]
  }
 ],
 "metadata": {
  "ExecuteTimeLog": [
   {
    "duration": 464,
    "start_time": "2022-11-18T20:26:30.367Z"
   },
   {
    "duration": 69,
    "start_time": "2022-11-18T20:26:52.627Z"
   },
   {
    "duration": 55,
    "start_time": "2022-11-18T20:26:56.078Z"
   },
   {
    "duration": 661,
    "start_time": "2022-11-18T20:28:37.377Z"
   },
   {
    "duration": 27,
    "start_time": "2022-11-18T20:29:42.488Z"
   },
   {
    "duration": 11,
    "start_time": "2022-11-18T20:29:43.203Z"
   },
   {
    "duration": 14,
    "start_time": "2022-11-18T20:29:59.069Z"
   },
   {
    "duration": 102,
    "start_time": "2022-11-18T20:31:05.983Z"
   },
   {
    "duration": 4,
    "start_time": "2022-11-18T20:31:14.935Z"
   },
   {
    "duration": 10,
    "start_time": "2022-11-18T20:34:14.173Z"
   },
   {
    "duration": 25,
    "start_time": "2022-11-18T20:34:32.024Z"
   },
   {
    "duration": 19,
    "start_time": "2022-11-18T20:34:34.446Z"
   },
   {
    "duration": 12,
    "start_time": "2022-11-18T20:50:39.069Z"
   },
   {
    "duration": 4,
    "start_time": "2022-11-18T20:50:44.431Z"
   },
   {
    "duration": 10,
    "start_time": "2022-11-18T20:50:44.982Z"
   },
   {
    "duration": 12,
    "start_time": "2022-11-18T20:51:01.099Z"
   },
   {
    "duration": 14,
    "start_time": "2022-11-18T20:51:27.441Z"
   },
   {
    "duration": 14,
    "start_time": "2022-11-18T20:52:11.439Z"
   },
   {
    "duration": 6,
    "start_time": "2022-11-18T20:52:35.742Z"
   },
   {
    "duration": 7,
    "start_time": "2022-11-18T20:53:08.553Z"
   },
   {
    "duration": 7,
    "start_time": "2022-11-18T20:54:56.858Z"
   },
   {
    "duration": 9,
    "start_time": "2022-11-18T21:02:42.834Z"
   },
   {
    "duration": 22,
    "start_time": "2022-11-18T21:03:06.554Z"
   },
   {
    "duration": 28,
    "start_time": "2022-11-18T21:03:09.862Z"
   },
   {
    "duration": 3,
    "start_time": "2022-11-18T21:03:24.534Z"
   },
   {
    "duration": 20,
    "start_time": "2022-11-18T21:03:28.153Z"
   },
   {
    "duration": 23,
    "start_time": "2022-11-18T21:03:50.802Z"
   },
   {
    "duration": 22,
    "start_time": "2022-11-18T21:04:15.557Z"
   },
   {
    "duration": 10,
    "start_time": "2022-11-18T21:24:48.052Z"
   },
   {
    "duration": 29,
    "start_time": "2022-11-18T21:26:43.118Z"
   },
   {
    "duration": 23,
    "start_time": "2022-11-18T21:26:52.425Z"
   },
   {
    "duration": 16,
    "start_time": "2022-11-18T21:45:13.736Z"
   },
   {
    "duration": 16,
    "start_time": "2022-11-18T21:45:17.604Z"
   },
   {
    "duration": 530,
    "start_time": "2022-11-18T21:45:28.139Z"
   },
   {
    "duration": 551,
    "start_time": "2022-11-18T21:46:18.832Z"
   },
   {
    "duration": 24,
    "start_time": "2022-11-18T21:50:44.833Z"
   },
   {
    "duration": 23,
    "start_time": "2022-11-18T21:51:16.354Z"
   },
   {
    "duration": 111909,
    "start_time": "2022-11-18T21:54:47.250Z"
   },
   {
    "duration": 13,
    "start_time": "2022-11-18T22:03:59.044Z"
   },
   {
    "duration": 8,
    "start_time": "2022-11-18T22:04:10.227Z"
   },
   {
    "duration": 120350,
    "start_time": "2022-11-18T22:04:13.989Z"
   },
   {
    "duration": 1200,
    "start_time": "2022-11-24T14:00:51.830Z"
   },
   {
    "duration": 79,
    "start_time": "2022-11-24T14:00:53.032Z"
   },
   {
    "duration": 11,
    "start_time": "2022-11-24T14:00:53.268Z"
   },
   {
    "duration": 14,
    "start_time": "2022-11-24T14:00:55.058Z"
   },
   {
    "duration": 5,
    "start_time": "2022-11-24T14:00:56.623Z"
   },
   {
    "duration": 6,
    "start_time": "2022-11-24T14:00:57.746Z"
   },
   {
    "duration": 509,
    "start_time": "2022-11-24T14:01:02.319Z"
   },
   {
    "duration": 477,
    "start_time": "2022-11-24T14:01:05.356Z"
   },
   {
    "duration": 107,
    "start_time": "2022-11-24T14:01:11.442Z"
   },
   {
    "duration": 23,
    "start_time": "2022-11-24T14:01:13.795Z"
   },
   {
    "duration": 26,
    "start_time": "2022-11-24T14:01:21.303Z"
   },
   {
    "duration": 101447,
    "start_time": "2022-11-24T14:01:30.089Z"
   },
   {
    "duration": 102036,
    "start_time": "2022-11-24T14:04:08.105Z"
   },
   {
    "duration": 14,
    "start_time": "2022-11-24T14:06:09.153Z"
   },
   {
    "duration": 102726,
    "start_time": "2022-11-24T14:06:53.453Z"
   },
   {
    "duration": 128,
    "start_time": "2022-11-24T14:09:01.647Z"
   },
   {
    "duration": 103045,
    "start_time": "2022-11-24T14:09:04.796Z"
   },
   {
    "duration": 103628,
    "start_time": "2022-11-24T14:11:34.804Z"
   },
   {
    "duration": 478,
    "start_time": "2022-11-24T14:13:18.433Z"
   },
   {
    "duration": 20,
    "start_time": "2022-11-24T14:13:52.120Z"
   },
   {
    "duration": 104316,
    "start_time": "2022-11-24T14:19:36.223Z"
   },
   {
    "duration": 21,
    "start_time": "2022-11-24T14:22:17.170Z"
   },
   {
    "duration": 19,
    "start_time": "2022-11-24T14:22:18.832Z"
   },
   {
    "duration": 496,
    "start_time": "2022-11-24T14:22:50.772Z"
   },
   {
    "duration": 342,
    "start_time": "2022-11-24T14:23:05.210Z"
   },
   {
    "duration": 512,
    "start_time": "2022-11-24T14:23:10.008Z"
   },
   {
    "duration": 558,
    "start_time": "2022-11-24T14:23:14.944Z"
   },
   {
    "duration": 166,
    "start_time": "2022-11-24T14:23:18.470Z"
   },
   {
    "duration": 534,
    "start_time": "2022-11-24T14:23:30.780Z"
   },
   {
    "duration": 533,
    "start_time": "2022-11-24T14:23:35.303Z"
   },
   {
    "duration": 549,
    "start_time": "2022-11-24T14:23:43.782Z"
   },
   {
    "duration": 470,
    "start_time": "2022-11-24T14:23:56.241Z"
   },
   {
    "duration": 501,
    "start_time": "2022-11-24T14:24:00.718Z"
   },
   {
    "duration": 483,
    "start_time": "2022-11-24T14:24:06.516Z"
   },
   {
    "duration": 103464,
    "start_time": "2022-11-24T14:24:21.491Z"
   },
   {
    "duration": 77,
    "start_time": "2022-11-24T16:10:23.857Z"
   },
   {
    "duration": 71,
    "start_time": "2022-11-24T16:10:33.897Z"
   },
   {
    "duration": 4,
    "start_time": "2022-11-24T16:12:29.701Z"
   },
   {
    "duration": 12,
    "start_time": "2022-11-24T16:12:40.655Z"
   },
   {
    "duration": 3,
    "start_time": "2022-11-24T16:12:55.836Z"
   },
   {
    "duration": 480,
    "start_time": "2022-11-24T16:15:34.763Z"
   },
   {
    "duration": 483,
    "start_time": "2022-11-24T16:15:50.236Z"
   },
   {
    "duration": 6,
    "start_time": "2022-11-24T16:26:23.534Z"
   },
   {
    "duration": 7,
    "start_time": "2022-11-24T16:26:24.798Z"
   },
   {
    "duration": 12,
    "start_time": "2022-11-24T16:26:25.552Z"
   },
   {
    "duration": 9,
    "start_time": "2022-11-24T16:26:58.471Z"
   },
   {
    "duration": 10,
    "start_time": "2022-11-24T16:27:35.032Z"
   },
   {
    "duration": 8,
    "start_time": "2022-11-24T16:27:49.697Z"
   },
   {
    "duration": 536,
    "start_time": "2022-11-24T16:28:43.410Z"
   },
   {
    "duration": 6,
    "start_time": "2022-11-24T16:28:53.264Z"
   },
   {
    "duration": 75,
    "start_time": "2022-11-24T19:05:01.592Z"
   },
   {
    "duration": 527,
    "start_time": "2022-11-24T19:05:21.588Z"
   },
   {
    "duration": 1098,
    "start_time": "2022-11-24T19:05:35.493Z"
   },
   {
    "duration": 10,
    "start_time": "2022-11-24T19:09:25.691Z"
   },
   {
    "duration": 69,
    "start_time": "2022-11-24T19:09:30.112Z"
   },
   {
    "duration": 59,
    "start_time": "2022-11-24T19:09:45.269Z"
   },
   {
    "duration": 48,
    "start_time": "2022-11-24T19:09:51.037Z"
   },
   {
    "duration": 61,
    "start_time": "2022-11-24T19:10:06.987Z"
   },
   {
    "duration": 12,
    "start_time": "2022-11-24T19:10:20.499Z"
   },
   {
    "duration": 14,
    "start_time": "2022-11-24T19:10:32.451Z"
   },
   {
    "duration": 12,
    "start_time": "2022-11-24T19:11:00.093Z"
   },
   {
    "duration": 12,
    "start_time": "2022-11-24T19:12:11.408Z"
   },
   {
    "duration": 10,
    "start_time": "2022-11-24T19:12:22.251Z"
   },
   {
    "duration": 11,
    "start_time": "2022-11-24T19:12:29.160Z"
   },
   {
    "duration": 14,
    "start_time": "2022-11-24T19:12:37.920Z"
   },
   {
    "duration": 11,
    "start_time": "2022-11-24T19:12:44.170Z"
   },
   {
    "duration": 535,
    "start_time": "2022-11-24T19:14:13.441Z"
   },
   {
    "duration": 1149,
    "start_time": "2022-11-24T19:14:23.964Z"
   },
   {
    "duration": 1107,
    "start_time": "2022-11-24T19:14:48.430Z"
   },
   {
    "duration": 1123,
    "start_time": "2022-11-24T19:14:55.515Z"
   },
   {
    "duration": 959,
    "start_time": "2022-11-24T19:15:10.195Z"
   },
   {
    "duration": 1119,
    "start_time": "2022-11-24T19:15:20.334Z"
   },
   {
    "duration": 1097,
    "start_time": "2022-11-24T19:15:27.396Z"
   },
   {
    "duration": 72,
    "start_time": "2022-11-24T19:18:20.688Z"
   },
   {
    "duration": 99439,
    "start_time": "2022-11-24T19:20:49.740Z"
   },
   {
    "duration": 534,
    "start_time": "2022-11-24T19:24:29.981Z"
   },
   {
    "duration": 98,
    "start_time": "2022-11-24T19:28:11.489Z"
   },
   {
    "duration": 10,
    "start_time": "2022-11-24T19:28:21.119Z"
   },
   {
    "duration": 10,
    "start_time": "2022-11-24T19:28:57.990Z"
   },
   {
    "duration": 5039,
    "start_time": "2022-11-24T19:29:03.841Z"
   },
   {
    "duration": 5613,
    "start_time": "2022-11-24T19:29:27.081Z"
   },
   {
    "duration": 65,
    "start_time": "2022-11-24T19:29:58.749Z"
   },
   {
    "duration": 4613,
    "start_time": "2022-11-24T19:30:27.917Z"
   },
   {
    "duration": 257,
    "start_time": "2022-11-24T19:30:43.913Z"
   },
   {
    "duration": 246,
    "start_time": "2022-11-24T19:30:54.871Z"
   },
   {
    "duration": 10,
    "start_time": "2022-11-24T19:30:59.863Z"
   },
   {
    "duration": 28,
    "start_time": "2022-11-24T19:31:19.987Z"
   },
   {
    "duration": 33,
    "start_time": "2022-11-24T19:31:26.138Z"
   },
   {
    "duration": 29,
    "start_time": "2022-11-24T19:31:35.185Z"
   },
   {
    "duration": 468,
    "start_time": "2022-11-24T19:33:23.627Z"
   },
   {
    "duration": 29,
    "start_time": "2022-11-24T19:33:26.299Z"
   },
   {
    "duration": 9,
    "start_time": "2022-11-24T19:43:28.566Z"
   },
   {
    "duration": 4,
    "start_time": "2022-11-24T19:43:32.544Z"
   },
   {
    "duration": 12,
    "start_time": "2022-11-24T19:43:34.279Z"
   },
   {
    "duration": 6,
    "start_time": "2022-11-24T19:44:01.346Z"
   },
   {
    "duration": 6,
    "start_time": "2022-11-24T19:44:08.230Z"
   },
   {
    "duration": 6,
    "start_time": "2022-11-24T19:44:45.482Z"
   },
   {
    "duration": 6,
    "start_time": "2022-11-24T19:44:47.688Z"
   },
   {
    "duration": 5,
    "start_time": "2022-11-24T19:44:48.780Z"
   },
   {
    "duration": 6,
    "start_time": "2022-11-24T19:48:18.322Z"
   },
   {
    "duration": 6,
    "start_time": "2022-11-24T19:48:20.241Z"
   },
   {
    "duration": 6,
    "start_time": "2022-11-24T19:48:21.466Z"
   },
   {
    "duration": 5,
    "start_time": "2022-11-24T19:48:23.794Z"
   },
   {
    "duration": 10,
    "start_time": "2022-11-24T19:48:46.370Z"
   },
   {
    "duration": 6,
    "start_time": "2022-11-24T19:50:22.859Z"
   },
   {
    "duration": 7,
    "start_time": "2022-11-24T19:51:53.190Z"
   },
   {
    "duration": 6,
    "start_time": "2022-11-24T19:52:01.557Z"
   },
   {
    "duration": 7,
    "start_time": "2022-11-24T19:52:12.544Z"
   },
   {
    "duration": 6,
    "start_time": "2022-11-24T19:52:13.497Z"
   },
   {
    "duration": 103941,
    "start_time": "2022-11-24T19:55:48.562Z"
   },
   {
    "duration": 381541,
    "start_time": "2022-11-24T19:57:48.646Z"
   },
   {
    "duration": 7,
    "start_time": "2022-11-24T20:25:29.594Z"
   },
   {
    "duration": 6,
    "start_time": "2022-11-24T20:25:31.546Z"
   },
   {
    "duration": 6,
    "start_time": "2022-11-24T20:25:33.506Z"
   },
   {
    "duration": 7,
    "start_time": "2022-11-24T20:45:48.592Z"
   },
   {
    "duration": 1501,
    "start_time": "2022-11-24T21:19:27.854Z"
   },
   {
    "duration": 41,
    "start_time": "2022-11-24T21:19:29.357Z"
   },
   {
    "duration": 12,
    "start_time": "2022-11-24T21:19:29.400Z"
   },
   {
    "duration": 23,
    "start_time": "2022-11-24T21:19:29.414Z"
   },
   {
    "duration": 15,
    "start_time": "2022-11-24T21:19:29.438Z"
   },
   {
    "duration": 4,
    "start_time": "2022-11-24T21:19:29.455Z"
   },
   {
    "duration": 14,
    "start_time": "2022-11-24T21:19:29.461Z"
   },
   {
    "duration": 10,
    "start_time": "2022-11-24T21:19:29.476Z"
   },
   {
    "duration": 546,
    "start_time": "2022-11-24T21:19:29.488Z"
   },
   {
    "duration": 196,
    "start_time": "2022-11-24T21:19:30.036Z"
   },
   {
    "duration": 0,
    "start_time": "2022-11-24T21:19:30.233Z"
   },
   {
    "duration": 0,
    "start_time": "2022-11-24T21:19:30.235Z"
   },
   {
    "duration": 0,
    "start_time": "2022-11-24T21:19:30.236Z"
   },
   {
    "duration": 0,
    "start_time": "2022-11-24T21:19:30.237Z"
   },
   {
    "duration": 0,
    "start_time": "2022-11-24T21:19:30.237Z"
   },
   {
    "duration": 45,
    "start_time": "2022-11-24T22:47:33.094Z"
   },
   {
    "duration": 1004,
    "start_time": "2022-11-24T22:47:40.121Z"
   },
   {
    "duration": 69,
    "start_time": "2022-11-24T22:47:45.810Z"
   },
   {
    "duration": 44,
    "start_time": "2022-11-24T22:47:52.583Z"
   },
   {
    "duration": 11,
    "start_time": "2022-11-24T22:47:54.456Z"
   },
   {
    "duration": 21,
    "start_time": "2022-11-24T22:47:55.918Z"
   },
   {
    "duration": 14,
    "start_time": "2022-11-24T22:47:57.380Z"
   },
   {
    "duration": 4,
    "start_time": "2022-11-24T22:47:59.475Z"
   },
   {
    "duration": 6,
    "start_time": "2022-11-24T22:47:59.914Z"
   },
   {
    "duration": 495,
    "start_time": "2022-11-24T22:48:02.151Z"
   },
   {
    "duration": 1061,
    "start_time": "2022-11-24T22:48:05.453Z"
   },
   {
    "duration": 951661,
    "start_time": "2022-11-24T23:05:11.368Z"
   },
   {
    "duration": 6,
    "start_time": "2022-11-25T07:39:27.031Z"
   },
   {
    "duration": 6,
    "start_time": "2022-11-25T07:39:40.310Z"
   },
   {
    "duration": 6,
    "start_time": "2022-11-25T07:40:04.584Z"
   },
   {
    "duration": 78,
    "start_time": "2022-11-25T07:51:46.317Z"
   },
   {
    "duration": 815127,
    "start_time": "2022-11-25T08:59:42.866Z"
   },
   {
    "duration": 1,
    "start_time": "2022-11-25T09:13:17.996Z"
   },
   {
    "duration": 11,
    "start_time": "2022-11-25T09:13:33.205Z"
   },
   {
    "duration": 1288,
    "start_time": "2022-11-25T09:14:29.926Z"
   },
   {
    "duration": 14,
    "start_time": "2022-11-25T09:14:47.251Z"
   },
   {
    "duration": 550509,
    "start_time": "2022-11-25T10:49:53.377Z"
   },
   {
    "duration": 1278,
    "start_time": "2022-11-25T14:01:26.286Z"
   },
   {
    "duration": 11,
    "start_time": "2022-11-25T14:04:05.988Z"
   },
   {
    "duration": 10,
    "start_time": "2022-11-25T14:04:14.814Z"
   },
   {
    "duration": 3,
    "start_time": "2022-11-25T14:05:16.617Z"
   },
   {
    "duration": 11,
    "start_time": "2022-11-25T14:05:32.745Z"
   },
   {
    "duration": 3,
    "start_time": "2022-11-25T14:05:39.237Z"
   },
   {
    "duration": 11,
    "start_time": "2022-11-25T14:05:41.353Z"
   },
   {
    "duration": 8,
    "start_time": "2022-11-25T14:05:48.247Z"
   },
   {
    "duration": 10,
    "start_time": "2022-11-25T15:27:52.186Z"
   },
   {
    "duration": 3,
    "start_time": "2022-11-25T15:28:10.283Z"
   },
   {
    "duration": 128,
    "start_time": "2022-11-25T15:28:16.080Z"
   },
   {
    "duration": 130,
    "start_time": "2022-11-25T15:28:42.218Z"
   },
   {
    "duration": 133,
    "start_time": "2022-11-25T15:29:41.870Z"
   },
   {
    "duration": 9,
    "start_time": "2022-11-25T15:30:11.108Z"
   },
   {
    "duration": 144,
    "start_time": "2022-11-25T15:31:06.996Z"
   },
   {
    "duration": 31,
    "start_time": "2022-11-25T15:31:53.769Z"
   },
   {
    "duration": 1207,
    "start_time": "2022-11-25T15:32:46.241Z"
   },
   {
    "duration": 4,
    "start_time": "2022-11-25T15:34:39.305Z"
   },
   {
    "duration": 6,
    "start_time": "2022-11-25T15:34:40.123Z"
   },
   {
    "duration": 523,
    "start_time": "2022-11-25T15:34:42.342Z"
   },
   {
    "duration": 477,
    "start_time": "2022-11-25T15:36:10.379Z"
   },
   {
    "duration": 4670,
    "start_time": "2022-11-25T15:36:14.725Z"
   },
   {
    "duration": 3597,
    "start_time": "2022-11-25T15:38:33.512Z"
   },
   {
    "duration": 5269,
    "start_time": "2022-11-25T15:38:44.690Z"
   },
   {
    "duration": 181,
    "start_time": "2022-11-25T15:39:11.796Z"
   },
   {
    "duration": 209,
    "start_time": "2022-11-25T15:39:17.822Z"
   },
   {
    "duration": 7,
    "start_time": "2022-11-25T15:39:22.207Z"
   },
   {
    "duration": 4775,
    "start_time": "2022-11-25T15:45:05.940Z"
   },
   {
    "duration": 3,
    "start_time": "2022-11-25T15:48:09.726Z"
   },
   {
    "duration": 6,
    "start_time": "2022-11-25T15:48:33.211Z"
   },
   {
    "duration": 14,
    "start_time": "2022-11-25T15:48:47.739Z"
   },
   {
    "duration": 15,
    "start_time": "2022-11-25T15:48:59.536Z"
   },
   {
    "duration": 20,
    "start_time": "2022-11-25T15:49:02.505Z"
   },
   {
    "duration": 14,
    "start_time": "2022-11-25T15:49:06.052Z"
   },
   {
    "duration": 15,
    "start_time": "2022-11-25T15:49:09.717Z"
   },
   {
    "duration": 13,
    "start_time": "2022-11-25T15:49:15.803Z"
   },
   {
    "duration": 19,
    "start_time": "2022-11-25T15:49:40.833Z"
   },
   {
    "duration": 15,
    "start_time": "2022-11-25T15:50:29.176Z"
   },
   {
    "duration": 7,
    "start_time": "2022-11-25T15:50:37.489Z"
   },
   {
    "duration": 7,
    "start_time": "2022-11-25T15:50:53.586Z"
   },
   {
    "duration": 8,
    "start_time": "2022-11-25T15:51:08.210Z"
   },
   {
    "duration": 7,
    "start_time": "2022-11-25T15:52:12.818Z"
   },
   {
    "duration": 75,
    "start_time": "2022-11-25T15:52:35.772Z"
   },
   {
    "duration": 145,
    "start_time": "2022-11-25T15:52:40.114Z"
   },
   {
    "duration": 7,
    "start_time": "2022-11-25T15:52:58.633Z"
   },
   {
    "duration": 88,
    "start_time": "2022-11-25T15:54:12.532Z"
   },
   {
    "duration": 70,
    "start_time": "2022-11-25T15:54:18.875Z"
   },
   {
    "duration": 66,
    "start_time": "2022-11-25T15:55:46.839Z"
   },
   {
    "duration": 70,
    "start_time": "2022-11-25T15:55:52.150Z"
   },
   {
    "duration": 82,
    "start_time": "2022-11-25T15:55:57.262Z"
   },
   {
    "duration": 73,
    "start_time": "2022-11-25T15:56:17.235Z"
   },
   {
    "duration": 7,
    "start_time": "2022-11-25T15:56:26.300Z"
   },
   {
    "duration": 8,
    "start_time": "2022-11-25T15:56:58.233Z"
   },
   {
    "duration": 8,
    "start_time": "2022-11-25T15:57:05.953Z"
   },
   {
    "duration": 3,
    "start_time": "2022-11-25T15:58:15.722Z"
   },
   {
    "duration": 465,
    "start_time": "2022-11-25T15:58:45.345Z"
   },
   {
    "duration": 1114,
    "start_time": "2022-11-25T15:59:47.599Z"
   },
   {
    "duration": 503626,
    "start_time": "2022-11-25T16:01:14.464Z"
   },
   {
    "duration": 1249,
    "start_time": "2022-11-25T16:11:43.314Z"
   },
   {
    "duration": 496777,
    "start_time": "2022-11-25T16:12:50.948Z"
   },
   {
    "duration": 5,
    "start_time": "2022-11-25T16:21:07.727Z"
   },
   {
    "duration": 6,
    "start_time": "2022-11-25T16:24:48.450Z"
   },
   {
    "duration": 11,
    "start_time": "2022-11-25T16:26:26.170Z"
   },
   {
    "duration": 10,
    "start_time": "2022-11-25T16:27:06.003Z"
   },
   {
    "duration": 31,
    "start_time": "2022-11-25T16:27:48.984Z"
   },
   {
    "duration": 29,
    "start_time": "2022-11-25T16:30:15.686Z"
   },
   {
    "duration": 31,
    "start_time": "2022-11-25T16:30:16.943Z"
   },
   {
    "duration": 8,
    "start_time": "2022-11-25T16:31:22.236Z"
   },
   {
    "duration": 1319,
    "start_time": "2022-11-25T17:07:08.590Z"
   },
   {
    "duration": 43,
    "start_time": "2022-11-25T17:07:09.910Z"
   },
   {
    "duration": 11,
    "start_time": "2022-11-25T17:07:09.954Z"
   },
   {
    "duration": 25,
    "start_time": "2022-11-25T17:07:09.967Z"
   },
   {
    "duration": 13,
    "start_time": "2022-11-25T17:07:09.993Z"
   },
   {
    "duration": 4,
    "start_time": "2022-11-25T17:07:10.008Z"
   },
   {
    "duration": 10,
    "start_time": "2022-11-25T17:07:10.013Z"
   },
   {
    "duration": 4,
    "start_time": "2022-11-25T17:07:10.024Z"
   },
   {
    "duration": 2,
    "start_time": "2022-11-25T17:07:10.052Z"
   },
   {
    "duration": 9,
    "start_time": "2022-11-25T17:07:10.057Z"
   },
   {
    "duration": 440,
    "start_time": "2022-11-25T17:07:10.067Z"
   },
   {
    "duration": 1055,
    "start_time": "2022-11-25T17:07:10.508Z"
   },
   {
    "duration": 485781,
    "start_time": "2022-11-25T17:07:11.565Z"
   },
   {
    "duration": 28,
    "start_time": "2022-11-25T17:15:17.348Z"
   },
   {
    "duration": 6,
    "start_time": "2022-11-25T17:15:17.378Z"
   },
   {
    "duration": 3669,
    "start_time": "2022-11-26T08:14:50.825Z"
   },
   {
    "duration": 90,
    "start_time": "2022-11-26T08:14:54.496Z"
   },
   {
    "duration": 84,
    "start_time": "2022-11-26T08:14:54.587Z"
   },
   {
    "duration": 82,
    "start_time": "2022-11-26T08:14:54.674Z"
   },
   {
    "duration": 22,
    "start_time": "2022-11-26T08:14:54.758Z"
   },
   {
    "duration": 8,
    "start_time": "2022-11-26T08:14:54.782Z"
   },
   {
    "duration": 64,
    "start_time": "2022-11-26T08:14:54.792Z"
   },
   {
    "duration": 19,
    "start_time": "2022-11-26T08:14:54.858Z"
   },
   {
    "duration": 6,
    "start_time": "2022-11-26T08:14:54.881Z"
   },
   {
    "duration": 68,
    "start_time": "2022-11-26T08:14:54.891Z"
   },
   {
    "duration": 1331,
    "start_time": "2022-11-26T08:14:54.961Z"
   },
   {
    "duration": 3461,
    "start_time": "2022-11-26T08:14:56.294Z"
   },
   {
    "duration": 1119059,
    "start_time": "2022-11-26T08:14:59.757Z"
   },
   {
    "duration": 50,
    "start_time": "2022-11-26T08:33:38.818Z"
   },
   {
    "duration": 8,
    "start_time": "2022-11-26T08:33:38.870Z"
   },
   {
    "duration": 1618,
    "start_time": "2022-11-26T11:20:59.859Z"
   },
   {
    "duration": 116,
    "start_time": "2022-11-26T11:21:09.414Z"
   },
   {
    "duration": 13,
    "start_time": "2022-11-26T11:21:19.627Z"
   },
   {
    "duration": 4,
    "start_time": "2022-11-26T11:21:26.774Z"
   },
   {
    "duration": 139,
    "start_time": "2022-11-26T11:21:27.929Z"
   },
   {
    "duration": 13,
    "start_time": "2022-11-26T11:21:28.070Z"
   },
   {
    "duration": 28,
    "start_time": "2022-11-26T11:21:28.085Z"
   },
   {
    "duration": 16,
    "start_time": "2022-11-26T11:21:28.115Z"
   },
   {
    "duration": 5,
    "start_time": "2022-11-26T11:21:28.132Z"
   },
   {
    "duration": 12,
    "start_time": "2022-11-26T11:21:28.139Z"
   },
   {
    "duration": 6,
    "start_time": "2022-11-26T11:21:30.210Z"
   },
   {
    "duration": 3,
    "start_time": "2022-11-26T11:21:30.384Z"
   },
   {
    "duration": 11,
    "start_time": "2022-11-26T11:21:30.557Z"
   },
   {
    "duration": 477,
    "start_time": "2022-11-26T11:21:35.307Z"
   },
   {
    "duration": 1198,
    "start_time": "2022-11-26T11:21:42.098Z"
   },
   {
    "duration": 7,
    "start_time": "2022-11-26T11:23:03.947Z"
   },
   {
    "duration": 555301,
    "start_time": "2022-11-26T11:23:48.731Z"
   },
   {
    "duration": 6,
    "start_time": "2022-11-26T11:33:04.034Z"
   },
   {
    "duration": 6,
    "start_time": "2022-11-26T11:39:54.429Z"
   },
   {
    "duration": 11,
    "start_time": "2022-11-26T11:54:49.610Z"
   },
   {
    "duration": 6,
    "start_time": "2022-11-26T11:55:42.779Z"
   },
   {
    "duration": 7,
    "start_time": "2022-11-26T11:55:51.068Z"
   },
   {
    "duration": 11,
    "start_time": "2022-11-26T12:03:58.233Z"
   },
   {
    "duration": 6,
    "start_time": "2022-11-26T12:04:03.405Z"
   },
   {
    "duration": 6,
    "start_time": "2022-11-26T12:04:18.965Z"
   },
   {
    "duration": 10,
    "start_time": "2022-11-26T13:11:19.559Z"
   },
   {
    "duration": 14,
    "start_time": "2022-11-26T13:11:39.276Z"
   },
   {
    "duration": 13,
    "start_time": "2022-11-26T13:11:48.536Z"
   },
   {
    "duration": 11,
    "start_time": "2022-11-26T13:12:08.597Z"
   },
   {
    "duration": 5,
    "start_time": "2022-11-26T13:12:44.824Z"
   },
   {
    "duration": 6,
    "start_time": "2022-11-26T13:12:54.550Z"
   },
   {
    "duration": 6,
    "start_time": "2022-11-26T13:12:58.010Z"
   },
   {
    "duration": 5,
    "start_time": "2022-11-26T13:13:53.390Z"
   },
   {
    "duration": 6,
    "start_time": "2022-11-26T13:14:28.362Z"
   },
   {
    "duration": 5,
    "start_time": "2022-11-26T13:14:32.566Z"
   },
   {
    "duration": 5,
    "start_time": "2022-11-26T13:14:44.625Z"
   },
   {
    "duration": 8,
    "start_time": "2022-11-26T13:15:16.021Z"
   },
   {
    "duration": 6,
    "start_time": "2022-11-26T13:15:26.129Z"
   },
   {
    "duration": 5,
    "start_time": "2022-11-26T13:18:01.454Z"
   },
   {
    "duration": 55,
    "start_time": "2022-11-26T13:18:21.073Z"
   },
   {
    "duration": 2947,
    "start_time": "2022-11-27T10:43:11.711Z"
   },
   {
    "duration": 94,
    "start_time": "2022-11-27T10:43:14.659Z"
   },
   {
    "duration": 12,
    "start_time": "2022-11-27T10:43:14.754Z"
   },
   {
    "duration": 87,
    "start_time": "2022-11-27T10:43:14.767Z"
   },
   {
    "duration": 13,
    "start_time": "2022-11-27T10:43:14.857Z"
   },
   {
    "duration": 67,
    "start_time": "2022-11-27T10:43:14.872Z"
   },
   {
    "duration": 11,
    "start_time": "2022-11-27T10:43:14.941Z"
   },
   {
    "duration": 18,
    "start_time": "2022-11-27T10:43:14.954Z"
   },
   {
    "duration": 64,
    "start_time": "2022-11-27T10:43:14.974Z"
   },
   {
    "duration": 28,
    "start_time": "2022-11-27T10:43:15.040Z"
   },
   {
    "duration": 995,
    "start_time": "2022-11-27T10:43:15.069Z"
   },
   {
    "duration": 2382,
    "start_time": "2022-11-27T10:43:16.066Z"
   },
   {
    "duration": 564321,
    "start_time": "2022-11-27T10:43:18.449Z"
   },
   {
    "duration": 26,
    "start_time": "2022-11-27T10:52:42.772Z"
   },
   {
    "duration": 6,
    "start_time": "2022-11-27T10:52:42.800Z"
   }
  ],
  "kernelspec": {
   "display_name": "Python 3 (ipykernel)",
   "language": "python",
   "name": "python3"
  },
  "language_info": {
   "codemirror_mode": {
    "name": "ipython",
    "version": 3
   },
   "file_extension": ".py",
   "mimetype": "text/x-python",
   "name": "python",
   "nbconvert_exporter": "python",
   "pygments_lexer": "ipython3",
   "version": "3.9.5"
  },
  "toc": {
   "base_numbering": 1,
   "nav_menu": {},
   "number_sections": true,
   "sideBar": true,
   "skip_h1_title": true,
   "title_cell": "Table of Contents",
   "title_sidebar": "Contents",
   "toc_cell": false,
   "toc_position": {
    "height": "calc(100% - 180px)",
    "left": "10px",
    "top": "150px",
    "width": "174px"
   },
   "toc_section_display": true,
   "toc_window_display": true
  }
 },
 "nbformat": 4,
 "nbformat_minor": 2
}
