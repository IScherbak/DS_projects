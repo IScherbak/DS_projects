{
 "cells": [
  {
   "cell_type": "markdown",
   "metadata": {},
   "source": [
    "# Определение стоимости автомобилей"
   ]
  },
  {
   "cell_type": "markdown",
   "metadata": {},
   "source": [
    "Сервис по продаже автомобилей с пробегом разрабатывает приложение для привлечения новых клиентов. В нём можно быстро узнать рыночную стоимость своего автомобиля. В вашем распоряжении исторические данные: технические характеристики, комплектации и цены автомобилей. Вам нужно построить модель для определения стоимости. \n",
    "\n",
    "Заказчику важны:\n",
    "\n",
    "- качество предсказания;\n",
    "- скорость предсказания;\n",
    "- время обучения."
   ]
  },
  {
   "cell_type": "markdown",
   "metadata": {},
   "source": [
    "# Описание данных\n",
    "<b>Признаки:</b> </p>\n",
    "DateCrawled — дата скачивания анкеты из базы </p>\n",
    "VehicleType — тип автомобильного кузова </p>\n",
    "RegistrationYear — год регистрации автомобиля </p>\n",
    "Gearbox — тип коробки передач </p>\n",
    "Power — мощность (л. с.) </p>\n",
    "Model — модель автомобиля </p>\n",
    "Kilometer — пробег (км) </p>\n",
    "RegistrationMonth — месяц регистрации автомобиля </p>\n",
    "FuelType — тип топлива </p>\n",
    "Brand — марка автомобиля </p>\n",
    "Repaired — была машина в ремонте или нет </p>\n",
    "DateCreated — дата создания анкеты </p>\n",
    "NumberOfPictures — количество фотографий автомобиля </p>\n",
    "PostalCode — почтовый индекс владельца анкеты (пользователя) </p>\n",
    "LastSeen — дата последней активности пользователя </p>\n",
    "\n",
    "<b>Целевой признак:</b> </p>\n",
    "Price — цена (евро) </p>"
   ]
  },
  {
   "cell_type": "markdown",
   "metadata": {},
   "source": [
    "## Подготовка данных"
   ]
  },
  {
   "cell_type": "markdown",
   "metadata": {},
   "source": [
    "Изучим наши данные"
   ]
  },
  {
   "cell_type": "code",
   "execution_count": 1,
   "metadata": {},
   "outputs": [],
   "source": [
    "%matplotlib inline\n",
    "\n",
    "import pandas as pd\n",
    "\n",
    "import numpy as np\n",
    "\n",
    "import matplotlib.pyplot as plt\n",
    "\n",
    "import seaborn as sns\n",
    "\n",
    "from sklearn.model_selection import train_test_split\n",
    "from sklearn.preprocessing import OrdinalEncoder, StandardScaler\n",
    "from sklearn.ensemble import RandomForestRegressor\n",
    "from sklearn.metrics import mean_squared_error\n",
    "\n",
    "from catboost import CatBoostRegressor\n",
    "\n",
    "import lightgbm as lgb\n",
    "\n",
    "from lightgbm import LGBMRegressor\n",
    "\n",
    "import time\n",
    "\n",
    "import warnings\n",
    "warnings.filterwarnings('ignore')"
   ]
  },
  {
   "cell_type": "code",
   "execution_count": 2,
   "metadata": {},
   "outputs": [
    {
     "data": {
      "text/html": [
       "<div>\n",
       "<style scoped>\n",
       "    .dataframe tbody tr th:only-of-type {\n",
       "        vertical-align: middle;\n",
       "    }\n",
       "\n",
       "    .dataframe tbody tr th {\n",
       "        vertical-align: top;\n",
       "    }\n",
       "\n",
       "    .dataframe thead th {\n",
       "        text-align: right;\n",
       "    }\n",
       "</style>\n",
       "<table border=\"1\" class=\"dataframe\">\n",
       "  <thead>\n",
       "    <tr style=\"text-align: right;\">\n",
       "      <th></th>\n",
       "      <th>DateCrawled</th>\n",
       "      <th>Price</th>\n",
       "      <th>VehicleType</th>\n",
       "      <th>RegistrationYear</th>\n",
       "      <th>Gearbox</th>\n",
       "      <th>Power</th>\n",
       "      <th>Model</th>\n",
       "      <th>Kilometer</th>\n",
       "      <th>RegistrationMonth</th>\n",
       "      <th>FuelType</th>\n",
       "      <th>Brand</th>\n",
       "      <th>Repaired</th>\n",
       "      <th>DateCreated</th>\n",
       "      <th>NumberOfPictures</th>\n",
       "      <th>PostalCode</th>\n",
       "      <th>LastSeen</th>\n",
       "    </tr>\n",
       "  </thead>\n",
       "  <tbody>\n",
       "    <tr>\n",
       "      <th>0</th>\n",
       "      <td>2016-03-24 11:52:17</td>\n",
       "      <td>480</td>\n",
       "      <td>NaN</td>\n",
       "      <td>1993</td>\n",
       "      <td>manual</td>\n",
       "      <td>0</td>\n",
       "      <td>golf</td>\n",
       "      <td>150000</td>\n",
       "      <td>0</td>\n",
       "      <td>petrol</td>\n",
       "      <td>volkswagen</td>\n",
       "      <td>NaN</td>\n",
       "      <td>2016-03-24 00:00:00</td>\n",
       "      <td>0</td>\n",
       "      <td>70435</td>\n",
       "      <td>2016-04-07 03:16:57</td>\n",
       "    </tr>\n",
       "    <tr>\n",
       "      <th>1</th>\n",
       "      <td>2016-03-24 10:58:45</td>\n",
       "      <td>18300</td>\n",
       "      <td>coupe</td>\n",
       "      <td>2011</td>\n",
       "      <td>manual</td>\n",
       "      <td>190</td>\n",
       "      <td>NaN</td>\n",
       "      <td>125000</td>\n",
       "      <td>5</td>\n",
       "      <td>gasoline</td>\n",
       "      <td>audi</td>\n",
       "      <td>yes</td>\n",
       "      <td>2016-03-24 00:00:00</td>\n",
       "      <td>0</td>\n",
       "      <td>66954</td>\n",
       "      <td>2016-04-07 01:46:50</td>\n",
       "    </tr>\n",
       "    <tr>\n",
       "      <th>2</th>\n",
       "      <td>2016-03-14 12:52:21</td>\n",
       "      <td>9800</td>\n",
       "      <td>suv</td>\n",
       "      <td>2004</td>\n",
       "      <td>auto</td>\n",
       "      <td>163</td>\n",
       "      <td>grand</td>\n",
       "      <td>125000</td>\n",
       "      <td>8</td>\n",
       "      <td>gasoline</td>\n",
       "      <td>jeep</td>\n",
       "      <td>NaN</td>\n",
       "      <td>2016-03-14 00:00:00</td>\n",
       "      <td>0</td>\n",
       "      <td>90480</td>\n",
       "      <td>2016-04-05 12:47:46</td>\n",
       "    </tr>\n",
       "    <tr>\n",
       "      <th>3</th>\n",
       "      <td>2016-03-17 16:54:04</td>\n",
       "      <td>1500</td>\n",
       "      <td>small</td>\n",
       "      <td>2001</td>\n",
       "      <td>manual</td>\n",
       "      <td>75</td>\n",
       "      <td>golf</td>\n",
       "      <td>150000</td>\n",
       "      <td>6</td>\n",
       "      <td>petrol</td>\n",
       "      <td>volkswagen</td>\n",
       "      <td>no</td>\n",
       "      <td>2016-03-17 00:00:00</td>\n",
       "      <td>0</td>\n",
       "      <td>91074</td>\n",
       "      <td>2016-03-17 17:40:17</td>\n",
       "    </tr>\n",
       "    <tr>\n",
       "      <th>4</th>\n",
       "      <td>2016-03-31 17:25:20</td>\n",
       "      <td>3600</td>\n",
       "      <td>small</td>\n",
       "      <td>2008</td>\n",
       "      <td>manual</td>\n",
       "      <td>69</td>\n",
       "      <td>fabia</td>\n",
       "      <td>90000</td>\n",
       "      <td>7</td>\n",
       "      <td>gasoline</td>\n",
       "      <td>skoda</td>\n",
       "      <td>no</td>\n",
       "      <td>2016-03-31 00:00:00</td>\n",
       "      <td>0</td>\n",
       "      <td>60437</td>\n",
       "      <td>2016-04-06 10:17:21</td>\n",
       "    </tr>\n",
       "  </tbody>\n",
       "</table>\n",
       "</div>"
      ],
      "text/plain": [
       "           DateCrawled  Price VehicleType  RegistrationYear Gearbox  Power  \\\n",
       "0  2016-03-24 11:52:17    480         NaN              1993  manual      0   \n",
       "1  2016-03-24 10:58:45  18300       coupe              2011  manual    190   \n",
       "2  2016-03-14 12:52:21   9800         suv              2004    auto    163   \n",
       "3  2016-03-17 16:54:04   1500       small              2001  manual     75   \n",
       "4  2016-03-31 17:25:20   3600       small              2008  manual     69   \n",
       "\n",
       "   Model  Kilometer  RegistrationMonth  FuelType       Brand Repaired  \\\n",
       "0   golf     150000                  0    petrol  volkswagen      NaN   \n",
       "1    NaN     125000                  5  gasoline        audi      yes   \n",
       "2  grand     125000                  8  gasoline        jeep      NaN   \n",
       "3   golf     150000                  6    petrol  volkswagen       no   \n",
       "4  fabia      90000                  7  gasoline       skoda       no   \n",
       "\n",
       "           DateCreated  NumberOfPictures  PostalCode             LastSeen  \n",
       "0  2016-03-24 00:00:00                 0       70435  2016-04-07 03:16:57  \n",
       "1  2016-03-24 00:00:00                 0       66954  2016-04-07 01:46:50  \n",
       "2  2016-03-14 00:00:00                 0       90480  2016-04-05 12:47:46  \n",
       "3  2016-03-17 00:00:00                 0       91074  2016-03-17 17:40:17  \n",
       "4  2016-03-31 00:00:00                 0       60437  2016-04-06 10:17:21  "
      ]
     },
     "execution_count": 2,
     "metadata": {},
     "output_type": "execute_result"
    }
   ],
   "source": [
    "try:\n",
    "    data = pd.read_csv(r\"C:\\Users\\User\\Autos\\autos.csv\")\n",
    "except:\n",
    "    data = pd.read_csv('/datasets/autos.csv')\n",
    "data.head()"
   ]
  },
  {
   "cell_type": "code",
   "execution_count": 3,
   "metadata": {},
   "outputs": [
    {
     "name": "stdout",
     "output_type": "stream",
     "text": [
      "<class 'pandas.core.frame.DataFrame'>\n",
      "RangeIndex: 354369 entries, 0 to 354368\n",
      "Data columns (total 16 columns):\n",
      " #   Column             Non-Null Count   Dtype \n",
      "---  ------             --------------   ----- \n",
      " 0   DateCrawled        354369 non-null  object\n",
      " 1   Price              354369 non-null  int64 \n",
      " 2   VehicleType        316879 non-null  object\n",
      " 3   RegistrationYear   354369 non-null  int64 \n",
      " 4   Gearbox            334536 non-null  object\n",
      " 5   Power              354369 non-null  int64 \n",
      " 6   Model              334664 non-null  object\n",
      " 7   Kilometer          354369 non-null  int64 \n",
      " 8   RegistrationMonth  354369 non-null  int64 \n",
      " 9   FuelType           321474 non-null  object\n",
      " 10  Brand              354369 non-null  object\n",
      " 11  Repaired           283215 non-null  object\n",
      " 12  DateCreated        354369 non-null  object\n",
      " 13  NumberOfPictures   354369 non-null  int64 \n",
      " 14  PostalCode         354369 non-null  int64 \n",
      " 15  LastSeen           354369 non-null  object\n",
      "dtypes: int64(7), object(9)\n",
      "memory usage: 43.3+ MB\n"
     ]
    }
   ],
   "source": [
    "data.info()"
   ]
  },
  {
   "cell_type": "code",
   "execution_count": 4,
   "metadata": {},
   "outputs": [
    {
     "data": {
      "text/html": [
       "<div>\n",
       "<style scoped>\n",
       "    .dataframe tbody tr th:only-of-type {\n",
       "        vertical-align: middle;\n",
       "    }\n",
       "\n",
       "    .dataframe tbody tr th {\n",
       "        vertical-align: top;\n",
       "    }\n",
       "\n",
       "    .dataframe thead th {\n",
       "        text-align: right;\n",
       "    }\n",
       "</style>\n",
       "<table border=\"1\" class=\"dataframe\">\n",
       "  <thead>\n",
       "    <tr style=\"text-align: right;\">\n",
       "      <th></th>\n",
       "      <th>Price</th>\n",
       "      <th>RegistrationYear</th>\n",
       "      <th>Power</th>\n",
       "      <th>Kilometer</th>\n",
       "      <th>RegistrationMonth</th>\n",
       "      <th>NumberOfPictures</th>\n",
       "      <th>PostalCode</th>\n",
       "    </tr>\n",
       "  </thead>\n",
       "  <tbody>\n",
       "    <tr>\n",
       "      <th>count</th>\n",
       "      <td>354369.000000</td>\n",
       "      <td>354369.000000</td>\n",
       "      <td>354369.000000</td>\n",
       "      <td>354369.000000</td>\n",
       "      <td>354369.000000</td>\n",
       "      <td>354369.0</td>\n",
       "      <td>354369.000000</td>\n",
       "    </tr>\n",
       "    <tr>\n",
       "      <th>mean</th>\n",
       "      <td>4416.656776</td>\n",
       "      <td>2004.234448</td>\n",
       "      <td>110.094337</td>\n",
       "      <td>128211.172535</td>\n",
       "      <td>5.714645</td>\n",
       "      <td>0.0</td>\n",
       "      <td>50508.689087</td>\n",
       "    </tr>\n",
       "    <tr>\n",
       "      <th>std</th>\n",
       "      <td>4514.158514</td>\n",
       "      <td>90.227958</td>\n",
       "      <td>189.850405</td>\n",
       "      <td>37905.341530</td>\n",
       "      <td>3.726421</td>\n",
       "      <td>0.0</td>\n",
       "      <td>25783.096248</td>\n",
       "    </tr>\n",
       "    <tr>\n",
       "      <th>min</th>\n",
       "      <td>0.000000</td>\n",
       "      <td>1000.000000</td>\n",
       "      <td>0.000000</td>\n",
       "      <td>5000.000000</td>\n",
       "      <td>0.000000</td>\n",
       "      <td>0.0</td>\n",
       "      <td>1067.000000</td>\n",
       "    </tr>\n",
       "    <tr>\n",
       "      <th>25%</th>\n",
       "      <td>1050.000000</td>\n",
       "      <td>1999.000000</td>\n",
       "      <td>69.000000</td>\n",
       "      <td>125000.000000</td>\n",
       "      <td>3.000000</td>\n",
       "      <td>0.0</td>\n",
       "      <td>30165.000000</td>\n",
       "    </tr>\n",
       "    <tr>\n",
       "      <th>50%</th>\n",
       "      <td>2700.000000</td>\n",
       "      <td>2003.000000</td>\n",
       "      <td>105.000000</td>\n",
       "      <td>150000.000000</td>\n",
       "      <td>6.000000</td>\n",
       "      <td>0.0</td>\n",
       "      <td>49413.000000</td>\n",
       "    </tr>\n",
       "    <tr>\n",
       "      <th>75%</th>\n",
       "      <td>6400.000000</td>\n",
       "      <td>2008.000000</td>\n",
       "      <td>143.000000</td>\n",
       "      <td>150000.000000</td>\n",
       "      <td>9.000000</td>\n",
       "      <td>0.0</td>\n",
       "      <td>71083.000000</td>\n",
       "    </tr>\n",
       "    <tr>\n",
       "      <th>max</th>\n",
       "      <td>20000.000000</td>\n",
       "      <td>9999.000000</td>\n",
       "      <td>20000.000000</td>\n",
       "      <td>150000.000000</td>\n",
       "      <td>12.000000</td>\n",
       "      <td>0.0</td>\n",
       "      <td>99998.000000</td>\n",
       "    </tr>\n",
       "  </tbody>\n",
       "</table>\n",
       "</div>"
      ],
      "text/plain": [
       "               Price  RegistrationYear          Power      Kilometer  \\\n",
       "count  354369.000000     354369.000000  354369.000000  354369.000000   \n",
       "mean     4416.656776       2004.234448     110.094337  128211.172535   \n",
       "std      4514.158514         90.227958     189.850405   37905.341530   \n",
       "min         0.000000       1000.000000       0.000000    5000.000000   \n",
       "25%      1050.000000       1999.000000      69.000000  125000.000000   \n",
       "50%      2700.000000       2003.000000     105.000000  150000.000000   \n",
       "75%      6400.000000       2008.000000     143.000000  150000.000000   \n",
       "max     20000.000000       9999.000000   20000.000000  150000.000000   \n",
       "\n",
       "       RegistrationMonth  NumberOfPictures     PostalCode  \n",
       "count      354369.000000          354369.0  354369.000000  \n",
       "mean            5.714645               0.0   50508.689087  \n",
       "std             3.726421               0.0   25783.096248  \n",
       "min             0.000000               0.0    1067.000000  \n",
       "25%             3.000000               0.0   30165.000000  \n",
       "50%             6.000000               0.0   49413.000000  \n",
       "75%             9.000000               0.0   71083.000000  \n",
       "max            12.000000               0.0   99998.000000  "
      ]
     },
     "execution_count": 4,
     "metadata": {},
     "output_type": "execute_result"
    }
   ],
   "source": [
    "data.describe()"
   ]
  },
  {
   "cell_type": "markdown",
   "metadata": {},
   "source": [
    "Приведем названия столбцов к нижнему змеиному регистру"
   ]
  },
  {
   "cell_type": "code",
   "execution_count": 5,
   "metadata": {},
   "outputs": [
    {
     "data": {
      "text/plain": [
       "Index(['date_crawled', 'price', 'vehicle_type', 'registration_year', 'gearbox',\n",
       "       'power', 'model', 'kilometer', 'registration_month', 'fuel_type',\n",
       "       'brand', 'repaired', 'date_created', 'number_of_pictures',\n",
       "       'postal_code', 'last_seen'],\n",
       "      dtype='object')"
      ]
     },
     "execution_count": 5,
     "metadata": {},
     "output_type": "execute_result"
    }
   ],
   "source": [
    "data.columns = data.columns.str.replace('([A-Z])', r'_\\1').str.lower().str.replace('_', '', 1)\n",
    "data.columns"
   ]
  },
  {
   "cell_type": "markdown",
   "metadata": {},
   "source": [
    "Удалим из таблицы столбцы, которые не понадобятся для обучения модели"
   ]
  },
  {
   "cell_type": "code",
   "execution_count": 6,
   "metadata": {},
   "outputs": [],
   "source": [
    "data = data.drop(['date_crawled', 'last_seen', 'postal_code', 'number_of_pictures', 'date_created', 'registration_month'], axis=1)"
   ]
  },
  {
   "cell_type": "markdown",
   "metadata": {},
   "source": [
    "Найдем дубликаты и удалим их, если таковые имеются"
   ]
  },
  {
   "cell_type": "code",
   "execution_count": 7,
   "metadata": {},
   "outputs": [
    {
     "data": {
      "text/plain": [
       "0"
      ]
     },
     "execution_count": 7,
     "metadata": {},
     "output_type": "execute_result"
    }
   ],
   "source": [
    "data.drop_duplicates(inplace=True)\n",
    "data.duplicated().sum()"
   ]
  },
  {
   "cell_type": "markdown",
   "metadata": {},
   "source": [
    "Есть предположение, что тип автомобиля, коробка передач, модель, тип топлива и факт ремонта могут быть пустыми, т.к. пользователь не указал их при заполнении анкеты. Удалять не будем. Заполним пропуски в этих столбцах значением \"unknown\". </p> \n",
    "- Заменим значение petrol на gasoline в столбце fuel_type, т.к. это одно и то же.\n",
    "- Заменим значение other на unknown в столбце vehicle_type для стандартизации данных."
   ]
  },
  {
   "cell_type": "code",
   "execution_count": 8,
   "metadata": {},
   "outputs": [],
   "source": [
    "data['fuel_type'] = data['fuel_type'].replace('petrol', 'gasoline').fillna('unknown')\n",
    "data['vehicle_type'] = data['vehicle_type'].replace('other', 'unknown').fillna('unknown')\n",
    "data['model'] = data['model'].fillna('unknown')\n",
    "data['gearbox'] = data['gearbox'].fillna('unknown')\n",
    "data['repaired'] = data['repaired'].fillna('unknown')"
   ]
  },
  {
   "cell_type": "code",
   "execution_count": 9,
   "metadata": {},
   "outputs": [
    {
     "data": {
      "image/png": "[encoded data removed]",
      "text/plain": [
       "<Figure size 640x480 with 1 Axes>"
      ]
     },
     "metadata": {},
     "output_type": "display_data"
    },
    {
     "data": {
      "text/plain": [
       "count    309329.000000\n",
       "mean       4486.937196\n",
       "std        4564.852796\n",
       "min           0.000000\n",
       "25%        1100.000000\n",
       "50%        2800.000000\n",
       "75%        6500.000000\n",
       "max       20000.000000\n",
       "Name: price, dtype: float64"
      ]
     },
     "execution_count": 9,
     "metadata": {},
     "output_type": "execute_result"
    }
   ],
   "source": [
    "sns.boxplot(data['price'])\n",
    "plt.show()\n",
    "data['price'].describe()"
   ]
  },
  {
   "cell_type": "markdown",
   "metadata": {},
   "source": [
    "Уберем данные об автомобилях с ценой менее 100 евро, т.к. такая цена маловероятна в реальной жизни"
   ]
  },
  {
   "cell_type": "code",
   "execution_count": 10,
   "metadata": {},
   "outputs": [],
   "source": [
    "data = data[data['price'] >= 100]"
   ]
  },
  {
   "cell_type": "code",
   "execution_count": 11,
   "metadata": {},
   "outputs": [
    {
     "data": {
      "image/png": "[encoded data removed]",
      "text/plain": [
       "<Figure size 640x480 with 1 Axes>"
      ]
     },
     "metadata": {},
     "output_type": "display_data"
    },
    {
     "data": {
      "text/plain": [
       "count    298048.000000\n",
       "mean        112.146648\n",
       "std         199.304518\n",
       "min           0.000000\n",
       "25%          70.000000\n",
       "50%         105.000000\n",
       "75%         143.000000\n",
       "max       20000.000000\n",
       "Name: power, dtype: float64"
      ]
     },
     "execution_count": 11,
     "metadata": {},
     "output_type": "execute_result"
    }
   ],
   "source": [
    "sns.boxplot(data['power'])\n",
    "plt.show()\n",
    "data['power'].describe()"
   ]
  },
  {
   "cell_type": "markdown",
   "metadata": {},
   "source": [
    "Удалим значения больше 500 л.с., т.к. это явные выбросы. Нули удалять не будем, т.к. это могут быть автомобили не на ходу."
   ]
  },
  {
   "cell_type": "code",
   "execution_count": 12,
   "metadata": {},
   "outputs": [],
   "source": [
    "data = data[data['power'] <= 500]\n"
   ]
  },
  {
   "cell_type": "code",
   "execution_count": 13,
   "metadata": {},
   "outputs": [
    {
     "data": {
      "image/png": "[encoded data removed]",
      "text/plain": [
       "<Figure size 640x480 with 1 Axes>"
      ]
     },
     "metadata": {},
     "output_type": "display_data"
    },
    {
     "data": {
      "text/plain": [
       "count    297637.000000\n",
       "mean     127472.575654\n",
       "std       37932.977849\n",
       "min        5000.000000\n",
       "25%      125000.000000\n",
       "50%      150000.000000\n",
       "75%      150000.000000\n",
       "max      150000.000000\n",
       "Name: kilometer, dtype: float64"
      ]
     },
     "execution_count": 13,
     "metadata": {},
     "output_type": "execute_result"
    }
   ],
   "source": [
    "sns.boxplot(data['kilometer'])\n",
    "plt.show()\n",
    "data['kilometer'].describe()"
   ]
  },
  {
   "cell_type": "markdown",
   "metadata": {},
   "source": [
    "Здесь видим значения пробега от 5000 до 150000 км, что нормально. Удалять не будем."
   ]
  },
  {
   "cell_type": "code",
   "execution_count": 14,
   "metadata": {},
   "outputs": [
    {
     "data": {
      "image/png": "[encoded data removed]",
      "text/plain": [
       "<Figure size 640x480 with 1 Axes>"
      ]
     },
     "metadata": {},
     "output_type": "display_data"
    },
    {
     "data": {
      "text/plain": [
       "count    297637.000000\n",
       "mean       2004.099107\n",
       "std          73.725995\n",
       "min        1000.000000\n",
       "25%        1999.000000\n",
       "50%        2003.000000\n",
       "75%        2008.000000\n",
       "max        9999.000000\n",
       "Name: registration_year, dtype: float64"
      ]
     },
     "execution_count": 14,
     "metadata": {},
     "output_type": "execute_result"
    }
   ],
   "source": [
    "sns.boxplot(data['registration_year'])\n",
    "plt.show()\n",
    "data['registration_year'].describe()"
   ]
  },
  {
   "cell_type": "markdown",
   "metadata": {},
   "source": [
    "Уберем также явно неадекватные значения года регистрации автомобиля."
   ]
  },
  {
   "cell_type": "code",
   "execution_count": 15,
   "metadata": {},
   "outputs": [],
   "source": [
    "data = data[data['registration_year'] >= 1883 & (data['registration_year'] <= 2022)]"
   ]
  },
  {
   "cell_type": "markdown",
   "metadata": {},
   "source": [
    "Выводы по разделу: <p>\n",
    "- Столбцы привели к нижнему змеиному регистру <p>\n",
    "- Пропуски в данных заполнены значением \"unknown\" <p>\n",
    "- Дубликаты удалены <p>\n",
    "- Столбцы, ненужные для обучения модели, удалены <p>\n",
    "- Синонимичные определения petrol и gasoline объединены в одно <p>\n",
    "- Некорректные значения удалены <p>"
   ]
  },
  {
   "cell_type": "markdown",
   "metadata": {},
   "source": [
    "## Обучение моделей"
   ]
  },
  {
   "cell_type": "markdown",
   "metadata": {},
   "source": [
    "Проведем подготовку нашего датасета для обучения моделей"
   ]
  },
  {
   "cell_type": "code",
   "execution_count": 16,
   "metadata": {},
   "outputs": [
    {
     "name": "stdout",
     "output_type": "stream",
     "text": [
      "<class 'pandas.core.frame.DataFrame'>\n",
      "Int64Index: 297637 entries, 0 to 354368\n",
      "Data columns (total 10 columns):\n",
      " #   Column             Non-Null Count   Dtype \n",
      "---  ------             --------------   ----- \n",
      " 0   price              297637 non-null  int64 \n",
      " 1   vehicle_type       297637 non-null  object\n",
      " 2   registration_year  297637 non-null  int64 \n",
      " 3   gearbox            297637 non-null  object\n",
      " 4   power              297637 non-null  int64 \n",
      " 5   model              297637 non-null  object\n",
      " 6   kilometer          297637 non-null  int64 \n",
      " 7   fuel_type          297637 non-null  object\n",
      " 8   brand              297637 non-null  object\n",
      " 9   repaired           297637 non-null  object\n",
      "dtypes: int64(4), object(6)\n",
      "memory usage: 25.0+ MB\n"
     ]
    }
   ],
   "source": [
    "data.info()"
   ]
  },
  {
   "cell_type": "code",
   "execution_count": 17,
   "metadata": {},
   "outputs": [],
   "source": [
    "data = data.reset_index(drop=True)"
   ]
  },
  {
   "cell_type": "code",
   "execution_count": 18,
   "metadata": {},
   "outputs": [],
   "source": [
    "X = data.drop('price', axis=1)\n",
    "y = data['price']\n",
    "\n",
    "X_data, X_valid, y_data, y_valid = (train_test_split(\n",
    "    X, y, test_size=0.20, random_state=1000)) \n",
    "\n",
    "X_train, X_test, y_train, y_test = train_test_split(\n",
    "    X_data, y_data, test_size=0.25, random_state=1000)"
   ]
  },
  {
   "cell_type": "code",
   "execution_count": 19,
   "metadata": {},
   "outputs": [
    {
     "data": {
      "text/plain": [
       "(['vehicle_type', 'gearbox', 'model', 'fuel_type', 'brand', 'repaired'],\n",
       " ['registration_year', 'power', 'kilometer'])"
      ]
     },
     "execution_count": 19,
     "metadata": {},
     "output_type": "execute_result"
    }
   ],
   "source": [
    "cat = list(X_train.select_dtypes(include='object').columns)\n",
    "num = list(X_train.select_dtypes(exclude='object').columns)\n",
    "\n",
    "cat, num"
   ]
  },
  {
   "cell_type": "code",
   "execution_count": 20,
   "metadata": {},
   "outputs": [
    {
     "name": "stdout",
     "output_type": "stream",
     "text": [
      "Index(['vehicle_type', 'registration_year', 'gearbox', 'power', 'model',\n",
      "       'kilometer', 'fuel_type', 'brand', 'repaired'],\n",
      "      dtype='object')\n",
      "Index(['vehicle_type', 'registration_year', 'gearbox', 'power', 'model',\n",
      "       'kilometer', 'fuel_type', 'brand', 'repaired'],\n",
      "      dtype='object')\n",
      "Index(['vehicle_type', 'registration_year', 'gearbox', 'power', 'model',\n",
      "       'kilometer', 'fuel_type', 'brand', 'repaired'],\n",
      "      dtype='object')\n"
     ]
    }
   ],
   "source": [
    "encoder = OrdinalEncoder()\n",
    "encoder.fit(X_train[cat])\n",
    "\n",
    "X_train[cat] = encoder.transform(X_train[cat])\n",
    "X_valid[cat] = encoder.transform(X_valid[cat])\n",
    "X_test[cat] = encoder.transform(X_test[cat])\n",
    "\n",
    "print(X_train.columns)\n",
    "print(X_valid.columns)\n",
    "print(X_test.columns)"
   ]
  },
  {
   "cell_type": "code",
   "execution_count": 21,
   "metadata": {},
   "outputs": [
    {
     "data": {
      "text/html": [
       "<div>\n",
       "<style scoped>\n",
       "    .dataframe tbody tr th:only-of-type {\n",
       "        vertical-align: middle;\n",
       "    }\n",
       "\n",
       "    .dataframe tbody tr th {\n",
       "        vertical-align: top;\n",
       "    }\n",
       "\n",
       "    .dataframe thead th {\n",
       "        text-align: right;\n",
       "    }\n",
       "</style>\n",
       "<table border=\"1\" class=\"dataframe\">\n",
       "  <thead>\n",
       "    <tr style=\"text-align: right;\">\n",
       "      <th></th>\n",
       "      <th>registration_year</th>\n",
       "      <th>power</th>\n",
       "      <th>kilometer</th>\n",
       "    </tr>\n",
       "  </thead>\n",
       "  <tbody>\n",
       "    <tr>\n",
       "      <th>186714</th>\n",
       "      <td>-0.027776</td>\n",
       "      <td>-0.114322</td>\n",
       "      <td>0.593399</td>\n",
       "    </tr>\n",
       "    <tr>\n",
       "      <th>125928</th>\n",
       "      <td>-0.066136</td>\n",
       "      <td>-1.718915</td>\n",
       "      <td>0.593399</td>\n",
       "    </tr>\n",
       "    <tr>\n",
       "      <th>157083</th>\n",
       "      <td>-0.091710</td>\n",
       "      <td>0.266967</td>\n",
       "      <td>0.593399</td>\n",
       "    </tr>\n",
       "    <tr>\n",
       "      <th>283757</th>\n",
       "      <td>0.010584</td>\n",
       "      <td>4.572359</td>\n",
       "      <td>-0.067582</td>\n",
       "    </tr>\n",
       "    <tr>\n",
       "      <th>285135</th>\n",
       "      <td>-0.040563</td>\n",
       "      <td>0.219306</td>\n",
       "      <td>0.593399</td>\n",
       "    </tr>\n",
       "  </tbody>\n",
       "</table>\n",
       "</div>"
      ],
      "text/plain": [
       "        registration_year     power  kilometer\n",
       "186714          -0.027776 -0.114322   0.593399\n",
       "125928          -0.066136 -1.718915   0.593399\n",
       "157083          -0.091710  0.266967   0.593399\n",
       "283757           0.010584  4.572359  -0.067582\n",
       "285135          -0.040563  0.219306   0.593399"
      ]
     },
     "execution_count": 21,
     "metadata": {},
     "output_type": "execute_result"
    }
   ],
   "source": [
    "scaler = StandardScaler()\n",
    "scaler.fit(X_train[num])\n",
    "\n",
    "features_train_scaled = pd.DataFrame(scaler.transform(X_train[num]), columns=num, index=X_train.index)\n",
    "features_test_scaled = pd.DataFrame(scaler.transform(X_test[num]), columns=num, index=X_test.index)\n",
    "features_valid_scaled = pd.DataFrame(scaler.transform(X_valid[num]), columns=num, index=X_valid.index)\n",
    "\n",
    "features_train_scaled.head()"
   ]
  },
  {
   "cell_type": "markdown",
   "metadata": {},
   "source": [
    "Также напишем функции для вычисления итогового времени обучения и предсказания моделей"
   ]
  },
  {
   "cell_type": "code",
   "execution_count": 22,
   "metadata": {},
   "outputs": [],
   "source": [
    "def fit_model_time(model, features, target):\n",
    "\n",
    "    start = time.time()\n",
    "    model.fit(features, target)       \n",
    "    end = time.time()\n",
    "    \n",
    "    return {'model':model, 'fit_time':(end-start)}"
   ]
  },
  {
   "cell_type": "code",
   "execution_count": 23,
   "metadata": {},
   "outputs": [],
   "source": [
    "def predict_model_time(model, features):\n",
    "\n",
    "    start = time.time()\n",
    "    predictions = model.predict(features)\n",
    "    end = time.time()\n",
    "    \n",
    "    return {'predictions':predictions, 'prediction_time':(end-start)}"
   ]
  },
  {
   "cell_type": "code",
   "execution_count": 24,
   "metadata": {},
   "outputs": [],
   "source": [
    "def show_metrics(fit_model_time, predict_model_time, rmse):\n",
    "\n",
    "    print('Время обучения:', fit_model_time)\n",
    "    print('Время предсказания:', predict_model_time)\n",
    "    print('RMSE =', rmse)"
   ]
  },
  {
   "cell_type": "markdown",
   "metadata": {},
   "source": [
    "Создадим сетку параметров для моделей"
   ]
  },
  {
   "cell_type": "code",
   "execution_count": 25,
   "metadata": {},
   "outputs": [],
   "source": [
    "params = {\n",
    "    'max_depth': [6, 8, 10],\n",
    "    'learning_rate': [0.1, 0.15, 0.2],\n",
    "    'n_estimators': [10, 100],\n",
    "}"
   ]
  },
  {
   "cell_type": "markdown",
   "metadata": {},
   "source": [
    "И сравнительную таблицу для результатов"
   ]
  },
  {
   "cell_type": "code",
   "execution_count": 26,
   "metadata": {},
   "outputs": [],
   "source": [
    "model_comparison = pd.DataFrame(columns=['Модель', 'RMSE', 'Время обучения', 'Время предсказания'])"
   ]
  },
  {
   "cell_type": "markdown",
   "metadata": {},
   "source": [
    "Обучим модели и запишем результаты в таблицу"
   ]
  },
  {
   "cell_type": "code",
   "execution_count": 27,
   "metadata": {
    "scrolled": true
   },
   "outputs": [
    {
     "name": "stdout",
     "output_type": "stream",
     "text": [
      "Время обучения: 5.133943557739258\n",
      "Время предсказания: 0.32167720794677734\n",
      "RMSE = 1787.3298321588559\n",
      "Время обучения: 5.187960624694824\n",
      "Время предсказания: 0.33637428283691406\n",
      "RMSE = 1787.3298321588559\n",
      "Время обучения: 5.176274538040161\n",
      "Время предсказания: 0.3248629570007324\n",
      "RMSE = 1787.3298321588559\n",
      "Время обучения: 4.850126504898071\n",
      "Время предсказания: 0.34702157974243164\n",
      "RMSE = 1787.3298321588559\n",
      "Время обучения: 4.76390266418457\n",
      "Время предсказания: 0.3276793956756592\n",
      "RMSE = 1787.3298321588559\n",
      "Время обучения: 4.69149374961853\n",
      "Время предсказания: 0.31837034225463867\n",
      "RMSE = 1787.3298321588559\n",
      "Время обучения: 4.591450214385986\n",
      "Время предсказания: 0.32259702682495117\n",
      "RMSE = 1787.3298321588559\n",
      "Время обучения: 4.765275716781616\n",
      "Время предсказания: 0.32573795318603516\n",
      "RMSE = 1787.3298321588559\n",
      "Время обучения: 4.521566867828369\n",
      "Время предсказания: 0.3216378688812256\n",
      "RMSE = 1787.3298321588559\n",
      "Время обучения: 4.561999797821045\n",
      "Время предсказания: 0.3094935417175293\n",
      "RMSE = 1787.3298321588559\n",
      "Время обучения: 4.46703839302063\n",
      "Время предсказания: 0.3309757709503174\n",
      "RMSE = 1787.3298321588559\n",
      "Время обучения: 4.638761758804321\n",
      "Время предсказания: 0.3130223751068115\n",
      "RMSE = 1787.3298321588559\n",
      "Время обучения: 4.565157890319824\n",
      "Время предсказания: 0.3458883762359619\n",
      "RMSE = 1787.3298321588559\n",
      "Время обучения: 4.584291458129883\n",
      "Время предсказания: 0.3105180263519287\n",
      "RMSE = 1787.3298321588559\n",
      "Время обучения: 4.627881288528442\n",
      "Время предсказания: 0.3023340702056885\n",
      "RMSE = 1787.3298321588559\n",
      "Время обучения: 4.6124653816223145\n",
      "Время предсказания: 0.32770514488220215\n",
      "RMSE = 1787.3298321588559\n",
      "Время обучения: 4.582395076751709\n",
      "Время предсказания: 0.3074371814727783\n",
      "RMSE = 1787.3298321588559\n",
      "Время обучения: 4.644927024841309\n",
      "Время предсказания: 0.324066162109375\n",
      "RMSE = 1787.3298321588559\n",
      " \n",
      "Наилучшие параметры:\n",
      "learning_rate = 0.15\n",
      "n_estimators = 100\n",
      "max_depth = 6\n",
      " \n",
      "RMSE при данных параметрах: 1787.3298321588559\n"
     ]
    }
   ],
   "source": [
    "l_rate_rf = 0\n",
    "n_est_rf = 0\n",
    "m_depth_rf = 0\n",
    "rmse_rf = 2500\n",
    "predict_time_rf = 10\n",
    "fit_time_rf = 10\n",
    "\n",
    "for learning_rate in params['learning_rate']:\n",
    "    for n_estimators in params['n_estimators']:\n",
    "        for max_depth in params['max_depth']:\n",
    "            rf_model = RandomForestRegressor(random_state=12345, n_jobs=-1, verbose=0)\n",
    "            fit = fit_model_time(rf_model, X_train, y_train)\n",
    "            predict = predict_model_time(rf_model, X_valid)\n",
    "            rmse = mean_squared_error(y_valid, predict.get('predictions'), squared=False)\n",
    "            show_metrics(fit.get('fit_time'), predict.get('prediction_time'), rmse)\n",
    "\n",
    "            if rmse <= rmse_rf:\n",
    "                rmse_rf = rmse\n",
    "                if predict.get('prediction_time') < predict_time_rf:\n",
    "                    predict_time_rf = predict.get('prediction_time')\n",
    "                    if fit.get('fit_time') < fit_time_rf:\n",
    "                        fit_time_rf = fit.get('fit_time')\n",
    "                        l_rate_rf = learning_rate\n",
    "                        n_est_rf = n_estimators\n",
    "                        m_depth_rf = max_depth\n",
    "\n",
    "print(' ')\n",
    "print('Наилучшие параметры:')\n",
    "print('learning_rate =', l_rate_rf)\n",
    "print('n_estimators =', n_est_rf)\n",
    "print('max_depth =', m_depth_rf)\n",
    "print(' ')\n",
    "print(f'RMSE при данных параметрах: {rmse_rf}')\n",
    "\n",
    "model_comparison = model_comparison.append({'Модель':rf_model, 'RMSE':rmse_rf, 'Время обучения':fit_time_rf, 'Время предсказания':predict_time_rf}, ignore_index=True)\n",
    "rf_best_params = {'learning_rate':l_rate_rf, 'n_estimators':n_est_rf, 'max_depth':m_depth_rf}"
   ]
  },
  {
   "cell_type": "code",
   "execution_count": 28,
   "metadata": {
    "scrolled": true
   },
   "outputs": [
    {
     "name": "stdout",
     "output_type": "stream",
     "text": [
      "Время обучения: 0.23617935180664062\n",
      "Время предсказания: 0.029085874557495117\n",
      "RMSE = 1804.8394048803762\n",
      "Время обучения: 0.26013779640197754\n",
      "Время предсказания: 0.034093618392944336\n",
      "RMSE = 1804.8394048803762\n",
      "Время обучения: 0.2589986324310303\n",
      "Время предсказания: 0.029166460037231445\n",
      "RMSE = 1804.8394048803762\n",
      "Время обучения: 0.25955796241760254\n",
      "Время предсказания: 0.028628826141357422\n",
      "RMSE = 1804.8394048803762\n",
      "Время обучения: 0.24897193908691406\n",
      "Время предсказания: 0.029098987579345703\n",
      "RMSE = 1804.8394048803762\n",
      "Время обучения: 0.25406527519226074\n",
      "Время предсказания: 0.028757333755493164\n",
      "RMSE = 1804.8394048803762\n",
      "Время обучения: 0.25095319747924805\n",
      "Время предсказания: 0.029079914093017578\n",
      "RMSE = 1804.8394048803762\n",
      "Время обучения: 0.2589888572692871\n",
      "Время предсказания: 0.02916240692138672\n",
      "RMSE = 1804.8394048803762\n",
      "Время обучения: 0.25267672538757324\n",
      "Время предсказания: 0.02845454216003418\n",
      "RMSE = 1804.8394048803762\n",
      "Время обучения: 0.2469625473022461\n",
      "Время предсказания: 0.02805018424987793\n",
      "RMSE = 1804.8394048803762\n",
      "Время обучения: 0.24999570846557617\n",
      "Время предсказания: 0.02800154685974121\n",
      "RMSE = 1804.8394048803762\n",
      "Время обучения: 0.24689745903015137\n",
      "Время предсказания: 0.0290987491607666\n",
      "RMSE = 1804.8394048803762\n",
      "Время обучения: 0.2520718574523926\n",
      "Время предсказания: 0.029073715209960938\n",
      "RMSE = 1804.8394048803762\n",
      "Время обучения: 0.24798917770385742\n",
      "Время предсказания: 0.030062198638916016\n",
      "RMSE = 1804.8394048803762\n",
      "Время обучения: 0.2529025077819824\n",
      "Время предсказания: 0.029019594192504883\n",
      "RMSE = 1804.8394048803762\n",
      "Время обучения: 0.2522280216217041\n",
      "Время предсказания: 0.026994943618774414\n",
      "RMSE = 1804.8394048803762\n",
      "Время обучения: 0.28746652603149414\n",
      "Время предсказания: 0.029050588607788086\n",
      "RMSE = 1804.8394048803762\n",
      "Время обучения: 0.264049768447876\n",
      "Время предсказания: 0.028145551681518555\n",
      "RMSE = 1804.8394048803762\n",
      " \n",
      "Наилучшие параметры:\n",
      "learning_rate = 0.1\n",
      "n_estimators = 10\n",
      "max_depth = 6\n",
      " \n",
      "RMSE при данных параметрах: 1804.8394048803762\n"
     ]
    }
   ],
   "source": [
    "l_rate_lgbm = 0\n",
    "n_est_lgbm = 0\n",
    "m_depth_lgbm = 0\n",
    "rmse_lgbm = 2500\n",
    "predict_time_lgbm = 10\n",
    "fit_time_lgbm = 10\n",
    "\n",
    "for learning_rate in params['learning_rate']:\n",
    "    for n_estimators in params['n_estimators']:\n",
    "        for max_depth in params['max_depth']:\n",
    "            lgbm_model = LGBMRegressor(random_state=12345, n_jobs=-1)\n",
    "            fit = fit_model_time(lgbm_model, X_train, y_train)\n",
    "            predict = predict_model_time(lgbm_model, X_valid)\n",
    "            rmse = mean_squared_error(y_valid, predict.get('predictions'), squared=False)\n",
    "            show_metrics(fit.get('fit_time'), predict.get('prediction_time'), rmse)\n",
    "\n",
    "            if rmse <= rmse_lgbm:\n",
    "                rmse_lgbm = rmse\n",
    "                if predict.get('prediction_time') < predict_time_lgbm:\n",
    "                    predict_time_lgbm = predict.get('prediction_time')\n",
    "                    if fit.get('fit_time') < fit_time_lgbm:\n",
    "                        fit_time_lgbm = fit.get('fit_time')\n",
    "                        l_rate_lgbm = learning_rate\n",
    "                        n_est_lgbm = n_estimators\n",
    "                        m_depth_lgbm = max_depth\n",
    "\n",
    "print(' ')\n",
    "print('Наилучшие параметры:')\n",
    "print('learning_rate =', l_rate_lgbm)\n",
    "print('n_estimators =', n_est_lgbm)\n",
    "print('max_depth =', m_depth_lgbm)\n",
    "print(' ')\n",
    "print(f'RMSE при данных параметрах: {rmse_lgbm}')\n",
    "\n",
    "model_comparison = model_comparison.append({'Модель':lgbm_model, 'RMSE':rmse_lgbm, 'Время обучения':fit_time_lgbm, 'Время предсказания':predict_time_lgbm}, ignore_index=True)\n",
    "lgbm_best_params = {'learning_rate':l_rate_lgbm, 'n_estimators':n_est_lgbm, 'max_depth':m_depth_lgbm}"
   ]
  },
  {
   "cell_type": "code",
   "execution_count": 29,
   "metadata": {
    "scrolled": true
   },
   "outputs": [
    {
     "name": "stdout",
     "output_type": "stream",
     "text": [
      "Время обучения: 10.204902410507202\n",
      "Время предсказания: 0.008463144302368164\n",
      "RMSE = 1724.956217817646\n",
      "Время обучения: 9.769944190979004\n",
      "Время предсказания: 0.009379863739013672\n",
      "RMSE = 1724.956217817646\n",
      "Время обучения: 9.797580480575562\n",
      "Время предсказания: 0.004953145980834961\n",
      "RMSE = 1724.956217817646\n",
      "Время обучения: 9.773490190505981\n",
      "Время предсказания: 0.02433609962463379\n",
      "RMSE = 1724.956217817646\n",
      "Время обучения: 9.796773195266724\n",
      "Время предсказания: 0.017943143844604492\n",
      "RMSE = 1724.956217817646\n",
      "Время обучения: 9.751928806304932\n",
      "Время предсказания: 0.0065042972564697266\n",
      "RMSE = 1724.956217817646\n",
      "Время обучения: 9.864466428756714\n",
      "Время предсказания: 0.018080711364746094\n",
      "RMSE = 1724.956217817646\n",
      "Время обучения: 9.81490707397461\n",
      "Время предсказания: 0.008582115173339844\n",
      "RMSE = 1724.956217817646\n",
      "Время обучения: 9.793201446533203\n",
      "Время предсказания: 0.011103630065917969\n",
      "RMSE = 1724.956217817646\n",
      "Время обучения: 9.840057373046875\n",
      "Время предсказания: 0.009177684783935547\n",
      "RMSE = 1724.956217817646\n",
      "Время обучения: 9.91905665397644\n",
      "Время предсказания: 0.01346731185913086\n",
      "RMSE = 1724.956217817646\n",
      "Время обучения: 9.646698474884033\n",
      "Время предсказания: 0.01206660270690918\n",
      "RMSE = 1724.956217817646\n",
      "Время обучения: 9.777586936950684\n",
      "Время предсказания: 0.009001731872558594\n",
      "RMSE = 1724.956217817646\n",
      "Время обучения: 9.968195915222168\n",
      "Время предсказания: 0.006076812744140625\n",
      "RMSE = 1724.956217817646\n",
      "Время обучения: 9.90101933479309\n",
      "Время предсказания: 0.014946699142456055\n",
      "RMSE = 1724.956217817646\n",
      "Время обучения: 9.778541803359985\n",
      "Время предсказания: 0.01110982894897461\n",
      "RMSE = 1724.956217817646\n",
      "Время обучения: 10.024672031402588\n",
      "Время предсказания: 0.009621143341064453\n",
      "RMSE = 1724.956217817646\n",
      "Время обучения: 9.73706579208374\n",
      "Время предсказания: 0.015241622924804688\n",
      "RMSE = 1724.956217817646\n",
      " \n",
      "Наилучшие параметры:\n",
      "learning_rate = 0.1\n",
      "n_estimators = 10\n",
      "max_depth = 10\n",
      " \n",
      "RMSE при данных параметрах: 1724.956217817646\n"
     ]
    }
   ],
   "source": [
    "l_rate_cb = 0\n",
    "n_est_cb = 0\n",
    "m_depth_cb = 0\n",
    "r_mse_cb = 2500\n",
    "predict_time_cb = 10\n",
    "fit_time_cb = 20\n",
    "\n",
    "for learning_rate in params['learning_rate']:\n",
    "    for n_estimators in params['n_estimators']:\n",
    "        for max_depth in params['max_depth']:\n",
    "            cb_model = CatBoostRegressor(random_state=12345, verbose=False)\n",
    "            fit = fit_model_time(cb_model, X_train, y_train)\n",
    "            predict = predict_model_time(cb_model, X_valid)\n",
    "            rmse = mean_squared_error(y_valid, predict.get('predictions'), squared=False)\n",
    "            show_metrics(fit.get('fit_time'), predict.get('prediction_time'), rmse)\n",
    "\n",
    "            if rmse <= r_mse_cb:\n",
    "                r_mse_cb = rmse\n",
    "                if predict.get('prediction_time') < predict_time_cb:\n",
    "                    predict_time_cb = predict.get('prediction_time')\n",
    "                    if fit.get('fit_time') < fit_time_cb:\n",
    "                        fit_time_cb = fit.get('fit_time')\n",
    "                        l_rate_cb = learning_rate\n",
    "                        n_est_cb = n_estimators\n",
    "                        m_depth_cb = max_depth\n",
    "\n",
    "print(' ')\n",
    "print('Наилучшие параметры:')\n",
    "print('learning_rate =', l_rate_cb)\n",
    "print('n_estimators =', n_est_cb)\n",
    "print('max_depth =', m_depth_cb)\n",
    "print(' ')\n",
    "print(f'RMSE при данных параметрах: {r_mse_cb}')\n",
    "\n",
    "model_comparison = model_comparison.append({'Модель':cb_model, 'RMSE':r_mse_cb, 'Время обучения':fit_time_cb, 'Время предсказания':predict_time_cb}, ignore_index=True)\n",
    "cb_best_params = {'learning_rate':l_rate_cb, 'n_estimators':n_est_cb, 'max_depth':m_depth_cb}"
   ]
  },
  {
   "cell_type": "markdown",
   "metadata": {},
   "source": [
    "## Анализ моделей"
   ]
  },
  {
   "cell_type": "markdown",
   "metadata": {},
   "source": [
    "Посмотрим на результаты работы моделей"
   ]
  },
  {
   "cell_type": "code",
   "execution_count": 30,
   "metadata": {},
   "outputs": [
    {
     "data": {
      "text/html": [
       "<div>\n",
       "<style scoped>\n",
       "    .dataframe tbody tr th:only-of-type {\n",
       "        vertical-align: middle;\n",
       "    }\n",
       "\n",
       "    .dataframe tbody tr th {\n",
       "        vertical-align: top;\n",
       "    }\n",
       "\n",
       "    .dataframe thead th {\n",
       "        text-align: right;\n",
       "    }\n",
       "</style>\n",
       "<table border=\"1\" class=\"dataframe\">\n",
       "  <thead>\n",
       "    <tr style=\"text-align: right;\">\n",
       "      <th></th>\n",
       "      <th>Модель</th>\n",
       "      <th>RMSE</th>\n",
       "      <th>Время обучения</th>\n",
       "      <th>Время предсказания</th>\n",
       "    </tr>\n",
       "  </thead>\n",
       "  <tbody>\n",
       "    <tr>\n",
       "      <th>0</th>\n",
       "      <td>(DecisionTreeRegressor(max_features=1.0, rando...</td>\n",
       "      <td>1787.329832</td>\n",
       "      <td>4.562000</td>\n",
       "      <td>0.302334</td>\n",
       "    </tr>\n",
       "    <tr>\n",
       "      <th>1</th>\n",
       "      <td>LGBMRegressor(random_state=12345)</td>\n",
       "      <td>1804.839405</td>\n",
       "      <td>0.236179</td>\n",
       "      <td>0.026995</td>\n",
       "    </tr>\n",
       "    <tr>\n",
       "      <th>2</th>\n",
       "      <td>&lt;catboost.core.CatBoostRegressor object at 0x0...</td>\n",
       "      <td>1724.956218</td>\n",
       "      <td>9.797580</td>\n",
       "      <td>0.004953</td>\n",
       "    </tr>\n",
       "  </tbody>\n",
       "</table>\n",
       "</div>"
      ],
      "text/plain": [
       "                                              Модель         RMSE  \\\n",
       "0  (DecisionTreeRegressor(max_features=1.0, rando...  1787.329832   \n",
       "1                  LGBMRegressor(random_state=12345)  1804.839405   \n",
       "2  <catboost.core.CatBoostRegressor object at 0x0...  1724.956218   \n",
       "\n",
       "   Время обучения  Время предсказания  \n",
       "0        4.562000            0.302334  \n",
       "1        0.236179            0.026995  \n",
       "2        9.797580            0.004953  "
      ]
     },
     "execution_count": 30,
     "metadata": {},
     "output_type": "execute_result"
    }
   ],
   "source": [
    "model_comparison"
   ]
  },
  {
   "cell_type": "markdown",
   "metadata": {},
   "source": [
    "Самой быстрой по времени обучения оказалась LGBMRegressor, а самой точной, исходя из метрики RMSE оказалась CatBoostRegressor. Вторая, также, показала лучший результат по времени предсказания. <p>\n",
    "Если учитывать то, что для задачи нужно составить модель один раз, чтобы она в дальнейшем использовалась для быстрого предсказания, то лучшей моделью будет CatBoostRegressor. <p>"
   ]
  },
  {
   "cell_type": "markdown",
   "metadata": {},
   "source": [
    "# Тестирование лучшей модели"
   ]
  },
  {
   "cell_type": "code",
   "execution_count": 31,
   "metadata": {},
   "outputs": [
    {
     "name": "stdout",
     "output_type": "stream",
     "text": [
      "Время обучения: 9.738242864608765\n",
      "Время предсказания: 0.010925531387329102\n",
      "RMSE = 1690.207570836713\n"
     ]
    }
   ],
   "source": [
    "test_cb_model = CatBoostRegressor(cb_best_params, random_state=12345, verbose=False)\n",
    "fit = fit_model_time(cb_model, X_train, y_train)\n",
    "predict = predict_model_time(cb_model, X_test)\n",
    "rmse = mean_squared_error(y_test, predict.get('predictions'), squared=False)\n",
    "show_metrics(fit.get('fit_time'), predict.get('prediction_time'), rmse)"
   ]
  },
  {
   "cell_type": "markdown",
   "metadata": {},
   "source": [
    "На тестовой выборке наша модель показала следующий результат:\n",
    "- RMSE = 1690\n",
    "- Скорость предсказания ~ 0.01 секунды\n",
    "- Скорость обучения ~ 10 секунд\n",
    "\n",
    "Если требования заказчика указаны в порядке приоритета - результат работы данной модели можно считать валидным для нашей задачи, т.к. среди упомянутых выше моделей, кэтбуст показывает минимальный результат по количеству ошибок и самую высокую скорость предсказания. <p>\n",
    "На тестовой выборке также были получены прекрасные результаты, которые подтвердили качество работы модели."
   ]
  }
 ],
 "metadata": {
  "kernelspec": {
   "display_name": "Python 3 (ipykernel)",
   "language": "python",
   "name": "python3"
  },
  "language_info": {
   "codemirror_mode": {
    "name": "ipython",
    "version": 3
   },
   "file_extension": ".py",
   "mimetype": "text/x-python",
   "name": "python",
   "nbconvert_exporter": "python",
   "pygments_lexer": "ipython3",
   "version": "3.9.5"
  },
  "toc": {
   "base_numbering": 1,
   "nav_menu": {},
   "number_sections": true,
   "sideBar": true,
   "skip_h1_title": true,
   "title_cell": "Table of Contents",
   "title_sidebar": "Contents",
   "toc_cell": false,
   "toc_position": {},
   "toc_section_display": true,
   "toc_window_display": false
  },
  "vscode": {
   "interpreter": {
    "hash": "26de051ba29f2982a8de78e945f0abaf191376122a1563185a90213a26c5da77"
   }
  }
 },
 "nbformat": 4,
 "nbformat_minor": 2
}
