{
 "cells": [
  {
   "cell_type": "code",
   "execution_count": 1,
   "metadata": {},
   "outputs": [],
   "source": [
    "import pandas as pd\n",
    "\n",
    "import matplotlib as mt\n",
    "import matplotlib.pyplot as plt\n",
    "\n",
    "import numpy as np\n",
    "\n",
    "import seaborn as sns\n",
    "\n",
    "from scipy import stats as st\n",
    "\n",
    "import plotly.express as px"
   ]
  },
  {
   "cell_type": "markdown",
   "metadata": {},
   "source": [
    "## Предобработка данных"
   ]
  },
  {
   "cell_type": "markdown",
   "metadata": {},
   "source": [
    "Получим общую информацию о табличке, предварительные наблюдения"
   ]
  },
  {
   "cell_type": "code",
   "execution_count": 2,
   "metadata": {
    "scrolled": false
   },
   "outputs": [
    {
     "name": "stdout",
     "output_type": "stream",
     "text": [
      "<class 'pandas.core.frame.DataFrame'>\n",
      "RangeIndex: 16715 entries, 0 to 16714\n",
      "Data columns (total 11 columns):\n",
      " #   Column           Non-Null Count  Dtype  \n",
      "---  ------           --------------  -----  \n",
      " 0   Name             16713 non-null  object \n",
      " 1   Platform         16715 non-null  object \n",
      " 2   Year_of_Release  16446 non-null  float64\n",
      " 3   Genre            16713 non-null  object \n",
      " 4   NA_sales         16715 non-null  float64\n",
      " 5   EU_sales         16715 non-null  float64\n",
      " 6   JP_sales         16715 non-null  float64\n",
      " 7   Other_sales      16715 non-null  float64\n",
      " 8   Critic_Score     8137 non-null   float64\n",
      " 9   User_Score       10014 non-null  object \n",
      " 10  Rating           9949 non-null   object \n",
      "dtypes: float64(6), object(5)\n",
      "memory usage: 1.4+ MB\n"
     ]
    },
    {
     "data": {
      "text/html": [
       "<div>\n",
       "<style scoped>\n",
       "    .dataframe tbody tr th:only-of-type {\n",
       "        vertical-align: middle;\n",
       "    }\n",
       "\n",
       "    .dataframe tbody tr th {\n",
       "        vertical-align: top;\n",
       "    }\n",
       "\n",
       "    .dataframe thead th {\n",
       "        text-align: right;\n",
       "    }\n",
       "</style>\n",
       "<table border=\"1\" class=\"dataframe\">\n",
       "  <thead>\n",
       "    <tr style=\"text-align: right;\">\n",
       "      <th></th>\n",
       "      <th>Year_of_Release</th>\n",
       "      <th>NA_sales</th>\n",
       "      <th>EU_sales</th>\n",
       "      <th>JP_sales</th>\n",
       "      <th>Other_sales</th>\n",
       "      <th>Critic_Score</th>\n",
       "    </tr>\n",
       "  </thead>\n",
       "  <tbody>\n",
       "    <tr>\n",
       "      <th>count</th>\n",
       "      <td>16446.000000</td>\n",
       "      <td>16715.000000</td>\n",
       "      <td>16715.000000</td>\n",
       "      <td>16715.000000</td>\n",
       "      <td>16715.000000</td>\n",
       "      <td>8137.000000</td>\n",
       "    </tr>\n",
       "    <tr>\n",
       "      <th>mean</th>\n",
       "      <td>2006.484616</td>\n",
       "      <td>0.263377</td>\n",
       "      <td>0.145060</td>\n",
       "      <td>0.077617</td>\n",
       "      <td>0.047342</td>\n",
       "      <td>68.967679</td>\n",
       "    </tr>\n",
       "    <tr>\n",
       "      <th>std</th>\n",
       "      <td>5.877050</td>\n",
       "      <td>0.813604</td>\n",
       "      <td>0.503339</td>\n",
       "      <td>0.308853</td>\n",
       "      <td>0.186731</td>\n",
       "      <td>13.938165</td>\n",
       "    </tr>\n",
       "    <tr>\n",
       "      <th>min</th>\n",
       "      <td>1980.000000</td>\n",
       "      <td>0.000000</td>\n",
       "      <td>0.000000</td>\n",
       "      <td>0.000000</td>\n",
       "      <td>0.000000</td>\n",
       "      <td>13.000000</td>\n",
       "    </tr>\n",
       "    <tr>\n",
       "      <th>25%</th>\n",
       "      <td>2003.000000</td>\n",
       "      <td>0.000000</td>\n",
       "      <td>0.000000</td>\n",
       "      <td>0.000000</td>\n",
       "      <td>0.000000</td>\n",
       "      <td>60.000000</td>\n",
       "    </tr>\n",
       "    <tr>\n",
       "      <th>50%</th>\n",
       "      <td>2007.000000</td>\n",
       "      <td>0.080000</td>\n",
       "      <td>0.020000</td>\n",
       "      <td>0.000000</td>\n",
       "      <td>0.010000</td>\n",
       "      <td>71.000000</td>\n",
       "    </tr>\n",
       "    <tr>\n",
       "      <th>75%</th>\n",
       "      <td>2010.000000</td>\n",
       "      <td>0.240000</td>\n",
       "      <td>0.110000</td>\n",
       "      <td>0.040000</td>\n",
       "      <td>0.030000</td>\n",
       "      <td>79.000000</td>\n",
       "    </tr>\n",
       "    <tr>\n",
       "      <th>max</th>\n",
       "      <td>2016.000000</td>\n",
       "      <td>41.360000</td>\n",
       "      <td>28.960000</td>\n",
       "      <td>10.220000</td>\n",
       "      <td>10.570000</td>\n",
       "      <td>98.000000</td>\n",
       "    </tr>\n",
       "  </tbody>\n",
       "</table>\n",
       "</div>"
      ],
      "text/plain": [
       "       Year_of_Release      NA_sales      EU_sales      JP_sales  \\\n",
       "count     16446.000000  16715.000000  16715.000000  16715.000000   \n",
       "mean       2006.484616      0.263377      0.145060      0.077617   \n",
       "std           5.877050      0.813604      0.503339      0.308853   \n",
       "min        1980.000000      0.000000      0.000000      0.000000   \n",
       "25%        2003.000000      0.000000      0.000000      0.000000   \n",
       "50%        2007.000000      0.080000      0.020000      0.000000   \n",
       "75%        2010.000000      0.240000      0.110000      0.040000   \n",
       "max        2016.000000     41.360000     28.960000     10.220000   \n",
       "\n",
       "        Other_sales  Critic_Score  \n",
       "count  16715.000000   8137.000000  \n",
       "mean       0.047342     68.967679  \n",
       "std        0.186731     13.938165  \n",
       "min        0.000000     13.000000  \n",
       "25%        0.000000     60.000000  \n",
       "50%        0.010000     71.000000  \n",
       "75%        0.030000     79.000000  \n",
       "max       10.570000     98.000000  "
      ]
     },
     "execution_count": 2,
     "metadata": {},
     "output_type": "execute_result"
    }
   ],
   "source": [
    "data = pd.read_csv('/datasets/games.csv')\n",
    "data.info()\n",
    "data\n",
    "data.describe()"
   ]
  },
  {
   "cell_type": "markdown",
   "metadata": {},
   "source": [
    "Названия столбцов следует указать в нижнем регистре.<p>\n",
    "Name не назначен для двух игр. Возможно, есть смысл их убрать из таблицы.<p>\n",
    "Genre не назначен для двух игр. Возможно, есть смысл их убрать из таблицы.<p>\n",
    "Year_of_Release - нужно будет изменить формат в даты или int, также - заполнить пустые ячейки.<p>\n",
    "\n",
    "Critic_Score - много NaN, возможно, есть смысл, заменить их на среднее/медиану<p>\n",
    "User_Score - много NaN, возможно, есть смысл, заменить их на среднее/медиану. Также следует формат изменить на float.<p>\n",
    "Rating - более половины значений - NaN.<p>"
   ]
  },
  {
   "cell_type": "code",
   "execution_count": 3,
   "metadata": {},
   "outputs": [
    {
     "data": {
      "text/html": [
       "<div>\n",
       "<style scoped>\n",
       "    .dataframe tbody tr th:only-of-type {\n",
       "        vertical-align: middle;\n",
       "    }\n",
       "\n",
       "    .dataframe tbody tr th {\n",
       "        vertical-align: top;\n",
       "    }\n",
       "\n",
       "    .dataframe thead th {\n",
       "        text-align: right;\n",
       "    }\n",
       "</style>\n",
       "<table border=\"1\" class=\"dataframe\">\n",
       "  <thead>\n",
       "    <tr style=\"text-align: right;\">\n",
       "      <th></th>\n",
       "      <th>Name</th>\n",
       "      <th>Platform</th>\n",
       "      <th>Year_of_Release</th>\n",
       "      <th>Genre</th>\n",
       "      <th>NA_sales</th>\n",
       "      <th>EU_sales</th>\n",
       "      <th>JP_sales</th>\n",
       "      <th>Other_sales</th>\n",
       "      <th>Critic_Score</th>\n",
       "      <th>User_Score</th>\n",
       "      <th>Rating</th>\n",
       "    </tr>\n",
       "  </thead>\n",
       "  <tbody>\n",
       "    <tr>\n",
       "      <th>659</th>\n",
       "      <td>NaN</td>\n",
       "      <td>GEN</td>\n",
       "      <td>1993.0</td>\n",
       "      <td>NaN</td>\n",
       "      <td>1.78</td>\n",
       "      <td>0.53</td>\n",
       "      <td>0.00</td>\n",
       "      <td>0.08</td>\n",
       "      <td>NaN</td>\n",
       "      <td>NaN</td>\n",
       "      <td>NaN</td>\n",
       "    </tr>\n",
       "    <tr>\n",
       "      <th>14244</th>\n",
       "      <td>NaN</td>\n",
       "      <td>GEN</td>\n",
       "      <td>1993.0</td>\n",
       "      <td>NaN</td>\n",
       "      <td>0.00</td>\n",
       "      <td>0.00</td>\n",
       "      <td>0.03</td>\n",
       "      <td>0.00</td>\n",
       "      <td>NaN</td>\n",
       "      <td>NaN</td>\n",
       "      <td>NaN</td>\n",
       "    </tr>\n",
       "  </tbody>\n",
       "</table>\n",
       "</div>"
      ],
      "text/plain": [
       "      Name Platform  Year_of_Release Genre  NA_sales  EU_sales  JP_sales  \\\n",
       "659    NaN      GEN           1993.0   NaN      1.78      0.53      0.00   \n",
       "14244  NaN      GEN           1993.0   NaN      0.00      0.00      0.03   \n",
       "\n",
       "       Other_sales  Critic_Score User_Score Rating  \n",
       "659           0.08           NaN        NaN    NaN  \n",
       "14244         0.00           NaN        NaN    NaN  "
      ]
     },
     "execution_count": 3,
     "metadata": {},
     "output_type": "execute_result"
    }
   ],
   "source": [
    "no_name = data.query('Name.isnull()')\n",
    "no_name"
   ]
  },
  {
   "cell_type": "markdown",
   "metadata": {},
   "source": [
    "Данные о двух пропущенных играх удалю в дальнейшем, т.к. данных об этих играх недостаточно для включения их в выборку. "
   ]
  },
  {
   "cell_type": "code",
   "execution_count": 4,
   "metadata": {},
   "outputs": [],
   "source": [
    "data.columns = data.columns.str.lower()"
   ]
  },
  {
   "cell_type": "markdown",
   "metadata": {},
   "source": [
    "Привел названия столбцов к нижнему регистру."
   ]
  },
  {
   "cell_type": "markdown",
   "metadata": {},
   "source": [
    "### Изменение типов данных + обработка пропусков"
   ]
  },
  {
   "cell_type": "code",
   "execution_count": 5,
   "metadata": {},
   "outputs": [
    {
     "name": "stdout",
     "output_type": "stream",
     "text": [
      "<class 'pandas.core.frame.DataFrame'>\n",
      "Int64Index: 16446 entries, 0 to 16714\n",
      "Data columns (total 11 columns):\n",
      " #   Column           Non-Null Count  Dtype  \n",
      "---  ------           --------------  -----  \n",
      " 0   name             16444 non-null  object \n",
      " 1   platform         16446 non-null  object \n",
      " 2   year_of_release  16446 non-null  int64  \n",
      " 3   genre            16444 non-null  object \n",
      " 4   na_sales         16446 non-null  float64\n",
      " 5   eu_sales         16446 non-null  float64\n",
      " 6   jp_sales         16446 non-null  float64\n",
      " 7   other_sales      16446 non-null  float64\n",
      " 8   critic_score     7983 non-null   float64\n",
      " 9   user_score       9839 non-null   object \n",
      " 10  rating           9768 non-null   object \n",
      "dtypes: float64(5), int64(1), object(5)\n",
      "memory usage: 1.5+ MB\n"
     ]
    },
    {
     "data": {
      "text/plain": [
       "2008    1427\n",
       "2009    1426\n",
       "2010    1255\n",
       "2007    1197\n",
       "2011    1136\n",
       "2006    1006\n",
       "2005     939\n",
       "2002     829\n",
       "2003     775\n",
       "2004     762\n",
       "2012     653\n",
       "2015     606\n",
       "2014     581\n",
       "2013     544\n",
       "2016     502\n",
       "2001     482\n",
       "1998     379\n",
       "2000     350\n",
       "1999     338\n",
       "1997     289\n",
       "1996     263\n",
       "1995     219\n",
       "1994     121\n",
       "1993      62\n",
       "1981      46\n",
       "1992      43\n",
       "1991      41\n",
       "1982      36\n",
       "1986      21\n",
       "1983      17\n",
       "1989      17\n",
       "1990      16\n",
       "1987      16\n",
       "1988      15\n",
       "1985      14\n",
       "1984      14\n",
       "1980       9\n",
       "Name: year_of_release, dtype: int64"
      ]
     },
     "execution_count": 5,
     "metadata": {},
     "output_type": "execute_result"
    }
   ],
   "source": [
    "data = data.dropna(subset=['year_of_release'])\n",
    "data['year_of_release'] = data['year_of_release'].astype('int')\n",
    "data.info()\n",
    "data['year_of_release'].value_counts()"
   ]
  },
  {
   "cell_type": "markdown",
   "metadata": {},
   "source": [
    "Заполнил пропуски медианой, привел к типу float для удобства обработки, т.к. в оценка в данной колонке - это целые числа."
   ]
  },
  {
   "cell_type": "code",
   "execution_count": 6,
   "metadata": {},
   "outputs": [],
   "source": [
    "data['user_score'].value_counts()\n",
    "data['user_score'] = data['user_score'].replace('tbd', np.NaN)\n",
    "data['user_score'] = data['user_score'].astype(float)"
   ]
  },
  {
   "cell_type": "markdown",
   "metadata": {},
   "source": [
    "Заменил значения tbd на NaN, для приведения данных к общему виду. Также присвоил значениям в колонке тип float для удобства обработки, т.к. в оценка в данной колонке с десятыми долями."
   ]
  },
  {
   "cell_type": "code",
   "execution_count": 7,
   "metadata": {},
   "outputs": [],
   "source": [
    "data['rating'] = data['rating'].fillna('Not specified')"
   ]
  },
  {
   "cell_type": "markdown",
   "metadata": {},
   "source": [
    "Также заменил нули в колонке рейтинга на произвольное значение, для удобства дифференциации, т.к. самостоятельно рейтинг игры мы определить не сможем."
   ]
  },
  {
   "cell_type": "code",
   "execution_count": 8,
   "metadata": {},
   "outputs": [
    {
     "name": "stdout",
     "output_type": "stream",
     "text": [
      "<class 'pandas.core.frame.DataFrame'>\n",
      "Int64Index: 16446 entries, 0 to 16714\n",
      "Data columns (total 11 columns):\n",
      " #   Column           Non-Null Count  Dtype  \n",
      "---  ------           --------------  -----  \n",
      " 0   name             16444 non-null  object \n",
      " 1   platform         16446 non-null  object \n",
      " 2   year_of_release  16446 non-null  int64  \n",
      " 3   genre            16444 non-null  object \n",
      " 4   na_sales         16446 non-null  float64\n",
      " 5   eu_sales         16446 non-null  float64\n",
      " 6   jp_sales         16446 non-null  float64\n",
      " 7   other_sales      16446 non-null  float64\n",
      " 8   critic_score     7983 non-null   float64\n",
      " 9   user_score       7463 non-null   float64\n",
      " 10  rating           16446 non-null  object \n",
      "dtypes: float64(6), int64(1), object(4)\n",
      "memory usage: 1.5+ MB\n"
     ]
    }
   ],
   "source": [
    "data.info()"
   ]
  },
  {
   "cell_type": "code",
   "execution_count": 9,
   "metadata": {},
   "outputs": [],
   "source": [
    "data = data.dropna(subset=['name'])"
   ]
  },
  {
   "cell_type": "markdown",
   "metadata": {},
   "source": [
    "Также удалил две игры из таблицы, т.к.: <p>\n",
    " - Название/Жанр - ключевая связка в данном контексте.<p>\n",
    " - Это незначительно повлияет на выборку.<p>"
   ]
  },
  {
   "cell_type": "markdown",
   "metadata": {},
   "source": [
    "###### Вывод по пропускам данных:\n",
    "- В столбцах critic_score и user_score - пропуски, предположительно, связаны с отсутствием достаточного количества оценок для публикации общей.\n",
    "- В Name и Genre - возможно, не было адекватной локализации игры, в связи с чем она не попала на отдельные рынки.\n",
    "- Year_of_Release - мог быть не заполнен из-за старости игры или человеческого фактора."
   ]
  },
  {
   "cell_type": "markdown",
   "metadata": {},
   "source": [
    "### Создание нового столбца"
   ]
  },
  {
   "cell_type": "code",
   "execution_count": 10,
   "metadata": {},
   "outputs": [
    {
     "data": {
      "text/plain": [
       "0        82.54\n",
       "1        40.24\n",
       "2        35.52\n",
       "3        32.77\n",
       "4        31.38\n",
       "         ...  \n",
       "16710     0.01\n",
       "16711     0.01\n",
       "16712     0.01\n",
       "16713     0.01\n",
       "16714     0.01\n",
       "Name: total_sales, Length: 16444, dtype: float64"
      ]
     },
     "execution_count": 10,
     "metadata": {},
     "output_type": "execute_result"
    }
   ],
   "source": [
    "data['total_sales'] = data['na_sales'] + data['eu_sales'] + data['jp_sales'] + data['other_sales']\n",
    "data['total_sales']"
   ]
  },
  {
   "cell_type": "markdown",
   "metadata": {},
   "source": [
    "Создал столбец с общей суммой продаж во всех регионах."
   ]
  },
  {
   "cell_type": "code",
   "execution_count": 11,
   "metadata": {},
   "outputs": [
    {
     "name": "stdout",
     "output_type": "stream",
     "text": [
      "<class 'pandas.core.frame.DataFrame'>\n",
      "Int64Index: 16444 entries, 0 to 16714\n",
      "Data columns (total 12 columns):\n",
      " #   Column           Non-Null Count  Dtype  \n",
      "---  ------           --------------  -----  \n",
      " 0   name             16444 non-null  object \n",
      " 1   platform         16444 non-null  object \n",
      " 2   year_of_release  16444 non-null  int64  \n",
      " 3   genre            16444 non-null  object \n",
      " 4   na_sales         16444 non-null  float64\n",
      " 5   eu_sales         16444 non-null  float64\n",
      " 6   jp_sales         16444 non-null  float64\n",
      " 7   other_sales      16444 non-null  float64\n",
      " 8   critic_score     7983 non-null   float64\n",
      " 9   user_score       7463 non-null   float64\n",
      " 10  rating           16444 non-null  object \n",
      " 11  total_sales      16444 non-null  float64\n",
      "dtypes: float64(7), int64(1), object(4)\n",
      "memory usage: 1.6+ MB\n",
      "None\n",
      "-------------------------\n",
      "name [' Beyblade Burst' ' Fire Emblem Fates' \" Frozen: Olaf's Quest\" ...\n",
      " 'uDraw Studio' 'uDraw Studio: Instant Artist'\n",
      " '¡Shin Chan Flipa en colores!']\n",
      "name : кол-во NaN 0 , процент NaN 0.0 %\n",
      "-------------------------\n",
      "platform ['2600' '3DO' '3DS' 'DC' 'DS' 'GB' 'GBA' 'GC' 'GEN' 'GG' 'N64' 'NES' 'NG'\n",
      " 'PC' 'PCFX' 'PS' 'PS2' 'PS3' 'PS4' 'PSP' 'PSV' 'SAT' 'SCD' 'SNES' 'TG16'\n",
      " 'WS' 'Wii' 'WiiU' 'X360' 'XB' 'XOne']\n",
      "platform : кол-во NaN 0 , процент NaN 0.0 %\n",
      "-------------------------\n",
      "year_of_release [1980 1981 1982 1983 1984 1985 1986 1987 1988 1989 1990 1991 1992 1993\n",
      " 1994 1995 1996 1997 1998 1999 2000 2001 2002 2003 2004 2005 2006 2007\n",
      " 2008 2009 2010 2011 2012 2013 2014 2015 2016]\n",
      "year_of_release : кол-во NaN 0 , процент NaN 0.0 %\n",
      "-------------------------\n",
      "genre ['Action' 'Adventure' 'Fighting' 'Misc' 'Platform' 'Puzzle' 'Racing'\n",
      " 'Role-Playing' 'Shooter' 'Simulation' 'Sports' 'Strategy']\n",
      "genre : кол-во NaN 0 , процент NaN 0.0 %\n",
      "-------------------------\n",
      "critic_score [13. 17. 19. 20. 21. 23. 24. 25. 26. 27. 28. 29. 30. 31. 32. 33. 34. 35.\n",
      " 36. 37. 38. 39. 40. 41. 42. 43. 44. 45. 46. 47. 48. 49. 50. 51. 52. 53.\n",
      " 54. 55. 56. 57. 58. 59. 60. 61. 62. 63. 64. 65. 66. 67. 68. 69. 70. 71.\n",
      " 72. 73. 74. 75. 76. 77. 78. 79. 80. 81. 82. 83. 84. 85. 86. 87. 88. 89.\n",
      " 90. 91. 92. 93. 94. 95. 96. 97. 98. nan]\n",
      "critic_score : кол-во NaN 8461 , процент NaN 51.45 %\n",
      "-------------------------\n",
      "user_score [0.  0.2 0.3 0.5 0.6 0.7 0.9 1.  1.1 1.2 1.3 1.4 1.5 1.6 1.7 1.8 1.9 2.\n",
      " 2.1 2.2 2.3 2.4 2.5 2.6 2.7 2.8 2.9 3.  3.1 3.2 3.3 3.4 3.5 3.6 3.7 3.8\n",
      " 3.9 4.  4.1 4.2 4.3 4.4 4.5 4.6 4.7 4.8 4.9 5.  5.1 5.2 5.3 5.4 5.5 5.6\n",
      " 5.7 5.8 5.9 6.  6.1 6.2 6.3 6.4 6.5 6.6 6.7 6.8 6.9 7.  7.1 7.2 7.3 7.4\n",
      " 7.5 7.6 7.7 7.8 7.9 8.  8.1 8.2 8.3 8.4 8.5 8.6 8.7 8.8 8.9 9.  9.1 9.2\n",
      " 9.3 9.4 9.5 9.6 9.7 nan]\n",
      "user_score : кол-во NaN 8981 , процент NaN 54.62 %\n",
      "-------------------------\n",
      "rating ['AO' 'E' 'E10+' 'EC' 'K-A' 'M' 'Not specified' 'RP' 'T']\n",
      "rating : кол-во NaN 0 , процент NaN 0.0 %\n"
     ]
    }
   ],
   "source": [
    "temp = data.copy() \n",
    "list_c = ['name', 'platform', 'year_of_release', 'genre', 'critic_score', 'user_score', 'rating']\n",
    "print(temp.info())\n",
    "for col_l in list_c:\n",
    "  print('-'* 25)\n",
    "  print(col_l, temp[col_l].sort_values().unique())\n",
    "  print(col_l,': кол-во NaN',temp[col_l].isna().sum(),\n",
    "        ', процент NaN', round(temp[col_l].isna().sum()/len(temp)*100, 2),'%')"
   ]
  },
  {
   "cell_type": "markdown",
   "metadata": {},
   "source": [
    "## Анализ данных"
   ]
  },
  {
   "cell_type": "markdown",
   "metadata": {},
   "source": [
    "### Количество игр по годам"
   ]
  },
  {
   "cell_type": "code",
   "execution_count": 12,
   "metadata": {},
   "outputs": [
    {
     "data": {
      "image/png": "[encoded data removed]",
      "text/plain": [
       "<Figure size 1440x720 with 1 Axes>"
      ]
     },
     "metadata": {
      "needs_background": "light"
     },
     "output_type": "display_data"
    },
    {
     "name": "stdout",
     "output_type": "stream",
     "text": [
      "\n"
     ]
    },
    {
     "data": {
      "image/png": "[encoded data removed]",
      "text/plain": [
       "<Figure size 1440x216 with 1 Axes>"
      ]
     },
     "metadata": {
      "needs_background": "light"
     },
     "output_type": "display_data"
    }
   ],
   "source": [
    "data['year_of_release'].hist(bins=37, figsize=(20,10), xlabelsize =20, \n",
    "                          ylabelsize=20, facecolor='red', ec='black') \n",
    "\n",
    "plt.suptitle('')\n",
    "plt.xlabel('Год выпуска', fontsize=20)\n",
    "plt.ylabel('Количество', fontsize=20)\n",
    "plt.show()\n",
    "\n",
    "print()\n",
    "\n",
    "game_year_temp=data.boxplot('year_of_release', vert=False, figsize=(20,3), fontsize=20)\n",
    "game_year_temp.set_yticklabels([''])\n",
    "plt.xlabel('Год выпуска', fontsize=20)\n",
    "plt.show()"
   ]
  },
  {
   "cell_type": "code",
   "execution_count": 13,
   "metadata": {},
   "outputs": [],
   "source": [
    "data = data.query('year_of_release > 1992')"
   ]
  },
  {
   "cell_type": "markdown",
   "metadata": {},
   "source": [
    "Данные до 1993 года не так важны, т.к. игр выпускалось достаточно мало, к тому же - они подрастеряли свою актуальность. Удалил их для упрощения дальнейшей актуализации данных."
   ]
  },
  {
   "cell_type": "markdown",
   "metadata": {},
   "source": [
    "### Продажи по платформам"
   ]
  },
  {
   "cell_type": "markdown",
   "metadata": {},
   "source": [
    "Рассмотрим продажи игр на различных платформах, для этого применим гистограмму."
   ]
  },
  {
   "cell_type": "code",
   "execution_count": 15,
   "metadata": {},
   "outputs": [],
   "source": [
    "sales_per_plat=data.groupby('platform')['total_sales'].sum().sort_values(ascending=False).reset_index()"
   ]
  },
  {
   "cell_type": "code",
   "execution_count": 16,
   "metadata": {},
   "outputs": [
    {
     "name": "stdout",
     "output_type": "stream",
     "text": [
      "\n"
     ]
    },
    {
     "data": {
      "image/png": "[encoded data removed]",
      "text/plain": [
       "<Figure size 1080x720 with 1 Axes>"
      ]
     },
     "metadata": {
      "needs_background": "light"
     },
     "output_type": "display_data"
    }
   ],
   "source": [
    "top_sales_per_plat=sales_per_plat.iloc[0:10,0:10]\n",
    "ax=top_sales_per_plat.plot(x='platform', y='total_sales', kind='bar', figsize=(15, 10), rot=30, facecolor='red', ec='black')\n",
    "print()\n",
    "ax.get_legend().remove()\n",
    "plt.title('Продажи по платформам', size=20)\n",
    "plt.xlabel('Платформа')\n",
    "plt.ylabel('Всего продано, млн')\n",
    "plt.show()"
   ]
  },
  {
   "cell_type": "markdown",
   "metadata": {},
   "source": [
    "Заметил шесть лидеров по продажам за всё время."
   ]
  },
  {
   "cell_type": "code",
   "execution_count": 17,
   "metadata": {},
   "outputs": [
    {
     "data": {
      "text/plain": [
       "['PS2', 'X360', 'PS3', 'Wii', 'DS', 'PS', 'PS4', 'GBA', 'PSP', '3DS']"
      ]
     },
     "execution_count": 17,
     "metadata": {},
     "output_type": "execute_result"
    }
   ],
   "source": [
    "top_sales_per_plat=sales_per_plat.iloc[0:10,0:10]\n",
    "top_plat=top_sales_per_plat['platform'].tolist()\n",
    "top_plat"
   ]
  },
  {
   "cell_type": "markdown",
   "metadata": {},
   "source": [
    "Создал список платформ с наибольшими продажами."
   ]
  },
  {
   "cell_type": "code",
   "execution_count": 18,
   "metadata": {
    "scrolled": true
   },
   "outputs": [
    {
     "data": {
      "image/png": "[encoded data removed]",
      "text/plain": [
       "<Figure size 1440x1080 with 10 Axes>"
      ]
     },
     "metadata": {
      "needs_background": "light"
     },
     "output_type": "display_data"
    }
   ],
   "source": [
    "top_pl_sales=data.drop(data[data.year_of_release == 0].index)\n",
    "top_pl_sales=top_pl_sales.query('platform==@top_plat')\n",
    "top_pl_sales['platform']=top_pl_sales['platform'].astype('object')\n",
    "\n",
    "top_pl_sales_plot=top_pl_sales.groupby(['year_of_release','platform']).count()['total_sales'].reset_index()\n",
    "\n",
    "fig, axes = plt.subplots(nrows=5, ncols=2, sharex=True, sharey=True, figsize=(20,15))\n",
    "ax_list = [item for sublist in axes for item in sublist]\n",
    "\n",
    "for plat, a in top_pl_sales_plot.groupby('platform'):\n",
    "    ax = ax_list.pop(0)\n",
    "    a.plot(x='year_of_release', y='total_sales', ax=ax, legend=False)\n",
    "    ax.set_title(plat)\n",
    "    ax.grid(linewidth=0.7)\n",
    "    ax.set_xlabel(\"Год\")\n",
    "    ax.set_ylabel(\"Выпущенные игры, шт\")"
   ]
  },
  {
   "cell_type": "markdown",
   "metadata": {},
   "source": [
    "Построил графики по годам для платформ с наибольшими продажами (за всё время)."
   ]
  },
  {
   "cell_type": "code",
   "execution_count": 19,
   "metadata": {},
   "outputs": [
    {
     "data": {
      "text/plain": [
       "year_of_release    6.1\n",
       "dtype: float64"
      ]
     },
     "execution_count": 19,
     "metadata": {},
     "output_type": "execute_result"
    }
   ],
   "source": [
    "lifetime_min = data.pivot_table(index='platform', values='year_of_release', aggfunc=['min']).round(2)\n",
    "lifetime_max = data.pivot_table(index='platform', values='year_of_release', aggfunc=['max']).round(2)\n",
    "lifetime  = lifetime_max['max'] - lifetime_min['min']\n",
    "lifetime_mean = lifetime.sort_values('year_of_release', ascending=False).mean().round(1)\n",
    "lifetime_mean"
   ]
  },
  {
   "cell_type": "markdown",
   "metadata": {},
   "source": [
    "Можно заметить, что средний срок жизни платформы (период с ее появления на рынке - до исчезновения) равен приблизительно 6,7 годам. Эти данные можно использовать для дальнейших прогнозов."
   ]
  },
  {
   "cell_type": "markdown",
   "metadata": {},
   "source": [
    "По следующим платформам выпуск игр уже не ведется: <p>\n",
    " - DS\n",
    " - PS\n",
    " - PS2\n",
    " - GBA\n",
    "    \n",
    "Их дальнейшее использование в выборке нецелесообразно."
   ]
  },
  {
   "cell_type": "markdown",
   "metadata": {},
   "source": [
    "### Актуализация данных"
   ]
  },
  {
   "cell_type": "code",
   "execution_count": 20,
   "metadata": {},
   "outputs": [],
   "source": [
    "newdata = data[data['year_of_release'] > 2012]\n",
    "top=['X360', 'Wii', 'PS3', 'PS4', 'PSP', '3DS', 'PC', 'PSV', 'XOne']"
   ]
  },
  {
   "cell_type": "markdown",
   "metadata": {},
   "source": [
    "Создал таблицу на основании актуальных данных. <p>\n",
    "Также создал список платформ, данные о которых могут быть полезны в дальнейшем."
   ]
  },
  {
   "cell_type": "code",
   "execution_count": 21,
   "metadata": {},
   "outputs": [
    {
     "data": {
      "image/png": "[encoded data removed]",
      "text/plain": [
       "<Figure size 1440x720 with 1 Axes>"
      ]
     },
     "metadata": {
      "needs_background": "light"
     },
     "output_type": "display_data"
    }
   ],
   "source": [
    "sales_top=newdata.query('platform==@top').copy()\n",
    "\n",
    "fig, ax = plt.subplots(figsize=(20,10))\n",
    "sales_top.groupby(['year_of_release','platform']).count()['total_sales'].unstack().plot(ax=ax)\n",
    "plt.title('Количество выпущенных игр по платформам', size=20)\n",
    "plt.xlabel('Год', size=15)\n",
    "plt.ylabel('Выпущенные игры, шт', size=15)\n",
    "plt.show()"
   ]
  },
  {
   "cell_type": "markdown",
   "metadata": {},
   "source": [
    "Заметим, что положительную тенденцию по выпущенным играм показывают платформы PS4, X-Box One и PC. Как следствие - они являются потенциально прибыльными. <p>\n",
    " - PS4 как удачная платформа на графике демонстрирует сильный взлет на начальном этапе своего жизненного цикла.\n",
    " - X-Box One демонстрирует более быстрый спад в продажах, тем не менее тренд остается восходящим, так что данные об этой платформе актуальны для исследования.\n",
    " - PC демонстрирует медленный восходящий тренд, значит, точно не теряет своей актуальности и по сей день."
   ]
  },
  {
   "cell_type": "markdown",
   "metadata": {},
   "source": [
    "### Глобальные продажи видеоигр"
   ]
  },
  {
   "cell_type": "markdown",
   "metadata": {},
   "source": [
    "Строим график «ящик с усами» по глобальным продажам игр в разбивке по платформам."
   ]
  },
  {
   "cell_type": "code",
   "execution_count": 22,
   "metadata": {},
   "outputs": [
    {
     "data": {
      "text/plain": [
       "Text(9.924999999999997, 0.5, 'Продажи, млн')"
      ]
     },
     "execution_count": 22,
     "metadata": {},
     "output_type": "execute_result"
    },
    {
     "data": {
      "image/png": "[encoded data removed]",
      "text/plain": [
       "<Figure size 720x720 with 1 Axes>"
      ]
     },
     "metadata": {
      "needs_background": "light"
     },
     "output_type": "display_data"
    }
   ],
   "source": [
    "sns.catplot(x=\"platform\", y='total_sales', kind=\"box\", data=newdata, height=10, palette='Spectral')\n",
    "plt.title('Продажи')\n",
    "plt.xlabel('Платформа', size=15)\n",
    "plt.ylabel('Продажи, млн', size=15)"
   ]
  },
  {
   "cell_type": "markdown",
   "metadata": {},
   "source": [
    "На общем графике заметны выбросы в десятки миллионов проданных копий."
   ]
  },
  {
   "cell_type": "code",
   "execution_count": 23,
   "metadata": {},
   "outputs": [
    {
     "data": {
      "text/plain": [
       "(0.0, 2.5)"
      ]
     },
     "execution_count": 23,
     "metadata": {},
     "output_type": "execute_result"
    },
    {
     "data": {
      "image/png": "[encoded data removed]",
      "text/plain": [
       "<Figure size 720x720 with 1 Axes>"
      ]
     },
     "metadata": {
      "needs_background": "light"
     },
     "output_type": "display_data"
    }
   ],
   "source": [
    "sns.catplot(x=\"platform\", y='total_sales', kind=\"box\", data=newdata, height=10, palette='Spectral')\n",
    "\n",
    "plt.title('Продажи')\n",
    "plt.xlabel('Платформа', size=15)\n",
    "plt.ylabel('Продажи, млн', size=15)\n",
    "plt.ylim(0, 2.5)"
   ]
  },
  {
   "cell_type": "markdown",
   "metadata": {},
   "source": [
    "Медианные продажи у платформ, в основном колеблются на уровне ~200-300 тысяч.\n",
    "Также у многих платформ заметны выбросы, которые свидетельствуют об играх, проданных в количествах нескольких миллионов и даже десятков миллионов копий."
   ]
  },
  {
   "cell_type": "markdown",
   "metadata": {},
   "source": [
    "### Влияние отзывов критиков и пользователей на продажи"
   ]
  },
  {
   "cell_type": "markdown",
   "metadata": {},
   "source": [
    "#### Построим диаграмму рассеяния для PS4."
   ]
  },
  {
   "cell_type": "code",
   "execution_count": 24,
   "metadata": {},
   "outputs": [
    {
     "data": {
      "image/png": "[encoded data removed]",
      "text/plain": [
       "<Figure size 432x288 with 1 Axes>"
      ]
     },
     "metadata": {
      "needs_background": "light"
     },
     "output_type": "display_data"
    },
    {
     "name": "stdout",
     "output_type": "stream",
     "text": [
      "Коэффициент корелляции равен -0.01907507140454871\n"
     ]
    },
    {
     "data": {
      "image/png": "[encoded data removed]",
      "text/plain": [
       "<Figure size 432x288 with 1 Axes>"
      ]
     },
     "metadata": {
      "needs_background": "light"
     },
     "output_type": "display_data"
    },
    {
     "name": "stdout",
     "output_type": "stream",
     "text": [
      "Коэффициент корелляции равен 0.4225256118664904\n"
     ]
    }
   ],
   "source": [
    "ps4_scores = newdata.query('platform == \"PS4\"').groupby(['user_score', 'critic_score']).agg({'total_sales':'sum'}).reset_index()\n",
    "\n",
    "ps4_scores.plot(kind='scatter', x='user_score', y='total_sales', alpha=0.4)\n",
    "\n",
    "plt.xlabel('Оценка пользователей')\n",
    "plt.ylabel('Продажи, млн')\n",
    "plt.show()\n",
    "\n",
    "print('Коэффициент корелляции равен '  + ps4_scores['user_score'].corr(ps4_scores['total_sales']).astype('str'))\n",
    "\n",
    "\n",
    "ps4_scores.plot(kind='scatter', x='critic_score', y='total_sales', alpha=0.4)\n",
    "\n",
    "plt.xlabel('Оценка критиков')\n",
    "plt.ylabel('Продажи, млн')\n",
    "plt.show()\n",
    "\n",
    "print('Коэффициент корелляции равен ' + ps4_scores['critic_score'].corr(ps4_scores['total_sales']).astype('str'))"
   ]
  },
  {
   "cell_type": "markdown",
   "metadata": {},
   "source": [
    "Корелляция между продажами игр для PS4 и оценками пользователей - очень слабая отрицательная. В случае с оценкой критиков - слабая, приближена к средней.\n",
    "Вероятно, пользователи мало руководствуются отзывами при покупке игры."
   ]
  },
  {
   "cell_type": "markdown",
   "metadata": {},
   "source": [
    "#### Построим диаграмму рассеяния для PC."
   ]
  },
  {
   "cell_type": "code",
   "execution_count": 25,
   "metadata": {},
   "outputs": [
    {
     "data": {
      "image/png": "[encoded data removed]",
      "text/plain": [
       "<Figure size 432x288 with 1 Axes>"
      ]
     },
     "metadata": {
      "needs_background": "light"
     },
     "output_type": "display_data"
    },
    {
     "name": "stdout",
     "output_type": "stream",
     "text": [
      "Коэффициент корелляции равен -0.09798668565979597\n"
     ]
    },
    {
     "data": {
      "image/png": "[encoded data removed]",
      "text/plain": [
       "<Figure size 432x288 with 1 Axes>"
      ]
     },
     "metadata": {
      "needs_background": "light"
     },
     "output_type": "display_data"
    },
    {
     "name": "stdout",
     "output_type": "stream",
     "text": [
      "Коэффициент корелляции равен 0.19632308195665055\n"
     ]
    }
   ],
   "source": [
    "pc_scores = newdata.query('platform == \"PC\"').groupby(['user_score', 'critic_score']).agg({'total_sales':'sum'}).reset_index()\n",
    "\n",
    "pc_scores.plot(kind='scatter', x='user_score', y='total_sales', alpha=0.3)\n",
    "\n",
    "plt.xlabel('Оценка пользователей')\n",
    "plt.ylabel('Продажи, млн')\n",
    "plt.show()\n",
    "\n",
    "print('Коэффициент корелляции равен '  + pc_scores['user_score'].corr(pc_scores['total_sales']).astype('str'))\n",
    "\n",
    "\n",
    "pc_scores.plot(kind='scatter', x='critic_score', y='total_sales', alpha=0.3)\n",
    "\n",
    "plt.xlabel('Оценка критиков')\n",
    "plt.ylabel('Продажи, млн')\n",
    "plt.show()\n",
    "\n",
    "print('Коэффициент корелляции равен ' + pc_scores['critic_score'].corr(pc_scores['total_sales']).astype('str'))"
   ]
  },
  {
   "cell_type": "markdown",
   "metadata": {},
   "source": [
    "Корелляция между продажами и отзывами в случае с оценкой пользователей - очень слабая, в случае с оценкой критиков - очень слабая."
   ]
  },
  {
   "cell_type": "markdown",
   "metadata": {},
   "source": [
    "#### Построим диаграмму рассеяния для X-Box One."
   ]
  },
  {
   "cell_type": "code",
   "execution_count": 26,
   "metadata": {},
   "outputs": [
    {
     "data": {
      "image/png": "[encoded data removed]",
      "text/plain": [
       "<Figure size 432x288 with 1 Axes>"
      ]
     },
     "metadata": {
      "needs_background": "light"
     },
     "output_type": "display_data"
    },
    {
     "name": "stdout",
     "output_type": "stream",
     "text": [
      "Коэффициент корелляции равен -0.06890877476322112\n"
     ]
    },
    {
     "data": {
      "image/png": "[encoded data removed]",
      "text/plain": [
       "<Figure size 432x288 with 1 Axes>"
      ]
     },
     "metadata": {
      "needs_background": "light"
     },
     "output_type": "display_data"
    },
    {
     "name": "stdout",
     "output_type": "stream",
     "text": [
      "Коэффициент корелляции равен 0.4206863033258797\n"
     ]
    }
   ],
   "source": [
    "xone_scores = newdata.query('platform == \"XOne\"').groupby(['user_score', 'critic_score']).agg({'total_sales':'sum'}).reset_index()\n",
    "\n",
    "xone_scores.plot(kind='scatter', x='user_score', y='total_sales', alpha=0.3)\n",
    "\n",
    "plt.xlabel('Оценка пользователей')\n",
    "plt.ylabel('Продажи, млн')\n",
    "plt.show()\n",
    "\n",
    "print('Коэффициент корелляции равен '  + xone_scores['user_score'].corr(xone_scores['total_sales']).astype('str'))\n",
    "\n",
    "\n",
    "xone_scores.plot(kind='scatter', x='critic_score', y='total_sales', alpha=0.3)\n",
    "\n",
    "plt.xlabel('Оценка критиков')\n",
    "plt.ylabel('Продажи, млн')\n",
    "plt.show()\n",
    "\n",
    "print('Коэффициент корелляции равен ' + xone_scores['critic_score'].corr(xone_scores['total_sales']).astype('str'))"
   ]
  },
  {
   "cell_type": "markdown",
   "metadata": {},
   "source": [
    "Корелляция между продажами и отзывами в случае с оценкой пользователей - очень слабая отрицательная, в случае с оценкой критиков - слабая, приближена к средней."
   ]
  },
  {
   "cell_type": "markdown",
   "metadata": {},
   "source": [
    "Вывод: На каждой из представленных платформ корелляция продаж с оценками пользователей очень слабая, а взаимосвязь продаж с оценками критиков - варьируется от очень слабой до приближенной к средней (слабой)."
   ]
  },
  {
   "cell_type": "markdown",
   "metadata": {},
   "source": [
    "### Распределение игр по жанрам"
   ]
  },
  {
   "cell_type": "markdown",
   "metadata": {},
   "source": [
    "Сгруппируем данные и построим столбчатую диаграмму для сравнения продаж в разбивке по жанрам."
   ]
  },
  {
   "cell_type": "code",
   "execution_count": 27,
   "metadata": {},
   "outputs": [],
   "source": [
    "genre_group = newdata.groupby('genre')['total_sales'].sum().sort_values(ascending=False).reset_index()"
   ]
  },
  {
   "cell_type": "code",
   "execution_count": 28,
   "metadata": {},
   "outputs": [
    {
     "data": {
      "text/html": [
       "<div>\n",
       "<style scoped>\n",
       "    .dataframe tbody tr th:only-of-type {\n",
       "        vertical-align: middle;\n",
       "    }\n",
       "\n",
       "    .dataframe tbody tr th {\n",
       "        vertical-align: top;\n",
       "    }\n",
       "\n",
       "    .dataframe thead th {\n",
       "        text-align: right;\n",
       "    }\n",
       "</style>\n",
       "<table border=\"1\" class=\"dataframe\">\n",
       "  <thead>\n",
       "    <tr style=\"text-align: right;\">\n",
       "      <th></th>\n",
       "      <th>genre</th>\n",
       "      <th>total_sales</th>\n",
       "    </tr>\n",
       "  </thead>\n",
       "  <tbody>\n",
       "    <tr>\n",
       "      <th>0</th>\n",
       "      <td>Action</td>\n",
       "      <td>321.87</td>\n",
       "    </tr>\n",
       "    <tr>\n",
       "      <th>1</th>\n",
       "      <td>Shooter</td>\n",
       "      <td>232.98</td>\n",
       "    </tr>\n",
       "    <tr>\n",
       "      <th>2</th>\n",
       "      <td>Sports</td>\n",
       "      <td>150.65</td>\n",
       "    </tr>\n",
       "    <tr>\n",
       "      <th>3</th>\n",
       "      <td>Role-Playing</td>\n",
       "      <td>145.89</td>\n",
       "    </tr>\n",
       "    <tr>\n",
       "      <th>4</th>\n",
       "      <td>Misc</td>\n",
       "      <td>62.82</td>\n",
       "    </tr>\n",
       "    <tr>\n",
       "      <th>5</th>\n",
       "      <td>Platform</td>\n",
       "      <td>42.63</td>\n",
       "    </tr>\n",
       "    <tr>\n",
       "      <th>6</th>\n",
       "      <td>Racing</td>\n",
       "      <td>39.89</td>\n",
       "    </tr>\n",
       "    <tr>\n",
       "      <th>7</th>\n",
       "      <td>Fighting</td>\n",
       "      <td>35.31</td>\n",
       "    </tr>\n",
       "    <tr>\n",
       "      <th>8</th>\n",
       "      <td>Adventure</td>\n",
       "      <td>23.64</td>\n",
       "    </tr>\n",
       "    <tr>\n",
       "      <th>9</th>\n",
       "      <td>Simulation</td>\n",
       "      <td>21.76</td>\n",
       "    </tr>\n",
       "    <tr>\n",
       "      <th>10</th>\n",
       "      <td>Strategy</td>\n",
       "      <td>10.08</td>\n",
       "    </tr>\n",
       "    <tr>\n",
       "      <th>11</th>\n",
       "      <td>Puzzle</td>\n",
       "      <td>3.17</td>\n",
       "    </tr>\n",
       "  </tbody>\n",
       "</table>\n",
       "</div>"
      ],
      "text/plain": [
       "           genre  total_sales\n",
       "0         Action       321.87\n",
       "1        Shooter       232.98\n",
       "2         Sports       150.65\n",
       "3   Role-Playing       145.89\n",
       "4           Misc        62.82\n",
       "5       Platform        42.63\n",
       "6         Racing        39.89\n",
       "7       Fighting        35.31\n",
       "8      Adventure        23.64\n",
       "9     Simulation        21.76\n",
       "10      Strategy        10.08\n",
       "11        Puzzle         3.17"
      ]
     },
     "execution_count": 28,
     "metadata": {},
     "output_type": "execute_result"
    },
    {
     "data": {
      "image/png": "[encoded data removed]",
      "text/plain": [
       "<Figure size 1080x504 with 1 Axes>"
      ]
     },
     "metadata": {
      "needs_background": "light"
     },
     "output_type": "display_data"
    }
   ],
   "source": [
    "plt.figure(figsize=(15, 7))\n",
    "sns.barplot(data=genre_group, x='genre',  y='total_sales', palette=\"Spectral\")\n",
    "plt.xlabel('Жанр', size=15)\n",
    "plt.ylabel('Продажи, млн', size=15)\n",
    "\n",
    "genre_group"
   ]
  },
  {
   "cell_type": "code",
   "execution_count": 29,
   "metadata": {
    "scrolled": true
   },
   "outputs": [
    {
     "data": {
      "text/plain": [
       "(1090.69, 3203.0600000000004, 65.95)"
      ]
     },
     "execution_count": 29,
     "metadata": {},
     "output_type": "execute_result"
    }
   ],
   "source": [
    "temp1, temp2 = newdata.total_sales.sum(), data[data['year_of_release'] > 2008].total_sales.sum()\n",
    "temp1, temp2, round((temp2-temp1)/temp2*100, 2)"
   ]
  },
  {
   "cell_type": "code",
   "execution_count": 30,
   "metadata": {},
   "outputs": [
    {
     "data": {
      "text/plain": [
       "(0.0, 2.0)"
      ]
     },
     "execution_count": 30,
     "metadata": {},
     "output_type": "execute_result"
    },
    {
     "data": {
      "image/png": "[encoded data removed]",
      "text/plain": [
       "<Figure size 720x720 with 1 Axes>"
      ]
     },
     "metadata": {
      "needs_background": "light"
     },
     "output_type": "display_data"
    }
   ],
   "source": [
    "sns.catplot(x=\"genre\", y='total_sales', kind=\"box\", data=newdata, height=10, palette='Spectral')\n",
    "\n",
    "plt.title('Сравнение медианных продаж по жанрам', size=20)\n",
    "plt.xlabel('Жанр', size=15)\n",
    "plt.ylabel('Продажи, млн', size=15)\n",
    "plt.ylim(0, 2)"
   ]
  },
  {
   "cell_type": "markdown",
   "metadata": {},
   "source": [
    "Вывод: При сравнении медиан продаж игр различных жанров, можно заметить, что (при исключении выбросов в десятки миллионов продаж) лучше всего на протяжении последних лет продавались игры жанра Shooter (с медианой ~400 тыс. продаж) почти с двухкратным преимуществом перед играми жанра Sports и Platform. <p>\n",
    "Игры самого непопулярного жанра Adventure, для сравнения, продались объемом всего в ~30 тысяч копий. "
   ]
  },
  {
   "cell_type": "markdown",
   "metadata": {},
   "source": [
    "### Портрет пользователя для различных регионов"
   ]
  },
  {
   "cell_type": "markdown",
   "metadata": {},
   "source": [
    "Для удобства, составил круговые диаграммы по популярности платформ."
   ]
  },
  {
   "cell_type": "markdown",
   "metadata": {},
   "source": [
    "#### Самые популярные платформы"
   ]
  },
  {
   "cell_type": "code",
   "execution_count": 32,
   "metadata": {},
   "outputs": [
    {
     "data": {
      "text/plain": [
       "[Text(0, 0.5, '')]"
      ]
     },
     "execution_count": 32,
     "metadata": {},
     "output_type": "execute_result"
    },
    {
     "data": {
      "image/png": "[encoded data removed]",
      "text/plain": [
       "<Figure size 360x360 with 1 Axes>"
      ]
     },
     "metadata": {},
     "output_type": "display_data"
    },
    {
     "data": {
      "image/png": "[encoded data removed]",
      "text/plain": [
       "<Figure size 360x360 with 1 Axes>"
      ]
     },
     "metadata": {},
     "output_type": "display_data"
    },
    {
     "data": {
      "image/png": "[encoded data removed]",
      "text/plain": [
       "<Figure size 360x360 with 1 Axes>"
      ]
     },
     "metadata": {},
     "output_type": "display_data"
    }
   ],
   "source": [
    "na_sales = newdata.pivot_table(index='platform', values='na_sales', aggfunc='sum').nlargest(5, 'na_sales')\n",
    "na_sales.columns = ['na_sales']\n",
    "na_sales.plot(kind='pie',y=\"na_sales\", autopct='%1.0f%%', legend=False, title=\"Самые популярные платформы в США\", figsize=(5, 5)).set(ylabel='')\n",
    "\n",
    "eu_sales = newdata.pivot_table(index='platform', values='eu_sales', aggfunc='sum').nlargest(5, 'eu_sales')\n",
    "eu_sales.columns = ['eu_sales']\n",
    "eu_sales.plot(kind='pie',y=\"eu_sales\", autopct='%1.0f%%', legend=False, title=\"Самые популярные платформы в Европе\", figsize=(5, 5)).set(ylabel='')\n",
    "\n",
    "jp_sales = newdata.pivot_table(index='platform', values='jp_sales', aggfunc='sum').nlargest(5, 'jp_sales')\n",
    "jp_sales.columns = ['jp_sales']\n",
    "jp_sales.plot(kind='pie',y=\"jp_sales\", autopct='%1.0f%%', legend=False, title=\"Самые популярные платформы в Японии\", figsize=(5, 5)).set(ylabel='')"
   ]
  },
  {
   "cell_type": "markdown",
   "metadata": {},
   "source": [
    "Наиболее популярная платформа в США и Европе - PS4, в Японии - 3DS. <p>\n",
    "PS4 также входит в тройку самых популярных платформ Японии."
   ]
  },
  {
   "cell_type": "markdown",
   "metadata": {},
   "source": [
    "#### Самые популярные жанры"
   ]
  },
  {
   "cell_type": "code",
   "execution_count": 34,
   "metadata": {},
   "outputs": [
    {
     "data": {
      "text/plain": [
       "[Text(0, 0.5, '')]"
      ]
     },
     "execution_count": 34,
     "metadata": {},
     "output_type": "execute_result"
    },
    {
     "data": {
      "image/png": "[encoded data removed]",
      "text/plain": [
       "<Figure size 360x360 with 1 Axes>"
      ]
     },
     "metadata": {},
     "output_type": "display_data"
    },
    {
     "data": {
      "image/png": "[encoded data removed]",
      "text/plain": [
       "<Figure size 360x360 with 1 Axes>"
      ]
     },
     "metadata": {},
     "output_type": "display_data"
    },
    {
     "data": {
      "image/png": "[encoded data removed]",
      "text/plain": [
       "<Figure size 360x360 with 1 Axes>"
      ]
     },
     "metadata": {},
     "output_type": "display_data"
    }
   ],
   "source": [
    "na_genres = newdata.pivot_table(index='genre', values='na_sales', aggfunc='sum').nlargest(5, 'na_sales')\n",
    "na_genres.columns = ['na_sales']\n",
    "na_genres.plot(kind='pie',y=\"na_sales\", autopct='%1.0f%%', legend=False, title=\"Самые популярные жанры в США\", figsize=(5, 5)).set(ylabel='')\n",
    "\n",
    "eu_genres = newdata.pivot_table(index='genre', values='eu_sales', aggfunc='sum').nlargest(5, 'eu_sales')\n",
    "eu_genres.columns = ['eu_sales']\n",
    "eu_genres.plot(kind='pie',y=\"eu_sales\", autopct='%1.0f%%', legend=False, title=\"Самые популярные жанры в Европе\", figsize=(5, 5)).set(ylabel='')\n",
    "\n",
    "jp_genres = newdata.pivot_table(index='genre', values='jp_sales', aggfunc='sum').nlargest(5, 'jp_sales')\n",
    "jp_genres.columns = ['jp_sales']\n",
    "jp_genres.plot(kind='pie',y=\"jp_sales\", autopct='%1.0f%%', legend=False, title=\"Самые популярные жанры в Японии\", figsize=(5, 5)).set(ylabel='')"
   ]
  },
  {
   "cell_type": "code",
   "execution_count": 40,
   "metadata": {},
   "outputs": [
    {
     "data": {
      "image/png": "[encoded data removed]",
      "text/plain": [
       "<Figure size 1080x360 with 3 Axes>"
      ]
     },
     "metadata": {},
     "output_type": "display_data"
    }
   ],
   "source": [
    "games_fresh = newdata.copy()\n",
    "countries = games_fresh.columns[4:7]\n",
    "\n",
    "fig, axs = plt.subplots(1, 3, figsize=(15, 5))\n",
    "fig.suptitle('ТОП-5 жанров в регионах')\n",
    "for i in range(3):\n",
    "\n",
    "  df_i = (games_fresh.groupby('genre')[countries[i]].sum().\n",
    "             reset_index().\n",
    "             sort_values(countries[i], ascending = False, ignore_index = True).\n",
    "             head(5))\n",
    "\n",
    "  df_i = df_i.append({'genre': 'Other_genre', countries[i]: games_fresh[countries[i]].sum() - df_i[countries[i]].sum()}, ignore_index= True)\n",
    "  \n",
    "  axs[i].pie(df_i[countries[i]], labels = df_i['genre'], autopct='%1.1f%%')\n",
    "  axs[i].set_title(df_i.columns[1].split('_')[0].upper())\n",
    "plt.show()"
   ]
  },
  {
   "cell_type": "markdown",
   "metadata": {},
   "source": [
    "Наиболее предпочтитаемый игровой жанр в Европе и США - Action. Как можно заметить - рынки интересов к различным жанрам в данных регионах практически идентичны.\n",
    "В Японии предпочтение отдается жанру RPG, Action же занимает второе место."
   ]
  },
  {
   "cell_type": "markdown",
   "metadata": {},
   "source": [
    "#### Зависимость продаж от рейтинга"
   ]
  },
  {
   "cell_type": "code",
   "execution_count": 35,
   "metadata": {
    "scrolled": true
   },
   "outputs": [
    {
     "data": {
      "text/plain": [
       "[Text(0, 0.5, '')]"
      ]
     },
     "execution_count": 35,
     "metadata": {},
     "output_type": "execute_result"
    },
    {
     "data": {
      "image/png": "[encoded data removed]",
      "text/plain": [
       "<Figure size 360x360 with 1 Axes>"
      ]
     },
     "metadata": {},
     "output_type": "display_data"
    },
    {
     "data": {
      "image/png": "[encoded data removed]",
      "text/plain": [
       "<Figure size 360x360 with 1 Axes>"
      ]
     },
     "metadata": {},
     "output_type": "display_data"
    },
    {
     "data": {
      "image/png": "[encoded data removed]",
      "text/plain": [
       "<Figure size 360x360 with 1 Axes>"
      ]
     },
     "metadata": {},
     "output_type": "display_data"
    }
   ],
   "source": [
    "na_genres = newdata.pivot_table(index='rating', values='na_sales', aggfunc='sum').nlargest(5, 'na_sales')\n",
    "na_genres.columns = ['na_sales']\n",
    "na_genres.plot(kind='pie',y=\"na_sales\", autopct='%1.0f%%', legend=False, title=\" Зависимость продаж от рейтинга в США\", figsize=(5, 5)).set(ylabel='')\n",
    "\n",
    "eu_genres = newdata.pivot_table(index='rating', values='eu_sales', aggfunc='sum').nlargest(5, 'eu_sales')\n",
    "eu_genres.columns = ['eu_sales']\n",
    "eu_genres.plot(kind='pie',y=\"eu_sales\", autopct='%1.0f%%', legend=False, title=\" Зависимость продаж от рейтинга в Европе\", figsize=(5, 5)).set(ylabel='')\n",
    "\n",
    "jp_genres = newdata.pivot_table(index='rating', values='jp_sales', aggfunc='sum').nlargest(5, 'jp_sales')\n",
    "jp_genres.columns = ['jp_sales']\n",
    "jp_genres.plot(kind='pie',y=\"jp_sales\", autopct='%1.0f%%', legend=False, title=\" Зависимость продаж от рейтинга в Японии\", figsize=(5, 5)).set(ylabel='')"
   ]
  },
  {
   "cell_type": "markdown",
   "metadata": {},
   "source": [
    "В рамках игрового сегмента, рейтинг которого определен по стандартам ESRB, лидирующую позицию среди возрастных рейтингов в Европе и США занимает М (Mature) - занимающий немалый сегмент в рамках самой популярной игровой категории. В Японии среди фаворитов - рейтинг T (Игры для детей старше 13 лет)."
   ]
  },
  {
   "cell_type": "markdown",
   "metadata": {},
   "source": [
    "В результате анализа данных, были выявлены следующие портреты пользователей из различных регионов: <p>\n",
    " - США - играет в Action-игры с рейтингом M на платформе PS4.\n",
    " - Европа - играет в Action-игры с рейтингом M на платформе PS4.\n",
    " - Япония - играет в RPG-игры с рейтингом T на платформе 3DS."
   ]
  },
  {
   "cell_type": "markdown",
   "metadata": {},
   "source": [
    "## Гипотезы\n",
    "### Средние пользовательские рейтинги платформ Xbox One и PC одинаковые"
   ]
  },
  {
   "cell_type": "markdown",
   "metadata": {},
   "source": [
    "Нулевая гипотеза: Средние пользовательские рейтинги платформ Xbox One и PC одинаковые <p>\n",
    "Альтернативная гипотеза: Средние пользовательские рейтинги платформ Xbox One и PC разные <p>"
   ]
  },
  {
   "cell_type": "code",
   "execution_count": 36,
   "metadata": {},
   "outputs": [
    {
     "name": "stdout",
     "output_type": "stream",
     "text": [
      "p-значение: 0.14012658403611647\n",
      "Не получилось отвергнуть нулевую гипотезу\n"
     ]
    }
   ],
   "source": [
    "pc_score = newdata.query('platform == \"PC\" & user_score > 0')['user_score']\n",
    "\n",
    "xbox_score = newdata.query('platform == \"XOne\" & user_score > 0')['user_score']\n",
    "\n",
    "alpha = 0.05\n",
    "results  = st.ttest_ind(pc_score, xbox_score)\n",
    "\n",
    "print('p-значение:', results.pvalue)\n",
    "\n",
    "if (results.pvalue < alpha):\n",
    "    print(\"Отвергаем нулевую гипотезу\")\n",
    "else:\n",
    "    print(\"Не получилось отвергнуть нулевую гипотезу\")"
   ]
  },
  {
   "cell_type": "markdown",
   "metadata": {},
   "source": [
    "Была заложена вероятность ошибки в 5%, т.к. данные в таблице неполны. Большая вероятность отвергнуть гипотезу по ошибке."
   ]
  },
  {
   "cell_type": "code",
   "execution_count": 37,
   "metadata": {},
   "outputs": [
    {
     "data": {
      "text/plain": [
       "6.2696774193548395"
      ]
     },
     "metadata": {},
     "output_type": "display_data"
    },
    {
     "data": {
      "text/plain": [
       "6.521428571428572"
      ]
     },
     "metadata": {},
     "output_type": "display_data"
    }
   ],
   "source": [
    "display(pc_score.mean(), xbox_score.mean())"
   ]
  },
  {
   "cell_type": "markdown",
   "metadata": {},
   "source": [
    "Нулевая гипотеза (средние рейтинги Xbox One и PC одинаковые) оказалась верной. <p>\n",
    "В следствие проверки гипотезы, было выявлено, что средние пользовательские рейтинги платформ Xbox One и PC одинаковые (близки по значению)."
   ]
  },
  {
   "cell_type": "markdown",
   "metadata": {},
   "source": [
    "### Средние пользовательские рейтинги жанров Action и Sports - разные"
   ]
  },
  {
   "cell_type": "code",
   "execution_count": 38,
   "metadata": {},
   "outputs": [
    {
     "name": "stdout",
     "output_type": "stream",
     "text": [
      "p-значение: 1.0517832389140023e-27\n",
      "Отвергаем нулевую гипотезу\n"
     ]
    }
   ],
   "source": [
    "action_score = newdata.query('genre == \"Action\" & user_score > 0')['user_score']\n",
    "\n",
    "sports_score = newdata.query('genre == \"Sports\" & user_score > 0')['user_score']\n",
    "\n",
    "alpha = 0.05\n",
    "results  = st.ttest_ind(action_score, sports_score)\n",
    "\n",
    "print('p-значение:', results.pvalue)\n",
    "\n",
    "if (results.pvalue < alpha):\n",
    "    print(\"Отвергаем нулевую гипотезу\")\n",
    "else:\n",
    "    print(\"Не получилось отвергнуть нулевую гипотезу\")"
   ]
  },
  {
   "cell_type": "markdown",
   "metadata": {},
   "source": [
    "Была заложена вероятность ошибки в 5%, т.к. данные в таблице неполны. Большая вероятность отвергнуть гипотезу по ошибке."
   ]
  },
  {
   "cell_type": "code",
   "execution_count": 39,
   "metadata": {},
   "outputs": [
    {
     "data": {
      "text/plain": [
       "6.837532133676092"
      ]
     },
     "metadata": {},
     "output_type": "display_data"
    },
    {
     "data": {
      "text/plain": [
       "5.238124999999999"
      ]
     },
     "metadata": {},
     "output_type": "display_data"
    }
   ],
   "source": [
    "display(action_score.mean(), sports_score.mean())"
   ]
  },
  {
   "cell_type": "markdown",
   "metadata": {},
   "source": [
    "Нулевая гипотеза (средние рейтинги жанров Action и Sports одинаковые) оказалась ложной, верной оказалась альтернативная (средние рейтинги разные). <p>\n",
    "В следствие проверки гипотезы, было выявлено, что средние пользовательские рейтинги жанров Action и Sports различаются."
   ]
  },
  {
   "cell_type": "markdown",
   "metadata": {},
   "source": [
    "# Общий вывод"
   ]
  },
  {
   "cell_type": "markdown",
   "metadata": {},
   "source": [
    "- Для создания максимально правильной компании на 2017 год, следует ориентироваться на платформы PS4 и XBox-One.\n",
    "- Игры жанра Action с большой вероятностью принесут выгоду интернет-магазину, а шутеры - успешно дополнят арсенал. Данные два жанра охватывают более 50% ЦА в Европе и США. При построении рекламной кампании следует сфокусироваться именно на этих жанрах.\n",
    "- Для японского рынка - оптимальными вариантами для продаж станут RPG и Action-игры рейтинга эквивалентного T по системе ESRB.\n",
    "- Рейтинг M у видеоигры также может принести новые продажи в Европе и Америке. Как правило, в комбинации с вышеуказанными жанрами такой рейтинг предполагает реализм, что, вероятно, и нравится современным игрокам.\n",
    "- На отзывы об играх внимание обращать не стоит, т.к. между продажами и отзывами критиков корелляция слабая, а между продажами и отзывами игроков - очень слабая. <p>\n",
    "    \n",
    "- Если же максимально сузить выборку то я рекомендовал бы потратить средства на продвижение игр жанра Action с рейтингом M. Даже при условии незначительной популярности в Японии, такая игра с огромной вероятностью захватит рынки Европы и Америки."
   ]
  }
 ],
 "metadata": {
  "ExecuteTimeLog": [
   {
    "duration": 404,
    "start_time": "2022-10-31T12:25:07.532Z"
   },
   {
    "duration": 74,
    "start_time": "2022-10-31T12:25:16.134Z"
   },
   {
    "duration": 172,
    "start_time": "2022-10-31T12:36:06.526Z"
   },
   {
    "duration": 82,
    "start_time": "2022-10-31T12:36:17.365Z"
   },
   {
    "duration": 57,
    "start_time": "2022-10-31T12:36:34.153Z"
   },
   {
    "duration": 74,
    "start_time": "2022-10-31T12:36:45.833Z"
   },
   {
    "duration": 90,
    "start_time": "2022-10-31T12:49:47.245Z"
   },
   {
    "duration": 12,
    "start_time": "2022-10-31T12:50:06.659Z"
   },
   {
    "duration": 24,
    "start_time": "2022-10-31T12:50:15.343Z"
   },
   {
    "duration": 72,
    "start_time": "2022-10-31T12:50:22.692Z"
   },
   {
    "duration": 19,
    "start_time": "2022-10-31T12:51:28.841Z"
   },
   {
    "duration": 3,
    "start_time": "2022-10-31T12:58:54.913Z"
   },
   {
    "duration": 20,
    "start_time": "2022-10-31T12:59:01.746Z"
   },
   {
    "duration": 8,
    "start_time": "2022-10-31T20:05:50.073Z"
   },
   {
    "duration": 7,
    "start_time": "2022-10-31T20:06:01.235Z"
   },
   {
    "duration": 13,
    "start_time": "2022-10-31T20:06:37.157Z"
   },
   {
    "duration": 4,
    "start_time": "2022-10-31T20:06:56.910Z"
   },
   {
    "duration": 8,
    "start_time": "2022-10-31T20:07:04.852Z"
   },
   {
    "duration": 13,
    "start_time": "2022-10-31T20:09:41.620Z"
   },
   {
    "duration": 15,
    "start_time": "2022-10-31T20:09:46.891Z"
   },
   {
    "duration": 19,
    "start_time": "2022-10-31T20:09:55.971Z"
   },
   {
    "duration": 42,
    "start_time": "2022-10-31T20:10:20.373Z"
   },
   {
    "duration": 0,
    "start_time": "2022-10-31T20:10:20.417Z"
   },
   {
    "duration": 391,
    "start_time": "2022-10-31T20:10:34.297Z"
   },
   {
    "duration": 61,
    "start_time": "2022-10-31T20:10:34.690Z"
   },
   {
    "duration": 91,
    "start_time": "2022-10-31T20:10:35.008Z"
   },
   {
    "duration": 20,
    "start_time": "2022-10-31T20:10:39.767Z"
   },
   {
    "duration": 3,
    "start_time": "2022-10-31T20:10:42.326Z"
   },
   {
    "duration": 10,
    "start_time": "2022-10-31T20:10:49.163Z"
   },
   {
    "duration": 28,
    "start_time": "2022-10-31T20:12:01.106Z"
   },
   {
    "duration": 763,
    "start_time": "2022-10-31T20:12:07.456Z"
   },
   {
    "duration": 391,
    "start_time": "2022-10-31T20:12:26.597Z"
   },
   {
    "duration": 64,
    "start_time": "2022-10-31T20:12:26.990Z"
   },
   {
    "duration": 81,
    "start_time": "2022-10-31T20:12:27.056Z"
   },
   {
    "duration": 17,
    "start_time": "2022-10-31T20:12:27.139Z"
   },
   {
    "duration": 3,
    "start_time": "2022-10-31T20:12:27.158Z"
   },
   {
    "duration": 900,
    "start_time": "2022-10-31T20:12:33.173Z"
   },
   {
    "duration": 8,
    "start_time": "2022-10-31T20:12:50.756Z"
   },
   {
    "duration": 576,
    "start_time": "2022-10-31T20:13:37.795Z"
   },
   {
    "duration": 834,
    "start_time": "2022-10-31T20:13:59.267Z"
   },
   {
    "duration": 20,
    "start_time": "2022-10-31T20:15:47.977Z"
   },
   {
    "duration": 1781,
    "start_time": "2022-10-31T20:16:48.872Z"
   },
   {
    "duration": 12,
    "start_time": "2022-10-31T20:17:02.005Z"
   },
   {
    "duration": 7,
    "start_time": "2022-10-31T20:23:30.854Z"
   },
   {
    "duration": 7,
    "start_time": "2022-10-31T20:25:19.764Z"
   },
   {
    "duration": 8,
    "start_time": "2022-10-31T20:25:30.191Z"
   },
   {
    "duration": 42,
    "start_time": "2022-10-31T20:27:13.711Z"
   },
   {
    "duration": 17,
    "start_time": "2022-10-31T20:28:21.640Z"
   },
   {
    "duration": 29,
    "start_time": "2022-10-31T20:28:29.340Z"
   },
   {
    "duration": 19,
    "start_time": "2022-10-31T20:28:57.906Z"
   },
   {
    "duration": 22,
    "start_time": "2022-10-31T20:29:04.606Z"
   },
   {
    "duration": 21,
    "start_time": "2022-10-31T20:29:20.509Z"
   },
   {
    "duration": 28,
    "start_time": "2022-10-31T20:29:33.013Z"
   },
   {
    "duration": 23,
    "start_time": "2022-10-31T20:29:58.390Z"
   },
   {
    "duration": 298,
    "start_time": "2022-10-31T20:30:20.458Z"
   },
   {
    "duration": 16,
    "start_time": "2022-10-31T20:30:35.044Z"
   },
   {
    "duration": 348,
    "start_time": "2022-10-31T20:30:39.094Z"
   },
   {
    "duration": 17,
    "start_time": "2022-10-31T20:32:35.020Z"
   },
   {
    "duration": 25,
    "start_time": "2022-10-31T20:32:47.973Z"
   },
   {
    "duration": 35,
    "start_time": "2022-10-31T20:32:52.004Z"
   },
   {
    "duration": 15,
    "start_time": "2022-10-31T20:33:13.478Z"
   },
   {
    "duration": 37,
    "start_time": "2022-10-31T20:33:39.719Z"
   },
   {
    "duration": 18,
    "start_time": "2022-10-31T20:34:06.526Z"
   },
   {
    "duration": 21,
    "start_time": "2022-10-31T20:34:23.664Z"
   },
   {
    "duration": 25,
    "start_time": "2022-10-31T20:34:46.030Z"
   },
   {
    "duration": 56,
    "start_time": "2022-10-31T20:35:00.729Z"
   },
   {
    "duration": 62,
    "start_time": "2022-10-31T20:35:25.938Z"
   },
   {
    "duration": 82,
    "start_time": "2022-10-31T20:36:29.072Z"
   },
   {
    "duration": 19,
    "start_time": "2022-10-31T20:36:32.992Z"
   },
   {
    "duration": 49,
    "start_time": "2022-10-31T20:36:42.129Z"
   },
   {
    "duration": 72,
    "start_time": "2022-10-31T20:37:37.860Z"
   },
   {
    "duration": 336,
    "start_time": "2022-10-31T20:48:20.735Z"
   },
   {
    "duration": 41,
    "start_time": "2022-10-31T20:48:35.043Z"
   },
   {
    "duration": 59,
    "start_time": "2022-10-31T20:49:17.814Z"
   },
   {
    "duration": 323,
    "start_time": "2022-10-31T20:49:42.636Z"
   },
   {
    "duration": 39,
    "start_time": "2022-10-31T20:50:11.093Z"
   },
   {
    "duration": 318,
    "start_time": "2022-10-31T20:50:20.233Z"
   },
   {
    "duration": 55,
    "start_time": "2022-10-31T20:51:22.716Z"
   },
   {
    "duration": 329,
    "start_time": "2022-10-31T20:51:31.010Z"
   },
   {
    "duration": 47,
    "start_time": "2022-10-31T20:52:08.122Z"
   },
   {
    "duration": 34,
    "start_time": "2022-10-31T20:52:23.212Z"
   },
   {
    "duration": 47,
    "start_time": "2022-10-31T20:52:33.924Z"
   },
   {
    "duration": 45,
    "start_time": "2022-10-31T20:52:41.673Z"
   },
   {
    "duration": 36,
    "start_time": "2022-10-31T20:53:46.019Z"
   },
   {
    "duration": 34,
    "start_time": "2022-10-31T20:53:50.605Z"
   },
   {
    "duration": 43,
    "start_time": "2022-10-31T20:54:13.769Z"
   },
   {
    "duration": 30,
    "start_time": "2022-10-31T20:56:20.841Z"
   },
   {
    "duration": 38,
    "start_time": "2022-10-31T20:56:28.185Z"
   },
   {
    "duration": 285,
    "start_time": "2022-10-31T21:01:52.687Z"
   },
   {
    "duration": 305,
    "start_time": "2022-10-31T21:06:09.064Z"
   },
   {
    "duration": 18,
    "start_time": "2022-10-31T21:06:45.470Z"
   },
   {
    "duration": 37,
    "start_time": "2022-10-31T21:06:58.369Z"
   },
   {
    "duration": 39,
    "start_time": "2022-10-31T21:07:16.253Z"
   },
   {
    "duration": 27,
    "start_time": "2022-10-31T21:07:21.634Z"
   },
   {
    "duration": 17,
    "start_time": "2022-10-31T21:07:25.869Z"
   },
   {
    "duration": 20,
    "start_time": "2022-10-31T21:08:44.782Z"
   },
   {
    "duration": 25,
    "start_time": "2022-10-31T21:09:05.039Z"
   },
   {
    "duration": 19,
    "start_time": "2022-10-31T21:09:23.256Z"
   },
   {
    "duration": 19,
    "start_time": "2022-10-31T21:09:36.897Z"
   },
   {
    "duration": 19,
    "start_time": "2022-10-31T21:09:43.063Z"
   },
   {
    "duration": 20,
    "start_time": "2022-10-31T21:10:18.755Z"
   },
   {
    "duration": 29,
    "start_time": "2022-10-31T21:10:39.618Z"
   },
   {
    "duration": 20,
    "start_time": "2022-10-31T21:10:48.911Z"
   },
   {
    "duration": 19,
    "start_time": "2022-10-31T21:10:52.008Z"
   },
   {
    "duration": 19,
    "start_time": "2022-10-31T21:11:08.357Z"
   },
   {
    "duration": 26,
    "start_time": "2022-10-31T21:11:13.654Z"
   },
   {
    "duration": 31,
    "start_time": "2022-10-31T21:11:29.967Z"
   },
   {
    "duration": 20,
    "start_time": "2022-10-31T21:12:09.393Z"
   },
   {
    "duration": 31,
    "start_time": "2022-10-31T21:12:15.425Z"
   },
   {
    "duration": 40,
    "start_time": "2022-10-31T21:12:43.464Z"
   },
   {
    "duration": 22,
    "start_time": "2022-10-31T21:12:55.299Z"
   },
   {
    "duration": 388,
    "start_time": "2022-10-31T21:13:24.949Z"
   },
   {
    "duration": 67,
    "start_time": "2022-10-31T21:13:25.339Z"
   },
   {
    "duration": 78,
    "start_time": "2022-10-31T21:13:25.407Z"
   },
   {
    "duration": 15,
    "start_time": "2022-10-31T21:13:25.487Z"
   },
   {
    "duration": 3,
    "start_time": "2022-10-31T21:13:25.503Z"
   },
   {
    "duration": 27,
    "start_time": "2022-10-31T21:16:17.253Z"
   },
   {
    "duration": 26,
    "start_time": "2022-10-31T21:16:22.868Z"
   },
   {
    "duration": 346,
    "start_time": "2022-10-31T21:24:03.007Z"
   },
   {
    "duration": 72,
    "start_time": "2022-10-31T21:24:03.354Z"
   },
   {
    "duration": 75,
    "start_time": "2022-10-31T21:24:03.428Z"
   },
   {
    "duration": 15,
    "start_time": "2022-10-31T21:24:03.504Z"
   },
   {
    "duration": 2,
    "start_time": "2022-10-31T21:24:03.521Z"
   },
   {
    "duration": 15,
    "start_time": "2022-10-31T21:24:03.525Z"
   },
   {
    "duration": 15,
    "start_time": "2022-10-31T21:24:43.563Z"
   },
   {
    "duration": 16,
    "start_time": "2022-10-31T21:25:02.562Z"
   },
   {
    "duration": 13,
    "start_time": "2022-10-31T21:25:14.180Z"
   },
   {
    "duration": 6,
    "start_time": "2022-10-31T21:25:27.618Z"
   },
   {
    "duration": 58,
    "start_time": "2022-10-31T21:25:37.966Z"
   },
   {
    "duration": 9,
    "start_time": "2022-10-31T21:25:44.252Z"
   },
   {
    "duration": 8,
    "start_time": "2022-10-31T21:26:05.488Z"
   },
   {
    "duration": 34,
    "start_time": "2022-10-31T21:26:21.827Z"
   },
   {
    "duration": 45,
    "start_time": "2022-10-31T21:26:48.381Z"
   },
   {
    "duration": 20,
    "start_time": "2022-10-31T21:28:02.083Z"
   },
   {
    "duration": 17,
    "start_time": "2022-10-31T21:28:22.517Z"
   },
   {
    "duration": 16,
    "start_time": "2022-10-31T21:28:37.816Z"
   },
   {
    "duration": 19,
    "start_time": "2022-10-31T21:40:21.300Z"
   },
   {
    "duration": 17,
    "start_time": "2022-10-31T21:41:38.519Z"
   },
   {
    "duration": 14,
    "start_time": "2022-10-31T21:59:31.720Z"
   },
   {
    "duration": 20,
    "start_time": "2022-10-31T21:59:41.576Z"
   },
   {
    "duration": 391,
    "start_time": "2022-10-31T21:59:58.053Z"
   },
   {
    "duration": 68,
    "start_time": "2022-10-31T21:59:58.445Z"
   },
   {
    "duration": 79,
    "start_time": "2022-10-31T21:59:58.514Z"
   },
   {
    "duration": 15,
    "start_time": "2022-10-31T21:59:58.594Z"
   },
   {
    "duration": 2,
    "start_time": "2022-10-31T21:59:58.611Z"
   },
   {
    "duration": 18,
    "start_time": "2022-10-31T21:59:58.615Z"
   },
   {
    "duration": 9,
    "start_time": "2022-10-31T22:00:13.467Z"
   },
   {
    "duration": 6,
    "start_time": "2022-10-31T22:00:18.807Z"
   },
   {
    "duration": 38,
    "start_time": "2022-10-31T22:00:21.759Z"
   },
   {
    "duration": 6,
    "start_time": "2022-10-31T22:00:27.721Z"
   },
   {
    "duration": 11,
    "start_time": "2022-10-31T22:00:36.591Z"
   },
   {
    "duration": 7,
    "start_time": "2022-10-31T22:02:14.661Z"
   },
   {
    "duration": 7,
    "start_time": "2022-10-31T22:02:21.075Z"
   },
   {
    "duration": 6,
    "start_time": "2022-10-31T22:03:01.357Z"
   },
   {
    "duration": 14,
    "start_time": "2022-10-31T22:03:47.187Z"
   },
   {
    "duration": 7,
    "start_time": "2022-10-31T22:05:11.112Z"
   },
   {
    "duration": 9,
    "start_time": "2022-10-31T22:19:56.399Z"
   },
   {
    "duration": 11,
    "start_time": "2022-10-31T22:20:06.627Z"
   },
   {
    "duration": 13,
    "start_time": "2022-10-31T22:20:44.386Z"
   },
   {
    "duration": 90,
    "start_time": "2022-10-31T22:21:02.645Z"
   },
   {
    "duration": 24,
    "start_time": "2022-10-31T22:21:20.881Z"
   },
   {
    "duration": 14,
    "start_time": "2022-10-31T22:21:25.356Z"
   },
   {
    "duration": 38,
    "start_time": "2022-10-31T22:26:13.912Z"
   },
   {
    "duration": 14,
    "start_time": "2022-10-31T22:26:22.962Z"
   },
   {
    "duration": 18,
    "start_time": "2022-10-31T22:26:52.264Z"
   },
   {
    "duration": 26,
    "start_time": "2022-10-31T22:27:35.247Z"
   },
   {
    "duration": 27,
    "start_time": "2022-10-31T22:31:27.082Z"
   },
   {
    "duration": 27,
    "start_time": "2022-10-31T22:31:36.697Z"
   },
   {
    "duration": 28,
    "start_time": "2022-10-31T22:31:51.726Z"
   },
   {
    "duration": 23,
    "start_time": "2022-10-31T22:32:00.895Z"
   },
   {
    "duration": 26,
    "start_time": "2022-10-31T22:57:59.002Z"
   },
   {
    "duration": 24,
    "start_time": "2022-10-31T22:58:13.931Z"
   },
   {
    "duration": 22,
    "start_time": "2022-10-31T22:59:53.525Z"
   },
   {
    "duration": 3,
    "start_time": "2022-10-31T23:00:07.172Z"
   },
   {
    "duration": 23,
    "start_time": "2022-10-31T23:00:11.684Z"
   },
   {
    "duration": 10,
    "start_time": "2022-10-31T23:03:24.358Z"
   },
   {
    "duration": 7,
    "start_time": "2022-10-31T23:03:28.583Z"
   },
   {
    "duration": 6,
    "start_time": "2022-10-31T23:11:42.184Z"
   },
   {
    "duration": 5,
    "start_time": "2022-10-31T23:11:45.005Z"
   },
   {
    "duration": 16,
    "start_time": "2022-10-31T23:15:12.740Z"
   },
   {
    "duration": 12,
    "start_time": "2022-10-31T23:17:40.216Z"
   },
   {
    "duration": 12,
    "start_time": "2022-10-31T23:20:44.449Z"
   },
   {
    "duration": 8,
    "start_time": "2022-10-31T23:20:51.742Z"
   },
   {
    "duration": 8,
    "start_time": "2022-10-31T23:20:54.073Z"
   },
   {
    "duration": 5,
    "start_time": "2022-10-31T23:37:15.508Z"
   },
   {
    "duration": 40,
    "start_time": "2022-10-31T23:51:13.500Z"
   },
   {
    "duration": 345,
    "start_time": "2022-10-31T23:51:17.106Z"
   },
   {
    "duration": 63,
    "start_time": "2022-10-31T23:51:17.475Z"
   },
   {
    "duration": 2,
    "start_time": "2022-10-31T23:51:17.875Z"
   },
   {
    "duration": 79,
    "start_time": "2022-10-31T23:51:18.480Z"
   },
   {
    "duration": 2,
    "start_time": "2022-10-31T23:54:40.260Z"
   },
   {
    "duration": 1101,
    "start_time": "2022-10-31T23:54:58.032Z"
   },
   {
    "duration": 337,
    "start_time": "2022-10-31T23:55:08.117Z"
   },
   {
    "duration": 72,
    "start_time": "2022-10-31T23:55:08.456Z"
   },
   {
    "duration": 3,
    "start_time": "2022-10-31T23:55:08.529Z"
   },
   {
    "duration": 83,
    "start_time": "2022-10-31T23:55:08.533Z"
   },
   {
    "duration": 14,
    "start_time": "2022-10-31T23:55:08.618Z"
   },
   {
    "duration": 2,
    "start_time": "2022-10-31T23:55:08.634Z"
   },
   {
    "duration": 18,
    "start_time": "2022-10-31T23:55:08.637Z"
   },
   {
    "duration": 25,
    "start_time": "2022-10-31T23:55:08.656Z"
   },
   {
    "duration": 10,
    "start_time": "2022-10-31T23:55:08.682Z"
   },
   {
    "duration": 12,
    "start_time": "2022-10-31T23:55:08.694Z"
   },
   {
    "duration": 6,
    "start_time": "2022-10-31T23:55:08.707Z"
   },
   {
    "duration": 33,
    "start_time": "2022-10-31T23:55:08.715Z"
   },
   {
    "duration": 4,
    "start_time": "2022-10-31T23:55:08.750Z"
   },
   {
    "duration": 4,
    "start_time": "2022-10-31T23:55:24.225Z"
   },
   {
    "duration": 8,
    "start_time": "2022-10-31T23:56:02.432Z"
   },
   {
    "duration": 5,
    "start_time": "2022-10-31T23:56:16.821Z"
   },
   {
    "duration": 7,
    "start_time": "2022-10-31T23:56:41.440Z"
   },
   {
    "duration": 609,
    "start_time": "2022-10-31T23:59:22.493Z"
   },
   {
    "duration": 505,
    "start_time": "2022-10-31T23:59:58.845Z"
   },
   {
    "duration": 2,
    "start_time": "2022-11-01T00:00:06.851Z"
   },
   {
    "duration": 302,
    "start_time": "2022-11-01T00:00:12.444Z"
   },
   {
    "duration": 259,
    "start_time": "2022-11-01T00:00:52.073Z"
   },
   {
    "duration": 3,
    "start_time": "2022-11-01T00:01:01.075Z"
   },
   {
    "duration": 266,
    "start_time": "2022-11-01T00:01:05.839Z"
   },
   {
    "duration": 343,
    "start_time": "2022-11-01T00:01:45.710Z"
   },
   {
    "duration": 253,
    "start_time": "2022-11-01T00:01:55.509Z"
   },
   {
    "duration": 253,
    "start_time": "2022-11-01T00:02:01.960Z"
   },
   {
    "duration": 270,
    "start_time": "2022-11-01T00:02:09.166Z"
   },
   {
    "duration": 261,
    "start_time": "2022-11-01T00:02:15.044Z"
   },
   {
    "duration": 356,
    "start_time": "2022-11-01T00:02:19.889Z"
   },
   {
    "duration": 252,
    "start_time": "2022-11-01T00:02:26.182Z"
   },
   {
    "duration": 270,
    "start_time": "2022-11-01T00:02:31.675Z"
   },
   {
    "duration": 260,
    "start_time": "2022-11-01T00:02:40.879Z"
   },
   {
    "duration": 262,
    "start_time": "2022-11-01T00:02:49.409Z"
   },
   {
    "duration": 271,
    "start_time": "2022-11-01T00:03:14.361Z"
   },
   {
    "duration": 368,
    "start_time": "2022-11-01T00:03:35.812Z"
   },
   {
    "duration": 48,
    "start_time": "2022-11-02T14:59:04.091Z"
   },
   {
    "duration": 7,
    "start_time": "2022-11-02T14:59:13.854Z"
   },
   {
    "duration": 408,
    "start_time": "2022-11-02T14:59:30.744Z"
   },
   {
    "duration": 401,
    "start_time": "2022-11-02T14:59:31.154Z"
   },
   {
    "duration": 3,
    "start_time": "2022-11-02T14:59:31.557Z"
   },
   {
    "duration": 523,
    "start_time": "2022-11-02T14:59:31.561Z"
   },
   {
    "duration": 3,
    "start_time": "2022-11-02T14:59:32.086Z"
   },
   {
    "duration": 127,
    "start_time": "2022-11-02T14:59:32.090Z"
   },
   {
    "duration": 15,
    "start_time": "2022-11-02T14:59:32.219Z"
   },
   {
    "duration": 3,
    "start_time": "2022-11-02T14:59:32.236Z"
   },
   {
    "duration": 21,
    "start_time": "2022-11-02T14:59:32.240Z"
   },
   {
    "duration": 18,
    "start_time": "2022-11-02T14:59:32.262Z"
   },
   {
    "duration": 11,
    "start_time": "2022-11-02T14:59:32.282Z"
   },
   {
    "duration": 18,
    "start_time": "2022-11-02T14:59:32.294Z"
   },
   {
    "duration": 7,
    "start_time": "2022-11-02T14:59:32.314Z"
   },
   {
    "duration": 7,
    "start_time": "2022-11-02T14:59:32.324Z"
   },
   {
    "duration": 338,
    "start_time": "2022-11-02T14:59:32.333Z"
   },
   {
    "duration": 291,
    "start_time": "2022-11-02T14:59:32.677Z"
   },
   {
    "duration": 301,
    "start_time": "2022-11-02T15:00:50.202Z"
   },
   {
    "duration": 354,
    "start_time": "2022-11-02T15:01:00.008Z"
   },
   {
    "duration": 383,
    "start_time": "2022-11-02T15:01:12.089Z"
   },
   {
    "duration": 327,
    "start_time": "2022-11-02T15:01:20.440Z"
   },
   {
    "duration": 99,
    "start_time": "2022-11-02T15:03:16.693Z"
   },
   {
    "duration": 37,
    "start_time": "2022-11-02T15:03:22.118Z"
   },
   {
    "duration": 10,
    "start_time": "2022-11-02T15:07:25.059Z"
   },
   {
    "duration": 121,
    "start_time": "2022-11-02T15:07:53.734Z"
   },
   {
    "duration": 122,
    "start_time": "2022-11-02T15:09:25.610Z"
   },
   {
    "duration": 128,
    "start_time": "2022-11-02T15:09:41.754Z"
   },
   {
    "duration": 133,
    "start_time": "2022-11-02T15:09:47.881Z"
   },
   {
    "duration": 139,
    "start_time": "2022-11-02T15:09:56.995Z"
   },
   {
    "duration": 122,
    "start_time": "2022-11-02T15:10:00.543Z"
   },
   {
    "duration": 126,
    "start_time": "2022-11-02T15:10:16.544Z"
   },
   {
    "duration": 203,
    "start_time": "2022-11-02T15:10:22.817Z"
   },
   {
    "duration": 113,
    "start_time": "2022-11-02T15:10:28.289Z"
   },
   {
    "duration": 118,
    "start_time": "2022-11-02T15:10:36.170Z"
   },
   {
    "duration": 115,
    "start_time": "2022-11-02T15:10:41.729Z"
   },
   {
    "duration": 124,
    "start_time": "2022-11-02T15:10:50.490Z"
   },
   {
    "duration": 113,
    "start_time": "2022-11-02T15:11:03.438Z"
   },
   {
    "duration": 125,
    "start_time": "2022-11-02T15:11:18.448Z"
   },
   {
    "duration": 59,
    "start_time": "2022-11-02T15:11:33.206Z"
   },
   {
    "duration": 117,
    "start_time": "2022-11-02T15:11:41.732Z"
   },
   {
    "duration": 123,
    "start_time": "2022-11-02T15:11:48.273Z"
   },
   {
    "duration": 132,
    "start_time": "2022-11-02T15:11:51.953Z"
   },
   {
    "duration": 95,
    "start_time": "2022-11-02T15:12:09.026Z"
   },
   {
    "duration": 155,
    "start_time": "2022-11-02T15:12:15.791Z"
   },
   {
    "duration": 112,
    "start_time": "2022-11-02T15:12:25.325Z"
   },
   {
    "duration": 130,
    "start_time": "2022-11-02T15:12:32.662Z"
   },
   {
    "duration": 123,
    "start_time": "2022-11-02T15:12:35.518Z"
   },
   {
    "duration": 132,
    "start_time": "2022-11-02T15:13:00.390Z"
   },
   {
    "duration": 582,
    "start_time": "2022-11-02T15:15:18.350Z"
   },
   {
    "duration": 442,
    "start_time": "2022-11-02T15:15:38.690Z"
   },
   {
    "duration": 487,
    "start_time": "2022-11-02T15:15:56.792Z"
   },
   {
    "duration": 8,
    "start_time": "2022-11-02T15:20:10.349Z"
   },
   {
    "duration": 13,
    "start_time": "2022-11-02T15:20:13.989Z"
   },
   {
    "duration": 8,
    "start_time": "2022-11-02T15:20:19.472Z"
   },
   {
    "duration": 24,
    "start_time": "2022-11-02T15:20:33.311Z"
   },
   {
    "duration": 23,
    "start_time": "2022-11-02T15:21:06.041Z"
   },
   {
    "duration": 7,
    "start_time": "2022-11-02T15:21:09.414Z"
   },
   {
    "duration": 25,
    "start_time": "2022-11-02T15:21:15.830Z"
   },
   {
    "duration": 8,
    "start_time": "2022-11-02T15:21:26.433Z"
   },
   {
    "duration": 10,
    "start_time": "2022-11-02T15:26:46.160Z"
   },
   {
    "duration": 16,
    "start_time": "2022-11-02T15:26:52.527Z"
   },
   {
    "duration": 103,
    "start_time": "2022-11-02T15:27:10.539Z"
   },
   {
    "duration": 16,
    "start_time": "2022-11-02T15:27:22.995Z"
   },
   {
    "duration": 12,
    "start_time": "2022-11-02T15:27:35.486Z"
   },
   {
    "duration": 16,
    "start_time": "2022-11-02T15:27:41.685Z"
   },
   {
    "duration": 19,
    "start_time": "2022-11-02T15:27:54.126Z"
   },
   {
    "duration": 22,
    "start_time": "2022-11-02T15:28:18.199Z"
   },
   {
    "duration": 14,
    "start_time": "2022-11-02T15:28:29.347Z"
   },
   {
    "duration": 22,
    "start_time": "2022-11-02T15:28:38.040Z"
   },
   {
    "duration": 17,
    "start_time": "2022-11-02T15:29:59.404Z"
   },
   {
    "duration": 16,
    "start_time": "2022-11-02T15:30:02.741Z"
   },
   {
    "duration": 753,
    "start_time": "2022-11-02T15:30:09.569Z"
   },
   {
    "duration": 17,
    "start_time": "2022-11-02T15:30:29.575Z"
   },
   {
    "duration": 15,
    "start_time": "2022-11-02T15:30:34.364Z"
   },
   {
    "duration": 15,
    "start_time": "2022-11-02T15:30:40.372Z"
   },
   {
    "duration": 17,
    "start_time": "2022-11-02T15:31:09.046Z"
   },
   {
    "duration": 17,
    "start_time": "2022-11-02T15:31:12.990Z"
   },
   {
    "duration": 17,
    "start_time": "2022-11-02T15:31:19.681Z"
   },
   {
    "duration": 19,
    "start_time": "2022-11-02T15:36:05.333Z"
   },
   {
    "duration": 11,
    "start_time": "2022-11-02T15:37:38.744Z"
   },
   {
    "duration": 29,
    "start_time": "2022-11-02T15:37:50.061Z"
   },
   {
    "duration": 6,
    "start_time": "2022-11-02T15:37:59.704Z"
   },
   {
    "duration": 11,
    "start_time": "2022-11-02T15:38:06.060Z"
   },
   {
    "duration": 18,
    "start_time": "2022-11-02T15:38:19.818Z"
   },
   {
    "duration": 57,
    "start_time": "2022-11-02T15:41:25.971Z"
   },
   {
    "duration": 46,
    "start_time": "2022-11-02T15:41:58.843Z"
   },
   {
    "duration": 10,
    "start_time": "2022-11-02T15:42:41.000Z"
   },
   {
    "duration": 12,
    "start_time": "2022-11-02T15:42:46.502Z"
   },
   {
    "duration": 255,
    "start_time": "2022-11-02T15:43:03.498Z"
   },
   {
    "duration": 499,
    "start_time": "2022-11-02T15:43:53.934Z"
   },
   {
    "duration": 424,
    "start_time": "2022-11-02T15:44:11.504Z"
   },
   {
    "duration": 328,
    "start_time": "2022-11-02T15:44:19.762Z"
   },
   {
    "duration": 320,
    "start_time": "2022-11-02T15:44:27.606Z"
   },
   {
    "duration": 319,
    "start_time": "2022-11-02T15:45:01.360Z"
   },
   {
    "duration": 329,
    "start_time": "2022-11-02T15:45:15.771Z"
   },
   {
    "duration": 450,
    "start_time": "2022-11-02T15:47:35.261Z"
   },
   {
    "duration": 313,
    "start_time": "2022-11-02T15:47:40.061Z"
   },
   {
    "duration": 318,
    "start_time": "2022-11-02T15:47:49.803Z"
   },
   {
    "duration": 320,
    "start_time": "2022-11-02T15:47:57.005Z"
   },
   {
    "duration": 357,
    "start_time": "2022-11-02T15:48:10.247Z"
   },
   {
    "duration": 452,
    "start_time": "2022-11-02T15:48:16.461Z"
   },
   {
    "duration": 763,
    "start_time": "2022-11-02T15:50:12.095Z"
   },
   {
    "duration": 11,
    "start_time": "2022-11-02T15:50:27.093Z"
   },
   {
    "duration": 13,
    "start_time": "2022-11-02T15:50:33.405Z"
   },
   {
    "duration": 260,
    "start_time": "2022-11-02T15:50:35.318Z"
   },
   {
    "duration": 12,
    "start_time": "2022-11-02T15:51:04.570Z"
   },
   {
    "duration": 782,
    "start_time": "2022-11-02T15:51:41.701Z"
   },
   {
    "duration": 747,
    "start_time": "2022-11-02T15:51:51.221Z"
   },
   {
    "duration": 725,
    "start_time": "2022-11-02T15:51:57.187Z"
   },
   {
    "duration": 261,
    "start_time": "2022-11-02T15:52:48.138Z"
   },
   {
    "duration": 244,
    "start_time": "2022-11-02T15:53:13.023Z"
   },
   {
    "duration": 236,
    "start_time": "2022-11-02T15:53:19.283Z"
   },
   {
    "duration": 279,
    "start_time": "2022-11-02T15:53:28.523Z"
   },
   {
    "duration": 253,
    "start_time": "2022-11-02T15:53:35.873Z"
   },
   {
    "duration": 344,
    "start_time": "2022-11-02T15:53:42.979Z"
   },
   {
    "duration": 12,
    "start_time": "2022-11-02T15:55:17.130Z"
   },
   {
    "duration": 382,
    "start_time": "2022-11-02T15:55:26.271Z"
   },
   {
    "duration": 14,
    "start_time": "2022-11-02T16:01:13.362Z"
   },
   {
    "duration": 14,
    "start_time": "2022-11-02T16:01:22.081Z"
   },
   {
    "duration": 17,
    "start_time": "2022-11-02T16:01:36.794Z"
   },
   {
    "duration": 12,
    "start_time": "2022-11-02T16:01:53.365Z"
   },
   {
    "duration": 18,
    "start_time": "2022-11-02T16:02:09.749Z"
   },
   {
    "duration": 18,
    "start_time": "2022-11-02T16:02:27.169Z"
   },
   {
    "duration": 2,
    "start_time": "2022-11-02T16:08:41.477Z"
   },
   {
    "duration": 3,
    "start_time": "2022-11-02T16:08:42.582Z"
   },
   {
    "duration": 71,
    "start_time": "2022-11-02T16:09:27.992Z"
   },
   {
    "duration": 48,
    "start_time": "2022-11-02T16:22:58.619Z"
   },
   {
    "duration": 52,
    "start_time": "2022-11-02T16:23:49.669Z"
   },
   {
    "duration": 150,
    "start_time": "2022-11-02T16:24:05.747Z"
   },
   {
    "duration": 147,
    "start_time": "2022-11-02T16:24:23.145Z"
   },
   {
    "duration": 881,
    "start_time": "2022-11-02T16:25:03.260Z"
   },
   {
    "duration": 12,
    "start_time": "2022-11-02T16:30:34.201Z"
   },
   {
    "duration": 16,
    "start_time": "2022-11-02T16:30:42.665Z"
   },
   {
    "duration": 13,
    "start_time": "2022-11-02T16:33:26.817Z"
   },
   {
    "duration": 19,
    "start_time": "2022-11-02T16:33:31.665Z"
   },
   {
    "duration": 3,
    "start_time": "2022-11-02T16:33:56.707Z"
   },
   {
    "duration": 3,
    "start_time": "2022-11-02T16:33:56.985Z"
   },
   {
    "duration": 2,
    "start_time": "2022-11-02T16:33:57.178Z"
   },
   {
    "duration": 2,
    "start_time": "2022-11-02T16:33:57.356Z"
   },
   {
    "duration": 2,
    "start_time": "2022-11-02T16:33:57.534Z"
   },
   {
    "duration": 75,
    "start_time": "2022-11-02T16:33:59.017Z"
   },
   {
    "duration": 16,
    "start_time": "2022-11-02T16:34:01.868Z"
   },
   {
    "duration": 3,
    "start_time": "2022-11-02T16:34:03.338Z"
   },
   {
    "duration": 18,
    "start_time": "2022-11-02T16:34:04.161Z"
   },
   {
    "duration": 9,
    "start_time": "2022-11-02T16:34:06.661Z"
   },
   {
    "duration": 8,
    "start_time": "2022-11-02T16:34:10.384Z"
   },
   {
    "duration": 17,
    "start_time": "2022-11-02T16:34:18.537Z"
   },
   {
    "duration": 13,
    "start_time": "2022-11-02T16:34:22.257Z"
   },
   {
    "duration": 12,
    "start_time": "2022-11-02T16:35:46.630Z"
   },
   {
    "duration": 18,
    "start_time": "2022-11-02T16:35:52.953Z"
   },
   {
    "duration": 8,
    "start_time": "2022-11-02T16:36:18.355Z"
   },
   {
    "duration": 382,
    "start_time": "2022-11-02T16:36:29.514Z"
   },
   {
    "duration": 230,
    "start_time": "2022-11-02T16:36:29.898Z"
   },
   {
    "duration": 3,
    "start_time": "2022-11-02T16:36:30.129Z"
   },
   {
    "duration": 567,
    "start_time": "2022-11-02T16:36:30.133Z"
   },
   {
    "duration": 3,
    "start_time": "2022-11-02T16:36:30.702Z"
   },
   {
    "duration": 110,
    "start_time": "2022-11-02T16:36:30.706Z"
   },
   {
    "duration": 17,
    "start_time": "2022-11-02T16:36:30.817Z"
   },
   {
    "duration": 55,
    "start_time": "2022-11-02T16:36:30.836Z"
   },
   {
    "duration": 41,
    "start_time": "2022-11-02T16:36:30.892Z"
   },
   {
    "duration": 22,
    "start_time": "2022-11-02T16:36:30.935Z"
   },
   {
    "duration": 28,
    "start_time": "2022-11-02T16:36:30.959Z"
   },
   {
    "duration": 44,
    "start_time": "2022-11-02T16:36:30.988Z"
   },
   {
    "duration": 40,
    "start_time": "2022-11-02T16:36:31.034Z"
   },
   {
    "duration": 13,
    "start_time": "2022-11-02T16:36:31.077Z"
   },
   {
    "duration": 539,
    "start_time": "2022-11-02T16:36:31.092Z"
   },
   {
    "duration": 8,
    "start_time": "2022-11-02T16:36:31.633Z"
   },
   {
    "duration": 15,
    "start_time": "2022-11-02T16:36:31.643Z"
   },
   {
    "duration": 251,
    "start_time": "2022-11-02T16:36:31.677Z"
   },
   {
    "duration": 103,
    "start_time": "2022-11-02T16:36:31.930Z"
   },
   {
    "duration": 0,
    "start_time": "2022-11-02T16:36:32.034Z"
   },
   {
    "duration": 16,
    "start_time": "2022-11-02T16:36:54.148Z"
   },
   {
    "duration": 410,
    "start_time": "2022-11-02T16:37:00.492Z"
   },
   {
    "duration": 245,
    "start_time": "2022-11-02T16:37:00.904Z"
   },
   {
    "duration": 2,
    "start_time": "2022-11-02T16:37:01.151Z"
   },
   {
    "duration": 535,
    "start_time": "2022-11-02T16:37:01.155Z"
   },
   {
    "duration": 2,
    "start_time": "2022-11-02T16:37:01.693Z"
   },
   {
    "duration": 127,
    "start_time": "2022-11-02T16:37:01.697Z"
   },
   {
    "duration": 17,
    "start_time": "2022-11-02T16:37:01.826Z"
   },
   {
    "duration": 10,
    "start_time": "2022-11-02T16:37:01.846Z"
   },
   {
    "duration": 41,
    "start_time": "2022-11-02T16:37:01.857Z"
   },
   {
    "duration": 9,
    "start_time": "2022-11-02T16:37:01.899Z"
   },
   {
    "duration": 19,
    "start_time": "2022-11-02T16:37:01.911Z"
   },
   {
    "duration": 43,
    "start_time": "2022-11-02T16:37:01.932Z"
   },
   {
    "duration": 48,
    "start_time": "2022-11-02T16:37:01.977Z"
   },
   {
    "duration": 944,
    "start_time": "2022-11-02T16:37:02.029Z"
   },
   {
    "duration": 0,
    "start_time": "2022-11-02T16:37:02.975Z"
   },
   {
    "duration": 0,
    "start_time": "2022-11-02T16:37:02.977Z"
   },
   {
    "duration": 0,
    "start_time": "2022-11-02T16:37:02.979Z"
   },
   {
    "duration": 0,
    "start_time": "2022-11-02T16:37:02.981Z"
   },
   {
    "duration": 0,
    "start_time": "2022-11-02T16:37:02.982Z"
   },
   {
    "duration": 0,
    "start_time": "2022-11-02T16:37:02.983Z"
   },
   {
    "duration": 9,
    "start_time": "2022-11-02T16:37:15.029Z"
   },
   {
    "duration": 9,
    "start_time": "2022-11-02T16:37:16.635Z"
   },
   {
    "duration": 21,
    "start_time": "2022-11-02T16:37:24.788Z"
   },
   {
    "duration": 188,
    "start_time": "2022-11-02T16:37:31.147Z"
   },
   {
    "duration": 35,
    "start_time": "2022-11-02T16:37:48.912Z"
   },
   {
    "duration": 17,
    "start_time": "2022-11-02T16:38:00.225Z"
   },
   {
    "duration": 10,
    "start_time": "2022-11-02T16:38:42.271Z"
   },
   {
    "duration": 15,
    "start_time": "2022-11-02T16:38:49.231Z"
   },
   {
    "duration": 17,
    "start_time": "2022-11-02T16:38:54.632Z"
   },
   {
    "duration": 17,
    "start_time": "2022-11-02T16:39:07.663Z"
   },
   {
    "duration": 246,
    "start_time": "2022-11-02T16:39:10.324Z"
   },
   {
    "duration": 16,
    "start_time": "2022-11-02T16:40:01.726Z"
   },
   {
    "duration": 5,
    "start_time": "2022-11-02T16:40:11.648Z"
   },
   {
    "duration": 755,
    "start_time": "2022-11-02T16:40:15.811Z"
   },
   {
    "duration": 8,
    "start_time": "2022-11-02T16:41:08.775Z"
   },
   {
    "duration": 7,
    "start_time": "2022-11-02T16:41:20.193Z"
   },
   {
    "duration": 13,
    "start_time": "2022-11-02T16:41:25.825Z"
   },
   {
    "duration": 14,
    "start_time": "2022-11-02T16:41:37.519Z"
   },
   {
    "duration": 10,
    "start_time": "2022-11-02T16:42:02.413Z"
   },
   {
    "duration": 702,
    "start_time": "2022-11-02T16:42:07.838Z"
   },
   {
    "duration": 184,
    "start_time": "2022-11-02T16:42:14.109Z"
   },
   {
    "duration": 181,
    "start_time": "2022-11-02T16:42:37.627Z"
   },
   {
    "duration": 186,
    "start_time": "2022-11-02T16:42:43.190Z"
   },
   {
    "duration": 180,
    "start_time": "2022-11-02T16:42:51.292Z"
   },
   {
    "duration": 190,
    "start_time": "2022-11-02T16:43:00.829Z"
   },
   {
    "duration": 191,
    "start_time": "2022-11-02T16:43:14.116Z"
   },
   {
    "duration": 505,
    "start_time": "2022-11-02T16:43:23.809Z"
   },
   {
    "duration": 8,
    "start_time": "2022-11-02T16:43:24.570Z"
   },
   {
    "duration": 293,
    "start_time": "2022-11-02T16:43:36.193Z"
   },
   {
    "duration": 202,
    "start_time": "2022-11-02T16:43:39.741Z"
   },
   {
    "duration": 198,
    "start_time": "2022-11-02T16:43:51.684Z"
   },
   {
    "duration": 200,
    "start_time": "2022-11-02T16:44:04.665Z"
   },
   {
    "duration": 194,
    "start_time": "2022-11-02T16:44:10.216Z"
   },
   {
    "duration": 188,
    "start_time": "2022-11-02T16:44:13.750Z"
   },
   {
    "duration": 460,
    "start_time": "2022-11-02T16:45:51.044Z"
   },
   {
    "duration": 515,
    "start_time": "2022-11-02T16:46:05.788Z"
   },
   {
    "duration": 198,
    "start_time": "2022-11-02T16:47:35.841Z"
   },
   {
    "duration": 207,
    "start_time": "2022-11-02T16:47:42.080Z"
   },
   {
    "duration": 11,
    "start_time": "2022-11-02T16:47:52.519Z"
   },
   {
    "duration": 14,
    "start_time": "2022-11-02T16:48:08.264Z"
   },
   {
    "duration": 13,
    "start_time": "2022-11-02T16:51:02.420Z"
   },
   {
    "duration": 191,
    "start_time": "2022-11-02T17:59:59.660Z"
   },
   {
    "duration": 175,
    "start_time": "2022-11-02T18:00:18.677Z"
   },
   {
    "duration": 211,
    "start_time": "2022-11-02T18:00:36.457Z"
   },
   {
    "duration": 185,
    "start_time": "2022-11-02T18:01:03.124Z"
   },
   {
    "duration": 198,
    "start_time": "2022-11-02T18:02:17.015Z"
   },
   {
    "duration": 183,
    "start_time": "2022-11-02T18:02:21.875Z"
   },
   {
    "duration": 276,
    "start_time": "2022-11-02T18:02:30.500Z"
   },
   {
    "duration": 184,
    "start_time": "2022-11-02T18:04:51.869Z"
   },
   {
    "duration": 14,
    "start_time": "2022-11-02T18:05:08.488Z"
   },
   {
    "duration": 177,
    "start_time": "2022-11-02T18:05:12.379Z"
   },
   {
    "duration": 14,
    "start_time": "2022-11-02T18:05:19.049Z"
   },
   {
    "duration": 13,
    "start_time": "2022-11-02T18:18:12.224Z"
   },
   {
    "duration": 195,
    "start_time": "2022-11-02T18:18:19.822Z"
   },
   {
    "duration": 10,
    "start_time": "2022-11-02T18:20:08.945Z"
   },
   {
    "duration": 60,
    "start_time": "2022-11-02T18:20:33.393Z"
   },
   {
    "duration": 59,
    "start_time": "2022-11-02T18:20:41.626Z"
   },
   {
    "duration": 10,
    "start_time": "2022-11-02T18:21:22.159Z"
   },
   {
    "duration": 17,
    "start_time": "2022-11-02T18:21:30.774Z"
   },
   {
    "duration": 10,
    "start_time": "2022-11-02T18:27:00.022Z"
   },
   {
    "duration": 12,
    "start_time": "2022-11-02T18:27:28.100Z"
   },
   {
    "duration": 15,
    "start_time": "2022-11-02T18:28:32.847Z"
   },
   {
    "duration": 12,
    "start_time": "2022-11-02T18:29:23.253Z"
   },
   {
    "duration": 1022,
    "start_time": "2022-11-02T18:35:52.082Z"
   },
   {
    "duration": 14,
    "start_time": "2022-11-02T18:36:08.127Z"
   },
   {
    "duration": 12,
    "start_time": "2022-11-02T18:36:21.968Z"
   },
   {
    "duration": 12,
    "start_time": "2022-11-02T18:37:11.972Z"
   },
   {
    "duration": 9,
    "start_time": "2022-11-02T18:38:08.314Z"
   },
   {
    "duration": 201,
    "start_time": "2022-11-02T18:38:28.860Z"
   },
   {
    "duration": 14,
    "start_time": "2022-11-02T18:39:29.151Z"
   },
   {
    "duration": 14,
    "start_time": "2022-11-02T18:39:31.993Z"
   },
   {
    "duration": 56,
    "start_time": "2022-11-02T18:39:40.517Z"
   },
   {
    "duration": 52,
    "start_time": "2022-11-02T18:39:48.787Z"
   },
   {
    "duration": 3,
    "start_time": "2022-11-02T18:39:55.156Z"
   },
   {
    "duration": 11,
    "start_time": "2022-11-02T18:40:25.219Z"
   },
   {
    "duration": 10,
    "start_time": "2022-11-02T18:40:46.425Z"
   },
   {
    "duration": 63,
    "start_time": "2022-11-02T18:40:54.542Z"
   },
   {
    "duration": 46,
    "start_time": "2022-11-02T18:40:56.644Z"
   },
   {
    "duration": 17,
    "start_time": "2022-11-02T18:45:06.148Z"
   },
   {
    "duration": 47,
    "start_time": "2022-11-02T18:45:14.631Z"
   },
   {
    "duration": 45,
    "start_time": "2022-11-02T18:45:27.876Z"
   },
   {
    "duration": 43,
    "start_time": "2022-11-02T18:47:23.228Z"
   },
   {
    "duration": 10,
    "start_time": "2022-11-02T18:47:30.400Z"
   },
   {
    "duration": 52,
    "start_time": "2022-11-02T18:47:38.980Z"
   },
   {
    "duration": 198,
    "start_time": "2022-11-02T18:48:32.429Z"
   },
   {
    "duration": 9,
    "start_time": "2022-11-02T18:49:09.146Z"
   },
   {
    "duration": 11,
    "start_time": "2022-11-02T18:49:14.645Z"
   },
   {
    "duration": 24,
    "start_time": "2022-11-02T18:49:51.597Z"
   },
   {
    "duration": 16,
    "start_time": "2022-11-02T18:49:56.101Z"
   },
   {
    "duration": 19,
    "start_time": "2022-11-02T18:50:01.418Z"
   },
   {
    "duration": 12,
    "start_time": "2022-11-02T18:50:12.633Z"
   },
   {
    "duration": 13,
    "start_time": "2022-11-02T18:50:16.640Z"
   },
   {
    "duration": 12,
    "start_time": "2022-11-02T18:50:21.048Z"
   },
   {
    "duration": 56,
    "start_time": "2022-11-02T18:51:25.117Z"
   },
   {
    "duration": 202,
    "start_time": "2022-11-02T18:51:30.548Z"
   },
   {
    "duration": 423,
    "start_time": "2022-11-02T18:51:56.995Z"
   },
   {
    "duration": 51,
    "start_time": "2022-11-02T18:52:01.694Z"
   },
   {
    "duration": 209,
    "start_time": "2022-11-02T18:52:06.157Z"
   },
   {
    "duration": 204,
    "start_time": "2022-11-02T18:52:39.015Z"
   },
   {
    "duration": 323,
    "start_time": "2022-11-02T18:52:45.437Z"
   },
   {
    "duration": 9,
    "start_time": "2022-11-02T18:52:57.601Z"
   },
   {
    "duration": 414,
    "start_time": "2022-11-02T18:53:32.880Z"
   },
   {
    "duration": 52,
    "start_time": "2022-11-02T18:53:54.532Z"
   },
   {
    "duration": 12,
    "start_time": "2022-11-02T18:55:30.549Z"
   },
   {
    "duration": 48,
    "start_time": "2022-11-02T18:55:35.715Z"
   },
   {
    "duration": 214,
    "start_time": "2022-11-02T18:55:41.267Z"
   },
   {
    "duration": 14,
    "start_time": "2022-11-02T18:56:48.788Z"
   },
   {
    "duration": 16,
    "start_time": "2022-11-02T18:57:24.475Z"
   },
   {
    "duration": 793,
    "start_time": "2022-11-02T18:57:29.968Z"
   },
   {
    "duration": 12,
    "start_time": "2022-11-02T18:57:57.079Z"
   },
   {
    "duration": 11,
    "start_time": "2022-11-02T18:58:02.805Z"
   },
   {
    "duration": 821,
    "start_time": "2022-11-02T18:58:08.060Z"
   },
   {
    "duration": 1205,
    "start_time": "2022-11-02T18:58:17.362Z"
   },
   {
    "duration": 691,
    "start_time": "2022-11-02T18:58:24.368Z"
   },
   {
    "duration": 721,
    "start_time": "2022-11-02T18:58:30.330Z"
   },
   {
    "duration": 753,
    "start_time": "2022-11-02T18:58:38.883Z"
   },
   {
    "duration": 759,
    "start_time": "2022-11-02T18:58:46.293Z"
   },
   {
    "duration": 725,
    "start_time": "2022-11-02T18:58:52.286Z"
   },
   {
    "duration": 765,
    "start_time": "2022-11-02T18:58:58.030Z"
   },
   {
    "duration": 748,
    "start_time": "2022-11-02T18:59:43.691Z"
   },
   {
    "duration": 739,
    "start_time": "2022-11-02T19:00:12.340Z"
   },
   {
    "duration": 705,
    "start_time": "2022-11-02T19:00:18.653Z"
   },
   {
    "duration": 13,
    "start_time": "2022-11-02T19:00:38.343Z"
   },
   {
    "duration": 768,
    "start_time": "2022-11-02T19:00:50.795Z"
   },
   {
    "duration": 675,
    "start_time": "2022-11-02T19:00:59.217Z"
   },
   {
    "duration": 17,
    "start_time": "2022-11-02T19:02:09.728Z"
   },
   {
    "duration": 11,
    "start_time": "2022-11-02T19:02:24.477Z"
   },
   {
    "duration": 15,
    "start_time": "2022-11-02T19:02:34.664Z"
   },
   {
    "duration": 51,
    "start_time": "2022-11-02T19:02:40.640Z"
   },
   {
    "duration": 17,
    "start_time": "2022-11-02T19:02:59.580Z"
   },
   {
    "duration": 17,
    "start_time": "2022-11-02T19:04:07.148Z"
   },
   {
    "duration": 16,
    "start_time": "2022-11-02T19:05:44.304Z"
   },
   {
    "duration": 686,
    "start_time": "2022-11-02T19:05:51.683Z"
   },
   {
    "duration": 203,
    "start_time": "2022-11-02T19:06:01.964Z"
   },
   {
    "duration": 240,
    "start_time": "2022-11-02T19:06:06.975Z"
   },
   {
    "duration": 209,
    "start_time": "2022-11-02T19:06:11.414Z"
   },
   {
    "duration": 15,
    "start_time": "2022-11-02T19:09:43.922Z"
   },
   {
    "duration": 21,
    "start_time": "2022-11-02T19:09:49.827Z"
   },
   {
    "duration": 42,
    "start_time": "2022-11-02T19:10:07.838Z"
   },
   {
    "duration": 2578,
    "start_time": "2022-11-02T19:10:19.451Z"
   },
   {
    "duration": 684,
    "start_time": "2022-11-02T19:10:39.824Z"
   },
   {
    "duration": 2345,
    "start_time": "2022-11-02T19:10:58.357Z"
   },
   {
    "duration": 17,
    "start_time": "2022-11-02T19:11:43.296Z"
   },
   {
    "duration": 12,
    "start_time": "2022-11-02T19:11:57.949Z"
   },
   {
    "duration": 33,
    "start_time": "2022-11-02T19:14:45.113Z"
   },
   {
    "duration": 199,
    "start_time": "2022-11-02T19:15:02.372Z"
   },
   {
    "duration": 179,
    "start_time": "2022-11-02T19:15:09.708Z"
   },
   {
    "duration": 22,
    "start_time": "2022-11-02T19:18:42.551Z"
   },
   {
    "duration": 721,
    "start_time": "2022-11-02T19:19:10.295Z"
   },
   {
    "duration": 779,
    "start_time": "2022-11-02T19:19:31.193Z"
   },
   {
    "duration": 739,
    "start_time": "2022-11-02T19:19:39.885Z"
   },
   {
    "duration": 55,
    "start_time": "2022-11-05T12:22:24.460Z"
   },
   {
    "duration": 9,
    "start_time": "2022-11-05T12:22:39.971Z"
   },
   {
    "duration": 8,
    "start_time": "2022-11-05T12:24:10.943Z"
   },
   {
    "duration": 7,
    "start_time": "2022-11-05T12:24:16.475Z"
   },
   {
    "duration": 425,
    "start_time": "2022-11-05T12:24:21.847Z"
   },
   {
    "duration": 438,
    "start_time": "2022-11-05T12:24:22.274Z"
   },
   {
    "duration": 3,
    "start_time": "2022-11-05T12:24:22.714Z"
   },
   {
    "duration": 560,
    "start_time": "2022-11-05T12:24:22.719Z"
   },
   {
    "duration": 3,
    "start_time": "2022-11-05T12:24:23.281Z"
   },
   {
    "duration": 138,
    "start_time": "2022-11-05T12:24:23.360Z"
   },
   {
    "duration": 15,
    "start_time": "2022-11-05T12:24:26.926Z"
   },
   {
    "duration": 3,
    "start_time": "2022-11-05T12:24:27.271Z"
   },
   {
    "duration": 20,
    "start_time": "2022-11-05T12:24:29.208Z"
   },
   {
    "duration": 10,
    "start_time": "2022-11-05T12:24:33.330Z"
   },
   {
    "duration": 5,
    "start_time": "2022-11-05T12:24:34.372Z"
   },
   {
    "duration": 16,
    "start_time": "2022-11-05T12:24:34.965Z"
   },
   {
    "duration": 10,
    "start_time": "2022-11-05T12:24:37.440Z"
   },
   {
    "duration": 10,
    "start_time": "2022-11-05T12:24:39.557Z"
   },
   {
    "duration": 512,
    "start_time": "2022-11-05T12:24:44.252Z"
   },
   {
    "duration": 8,
    "start_time": "2022-11-05T12:24:47.920Z"
   },
   {
    "duration": 69,
    "start_time": "2022-11-05T12:24:51.919Z"
   },
   {
    "duration": 13,
    "start_time": "2022-11-05T12:25:00.827Z"
   },
   {
    "duration": 761,
    "start_time": "2022-11-05T12:26:16.684Z"
   },
   {
    "duration": 201,
    "start_time": "2022-11-05T12:26:29.331Z"
   },
   {
    "duration": 19,
    "start_time": "2022-11-05T12:26:51.963Z"
   },
   {
    "duration": 173,
    "start_time": "2022-11-05T12:27:08.575Z"
   },
   {
    "duration": 255,
    "start_time": "2022-11-05T12:27:21.343Z"
   },
   {
    "duration": 195,
    "start_time": "2022-11-05T12:28:11.861Z"
   },
   {
    "duration": 55,
    "start_time": "2022-11-05T12:28:40.006Z"
   },
   {
    "duration": 47,
    "start_time": "2022-11-05T12:28:45.260Z"
   },
   {
    "duration": 14,
    "start_time": "2022-11-05T12:28:54.760Z"
   },
   {
    "duration": 215,
    "start_time": "2022-11-05T12:29:10.765Z"
   },
   {
    "duration": 278,
    "start_time": "2022-11-05T12:31:14.179Z"
   },
   {
    "duration": 188,
    "start_time": "2022-11-05T12:31:18.986Z"
   },
   {
    "duration": 60,
    "start_time": "2022-11-05T12:31:33.625Z"
   },
   {
    "duration": 42,
    "start_time": "2022-11-05T12:31:45.685Z"
   },
   {
    "duration": 184,
    "start_time": "2022-11-05T12:32:53.540Z"
   },
   {
    "duration": 137,
    "start_time": "2022-11-05T12:33:44.594Z"
   },
   {
    "duration": 128,
    "start_time": "2022-11-05T12:33:49.404Z"
   },
   {
    "duration": 56,
    "start_time": "2022-11-05T12:34:31.423Z"
   },
   {
    "duration": 176,
    "start_time": "2022-11-05T12:34:41.459Z"
   },
   {
    "duration": 50,
    "start_time": "2022-11-05T12:35:14.765Z"
   },
   {
    "duration": 45,
    "start_time": "2022-11-05T12:35:27.356Z"
   },
   {
    "duration": 121,
    "start_time": "2022-11-05T12:35:34.090Z"
   },
   {
    "duration": 140,
    "start_time": "2022-11-05T12:35:53.391Z"
   },
   {
    "duration": 233,
    "start_time": "2022-11-05T12:36:04.160Z"
   },
   {
    "duration": 159,
    "start_time": "2022-11-05T12:36:09.803Z"
   },
   {
    "duration": 185,
    "start_time": "2022-11-05T12:37:27.779Z"
   },
   {
    "duration": 279,
    "start_time": "2022-11-05T12:38:54.861Z"
   },
   {
    "duration": 186,
    "start_time": "2022-11-05T12:39:11.112Z"
   },
   {
    "duration": 13,
    "start_time": "2022-11-05T12:40:04.670Z"
   },
   {
    "duration": 192,
    "start_time": "2022-11-05T12:40:12.281Z"
   },
   {
    "duration": 196,
    "start_time": "2022-11-05T12:40:23.030Z"
   },
   {
    "duration": 270,
    "start_time": "2022-11-05T12:40:31.149Z"
   },
   {
    "duration": 226,
    "start_time": "2022-11-05T12:40:35.714Z"
   },
   {
    "duration": 239,
    "start_time": "2022-11-05T12:40:42.128Z"
   },
   {
    "duration": 196,
    "start_time": "2022-11-05T12:40:46.904Z"
   },
   {
    "duration": 213,
    "start_time": "2022-11-05T12:40:54.283Z"
   },
   {
    "duration": 202,
    "start_time": "2022-11-05T12:41:01.852Z"
   },
   {
    "duration": 200,
    "start_time": "2022-11-05T12:41:11.199Z"
   },
   {
    "duration": 312,
    "start_time": "2022-11-05T12:41:25.901Z"
   },
   {
    "duration": 202,
    "start_time": "2022-11-05T12:41:32.761Z"
   },
   {
    "duration": 213,
    "start_time": "2022-11-05T12:41:45.057Z"
   },
   {
    "duration": 214,
    "start_time": "2022-11-05T12:41:48.895Z"
   },
   {
    "duration": 204,
    "start_time": "2022-11-05T12:41:54.426Z"
   },
   {
    "duration": 19,
    "start_time": "2022-11-05T12:42:04.442Z"
   },
   {
    "duration": 208,
    "start_time": "2022-11-05T12:42:14.946Z"
   },
   {
    "duration": 15,
    "start_time": "2022-11-05T12:42:58.633Z"
   },
   {
    "duration": 201,
    "start_time": "2022-11-05T12:43:06.001Z"
   },
   {
    "duration": 208,
    "start_time": "2022-11-05T12:43:27.146Z"
   },
   {
    "duration": 12,
    "start_time": "2022-11-05T12:43:32.792Z"
   },
   {
    "duration": 201,
    "start_time": "2022-11-05T12:44:04.749Z"
   },
   {
    "duration": 206,
    "start_time": "2022-11-05T12:44:28.732Z"
   },
   {
    "duration": 277,
    "start_time": "2022-11-05T12:44:44.035Z"
   },
   {
    "duration": 294,
    "start_time": "2022-11-05T12:44:47.895Z"
   },
   {
    "duration": 218,
    "start_time": "2022-11-05T12:44:52.131Z"
   },
   {
    "duration": 203,
    "start_time": "2022-11-05T12:44:56.318Z"
   },
   {
    "duration": 230,
    "start_time": "2022-11-05T12:45:00.102Z"
   },
   {
    "duration": 376,
    "start_time": "2022-11-05T12:45:04.291Z"
   },
   {
    "duration": 199,
    "start_time": "2022-11-05T12:45:13.966Z"
   },
   {
    "duration": 204,
    "start_time": "2022-11-05T12:45:22.673Z"
   },
   {
    "duration": 226,
    "start_time": "2022-11-05T12:45:27.580Z"
   },
   {
    "duration": 204,
    "start_time": "2022-11-05T12:45:47.734Z"
   },
   {
    "duration": 21,
    "start_time": "2022-11-05T13:02:09.017Z"
   },
   {
    "duration": 24,
    "start_time": "2022-11-05T13:02:24.280Z"
   },
   {
    "duration": 18,
    "start_time": "2022-11-05T13:02:28.974Z"
   },
   {
    "duration": 16,
    "start_time": "2022-11-05T13:02:46.348Z"
   },
   {
    "duration": 33,
    "start_time": "2022-11-05T13:04:44.452Z"
   },
   {
    "duration": 37,
    "start_time": "2022-11-05T13:05:35.512Z"
   },
   {
    "duration": 18,
    "start_time": "2022-11-05T13:05:44.441Z"
   },
   {
    "duration": 18,
    "start_time": "2022-11-05T13:06:04.113Z"
   },
   {
    "duration": 17,
    "start_time": "2022-11-05T13:06:13.064Z"
   },
   {
    "duration": 10,
    "start_time": "2022-11-05T13:06:36.376Z"
   },
   {
    "duration": 6,
    "start_time": "2022-11-05T13:07:14.496Z"
   },
   {
    "duration": 18,
    "start_time": "2022-11-05T13:07:17.602Z"
   },
   {
    "duration": 12,
    "start_time": "2022-11-05T13:07:27.338Z"
   },
   {
    "duration": 6,
    "start_time": "2022-11-05T13:08:54.520Z"
   },
   {
    "duration": 5,
    "start_time": "2022-11-05T13:09:06.872Z"
   },
   {
    "duration": 30,
    "start_time": "2022-11-05T13:09:32.084Z"
   },
   {
    "duration": 38,
    "start_time": "2022-11-05T13:09:39.120Z"
   },
   {
    "duration": 11,
    "start_time": "2022-11-05T13:11:34.880Z"
   },
   {
    "duration": 200,
    "start_time": "2022-11-05T13:12:01.796Z"
   },
   {
    "duration": 207,
    "start_time": "2022-11-05T13:12:07.894Z"
   },
   {
    "duration": 11,
    "start_time": "2022-11-05T13:12:48.667Z"
   },
   {
    "duration": 12,
    "start_time": "2022-11-05T13:12:53.864Z"
   },
   {
    "duration": 7,
    "start_time": "2022-11-05T13:13:01.936Z"
   },
   {
    "duration": 13,
    "start_time": "2022-11-05T13:13:07.439Z"
   },
   {
    "duration": 539,
    "start_time": "2022-11-05T13:14:29.617Z"
   },
   {
    "duration": 8,
    "start_time": "2022-11-05T13:14:32.383Z"
   },
   {
    "duration": 15,
    "start_time": "2022-11-05T13:14:46.428Z"
   },
   {
    "duration": 14,
    "start_time": "2022-11-05T13:14:52.450Z"
   },
   {
    "duration": 11,
    "start_time": "2022-11-05T13:15:21.483Z"
   },
   {
    "duration": 7,
    "start_time": "2022-11-05T13:15:25.776Z"
   },
   {
    "duration": 9,
    "start_time": "2022-11-05T13:15:48.330Z"
   },
   {
    "duration": 200,
    "start_time": "2022-11-05T13:15:49.609Z"
   },
   {
    "duration": 5,
    "start_time": "2022-11-05T13:16:31.507Z"
   },
   {
    "duration": 6,
    "start_time": "2022-11-05T13:16:35.600Z"
   },
   {
    "duration": 208,
    "start_time": "2022-11-05T13:16:36.351Z"
   },
   {
    "duration": 6,
    "start_time": "2022-11-05T13:16:37.982Z"
   },
   {
    "duration": 13,
    "start_time": "2022-11-05T13:16:52.659Z"
   },
   {
    "duration": 10,
    "start_time": "2022-11-05T13:16:57.395Z"
   },
   {
    "duration": 31,
    "start_time": "2022-11-05T13:17:22.554Z"
   },
   {
    "duration": 13,
    "start_time": "2022-11-05T13:17:30.049Z"
   },
   {
    "duration": 32,
    "start_time": "2022-11-05T13:17:36.871Z"
   },
   {
    "duration": 705,
    "start_time": "2022-11-05T13:18:38.175Z"
   },
   {
    "duration": 1439,
    "start_time": "2022-11-05T13:18:58.637Z"
   },
   {
    "duration": 1648,
    "start_time": "2022-11-05T13:19:33.246Z"
   },
   {
    "duration": 1551,
    "start_time": "2022-11-05T13:19:39.120Z"
   },
   {
    "duration": 1410,
    "start_time": "2022-11-05T13:20:00.185Z"
   },
   {
    "duration": 1512,
    "start_time": "2022-11-05T13:20:23.309Z"
   },
   {
    "duration": 2351,
    "start_time": "2022-11-05T13:20:33.427Z"
   },
   {
    "duration": 1564,
    "start_time": "2022-11-05T13:20:48.374Z"
   },
   {
    "duration": 1308,
    "start_time": "2022-11-05T13:21:36.522Z"
   },
   {
    "duration": 1511,
    "start_time": "2022-11-05T13:21:54.158Z"
   },
   {
    "duration": 1373,
    "start_time": "2022-11-05T13:22:12.565Z"
   },
   {
    "duration": 1406,
    "start_time": "2022-11-05T13:22:25.528Z"
   },
   {
    "duration": 1733,
    "start_time": "2022-11-05T13:22:44.659Z"
   },
   {
    "duration": 1607,
    "start_time": "2022-11-05T13:23:05.855Z"
   },
   {
    "duration": 1532,
    "start_time": "2022-11-05T13:23:18.909Z"
   },
   {
    "duration": 1397,
    "start_time": "2022-11-05T13:24:50.693Z"
   },
   {
    "duration": 1327,
    "start_time": "2022-11-05T13:25:06.827Z"
   },
   {
    "duration": 1448,
    "start_time": "2022-11-05T13:25:26.103Z"
   },
   {
    "duration": 1112,
    "start_time": "2022-11-05T13:25:47.367Z"
   },
   {
    "duration": 1143,
    "start_time": "2022-11-05T13:25:57.942Z"
   },
   {
    "duration": 1541,
    "start_time": "2022-11-05T13:26:11.015Z"
   },
   {
    "duration": 1469,
    "start_time": "2022-11-05T13:26:19.551Z"
   },
   {
    "duration": 1142,
    "start_time": "2022-11-05T13:26:29.380Z"
   },
   {
    "duration": 1277,
    "start_time": "2022-11-05T13:26:44.443Z"
   },
   {
    "duration": 1064,
    "start_time": "2022-11-05T13:27:00.302Z"
   },
   {
    "duration": 1315,
    "start_time": "2022-11-05T13:27:12.120Z"
   },
   {
    "duration": 1034,
    "start_time": "2022-11-05T13:27:20.363Z"
   },
   {
    "duration": 1243,
    "start_time": "2022-11-05T13:27:31.317Z"
   },
   {
    "duration": 1368,
    "start_time": "2022-11-05T13:27:43.158Z"
   },
   {
    "duration": 989,
    "start_time": "2022-11-05T13:27:48.379Z"
   },
   {
    "duration": 1042,
    "start_time": "2022-11-05T13:27:55.841Z"
   },
   {
    "duration": 1423,
    "start_time": "2022-11-05T13:28:01.245Z"
   },
   {
    "duration": 1475,
    "start_time": "2022-11-05T13:28:09.284Z"
   },
   {
    "duration": 1184,
    "start_time": "2022-11-05T13:28:23.713Z"
   },
   {
    "duration": 1130,
    "start_time": "2022-11-05T13:28:29.774Z"
   },
   {
    "duration": 1099,
    "start_time": "2022-11-05T13:28:34.413Z"
   },
   {
    "duration": 1424,
    "start_time": "2022-11-05T13:28:44.000Z"
   },
   {
    "duration": 12,
    "start_time": "2022-11-05T13:29:58.526Z"
   },
   {
    "duration": 1207,
    "start_time": "2022-11-05T13:30:23.825Z"
   },
   {
    "duration": 13,
    "start_time": "2022-11-05T13:34:58.495Z"
   },
   {
    "duration": 16,
    "start_time": "2022-11-05T13:35:09.301Z"
   },
   {
    "duration": 266,
    "start_time": "2022-11-05T13:37:01.527Z"
   },
   {
    "duration": 5,
    "start_time": "2022-11-05T13:37:05.935Z"
   },
   {
    "duration": 12,
    "start_time": "2022-11-05T13:37:09.882Z"
   },
   {
    "duration": 1366,
    "start_time": "2022-11-05T13:37:10.740Z"
   },
   {
    "duration": 789,
    "start_time": "2022-11-05T13:37:20.685Z"
   },
   {
    "duration": 808,
    "start_time": "2022-11-05T13:41:03.518Z"
   },
   {
    "duration": 24,
    "start_time": "2022-11-05T13:41:24.063Z"
   },
   {
    "duration": 34,
    "start_time": "2022-11-05T13:41:34.107Z"
   },
   {
    "duration": 27,
    "start_time": "2022-11-05T13:41:53.653Z"
   },
   {
    "duration": 26,
    "start_time": "2022-11-05T13:41:56.869Z"
   },
   {
    "duration": 786,
    "start_time": "2022-11-05T13:46:10.003Z"
   },
   {
    "duration": 867,
    "start_time": "2022-11-05T13:48:22.646Z"
   },
   {
    "duration": 753,
    "start_time": "2022-11-05T13:48:48.501Z"
   },
   {
    "duration": 885,
    "start_time": "2022-11-05T13:51:01.409Z"
   },
   {
    "duration": 4,
    "start_time": "2022-11-05T13:52:06.647Z"
   },
   {
    "duration": 23,
    "start_time": "2022-11-05T13:52:10.558Z"
   },
   {
    "duration": 24,
    "start_time": "2022-11-05T14:07:07.755Z"
   },
   {
    "duration": 24,
    "start_time": "2022-11-05T14:07:19.789Z"
   },
   {
    "duration": 25,
    "start_time": "2022-11-05T14:07:26.313Z"
   },
   {
    "duration": 31,
    "start_time": "2022-11-05T14:11:20.411Z"
   },
   {
    "duration": 44,
    "start_time": "2022-11-05T14:12:17.326Z"
   },
   {
    "duration": 142,
    "start_time": "2022-11-05T14:13:27.593Z"
   },
   {
    "duration": 141,
    "start_time": "2022-11-05T14:14:55.978Z"
   },
   {
    "duration": 238,
    "start_time": "2022-11-05T14:15:08.079Z"
   },
   {
    "duration": 6,
    "start_time": "2022-11-05T14:15:50.896Z"
   },
   {
    "duration": 959,
    "start_time": "2022-11-05T14:15:53.278Z"
   },
   {
    "duration": 998,
    "start_time": "2022-11-05T14:16:00.964Z"
   },
   {
    "duration": 8,
    "start_time": "2022-11-05T14:16:25.347Z"
   },
   {
    "duration": 777,
    "start_time": "2022-11-05T14:16:26.055Z"
   },
   {
    "duration": 6,
    "start_time": "2022-11-05T14:16:37.354Z"
   },
   {
    "duration": 784,
    "start_time": "2022-11-05T14:16:39.026Z"
   },
   {
    "duration": 1388,
    "start_time": "2022-11-05T14:16:45.849Z"
   },
   {
    "duration": 27,
    "start_time": "2022-11-05T14:16:54.600Z"
   },
   {
    "duration": 246,
    "start_time": "2022-11-05T14:16:58.562Z"
   },
   {
    "duration": 251,
    "start_time": "2022-11-05T14:21:23.219Z"
   },
   {
    "duration": 246,
    "start_time": "2022-11-05T14:22:48.984Z"
   },
   {
    "duration": 264,
    "start_time": "2022-11-05T14:23:01.086Z"
   },
   {
    "duration": 398,
    "start_time": "2022-11-05T14:23:07.042Z"
   },
   {
    "duration": 308,
    "start_time": "2022-11-05T14:23:13.881Z"
   },
   {
    "duration": 527,
    "start_time": "2022-11-05T14:23:21.531Z"
   },
   {
    "duration": 370,
    "start_time": "2022-11-05T14:23:50.457Z"
   },
   {
    "duration": 355,
    "start_time": "2022-11-05T14:23:55.645Z"
   },
   {
    "duration": 361,
    "start_time": "2022-11-05T14:24:17.049Z"
   },
   {
    "duration": 302,
    "start_time": "2022-11-05T14:25:05.569Z"
   },
   {
    "duration": 281,
    "start_time": "2022-11-05T14:25:17.729Z"
   },
   {
    "duration": 281,
    "start_time": "2022-11-05T14:26:42.458Z"
   },
   {
    "duration": 301,
    "start_time": "2022-11-05T14:26:51.243Z"
   },
   {
    "duration": 40,
    "start_time": "2022-11-05T14:27:38.839Z"
   },
   {
    "duration": 7,
    "start_time": "2022-11-05T14:27:53.717Z"
   },
   {
    "duration": 11,
    "start_time": "2022-11-05T14:31:54.109Z"
   },
   {
    "duration": 499,
    "start_time": "2022-11-05T14:32:06.217Z"
   },
   {
    "duration": 663,
    "start_time": "2022-11-05T14:32:16.024Z"
   },
   {
    "duration": 24,
    "start_time": "2022-11-05T14:33:04.991Z"
   },
   {
    "duration": 287,
    "start_time": "2022-11-05T14:33:09.094Z"
   },
   {
    "duration": 507,
    "start_time": "2022-11-05T14:34:19.712Z"
   },
   {
    "duration": 498,
    "start_time": "2022-11-05T14:34:35.626Z"
   },
   {
    "duration": 515,
    "start_time": "2022-11-05T14:34:42.706Z"
   },
   {
    "duration": 475,
    "start_time": "2022-11-05T14:34:49.389Z"
   },
   {
    "duration": 12,
    "start_time": "2022-11-05T14:36:56.183Z"
   },
   {
    "duration": 64,
    "start_time": "2022-11-05T14:37:00.069Z"
   },
   {
    "duration": 12,
    "start_time": "2022-11-05T14:37:06.304Z"
   },
   {
    "duration": 12,
    "start_time": "2022-11-05T14:37:17.774Z"
   },
   {
    "duration": 7,
    "start_time": "2022-11-05T14:38:22.824Z"
   },
   {
    "duration": 24,
    "start_time": "2022-11-05T14:38:27.646Z"
   },
   {
    "duration": 360,
    "start_time": "2022-11-05T14:39:25.879Z"
   },
   {
    "duration": 533,
    "start_time": "2022-11-05T14:49:22.941Z"
   },
   {
    "duration": 415,
    "start_time": "2022-11-05T14:49:30.611Z"
   },
   {
    "duration": 420,
    "start_time": "2022-11-05T14:49:36.120Z"
   },
   {
    "duration": 10,
    "start_time": "2022-11-05T15:00:30.894Z"
   },
   {
    "duration": 18,
    "start_time": "2022-11-05T15:00:37.609Z"
   },
   {
    "duration": 21,
    "start_time": "2022-11-05T15:00:55.097Z"
   },
   {
    "duration": 17,
    "start_time": "2022-11-05T15:01:14.964Z"
   },
   {
    "duration": 668,
    "start_time": "2022-11-05T15:02:39.813Z"
   },
   {
    "duration": 673,
    "start_time": "2022-11-05T15:02:48.790Z"
   },
   {
    "duration": 868,
    "start_time": "2022-11-05T15:02:58.364Z"
   },
   {
    "duration": 770,
    "start_time": "2022-11-05T15:03:03.184Z"
   },
   {
    "duration": 865,
    "start_time": "2022-11-05T15:03:16.089Z"
   },
   {
    "duration": 668,
    "start_time": "2022-11-05T15:16:21.651Z"
   },
   {
    "duration": 668,
    "start_time": "2022-11-05T15:16:42.215Z"
   },
   {
    "duration": 752,
    "start_time": "2022-11-05T15:17:24.559Z"
   },
   {
    "duration": 622,
    "start_time": "2022-11-05T15:17:58.137Z"
   },
   {
    "duration": 624,
    "start_time": "2022-11-05T15:18:36.910Z"
   },
   {
    "duration": 810,
    "start_time": "2022-11-05T15:18:59.629Z"
   },
   {
    "duration": 54,
    "start_time": "2022-11-05T20:07:34.401Z"
   },
   {
    "duration": 564,
    "start_time": "2022-11-05T20:08:16.692Z"
   },
   {
    "duration": 53,
    "start_time": "2022-11-05T20:08:20.241Z"
   },
   {
    "duration": 162,
    "start_time": "2022-11-05T20:08:24.464Z"
   },
   {
    "duration": 2,
    "start_time": "2022-11-05T20:08:24.644Z"
   },
   {
    "duration": 3,
    "start_time": "2022-11-05T20:08:24.825Z"
   },
   {
    "duration": 503,
    "start_time": "2022-11-05T20:08:24.979Z"
   },
   {
    "duration": 3,
    "start_time": "2022-11-05T20:08:25.484Z"
   },
   {
    "duration": 336,
    "start_time": "2022-11-05T20:08:31.141Z"
   },
   {
    "duration": 216,
    "start_time": "2022-11-05T20:08:31.479Z"
   },
   {
    "duration": 3,
    "start_time": "2022-11-05T20:08:31.696Z"
   },
   {
    "duration": 480,
    "start_time": "2022-11-05T20:08:31.700Z"
   },
   {
    "duration": 10,
    "start_time": "2022-11-05T20:08:32.181Z"
   },
   {
    "duration": 466,
    "start_time": "2022-11-05T20:08:32.192Z"
   },
   {
    "duration": 13,
    "start_time": "2022-11-05T20:08:32.660Z"
   },
   {
    "duration": 2,
    "start_time": "2022-11-05T20:08:32.675Z"
   },
   {
    "duration": 22,
    "start_time": "2022-11-05T20:08:32.679Z"
   },
   {
    "duration": 10,
    "start_time": "2022-11-05T20:08:32.704Z"
   },
   {
    "duration": 4,
    "start_time": "2022-11-05T20:08:32.715Z"
   },
   {
    "duration": 13,
    "start_time": "2022-11-05T20:08:32.721Z"
   },
   {
    "duration": 6,
    "start_time": "2022-11-05T20:08:32.736Z"
   },
   {
    "duration": 7,
    "start_time": "2022-11-05T20:08:32.744Z"
   },
   {
    "duration": 473,
    "start_time": "2022-11-05T20:08:32.752Z"
   },
   {
    "duration": 6,
    "start_time": "2022-11-05T20:08:33.227Z"
   },
   {
    "duration": 5,
    "start_time": "2022-11-05T20:08:33.235Z"
   },
   {
    "duration": 202,
    "start_time": "2022-11-05T20:08:33.242Z"
   },
   {
    "duration": 4,
    "start_time": "2022-11-05T20:08:33.446Z"
   },
   {
    "duration": 1316,
    "start_time": "2022-11-05T20:08:33.452Z"
   },
   {
    "duration": 25,
    "start_time": "2022-11-05T20:08:34.770Z"
   },
   {
    "duration": 20,
    "start_time": "2022-11-05T20:08:34.797Z"
   },
   {
    "duration": 120,
    "start_time": "2022-11-05T20:08:34.818Z"
   },
   {
    "duration": 0,
    "start_time": "2022-11-05T20:08:34.940Z"
   },
   {
    "duration": 0,
    "start_time": "2022-11-05T20:08:34.941Z"
   },
   {
    "duration": 0,
    "start_time": "2022-11-05T20:08:34.943Z"
   },
   {
    "duration": 0,
    "start_time": "2022-11-05T20:08:34.944Z"
   },
   {
    "duration": 0,
    "start_time": "2022-11-05T20:08:34.944Z"
   },
   {
    "duration": 0,
    "start_time": "2022-11-05T20:08:34.946Z"
   },
   {
    "duration": 0,
    "start_time": "2022-11-05T20:08:34.946Z"
   },
   {
    "duration": 0,
    "start_time": "2022-11-05T20:08:34.948Z"
   },
   {
    "duration": 0,
    "start_time": "2022-11-05T20:08:34.949Z"
   },
   {
    "duration": 30,
    "start_time": "2022-11-05T20:09:03.314Z"
   },
   {
    "duration": 19,
    "start_time": "2022-11-05T20:09:49.712Z"
   },
   {
    "duration": 24,
    "start_time": "2022-11-05T20:09:53.183Z"
   },
   {
    "duration": 28,
    "start_time": "2022-11-05T20:10:50.939Z"
   },
   {
    "duration": 23,
    "start_time": "2022-11-05T20:10:56.975Z"
   },
   {
    "duration": 162,
    "start_time": "2022-11-05T20:11:00.151Z"
   },
   {
    "duration": 580,
    "start_time": "2022-11-05T20:11:10.405Z"
   },
   {
    "duration": 389,
    "start_time": "2022-11-05T20:11:13.641Z"
   },
   {
    "duration": 260,
    "start_time": "2022-11-05T20:11:35.810Z"
   },
   {
    "duration": 13,
    "start_time": "2022-11-05T20:12:01.000Z"
   },
   {
    "duration": 9,
    "start_time": "2022-11-05T20:13:10.015Z"
   },
   {
    "duration": 13,
    "start_time": "2022-11-05T20:13:13.469Z"
   },
   {
    "duration": 7,
    "start_time": "2022-11-05T20:13:20.030Z"
   },
   {
    "duration": 12,
    "start_time": "2022-11-05T20:13:43.839Z"
   },
   {
    "duration": 131,
    "start_time": "2022-11-05T20:15:44.619Z"
   },
   {
    "duration": 104,
    "start_time": "2022-11-05T20:16:04.051Z"
   },
   {
    "duration": 194,
    "start_time": "2022-11-05T20:16:14.828Z"
   },
   {
    "duration": 123,
    "start_time": "2022-11-05T20:16:20.390Z"
   },
   {
    "duration": 3,
    "start_time": "2022-11-05T20:18:03.261Z"
   },
   {
    "duration": 5,
    "start_time": "2022-11-05T20:18:03.266Z"
   },
   {
    "duration": 3,
    "start_time": "2022-11-05T20:18:03.273Z"
   },
   {
    "duration": 3,
    "start_time": "2022-11-05T20:18:03.278Z"
   },
   {
    "duration": 2,
    "start_time": "2022-11-05T20:18:03.284Z"
   },
   {
    "duration": 70,
    "start_time": "2022-11-05T20:18:03.288Z"
   },
   {
    "duration": 17,
    "start_time": "2022-11-05T20:18:03.359Z"
   },
   {
    "duration": 8,
    "start_time": "2022-11-05T20:18:03.377Z"
   },
   {
    "duration": 27,
    "start_time": "2022-11-05T20:18:03.386Z"
   },
   {
    "duration": 8,
    "start_time": "2022-11-05T20:18:03.415Z"
   },
   {
    "duration": 6,
    "start_time": "2022-11-05T20:18:03.424Z"
   },
   {
    "duration": 13,
    "start_time": "2022-11-05T20:18:03.432Z"
   },
   {
    "duration": 6,
    "start_time": "2022-11-05T20:18:03.447Z"
   },
   {
    "duration": 8,
    "start_time": "2022-11-05T20:18:03.456Z"
   },
   {
    "duration": 465,
    "start_time": "2022-11-05T20:18:03.465Z"
   },
   {
    "duration": 7,
    "start_time": "2022-11-05T20:18:03.932Z"
   },
   {
    "duration": 6,
    "start_time": "2022-11-05T20:18:03.941Z"
   },
   {
    "duration": 206,
    "start_time": "2022-11-05T20:18:03.948Z"
   },
   {
    "duration": 4,
    "start_time": "2022-11-05T20:18:04.156Z"
   },
   {
    "duration": 1246,
    "start_time": "2022-11-05T20:18:04.162Z"
   },
   {
    "duration": 26,
    "start_time": "2022-11-05T20:18:05.410Z"
   },
   {
    "duration": 20,
    "start_time": "2022-11-05T20:18:05.438Z"
   },
   {
    "duration": 146,
    "start_time": "2022-11-05T20:18:05.460Z"
   },
   {
    "duration": 267,
    "start_time": "2022-11-05T20:18:05.608Z"
   },
   {
    "duration": 390,
    "start_time": "2022-11-05T20:18:05.877Z"
   },
   {
    "duration": 678,
    "start_time": "2022-11-05T20:18:06.268Z"
   },
   {
    "duration": 592,
    "start_time": "2022-11-05T20:18:06.947Z"
   },
   {
    "duration": 645,
    "start_time": "2022-11-05T20:18:07.541Z"
   },
   {
    "duration": 583,
    "start_time": "2022-11-05T20:18:08.191Z"
   },
   {
    "duration": 555,
    "start_time": "2022-11-05T20:18:08.775Z"
   },
   {
    "duration": 697,
    "start_time": "2022-11-05T20:18:09.332Z"
   },
   {
    "duration": 13,
    "start_time": "2022-11-05T20:18:10.031Z"
   },
   {
    "duration": 2,
    "start_time": "2022-11-05T20:18:10.046Z"
   },
   {
    "duration": 115,
    "start_time": "2022-11-05T20:18:31.617Z"
   },
   {
    "duration": 12,
    "start_time": "2022-11-05T20:18:51.912Z"
   },
   {
    "duration": 15,
    "start_time": "2022-11-05T20:20:47.369Z"
   },
   {
    "duration": 211,
    "start_time": "2022-11-05T20:20:54.494Z"
   },
   {
    "duration": 12,
    "start_time": "2022-11-05T20:21:13.750Z"
   },
   {
    "duration": 199,
    "start_time": "2022-11-05T20:21:16.053Z"
   },
   {
    "duration": 12,
    "start_time": "2022-11-05T20:21:28.554Z"
   },
   {
    "duration": 11,
    "start_time": "2022-11-05T20:21:49.299Z"
   },
   {
    "duration": 191,
    "start_time": "2022-11-05T20:21:52.543Z"
   },
   {
    "duration": 120,
    "start_time": "2022-11-05T20:22:16.408Z"
   },
   {
    "duration": 377,
    "start_time": "2022-11-05T20:23:07.715Z"
   },
   {
    "duration": 244,
    "start_time": "2022-11-05T20:23:08.093Z"
   },
   {
    "duration": 2,
    "start_time": "2022-11-05T20:23:08.339Z"
   },
   {
    "duration": 548,
    "start_time": "2022-11-05T20:23:08.343Z"
   },
   {
    "duration": 4,
    "start_time": "2022-11-05T20:23:08.893Z"
   },
   {
    "duration": 80,
    "start_time": "2022-11-05T20:23:08.898Z"
   },
   {
    "duration": 14,
    "start_time": "2022-11-05T20:23:08.980Z"
   },
   {
    "duration": 3,
    "start_time": "2022-11-05T20:23:08.995Z"
   },
   {
    "duration": 19,
    "start_time": "2022-11-05T20:23:08.999Z"
   },
   {
    "duration": 8,
    "start_time": "2022-11-05T20:23:09.019Z"
   },
   {
    "duration": 4,
    "start_time": "2022-11-05T20:23:09.028Z"
   },
   {
    "duration": 12,
    "start_time": "2022-11-05T20:23:09.034Z"
   },
   {
    "duration": 7,
    "start_time": "2022-11-05T20:23:09.047Z"
   },
   {
    "duration": 40,
    "start_time": "2022-11-05T20:23:09.056Z"
   },
   {
    "duration": 454,
    "start_time": "2022-11-05T20:23:09.097Z"
   },
   {
    "duration": 7,
    "start_time": "2022-11-05T20:23:09.552Z"
   },
   {
    "duration": 12,
    "start_time": "2022-11-05T20:23:09.561Z"
   },
   {
    "duration": 225,
    "start_time": "2022-11-05T20:23:09.575Z"
   },
   {
    "duration": 5,
    "start_time": "2022-11-05T20:23:09.801Z"
   },
   {
    "duration": 1304,
    "start_time": "2022-11-05T20:23:09.808Z"
   },
   {
    "duration": 24,
    "start_time": "2022-11-05T20:23:11.114Z"
   },
   {
    "duration": 21,
    "start_time": "2022-11-05T20:23:11.139Z"
   },
   {
    "duration": 24,
    "start_time": "2022-11-05T20:23:11.161Z"
   },
   {
    "duration": 282,
    "start_time": "2022-11-05T20:23:11.186Z"
   },
   {
    "duration": 435,
    "start_time": "2022-11-05T20:23:11.470Z"
   },
   {
    "duration": 646,
    "start_time": "2022-11-05T20:23:11.906Z"
   },
   {
    "duration": 633,
    "start_time": "2022-11-05T20:23:12.554Z"
   },
   {
    "duration": 718,
    "start_time": "2022-11-05T20:23:13.191Z"
   },
   {
    "duration": 677,
    "start_time": "2022-11-05T20:23:13.911Z"
   },
   {
    "duration": 698,
    "start_time": "2022-11-05T20:23:14.590Z"
   },
   {
    "duration": 590,
    "start_time": "2022-11-05T20:23:15.290Z"
   },
   {
    "duration": 71,
    "start_time": "2022-11-05T20:23:15.881Z"
   },
   {
    "duration": 0,
    "start_time": "2022-11-05T20:23:15.953Z"
   },
   {
    "duration": 93,
    "start_time": "2022-11-05T20:23:22.830Z"
   },
   {
    "duration": 16,
    "start_time": "2022-11-05T20:23:43.898Z"
   },
   {
    "duration": 249,
    "start_time": "2022-11-05T20:23:46.582Z"
   },
   {
    "duration": 288,
    "start_time": "2022-11-05T20:25:23.253Z"
   },
   {
    "duration": 9,
    "start_time": "2022-11-05T20:26:21.191Z"
   },
   {
    "duration": 9,
    "start_time": "2022-11-05T20:27:00.449Z"
   },
   {
    "duration": 24,
    "start_time": "2022-11-05T20:27:05.121Z"
   },
   {
    "duration": 389,
    "start_time": "2022-11-05T20:27:30.781Z"
   },
   {
    "duration": 378,
    "start_time": "2022-11-05T20:28:10.399Z"
   },
   {
    "duration": 368,
    "start_time": "2022-11-05T20:28:35.576Z"
   },
   {
    "duration": 191,
    "start_time": "2022-11-05T20:28:45.161Z"
   },
   {
    "duration": 217,
    "start_time": "2022-11-05T20:28:51.480Z"
   },
   {
    "duration": 340,
    "start_time": "2022-11-05T20:28:55.440Z"
   },
   {
    "duration": 218,
    "start_time": "2022-11-05T20:29:00.577Z"
   },
   {
    "duration": 191,
    "start_time": "2022-11-05T20:29:04.675Z"
   },
   {
    "duration": 9,
    "start_time": "2022-11-05T20:30:28.278Z"
   },
   {
    "duration": 1096,
    "start_time": "2022-11-05T20:30:36.737Z"
   },
   {
    "duration": 12,
    "start_time": "2022-11-05T20:37:35.329Z"
   },
   {
    "duration": 143,
    "start_time": "2022-11-05T20:39:26.348Z"
   },
   {
    "duration": 186,
    "start_time": "2022-11-05T20:39:37.110Z"
   },
   {
    "duration": 9,
    "start_time": "2022-11-05T20:45:47.282Z"
   },
   {
    "duration": 1136,
    "start_time": "2022-11-05T20:46:00.968Z"
   },
   {
    "duration": 161,
    "start_time": "2022-11-05T20:46:20.502Z"
   },
   {
    "duration": 175,
    "start_time": "2022-11-05T20:46:51.282Z"
   },
   {
    "duration": 195,
    "start_time": "2022-11-05T20:47:09.526Z"
   },
   {
    "duration": 164,
    "start_time": "2022-11-05T20:47:18.509Z"
   },
   {
    "duration": 83,
    "start_time": "2022-11-05T20:47:54.550Z"
   },
   {
    "duration": 83,
    "start_time": "2022-11-05T20:47:59.987Z"
   },
   {
    "duration": 68,
    "start_time": "2022-11-05T20:48:02.588Z"
   },
   {
    "duration": 68,
    "start_time": "2022-11-05T20:48:10.293Z"
   },
   {
    "duration": 169,
    "start_time": "2022-11-05T20:48:33.887Z"
   },
   {
    "duration": 74,
    "start_time": "2022-11-05T20:50:17.228Z"
   },
   {
    "duration": 188,
    "start_time": "2022-11-05T20:50:29.352Z"
   },
   {
    "duration": 253,
    "start_time": "2022-11-05T20:51:02.719Z"
   },
   {
    "duration": 150,
    "start_time": "2022-11-05T20:51:15.318Z"
   },
   {
    "duration": 15,
    "start_time": "2022-11-05T20:52:55.862Z"
   },
   {
    "duration": 22,
    "start_time": "2022-11-05T20:53:00.267Z"
   },
   {
    "duration": 11,
    "start_time": "2022-11-05T20:53:07.278Z"
   },
   {
    "duration": 21,
    "start_time": "2022-11-05T20:53:11.964Z"
   },
   {
    "duration": 12,
    "start_time": "2022-11-05T20:53:16.143Z"
   },
   {
    "duration": 24,
    "start_time": "2022-11-05T20:53:30.000Z"
   },
   {
    "duration": 14,
    "start_time": "2022-11-05T20:53:55.985Z"
   },
   {
    "duration": 38,
    "start_time": "2022-11-05T20:53:59.701Z"
   },
   {
    "duration": 68,
    "start_time": "2022-11-05T20:54:53.579Z"
   },
   {
    "duration": 33,
    "start_time": "2022-11-05T20:55:00.476Z"
   },
   {
    "duration": 33,
    "start_time": "2022-11-05T20:55:15.075Z"
   },
   {
    "duration": 30,
    "start_time": "2022-11-05T20:55:39.608Z"
   },
   {
    "duration": 72,
    "start_time": "2022-11-05T20:55:47.898Z"
   },
   {
    "duration": 25,
    "start_time": "2022-11-05T20:55:51.309Z"
   },
   {
    "duration": 29,
    "start_time": "2022-11-05T20:56:12.770Z"
   },
   {
    "duration": 16,
    "start_time": "2022-11-05T20:56:28.403Z"
   },
   {
    "duration": 194,
    "start_time": "2022-11-05T20:56:40.721Z"
   },
   {
    "duration": 74,
    "start_time": "2022-11-05T20:57:01.164Z"
   },
   {
    "duration": 25,
    "start_time": "2022-11-05T20:57:08.602Z"
   },
   {
    "duration": 17,
    "start_time": "2022-11-05T20:57:17.821Z"
   },
   {
    "duration": 16,
    "start_time": "2022-11-05T20:57:33.933Z"
   },
   {
    "duration": 76,
    "start_time": "2022-11-05T20:57:47.831Z"
   },
   {
    "duration": 25,
    "start_time": "2022-11-05T20:58:01.839Z"
   },
   {
    "duration": 20,
    "start_time": "2022-11-05T21:03:54.697Z"
   },
   {
    "duration": 16,
    "start_time": "2022-11-05T21:04:04.141Z"
   },
   {
    "duration": 194,
    "start_time": "2022-11-05T21:04:11.268Z"
   },
   {
    "duration": 86,
    "start_time": "2022-11-05T21:06:13.099Z"
   },
   {
    "duration": 9,
    "start_time": "2022-11-05T21:07:02.551Z"
   },
   {
    "duration": 9,
    "start_time": "2022-11-05T21:08:02.095Z"
   },
   {
    "duration": 17,
    "start_time": "2022-11-05T21:08:07.408Z"
   },
   {
    "duration": 16,
    "start_time": "2022-11-05T21:09:40.380Z"
   },
   {
    "duration": 321,
    "start_time": "2022-11-05T21:09:55.604Z"
   },
   {
    "duration": 54,
    "start_time": "2022-11-05T21:10:44.881Z"
   },
   {
    "duration": 47,
    "start_time": "2022-11-05T21:10:49.829Z"
   },
   {
    "duration": 2,
    "start_time": "2022-11-05T21:22:37.667Z"
   },
   {
    "duration": 38,
    "start_time": "2022-11-05T21:22:42.111Z"
   },
   {
    "duration": 36,
    "start_time": "2022-11-05T21:23:09.407Z"
   },
   {
    "duration": 164,
    "start_time": "2022-11-05T21:25:07.150Z"
   },
   {
    "duration": 43,
    "start_time": "2022-11-05T21:26:23.929Z"
   },
   {
    "duration": 38,
    "start_time": "2022-11-05T21:26:29.686Z"
   },
   {
    "duration": 37,
    "start_time": "2022-11-05T21:26:35.428Z"
   },
   {
    "duration": 37,
    "start_time": "2022-11-05T21:26:39.077Z"
   },
   {
    "duration": 37,
    "start_time": "2022-11-05T21:26:43.476Z"
   },
   {
    "duration": 35,
    "start_time": "2022-11-05T21:26:49.465Z"
   },
   {
    "duration": 8,
    "start_time": "2022-11-05T21:28:49.694Z"
   },
   {
    "duration": 189,
    "start_time": "2022-11-05T21:28:51.274Z"
   },
   {
    "duration": 36,
    "start_time": "2022-11-05T21:28:53.365Z"
   },
   {
    "duration": 292,
    "start_time": "2022-11-05T21:33:16.024Z"
   },
   {
    "duration": 432,
    "start_time": "2022-11-05T21:33:51.430Z"
   },
   {
    "duration": 441,
    "start_time": "2022-11-05T21:34:04.608Z"
   },
   {
    "duration": 431,
    "start_time": "2022-11-05T21:34:14.274Z"
   },
   {
    "duration": 368,
    "start_time": "2022-11-05T21:35:16.443Z"
   },
   {
    "duration": 93,
    "start_time": "2022-11-05T21:36:41.768Z"
   },
   {
    "duration": 88,
    "start_time": "2022-11-05T21:39:13.889Z"
   },
   {
    "duration": 71,
    "start_time": "2022-11-05T21:39:19.005Z"
   },
   {
    "duration": 42,
    "start_time": "2022-11-05T21:39:25.211Z"
   },
   {
    "duration": 37,
    "start_time": "2022-11-05T21:40:20.750Z"
   },
   {
    "duration": 46,
    "start_time": "2022-11-05T21:40:27.014Z"
   },
   {
    "duration": 57,
    "start_time": "2022-11-05T21:40:36.538Z"
   },
   {
    "duration": 39,
    "start_time": "2022-11-05T21:40:45.461Z"
   },
   {
    "duration": 41,
    "start_time": "2022-11-05T21:40:50.125Z"
   },
   {
    "duration": 36,
    "start_time": "2022-11-05T21:40:56.137Z"
   },
   {
    "duration": 40,
    "start_time": "2022-11-05T21:41:09.180Z"
   },
   {
    "duration": 40,
    "start_time": "2022-11-05T21:41:16.882Z"
   },
   {
    "duration": 162,
    "start_time": "2022-11-05T21:41:37.363Z"
   },
   {
    "duration": 183,
    "start_time": "2022-11-05T21:42:09.659Z"
   },
   {
    "duration": 178,
    "start_time": "2022-11-05T21:42:45.188Z"
   },
   {
    "duration": 145,
    "start_time": "2022-11-05T21:43:18.839Z"
   },
   {
    "duration": 36,
    "start_time": "2022-11-05T21:43:35.232Z"
   },
   {
    "duration": 137,
    "start_time": "2022-11-05T21:43:38.037Z"
   },
   {
    "duration": 74,
    "start_time": "2022-11-05T21:45:46.973Z"
   },
   {
    "duration": 21,
    "start_time": "2022-11-05T21:45:49.998Z"
   },
   {
    "duration": 15,
    "start_time": "2022-11-05T21:46:11.091Z"
   },
   {
    "duration": 3,
    "start_time": "2022-11-05T21:46:12.622Z"
   },
   {
    "duration": 19,
    "start_time": "2022-11-05T21:46:13.687Z"
   },
   {
    "duration": 18,
    "start_time": "2022-11-05T21:46:18.978Z"
   },
   {
    "duration": 10,
    "start_time": "2022-11-05T21:46:26.765Z"
   },
   {
    "duration": 5,
    "start_time": "2022-11-05T21:46:28.497Z"
   },
   {
    "duration": 13,
    "start_time": "2022-11-05T21:46:30.980Z"
   },
   {
    "duration": 7,
    "start_time": "2022-11-05T21:46:32.874Z"
   },
   {
    "duration": 19,
    "start_time": "2022-11-05T21:46:35.766Z"
   },
   {
    "duration": 38,
    "start_time": "2022-11-05T21:46:40.981Z"
   },
   {
    "duration": 74,
    "start_time": "2022-11-05T21:47:10.994Z"
   },
   {
    "duration": 73,
    "start_time": "2022-11-05T21:47:17.420Z"
   },
   {
    "duration": 75,
    "start_time": "2022-11-05T21:47:27.608Z"
   },
   {
    "duration": 36,
    "start_time": "2022-11-05T21:48:31.410Z"
   },
   {
    "duration": 36,
    "start_time": "2022-11-05T21:49:27.566Z"
   },
   {
    "duration": 40,
    "start_time": "2022-11-05T21:49:38.550Z"
   },
   {
    "duration": 19,
    "start_time": "2022-11-05T21:49:46.971Z"
   },
   {
    "duration": 23,
    "start_time": "2022-11-05T21:50:18.851Z"
   },
   {
    "duration": 9,
    "start_time": "2022-11-05T21:50:40.301Z"
   },
   {
    "duration": 443,
    "start_time": "2022-11-05T21:50:48.244Z"
   },
   {
    "duration": 85,
    "start_time": "2022-11-05T21:51:15.023Z"
   },
   {
    "duration": 47,
    "start_time": "2022-11-05T21:52:09.440Z"
   },
   {
    "duration": 16,
    "start_time": "2022-11-05T21:53:14.819Z"
   },
   {
    "duration": 20,
    "start_time": "2022-11-05T21:53:28.860Z"
   },
   {
    "duration": 16,
    "start_time": "2022-11-05T21:53:35.593Z"
   },
   {
    "duration": 3,
    "start_time": "2022-11-05T21:53:37.203Z"
   },
   {
    "duration": 21,
    "start_time": "2022-11-05T21:53:41.819Z"
   },
   {
    "duration": 17,
    "start_time": "2022-11-05T21:53:46.818Z"
   },
   {
    "duration": 9,
    "start_time": "2022-11-05T21:54:09.806Z"
   },
   {
    "duration": 465,
    "start_time": "2022-11-05T21:54:13.644Z"
   },
   {
    "duration": 493,
    "start_time": "2022-11-05T21:54:23.483Z"
   },
   {
    "duration": 524,
    "start_time": "2022-11-05T22:04:06.096Z"
   },
   {
    "duration": 510,
    "start_time": "2022-11-05T22:04:19.072Z"
   },
   {
    "duration": 19,
    "start_time": "2022-11-05T22:18:01.046Z"
   },
   {
    "duration": 3,
    "start_time": "2022-11-05T22:18:14.608Z"
   },
   {
    "duration": 5,
    "start_time": "2022-11-05T22:18:14.613Z"
   },
   {
    "duration": 5,
    "start_time": "2022-11-05T22:18:14.620Z"
   },
   {
    "duration": 3,
    "start_time": "2022-11-05T22:18:14.627Z"
   },
   {
    "duration": 5,
    "start_time": "2022-11-05T22:18:14.631Z"
   },
   {
    "duration": 5,
    "start_time": "2022-11-05T22:18:14.637Z"
   },
   {
    "duration": 86,
    "start_time": "2022-11-05T22:18:14.644Z"
   },
   {
    "duration": 14,
    "start_time": "2022-11-05T22:18:14.732Z"
   },
   {
    "duration": 5,
    "start_time": "2022-11-05T22:18:14.747Z"
   },
   {
    "duration": 22,
    "start_time": "2022-11-05T22:18:14.754Z"
   },
   {
    "duration": 20,
    "start_time": "2022-11-05T22:18:14.777Z"
   },
   {
    "duration": 5,
    "start_time": "2022-11-05T22:18:14.799Z"
   },
   {
    "duration": 14,
    "start_time": "2022-11-05T22:18:14.805Z"
   },
   {
    "duration": 7,
    "start_time": "2022-11-05T22:18:14.821Z"
   },
   {
    "duration": 8,
    "start_time": "2022-11-05T22:18:14.829Z"
   },
   {
    "duration": 455,
    "start_time": "2022-11-05T22:18:14.839Z"
   },
   {
    "duration": 6,
    "start_time": "2022-11-05T22:18:15.296Z"
   },
   {
    "duration": 6,
    "start_time": "2022-11-05T22:18:15.304Z"
   },
   {
    "duration": 198,
    "start_time": "2022-11-05T22:18:15.312Z"
   },
   {
    "duration": 5,
    "start_time": "2022-11-05T22:18:15.512Z"
   },
   {
    "duration": 1369,
    "start_time": "2022-11-05T22:18:15.519Z"
   },
   {
    "duration": 24,
    "start_time": "2022-11-05T22:18:16.891Z"
   },
   {
    "duration": 24,
    "start_time": "2022-11-05T22:18:16.916Z"
   },
   {
    "duration": 22,
    "start_time": "2022-11-05T22:18:16.942Z"
   },
   {
    "duration": 285,
    "start_time": "2022-11-05T22:18:16.966Z"
   },
   {
    "duration": 412,
    "start_time": "2022-11-05T22:18:17.252Z"
   },
   {
    "duration": 565,
    "start_time": "2022-11-05T22:18:17.665Z"
   },
   {
    "duration": 746,
    "start_time": "2022-11-05T22:18:18.233Z"
   },
   {
    "duration": 536,
    "start_time": "2022-11-05T22:18:18.981Z"
   },
   {
    "duration": 577,
    "start_time": "2022-11-05T22:18:19.519Z"
   },
   {
    "duration": 722,
    "start_time": "2022-11-05T22:18:20.098Z"
   },
   {
    "duration": 577,
    "start_time": "2022-11-05T22:18:20.822Z"
   },
   {
    "duration": 5,
    "start_time": "2022-11-05T22:18:21.401Z"
   },
   {
    "duration": 206,
    "start_time": "2022-11-05T22:18:21.408Z"
   },
   {
    "duration": 516,
    "start_time": "2022-11-05T22:18:21.616Z"
   },
   {
    "duration": 14,
    "start_time": "2022-11-05T22:18:32.739Z"
   },
   {
    "duration": 14,
    "start_time": "2022-11-05T22:18:49.927Z"
   },
   {
    "duration": 319,
    "start_time": "2022-11-05T22:19:25.589Z"
   },
   {
    "duration": 106,
    "start_time": "2022-11-05T22:21:20.876Z"
   },
   {
    "duration": 290,
    "start_time": "2022-11-05T22:22:35.201Z"
   },
   {
    "duration": 39,
    "start_time": "2022-11-05T22:24:04.246Z"
   },
   {
    "duration": 37,
    "start_time": "2022-11-05T22:24:10.569Z"
   },
   {
    "duration": 11,
    "start_time": "2022-11-05T22:26:05.373Z"
   },
   {
    "duration": 25,
    "start_time": "2022-11-05T22:26:15.361Z"
   },
   {
    "duration": 41,
    "start_time": "2022-11-05T22:26:51.099Z"
   },
   {
    "duration": 42,
    "start_time": "2022-11-05T22:27:05.614Z"
   },
   {
    "duration": 40,
    "start_time": "2022-11-05T22:27:12.312Z"
   },
   {
    "duration": 40,
    "start_time": "2022-11-05T22:28:05.731Z"
   },
   {
    "duration": 39,
    "start_time": "2022-11-05T22:28:09.887Z"
   },
   {
    "duration": 39,
    "start_time": "2022-11-05T22:28:15.256Z"
   },
   {
    "duration": 43,
    "start_time": "2022-11-05T22:28:29.120Z"
   },
   {
    "duration": 190,
    "start_time": "2022-11-05T22:28:40.372Z"
   },
   {
    "duration": 39,
    "start_time": "2022-11-05T22:28:44.781Z"
   },
   {
    "duration": 42,
    "start_time": "2022-11-05T22:29:01.776Z"
   },
   {
    "duration": 55,
    "start_time": "2022-11-05T22:29:08.365Z"
   },
   {
    "duration": 113,
    "start_time": "2022-11-05T22:31:38.920Z"
   },
   {
    "duration": 120,
    "start_time": "2022-11-05T22:32:45.910Z"
   },
   {
    "duration": 104,
    "start_time": "2022-11-05T22:32:51.122Z"
   },
   {
    "duration": 136,
    "start_time": "2022-11-05T22:32:59.597Z"
   },
   {
    "duration": 137,
    "start_time": "2022-11-05T22:33:07.378Z"
   },
   {
    "duration": 112,
    "start_time": "2022-11-05T22:33:10.953Z"
   },
   {
    "duration": 121,
    "start_time": "2022-11-05T22:33:18.385Z"
   },
   {
    "duration": 109,
    "start_time": "2022-11-05T22:33:25.657Z"
   },
   {
    "duration": 110,
    "start_time": "2022-11-05T22:33:29.835Z"
   },
   {
    "duration": 121,
    "start_time": "2022-11-05T22:33:48.318Z"
   },
   {
    "duration": 104,
    "start_time": "2022-11-05T22:33:57.465Z"
   },
   {
    "duration": 121,
    "start_time": "2022-11-05T22:34:10.701Z"
   },
   {
    "duration": 111,
    "start_time": "2022-11-05T22:34:19.967Z"
   },
   {
    "duration": 109,
    "start_time": "2022-11-05T22:34:29.036Z"
   },
   {
    "duration": 112,
    "start_time": "2022-11-05T22:34:37.505Z"
   },
   {
    "duration": 111,
    "start_time": "2022-11-05T22:34:45.332Z"
   },
   {
    "duration": 108,
    "start_time": "2022-11-05T22:36:06.301Z"
   },
   {
    "duration": 1161,
    "start_time": "2022-11-05T22:36:57.720Z"
   },
   {
    "duration": 335,
    "start_time": "2022-11-05T22:37:09.446Z"
   },
   {
    "duration": 114,
    "start_time": "2022-11-05T22:54:28.368Z"
   },
   {
    "duration": 118,
    "start_time": "2022-11-05T22:55:01.575Z"
   },
   {
    "duration": 130,
    "start_time": "2022-11-05T22:57:01.078Z"
   },
   {
    "duration": 142,
    "start_time": "2022-11-05T22:57:18.787Z"
   },
   {
    "duration": 491,
    "start_time": "2022-11-05T22:57:31.017Z"
   },
   {
    "duration": 310,
    "start_time": "2022-11-05T22:57:36.183Z"
   },
   {
    "duration": 31,
    "start_time": "2022-11-05T22:58:12.714Z"
   },
   {
    "duration": 8,
    "start_time": "2022-11-05T22:58:38.660Z"
   },
   {
    "duration": 7,
    "start_time": "2022-11-05T22:58:49.825Z"
   },
   {
    "duration": 6,
    "start_time": "2022-11-05T22:59:03.260Z"
   },
   {
    "duration": 9,
    "start_time": "2022-11-05T22:59:24.889Z"
   },
   {
    "duration": 7,
    "start_time": "2022-11-05T22:59:29.938Z"
   },
   {
    "duration": 376,
    "start_time": "2022-11-05T23:01:07.396Z"
   },
   {
    "duration": 378,
    "start_time": "2022-11-05T23:03:05.548Z"
   },
   {
    "duration": 385,
    "start_time": "2022-11-05T23:03:39.059Z"
   },
   {
    "duration": 310,
    "start_time": "2022-11-05T23:05:22.835Z"
   },
   {
    "duration": 386,
    "start_time": "2022-11-05T23:05:50.876Z"
   },
   {
    "duration": 14,
    "start_time": "2022-11-05T23:08:19.558Z"
   },
   {
    "duration": 307,
    "start_time": "2022-11-05T23:08:28.512Z"
   },
   {
    "duration": 294,
    "start_time": "2022-11-05T23:09:07.174Z"
   },
   {
    "duration": 496,
    "start_time": "2022-11-05T23:09:39.414Z"
   },
   {
    "duration": 15,
    "start_time": "2022-11-05T23:10:30.570Z"
   },
   {
    "duration": 1125,
    "start_time": "2022-11-05T23:10:45.332Z"
   },
   {
    "duration": 298,
    "start_time": "2022-11-05T23:10:55.357Z"
   },
   {
    "duration": 300,
    "start_time": "2022-11-05T23:11:24.304Z"
   },
   {
    "duration": 304,
    "start_time": "2022-11-05T23:11:49.191Z"
   },
   {
    "duration": 282,
    "start_time": "2022-11-05T23:14:25.784Z"
   },
   {
    "duration": 1291,
    "start_time": "2022-11-05T23:15:05.397Z"
   },
   {
    "duration": 459,
    "start_time": "2022-11-05T23:15:50.254Z"
   },
   {
    "duration": 283,
    "start_time": "2022-11-05T23:16:05.178Z"
   },
   {
    "duration": 23,
    "start_time": "2022-11-05T23:16:38.826Z"
   },
   {
    "duration": 17,
    "start_time": "2022-11-05T23:16:58.555Z"
   },
   {
    "duration": 15,
    "start_time": "2022-11-05T23:20:15.773Z"
   },
   {
    "duration": 125,
    "start_time": "2022-11-05T23:20:24.383Z"
   },
   {
    "duration": 253,
    "start_time": "2022-11-05T23:21:12.857Z"
   },
   {
    "duration": 97,
    "start_time": "2022-11-05T23:22:20.560Z"
   },
   {
    "duration": 176,
    "start_time": "2022-11-05T23:24:27.463Z"
   },
   {
    "duration": 177,
    "start_time": "2022-11-05T23:24:44.666Z"
   },
   {
    "duration": 316,
    "start_time": "2022-11-05T23:25:10.181Z"
   },
   {
    "duration": 336,
    "start_time": "2022-11-05T23:25:27.100Z"
   },
   {
    "duration": 72,
    "start_time": "2022-11-05T23:25:35.829Z"
   },
   {
    "duration": 488,
    "start_time": "2022-11-05T23:25:42.437Z"
   },
   {
    "duration": 317,
    "start_time": "2022-11-05T23:25:48.049Z"
   },
   {
    "duration": 315,
    "start_time": "2022-11-05T23:26:02.542Z"
   },
   {
    "duration": 500,
    "start_time": "2022-11-05T23:27:42.536Z"
   },
   {
    "duration": 380,
    "start_time": "2022-11-05T23:29:36.259Z"
   },
   {
    "duration": 15,
    "start_time": "2022-11-05T23:29:46.895Z"
   },
   {
    "duration": 14,
    "start_time": "2022-11-05T23:29:49.853Z"
   },
   {
    "duration": 315,
    "start_time": "2022-11-05T23:29:54.844Z"
   },
   {
    "duration": 547,
    "start_time": "2022-11-05T23:30:02.999Z"
   },
   {
    "duration": 312,
    "start_time": "2022-11-05T23:31:02.395Z"
   },
   {
    "duration": 294,
    "start_time": "2022-11-05T23:35:27.776Z"
   },
   {
    "duration": 516,
    "start_time": "2022-11-05T23:36:20.727Z"
   },
   {
    "duration": 333,
    "start_time": "2022-11-05T23:36:49.008Z"
   },
   {
    "duration": 308,
    "start_time": "2022-11-05T23:37:08.461Z"
   },
   {
    "duration": 493,
    "start_time": "2022-11-05T23:37:47.474Z"
   },
   {
    "duration": 322,
    "start_time": "2022-11-05T23:38:08.255Z"
   },
   {
    "duration": 316,
    "start_time": "2022-11-05T23:38:28.842Z"
   },
   {
    "duration": 492,
    "start_time": "2022-11-05T23:38:38.797Z"
   },
   {
    "duration": 413,
    "start_time": "2022-11-05T23:39:00.778Z"
   },
   {
    "duration": 394,
    "start_time": "2022-11-05T23:39:46.361Z"
   },
   {
    "duration": 321,
    "start_time": "2022-11-05T23:40:07.915Z"
   },
   {
    "duration": 502,
    "start_time": "2022-11-05T23:40:18.639Z"
   },
   {
    "duration": 318,
    "start_time": "2022-11-05T23:40:26.820Z"
   },
   {
    "duration": 374,
    "start_time": "2022-11-05T23:40:39.965Z"
   },
   {
    "duration": 312,
    "start_time": "2022-11-05T23:40:47.649Z"
   },
   {
    "duration": 624,
    "start_time": "2022-11-05T23:43:31.210Z"
   },
   {
    "duration": 334,
    "start_time": "2022-11-05T23:45:38.579Z"
   },
   {
    "duration": 273,
    "start_time": "2022-11-05T23:46:41.558Z"
   },
   {
    "duration": 138,
    "start_time": "2022-11-05T23:47:16.501Z"
   },
   {
    "duration": 116,
    "start_time": "2022-11-05T23:47:27.716Z"
   },
   {
    "duration": 116,
    "start_time": "2022-11-05T23:47:33.919Z"
   },
   {
    "duration": 116,
    "start_time": "2022-11-05T23:47:41.542Z"
   },
   {
    "duration": 111,
    "start_time": "2022-11-05T23:47:47.324Z"
   },
   {
    "duration": 518,
    "start_time": "2022-11-05T23:48:07.050Z"
   },
   {
    "duration": 20,
    "start_time": "2022-11-05T23:51:15.449Z"
   },
   {
    "duration": 5,
    "start_time": "2022-11-05T23:51:26.799Z"
   },
   {
    "duration": 20,
    "start_time": "2022-11-05T23:51:50.181Z"
   },
   {
    "duration": 297,
    "start_time": "2022-11-05T23:51:58.074Z"
   },
   {
    "duration": 274,
    "start_time": "2022-11-05T23:52:18.051Z"
   },
   {
    "duration": 308,
    "start_time": "2022-11-05T23:52:39.797Z"
   },
   {
    "duration": 4,
    "start_time": "2022-11-05T23:52:50.412Z"
   },
   {
    "duration": 8,
    "start_time": "2022-11-06T00:41:24.153Z"
   },
   {
    "duration": 7,
    "start_time": "2022-11-06T00:42:01.801Z"
   },
   {
    "duration": 11,
    "start_time": "2022-11-06T00:42:10.355Z"
   },
   {
    "duration": 11,
    "start_time": "2022-11-06T00:42:19.517Z"
   },
   {
    "duration": 11,
    "start_time": "2022-11-06T00:42:27.163Z"
   },
   {
    "duration": 11,
    "start_time": "2022-11-06T00:43:01.676Z"
   },
   {
    "duration": 22,
    "start_time": "2022-11-06T00:43:34.600Z"
   },
   {
    "duration": 10,
    "start_time": "2022-11-06T00:44:10.585Z"
   },
   {
    "duration": 11,
    "start_time": "2022-11-06T00:44:20.330Z"
   },
   {
    "duration": 13,
    "start_time": "2022-11-06T00:46:01.974Z"
   },
   {
    "duration": 6,
    "start_time": "2022-11-06T00:46:15.622Z"
   },
   {
    "duration": 2,
    "start_time": "2022-11-06T00:46:35.461Z"
   },
   {
    "duration": 5,
    "start_time": "2022-11-06T00:46:35.465Z"
   },
   {
    "duration": 4,
    "start_time": "2022-11-06T00:46:35.472Z"
   },
   {
    "duration": 5,
    "start_time": "2022-11-06T00:46:35.478Z"
   },
   {
    "duration": 4,
    "start_time": "2022-11-06T00:46:35.485Z"
   },
   {
    "duration": 3,
    "start_time": "2022-11-06T00:46:35.491Z"
   },
   {
    "duration": 91,
    "start_time": "2022-11-06T00:46:35.496Z"
   },
   {
    "duration": 16,
    "start_time": "2022-11-06T00:46:35.588Z"
   },
   {
    "duration": 4,
    "start_time": "2022-11-06T00:46:35.605Z"
   },
   {
    "duration": 19,
    "start_time": "2022-11-06T00:46:35.611Z"
   },
   {
    "duration": 8,
    "start_time": "2022-11-06T00:46:35.632Z"
   },
   {
    "duration": 8,
    "start_time": "2022-11-06T00:46:35.641Z"
   },
   {
    "duration": 15,
    "start_time": "2022-11-06T00:46:35.650Z"
   },
   {
    "duration": 8,
    "start_time": "2022-11-06T00:46:35.690Z"
   },
   {
    "duration": 8,
    "start_time": "2022-11-06T00:46:35.699Z"
   },
   {
    "duration": 458,
    "start_time": "2022-11-06T00:46:35.708Z"
   },
   {
    "duration": 8,
    "start_time": "2022-11-06T00:46:36.168Z"
   },
   {
    "duration": 18,
    "start_time": "2022-11-06T00:46:36.178Z"
   },
   {
    "duration": 201,
    "start_time": "2022-11-06T00:46:36.198Z"
   },
   {
    "duration": 6,
    "start_time": "2022-11-06T00:46:36.402Z"
   },
   {
    "duration": 1182,
    "start_time": "2022-11-06T00:46:36.409Z"
   },
   {
    "duration": 25,
    "start_time": "2022-11-06T00:46:37.593Z"
   },
   {
    "duration": 24,
    "start_time": "2022-11-06T00:46:37.619Z"
   },
   {
    "duration": 23,
    "start_time": "2022-11-06T00:46:37.644Z"
   },
   {
    "duration": 267,
    "start_time": "2022-11-06T00:46:37.690Z"
   },
   {
    "duration": 402,
    "start_time": "2022-11-06T00:46:37.959Z"
   },
   {
    "duration": 830,
    "start_time": "2022-11-06T00:46:38.363Z"
   },
   {
    "duration": 600,
    "start_time": "2022-11-06T00:46:39.195Z"
   },
   {
    "duration": 553,
    "start_time": "2022-11-06T00:46:39.797Z"
   },
   {
    "duration": 602,
    "start_time": "2022-11-06T00:46:40.352Z"
   },
   {
    "duration": 572,
    "start_time": "2022-11-06T00:46:40.955Z"
   },
   {
    "duration": 873,
    "start_time": "2022-11-06T00:46:41.529Z"
   },
   {
    "duration": 6,
    "start_time": "2022-11-06T00:46:42.404Z"
   },
   {
    "duration": 207,
    "start_time": "2022-11-06T00:46:42.411Z"
   },
   {
    "duration": 350,
    "start_time": "2022-11-06T00:46:42.620Z"
   },
   {
    "duration": 381,
    "start_time": "2022-11-06T00:46:42.972Z"
   },
   {
    "duration": 3,
    "start_time": "2022-11-06T00:46:43.354Z"
   },
   {
    "duration": 305,
    "start_time": "2022-11-06T00:46:43.359Z"
   },
   {
    "duration": 299,
    "start_time": "2022-11-06T00:46:43.666Z"
   },
   {
    "duration": 3,
    "start_time": "2022-11-06T00:47:29.325Z"
   },
   {
    "duration": 5,
    "start_time": "2022-11-06T00:48:09.926Z"
   },
   {
    "duration": 4,
    "start_time": "2022-11-06T00:48:25.477Z"
   },
   {
    "duration": 11,
    "start_time": "2022-11-06T00:49:12.590Z"
   },
   {
    "duration": 11,
    "start_time": "2022-11-06T00:49:17.327Z"
   },
   {
    "duration": 6,
    "start_time": "2022-11-06T00:49:30.208Z"
   },
   {
    "duration": 11,
    "start_time": "2022-11-06T00:49:32.498Z"
   },
   {
    "duration": 27,
    "start_time": "2022-11-06T00:50:22.525Z"
   },
   {
    "duration": 34,
    "start_time": "2022-11-06T00:51:27.329Z"
   },
   {
    "duration": 49,
    "start_time": "2022-11-06T00:51:39.662Z"
   },
   {
    "duration": 23,
    "start_time": "2022-11-06T00:52:45.842Z"
   },
   {
    "duration": 584,
    "start_time": "2022-11-06T00:54:08.199Z"
   },
   {
    "duration": 587,
    "start_time": "2022-11-06T00:54:21.141Z"
   },
   {
    "duration": 563,
    "start_time": "2022-11-06T00:54:34.821Z"
   },
   {
    "duration": 571,
    "start_time": "2022-11-06T00:54:40.171Z"
   },
   {
    "duration": 582,
    "start_time": "2022-11-06T00:54:50.057Z"
   },
   {
    "duration": 10,
    "start_time": "2022-11-06T00:55:56.279Z"
   },
   {
    "duration": 8,
    "start_time": "2022-11-06T00:56:06.814Z"
   },
   {
    "duration": 8,
    "start_time": "2022-11-06T00:56:21.537Z"
   },
   {
    "duration": 9,
    "start_time": "2022-11-06T00:56:30.333Z"
   },
   {
    "duration": 8,
    "start_time": "2022-11-06T00:56:54.972Z"
   },
   {
    "duration": 11,
    "start_time": "2022-11-06T00:56:59.265Z"
   },
   {
    "duration": 45,
    "start_time": "2022-11-06T00:58:53.411Z"
   },
   {
    "duration": 1162,
    "start_time": "2022-11-06T00:59:07.246Z"
   },
   {
    "duration": 1107,
    "start_time": "2022-11-06T00:59:18.721Z"
   },
   {
    "duration": 1097,
    "start_time": "2022-11-06T00:59:28.835Z"
   },
   {
    "duration": 1116,
    "start_time": "2022-11-06T00:59:37.342Z"
   },
   {
    "duration": 10,
    "start_time": "2022-11-06T00:59:41.309Z"
   },
   {
    "duration": 22,
    "start_time": "2022-11-06T00:59:54.874Z"
   },
   {
    "duration": 11,
    "start_time": "2022-11-06T01:00:07.692Z"
   },
   {
    "duration": 1231,
    "start_time": "2022-11-06T01:00:25.007Z"
   },
   {
    "duration": 51,
    "start_time": "2022-11-06T01:00:32.456Z"
   },
   {
    "duration": 22,
    "start_time": "2022-11-06T01:00:56.124Z"
   },
   {
    "duration": 10,
    "start_time": "2022-11-06T01:01:44.356Z"
   },
   {
    "duration": 4,
    "start_time": "2022-11-06T01:01:53.082Z"
   },
   {
    "duration": 11,
    "start_time": "2022-11-06T01:03:21.213Z"
   },
   {
    "duration": 29,
    "start_time": "2022-11-06T01:03:29.342Z"
   },
   {
    "duration": 10,
    "start_time": "2022-11-06T01:03:42.569Z"
   },
   {
    "duration": 10,
    "start_time": "2022-11-06T01:05:51.937Z"
   },
   {
    "duration": 12,
    "start_time": "2022-11-06T01:08:33.396Z"
   },
   {
    "duration": 10,
    "start_time": "2022-11-06T01:09:05.662Z"
   },
   {
    "duration": 9,
    "start_time": "2022-11-06T01:09:09.090Z"
   },
   {
    "duration": 15,
    "start_time": "2022-11-06T01:09:21.196Z"
   },
   {
    "duration": 12,
    "start_time": "2022-11-06T01:09:26.779Z"
   },
   {
    "duration": 14,
    "start_time": "2022-11-06T01:09:40.864Z"
   },
   {
    "duration": 11,
    "start_time": "2022-11-06T01:10:45.241Z"
   },
   {
    "duration": 12,
    "start_time": "2022-11-06T01:11:06.382Z"
   },
   {
    "duration": 12,
    "start_time": "2022-11-06T01:11:15.267Z"
   },
   {
    "duration": 12,
    "start_time": "2022-11-06T01:11:32.797Z"
   },
   {
    "duration": 14,
    "start_time": "2022-11-06T01:16:59.597Z"
   },
   {
    "duration": 12,
    "start_time": "2022-11-06T01:17:21.237Z"
   },
   {
    "duration": 4,
    "start_time": "2022-11-06T01:19:30.172Z"
   },
   {
    "duration": 11,
    "start_time": "2022-11-06T01:19:35.715Z"
   },
   {
    "duration": 6,
    "start_time": "2022-11-06T01:19:40.029Z"
   },
   {
    "duration": 5,
    "start_time": "2022-11-06T01:19:55.375Z"
   },
   {
    "duration": 12,
    "start_time": "2022-11-06T01:20:22.974Z"
   },
   {
    "duration": 13,
    "start_time": "2022-11-06T01:20:30.557Z"
   },
   {
    "duration": 5,
    "start_time": "2022-11-06T01:20:36.854Z"
   },
   {
    "duration": 5,
    "start_time": "2022-11-06T01:20:43.873Z"
   },
   {
    "duration": 6,
    "start_time": "2022-11-06T01:20:58.821Z"
   },
   {
    "duration": 5,
    "start_time": "2022-11-06T01:21:49.172Z"
   },
   {
    "duration": 5,
    "start_time": "2022-11-06T01:22:33.436Z"
   },
   {
    "duration": 381,
    "start_time": "2022-11-06T12:54:06.665Z"
   },
   {
    "duration": 226,
    "start_time": "2022-11-06T12:54:07.048Z"
   },
   {
    "duration": 3,
    "start_time": "2022-11-06T12:54:07.275Z"
   },
   {
    "duration": 561,
    "start_time": "2022-11-06T12:54:07.280Z"
   },
   {
    "duration": 4,
    "start_time": "2022-11-06T12:54:07.842Z"
   },
   {
    "duration": 100,
    "start_time": "2022-11-06T12:54:07.847Z"
   },
   {
    "duration": 93,
    "start_time": "2022-11-06T12:54:07.949Z"
   },
   {
    "duration": 15,
    "start_time": "2022-11-06T12:54:08.044Z"
   },
   {
    "duration": 3,
    "start_time": "2022-11-06T12:54:08.061Z"
   },
   {
    "duration": 19,
    "start_time": "2022-11-06T12:54:08.066Z"
   },
   {
    "duration": 33,
    "start_time": "2022-11-06T12:54:08.086Z"
   },
   {
    "duration": 11,
    "start_time": "2022-11-06T12:54:08.121Z"
   },
   {
    "duration": 20,
    "start_time": "2022-11-06T12:54:08.133Z"
   },
   {
    "duration": 8,
    "start_time": "2022-11-06T12:54:08.155Z"
   },
   {
    "duration": 7,
    "start_time": "2022-11-06T12:54:08.165Z"
   },
   {
    "duration": 506,
    "start_time": "2022-11-06T12:54:08.173Z"
   },
   {
    "duration": 7,
    "start_time": "2022-11-06T12:54:08.681Z"
   },
   {
    "duration": 5,
    "start_time": "2022-11-06T12:54:08.689Z"
   },
   {
    "duration": 24,
    "start_time": "2022-11-06T12:54:08.711Z"
   },
   {
    "duration": 220,
    "start_time": "2022-11-06T12:54:08.737Z"
   },
   {
    "duration": 6,
    "start_time": "2022-11-06T12:54:08.959Z"
   },
   {
    "duration": 1305,
    "start_time": "2022-11-06T12:54:08.966Z"
   },
   {
    "duration": 36,
    "start_time": "2022-11-06T12:54:10.273Z"
   },
   {
    "duration": 28,
    "start_time": "2022-11-06T12:54:10.311Z"
   },
   {
    "duration": 23,
    "start_time": "2022-11-06T12:54:10.341Z"
   },
   {
    "duration": 316,
    "start_time": "2022-11-06T12:54:10.366Z"
   },
   {
    "duration": 425,
    "start_time": "2022-11-06T12:54:10.684Z"
   },
   {
    "duration": 663,
    "start_time": "2022-11-06T12:54:11.115Z"
   },
   {
    "duration": 694,
    "start_time": "2022-11-06T12:54:11.780Z"
   },
   {
    "duration": 627,
    "start_time": "2022-11-06T12:54:12.475Z"
   },
   {
    "duration": 624,
    "start_time": "2022-11-06T12:54:13.103Z"
   },
   {
    "duration": 714,
    "start_time": "2022-11-06T12:54:13.729Z"
   },
   {
    "duration": 614,
    "start_time": "2022-11-06T12:54:14.445Z"
   },
   {
    "duration": 6,
    "start_time": "2022-11-06T12:54:15.061Z"
   },
   {
    "duration": 219,
    "start_time": "2022-11-06T12:54:15.068Z"
   },
   {
    "duration": 974,
    "start_time": "2022-11-06T12:54:15.289Z"
   },
   {
    "duration": 480,
    "start_time": "2022-11-06T12:54:16.264Z"
   },
   {
    "duration": 3,
    "start_time": "2022-11-06T12:54:16.746Z"
   },
   {
    "duration": 396,
    "start_time": "2022-11-06T12:54:16.750Z"
   },
   {
    "duration": 316,
    "start_time": "2022-11-06T12:54:17.148Z"
   },
   {
    "duration": 10,
    "start_time": "2022-11-06T12:54:17.466Z"
   },
   {
    "duration": 19,
    "start_time": "2022-11-06T12:54:17.478Z"
   },
   {
    "duration": 18,
    "start_time": "2022-11-06T12:54:17.498Z"
   },
   {
    "duration": 28,
    "start_time": "2022-11-06T12:54:17.518Z"
   },
   {
    "duration": 73,
    "start_time": "2022-11-06T14:12:14.218Z"
   },
   {
    "duration": 409,
    "start_time": "2022-11-06T14:12:24.965Z"
   },
   {
    "duration": 218,
    "start_time": "2022-11-06T14:12:25.376Z"
   },
   {
    "duration": 3,
    "start_time": "2022-11-06T14:12:25.595Z"
   },
   {
    "duration": 508,
    "start_time": "2022-11-06T14:12:25.599Z"
   },
   {
    "duration": 2,
    "start_time": "2022-11-06T14:12:26.109Z"
   },
   {
    "duration": 97,
    "start_time": "2022-11-06T14:12:26.112Z"
   },
   {
    "duration": 94,
    "start_time": "2022-11-06T14:12:26.210Z"
   },
   {
    "duration": 16,
    "start_time": "2022-11-06T14:12:26.306Z"
   },
   {
    "duration": 3,
    "start_time": "2022-11-06T14:12:26.323Z"
   },
   {
    "duration": 22,
    "start_time": "2022-11-06T14:12:26.328Z"
   },
   {
    "duration": 8,
    "start_time": "2022-11-06T14:12:26.351Z"
   },
   {
    "duration": 8,
    "start_time": "2022-11-06T14:12:26.361Z"
   },
   {
    "duration": 39,
    "start_time": "2022-11-06T14:12:26.370Z"
   },
   {
    "duration": 7,
    "start_time": "2022-11-06T14:12:26.413Z"
   },
   {
    "duration": 6,
    "start_time": "2022-11-06T14:12:26.422Z"
   },
   {
    "duration": 98,
    "start_time": "2022-11-06T14:12:26.430Z"
   },
   {
    "duration": 466,
    "start_time": "2022-11-06T14:12:26.530Z"
   },
   {
    "duration": 14,
    "start_time": "2022-11-06T14:12:26.997Z"
   },
   {
    "duration": 3,
    "start_time": "2022-11-06T14:12:27.013Z"
   },
   {
    "duration": 11,
    "start_time": "2022-11-06T14:12:27.017Z"
   },
   {
    "duration": 212,
    "start_time": "2022-11-06T14:12:27.030Z"
   },
   {
    "duration": 5,
    "start_time": "2022-11-06T14:12:27.243Z"
   },
   {
    "duration": 1223,
    "start_time": "2022-11-06T14:12:27.250Z"
   },
   {
    "duration": 25,
    "start_time": "2022-11-06T14:12:28.474Z"
   },
   {
    "duration": 24,
    "start_time": "2022-11-06T14:12:28.509Z"
   },
   {
    "duration": 22,
    "start_time": "2022-11-06T14:12:28.534Z"
   },
   {
    "duration": 307,
    "start_time": "2022-11-06T14:12:28.557Z"
   },
   {
    "duration": 433,
    "start_time": "2022-11-06T14:12:28.866Z"
   },
   {
    "duration": 582,
    "start_time": "2022-11-06T14:12:29.308Z"
   },
   {
    "duration": 691,
    "start_time": "2022-11-06T14:12:29.892Z"
   },
   {
    "duration": 555,
    "start_time": "2022-11-06T14:12:30.584Z"
   },
   {
    "duration": 589,
    "start_time": "2022-11-06T14:12:31.141Z"
   },
   {
    "duration": 657,
    "start_time": "2022-11-06T14:12:31.732Z"
   },
   {
    "duration": 664,
    "start_time": "2022-11-06T14:12:32.390Z"
   },
   {
    "duration": 6,
    "start_time": "2022-11-06T14:12:33.055Z"
   },
   {
    "duration": 225,
    "start_time": "2022-11-06T14:12:33.062Z"
   },
   {
    "duration": 937,
    "start_time": "2022-11-06T14:12:33.288Z"
   },
   {
    "duration": 447,
    "start_time": "2022-11-06T14:12:34.228Z"
   },
   {
    "duration": 3,
    "start_time": "2022-11-06T14:12:34.677Z"
   },
   {
    "duration": 329,
    "start_time": "2022-11-06T14:12:34.681Z"
   },
   {
    "duration": 338,
    "start_time": "2022-11-06T14:12:35.015Z"
   },
   {
    "duration": 13,
    "start_time": "2022-11-06T14:12:35.354Z"
   },
   {
    "duration": 7,
    "start_time": "2022-11-06T14:12:35.369Z"
   },
   {
    "duration": 31,
    "start_time": "2022-11-06T14:12:35.379Z"
   },
   {
    "duration": 10,
    "start_time": "2022-11-06T14:12:35.412Z"
   },
   {
    "duration": 420,
    "start_time": "2022-11-06T14:16:45.076Z"
   },
   {
    "duration": 225,
    "start_time": "2022-11-06T14:16:45.498Z"
   },
   {
    "duration": 3,
    "start_time": "2022-11-06T14:16:45.725Z"
   },
   {
    "duration": 506,
    "start_time": "2022-11-06T14:16:45.730Z"
   },
   {
    "duration": 3,
    "start_time": "2022-11-06T14:16:46.238Z"
   },
   {
    "duration": 105,
    "start_time": "2022-11-06T14:16:46.243Z"
   },
   {
    "duration": 92,
    "start_time": "2022-11-06T14:16:46.349Z"
   },
   {
    "duration": 15,
    "start_time": "2022-11-06T14:16:46.442Z"
   },
   {
    "duration": 3,
    "start_time": "2022-11-06T14:16:46.458Z"
   },
   {
    "duration": 18,
    "start_time": "2022-11-06T14:16:46.462Z"
   },
   {
    "duration": 31,
    "start_time": "2022-11-06T14:16:46.481Z"
   },
   {
    "duration": 7,
    "start_time": "2022-11-06T14:16:46.514Z"
   },
   {
    "duration": 14,
    "start_time": "2022-11-06T14:16:46.522Z"
   },
   {
    "duration": 7,
    "start_time": "2022-11-06T14:16:46.539Z"
   },
   {
    "duration": 31,
    "start_time": "2022-11-06T14:16:46.548Z"
   },
   {
    "duration": 72,
    "start_time": "2022-11-06T14:16:46.581Z"
   },
   {
    "duration": 471,
    "start_time": "2022-11-06T14:16:46.655Z"
   },
   {
    "duration": 7,
    "start_time": "2022-11-06T14:16:47.128Z"
   },
   {
    "duration": 4,
    "start_time": "2022-11-06T14:16:47.137Z"
   },
   {
    "duration": 10,
    "start_time": "2022-11-06T14:16:47.143Z"
   },
   {
    "duration": 8,
    "start_time": "2022-11-06T14:16:47.154Z"
   },
   {
    "duration": 225,
    "start_time": "2022-11-06T14:16:47.163Z"
   },
   {
    "duration": 5,
    "start_time": "2022-11-06T14:16:47.389Z"
   },
   {
    "duration": 1244,
    "start_time": "2022-11-06T14:16:47.396Z"
   },
   {
    "duration": 27,
    "start_time": "2022-11-06T14:16:48.642Z"
   },
   {
    "duration": 45,
    "start_time": "2022-11-06T14:16:48.670Z"
   },
   {
    "duration": 25,
    "start_time": "2022-11-06T14:16:48.716Z"
   },
   {
    "duration": 295,
    "start_time": "2022-11-06T14:16:48.743Z"
   },
   {
    "duration": 391,
    "start_time": "2022-11-06T14:16:49.040Z"
   },
   {
    "duration": 586,
    "start_time": "2022-11-06T14:16:49.432Z"
   },
   {
    "duration": 1395,
    "start_time": "2022-11-06T14:16:50.019Z"
   },
   {
    "duration": 851,
    "start_time": "2022-11-06T14:16:51.418Z"
   },
   {
    "duration": 694,
    "start_time": "2022-11-06T14:16:52.270Z"
   },
   {
    "duration": 681,
    "start_time": "2022-11-06T14:16:52.966Z"
   },
   {
    "duration": 598,
    "start_time": "2022-11-06T14:16:53.649Z"
   },
   {
    "duration": 7,
    "start_time": "2022-11-06T14:16:54.249Z"
   },
   {
    "duration": 209,
    "start_time": "2022-11-06T14:16:54.257Z"
   },
   {
    "duration": 922,
    "start_time": "2022-11-06T14:16:54.468Z"
   },
   {
    "duration": 524,
    "start_time": "2022-11-06T14:16:55.393Z"
   },
   {
    "duration": 3,
    "start_time": "2022-11-06T14:16:55.919Z"
   },
   {
    "duration": 343,
    "start_time": "2022-11-06T14:16:55.926Z"
   },
   {
    "duration": 318,
    "start_time": "2022-11-06T14:16:56.271Z"
   },
   {
    "duration": 19,
    "start_time": "2022-11-06T14:16:56.591Z"
   },
   {
    "duration": 5,
    "start_time": "2022-11-06T14:16:56.612Z"
   },
   {
    "duration": 12,
    "start_time": "2022-11-06T14:16:56.619Z"
   },
   {
    "duration": 6,
    "start_time": "2022-11-06T14:16:56.633Z"
   },
   {
    "duration": 7,
    "start_time": "2022-11-06T14:32:08.509Z"
   },
   {
    "duration": 412,
    "start_time": "2022-11-07T08:24:18.123Z"
   },
   {
    "duration": 408,
    "start_time": "2022-11-07T08:24:18.536Z"
   },
   {
    "duration": 4,
    "start_time": "2022-11-07T08:24:18.947Z"
   },
   {
    "duration": 539,
    "start_time": "2022-11-07T08:24:19.010Z"
   },
   {
    "duration": 3,
    "start_time": "2022-11-07T08:24:19.550Z"
   },
   {
    "duration": 87,
    "start_time": "2022-11-07T08:24:23.720Z"
   },
   {
    "duration": 149,
    "start_time": "2022-11-07T08:24:28.338Z"
   },
   {
    "duration": 19,
    "start_time": "2022-11-07T08:24:31.943Z"
   },
   {
    "duration": 1395,
    "start_time": "2022-11-07T08:24:38.655Z"
   },
   {
    "duration": 1291,
    "start_time": "2022-11-07T08:24:51.200Z"
   },
   {
    "duration": 11,
    "start_time": "2022-11-07T08:26:18.651Z"
   },
   {
    "duration": 952,
    "start_time": "2022-11-07T08:26:47.188Z"
   },
   {
    "duration": 5,
    "start_time": "2022-11-07T08:26:59.083Z"
   },
   {
    "duration": 10,
    "start_time": "2022-11-07T08:27:00.744Z"
   },
   {
    "duration": 21,
    "start_time": "2022-11-07T08:27:04.569Z"
   },
   {
    "duration": 21,
    "start_time": "2022-11-07T08:27:14.121Z"
   },
   {
    "duration": 18,
    "start_time": "2022-11-07T08:29:45.985Z"
   },
   {
    "duration": 21,
    "start_time": "2022-11-07T08:29:55.554Z"
   },
   {
    "duration": 21,
    "start_time": "2022-11-07T08:30:46.092Z"
   },
   {
    "duration": 9,
    "start_time": "2022-11-07T08:31:03.636Z"
   },
   {
    "duration": 21,
    "start_time": "2022-11-07T08:31:11.453Z"
   },
   {
    "duration": 9,
    "start_time": "2022-11-07T08:34:01.412Z"
   },
   {
    "duration": 3,
    "start_time": "2022-11-07T08:34:09.838Z"
   },
   {
    "duration": 20,
    "start_time": "2022-11-07T08:34:16.510Z"
   },
   {
    "duration": 23,
    "start_time": "2022-11-07T08:34:50.057Z"
   },
   {
    "duration": 9,
    "start_time": "2022-11-07T08:34:52.976Z"
   },
   {
    "duration": 5,
    "start_time": "2022-11-07T08:34:54.886Z"
   },
   {
    "duration": 13,
    "start_time": "2022-11-07T08:34:58.378Z"
   },
   {
    "duration": 7,
    "start_time": "2022-11-07T08:35:05.572Z"
   },
   {
    "duration": 17,
    "start_time": "2022-11-07T08:35:13.231Z"
   },
   {
    "duration": 7,
    "start_time": "2022-11-07T08:35:19.372Z"
   },
   {
    "duration": 80,
    "start_time": "2022-11-08T10:10:24.999Z"
   },
   {
    "duration": 1622,
    "start_time": "2022-11-08T10:10:33.318Z"
   },
   {
    "duration": 173,
    "start_time": "2022-11-08T10:10:34.943Z"
   },
   {
    "duration": 24,
    "start_time": "2022-11-08T10:10:35.118Z"
   },
   {
    "duration": 5,
    "start_time": "2022-11-08T10:10:35.145Z"
   },
   {
    "duration": 56,
    "start_time": "2022-11-08T10:10:35.152Z"
   },
   {
    "duration": 11,
    "start_time": "2022-11-08T10:10:35.210Z"
   },
   {
    "duration": 18,
    "start_time": "2022-11-08T10:10:35.223Z"
   },
   {
    "duration": 38,
    "start_time": "2022-11-08T10:10:35.244Z"
   },
   {
    "duration": 16,
    "start_time": "2022-11-08T10:10:35.285Z"
   },
   {
    "duration": 10,
    "start_time": "2022-11-08T10:10:35.304Z"
   },
   {
    "duration": 105,
    "start_time": "2022-11-08T10:10:35.316Z"
   },
   {
    "duration": 607,
    "start_time": "2022-11-08T10:10:35.423Z"
   },
   {
    "duration": 9,
    "start_time": "2022-11-08T10:10:36.032Z"
   },
   {
    "duration": 5,
    "start_time": "2022-11-08T10:10:36.044Z"
   },
   {
    "duration": 22,
    "start_time": "2022-11-08T10:10:36.051Z"
   },
   {
    "duration": 13,
    "start_time": "2022-11-08T10:10:36.075Z"
   },
   {
    "duration": 236,
    "start_time": "2022-11-08T10:10:36.090Z"
   },
   {
    "duration": 8,
    "start_time": "2022-11-08T10:10:36.329Z"
   },
   {
    "duration": 1635,
    "start_time": "2022-11-08T10:10:36.339Z"
   },
   {
    "duration": 32,
    "start_time": "2022-11-08T10:10:37.976Z"
   },
   {
    "duration": 31,
    "start_time": "2022-11-08T10:10:42.895Z"
   },
   {
    "duration": 32,
    "start_time": "2022-11-08T10:11:22.944Z"
   },
   {
    "duration": 978,
    "start_time": "2022-11-08T10:30:31.163Z"
   },
   {
    "duration": 812,
    "start_time": "2022-11-08T10:31:08.157Z"
   },
   {
    "duration": 1039,
    "start_time": "2022-11-08T10:31:27.815Z"
   },
   {
    "duration": 874,
    "start_time": "2022-11-08T10:32:06.020Z"
   },
   {
    "duration": 855,
    "start_time": "2022-11-08T10:32:33.699Z"
   },
   {
    "duration": 960,
    "start_time": "2022-11-08T10:32:39.687Z"
   },
   {
    "duration": 90,
    "start_time": "2022-11-08T10:48:56.019Z"
   },
   {
    "duration": 20,
    "start_time": "2022-11-08T10:49:45.931Z"
   },
   {
    "duration": 147,
    "start_time": "2022-11-08T10:50:12.396Z"
   },
   {
    "duration": 309,
    "start_time": "2022-11-08T10:50:39.019Z"
   },
   {
    "duration": 311,
    "start_time": "2022-11-08T10:54:56.820Z"
   },
   {
    "duration": 12,
    "start_time": "2022-11-08T13:33:38.436Z"
   },
   {
    "duration": 20,
    "start_time": "2022-11-08T13:35:45.728Z"
   },
   {
    "duration": 169,
    "start_time": "2022-11-08T13:36:03.175Z"
   },
   {
    "duration": 192,
    "start_time": "2022-11-08T13:36:17.765Z"
   },
   {
    "duration": 157,
    "start_time": "2022-11-08T13:36:27.223Z"
   },
   {
    "duration": 717,
    "start_time": "2022-11-08T13:36:42.037Z"
   },
   {
    "duration": 155,
    "start_time": "2022-11-08T13:37:14.618Z"
   },
   {
    "duration": 814,
    "start_time": "2022-11-08T13:37:23.362Z"
   },
   {
    "duration": 157,
    "start_time": "2022-11-08T13:43:15.812Z"
   },
   {
    "duration": 311,
    "start_time": "2022-11-08T13:43:46.893Z"
   },
   {
    "duration": 307,
    "start_time": "2022-11-08T13:44:11.194Z"
   },
   {
    "duration": 322,
    "start_time": "2022-11-08T13:44:31.834Z"
   },
   {
    "duration": 320,
    "start_time": "2022-11-08T13:45:24.637Z"
   },
   {
    "duration": 344,
    "start_time": "2022-11-08T13:45:40.658Z"
   },
   {
    "duration": 347,
    "start_time": "2022-11-08T13:45:50.443Z"
   },
   {
    "duration": 326,
    "start_time": "2022-11-08T13:46:06.996Z"
   },
   {
    "duration": 355,
    "start_time": "2022-11-08T13:46:15.020Z"
   },
   {
    "duration": 1076,
    "start_time": "2022-11-08T13:46:41.124Z"
   },
   {
    "duration": 1150,
    "start_time": "2022-11-08T13:47:28.341Z"
   },
   {
    "duration": 330,
    "start_time": "2022-11-08T13:48:26.654Z"
   },
   {
    "duration": 1000,
    "start_time": "2022-11-08T13:49:34.509Z"
   },
   {
    "duration": 856,
    "start_time": "2022-11-08T13:49:46.620Z"
   },
   {
    "duration": 949,
    "start_time": "2022-11-08T13:50:07.128Z"
   },
   {
    "duration": 879,
    "start_time": "2022-11-08T13:50:16.255Z"
   },
   {
    "duration": 999,
    "start_time": "2022-11-08T13:50:21.342Z"
   },
   {
    "duration": 349,
    "start_time": "2022-11-08T13:51:10.106Z"
   },
   {
    "duration": 34,
    "start_time": "2022-11-08T13:52:53.060Z"
   },
   {
    "duration": 13,
    "start_time": "2022-11-08T13:53:31.918Z"
   },
   {
    "duration": 12,
    "start_time": "2022-11-08T13:54:01.533Z"
   },
   {
    "duration": 14,
    "start_time": "2022-11-08T13:54:11.137Z"
   },
   {
    "duration": 8,
    "start_time": "2022-11-08T13:54:23.106Z"
   },
   {
    "duration": 10,
    "start_time": "2022-11-08T13:54:34.818Z"
   },
   {
    "duration": 11,
    "start_time": "2022-11-08T13:57:21.231Z"
   },
   {
    "duration": 8,
    "start_time": "2022-11-08T13:57:30.679Z"
   },
   {
    "duration": 8,
    "start_time": "2022-11-08T13:57:41.159Z"
   },
   {
    "duration": 8,
    "start_time": "2022-11-08T13:57:52.080Z"
   },
   {
    "duration": 11,
    "start_time": "2022-11-08T13:58:00.748Z"
   },
   {
    "duration": 8,
    "start_time": "2022-11-08T13:58:26.896Z"
   },
   {
    "duration": 10,
    "start_time": "2022-11-08T13:58:35.051Z"
   },
   {
    "duration": 8,
    "start_time": "2022-11-08T13:58:43.842Z"
   },
   {
    "duration": 8,
    "start_time": "2022-11-08T13:58:48.424Z"
   },
   {
    "duration": 8,
    "start_time": "2022-11-08T13:59:18.093Z"
   },
   {
    "duration": 8,
    "start_time": "2022-11-08T14:00:49.423Z"
   },
   {
    "duration": 9,
    "start_time": "2022-11-08T14:00:52.981Z"
   },
   {
    "duration": 9,
    "start_time": "2022-11-08T14:01:04.125Z"
   },
   {
    "duration": 8,
    "start_time": "2022-11-08T14:01:33.016Z"
   },
   {
    "duration": 10,
    "start_time": "2022-11-08T14:02:23.283Z"
   },
   {
    "duration": 10,
    "start_time": "2022-11-08T14:02:45.208Z"
   },
   {
    "duration": 9,
    "start_time": "2022-11-08T14:02:53.807Z"
   },
   {
    "duration": 9,
    "start_time": "2022-11-08T14:10:52.601Z"
   },
   {
    "duration": 11,
    "start_time": "2022-11-08T14:18:45.846Z"
   },
   {
    "duration": 8,
    "start_time": "2022-11-08T14:18:50.868Z"
   },
   {
    "duration": 8,
    "start_time": "2022-11-08T14:19:45.015Z"
   },
   {
    "duration": 9,
    "start_time": "2022-11-08T14:22:48.984Z"
   },
   {
    "duration": 10,
    "start_time": "2022-11-08T14:22:53.444Z"
   },
   {
    "duration": 10,
    "start_time": "2022-11-08T14:24:00.442Z"
   },
   {
    "duration": 10,
    "start_time": "2022-11-08T14:24:16.659Z"
   },
   {
    "duration": 10,
    "start_time": "2022-11-08T14:24:23.365Z"
   },
   {
    "duration": 10,
    "start_time": "2022-11-08T14:24:33.981Z"
   },
   {
    "duration": 13,
    "start_time": "2022-11-08T14:29:42.463Z"
   },
   {
    "duration": 13,
    "start_time": "2022-11-08T14:32:58.661Z"
   },
   {
    "duration": 330,
    "start_time": "2022-11-08T14:41:11.638Z"
   },
   {
    "duration": 14,
    "start_time": "2022-11-08T14:42:11.351Z"
   },
   {
    "duration": 354,
    "start_time": "2022-11-08T14:42:19.371Z"
   },
   {
    "duration": 43,
    "start_time": "2022-11-08T14:43:54.273Z"
   },
   {
    "duration": 11,
    "start_time": "2022-11-08T14:44:45.926Z"
   },
   {
    "duration": 40,
    "start_time": "2022-11-08T14:45:09.760Z"
   },
   {
    "duration": 17,
    "start_time": "2022-11-08T14:45:42.137Z"
   },
   {
    "duration": 17,
    "start_time": "2022-11-08T14:45:45.958Z"
   },
   {
    "duration": 28,
    "start_time": "2022-11-08T14:45:49.513Z"
   },
   {
    "duration": 28,
    "start_time": "2022-11-08T14:46:27.454Z"
   },
   {
    "duration": 27,
    "start_time": "2022-11-08T14:46:39.911Z"
   },
   {
    "duration": 323,
    "start_time": "2022-11-08T14:46:58.950Z"
   },
   {
    "duration": 34,
    "start_time": "2022-11-08T14:47:05.495Z"
   },
   {
    "duration": 380,
    "start_time": "2022-11-08T14:47:34.410Z"
   },
   {
    "duration": 848,
    "start_time": "2022-11-08T15:01:52.602Z"
   },
   {
    "duration": 1143,
    "start_time": "2022-11-08T15:24:54.621Z"
   },
   {
    "duration": 318,
    "start_time": "2022-11-08T15:26:30.037Z"
   },
   {
    "duration": 351,
    "start_time": "2022-11-08T15:26:44.625Z"
   },
   {
    "duration": 328,
    "start_time": "2022-11-08T15:26:50.290Z"
   },
   {
    "duration": 340,
    "start_time": "2022-11-08T15:27:01.732Z"
   },
   {
    "duration": 329,
    "start_time": "2022-11-08T15:28:22.938Z"
   },
   {
    "duration": 316,
    "start_time": "2022-11-08T15:28:44.606Z"
   },
   {
    "duration": 387,
    "start_time": "2022-11-08T15:32:03.687Z"
   },
   {
    "duration": 590,
    "start_time": "2022-11-08T15:32:11.090Z"
   },
   {
    "duration": 324,
    "start_time": "2022-11-08T15:33:40.030Z"
   },
   {
    "duration": 359,
    "start_time": "2022-11-08T15:33:53.321Z"
   },
   {
    "duration": 339,
    "start_time": "2022-11-08T15:36:11.971Z"
   },
   {
    "duration": 328,
    "start_time": "2022-11-08T15:41:28.632Z"
   },
   {
    "duration": 310,
    "start_time": "2022-11-08T15:41:47.301Z"
   },
   {
    "duration": 92,
    "start_time": "2022-11-08T15:45:22.247Z"
   },
   {
    "duration": 87,
    "start_time": "2022-11-08T15:45:32.322Z"
   },
   {
    "duration": 14,
    "start_time": "2022-11-08T15:45:36.238Z"
   },
   {
    "duration": 17,
    "start_time": "2022-11-08T15:45:46.932Z"
   },
   {
    "duration": 179,
    "start_time": "2022-11-08T15:49:33.073Z"
   },
   {
    "duration": 178,
    "start_time": "2022-11-08T15:49:40.033Z"
   },
   {
    "duration": 213,
    "start_time": "2022-11-08T15:49:55.025Z"
   },
   {
    "duration": 191,
    "start_time": "2022-11-08T15:50:01.548Z"
   },
   {
    "duration": 172,
    "start_time": "2022-11-08T15:50:11.589Z"
   },
   {
    "duration": 201,
    "start_time": "2022-11-08T15:50:20.387Z"
   },
   {
    "duration": 177,
    "start_time": "2022-11-08T15:50:28.296Z"
   },
   {
    "duration": 215,
    "start_time": "2022-11-08T15:50:53.192Z"
   },
   {
    "duration": 204,
    "start_time": "2022-11-08T15:51:11.740Z"
   },
   {
    "duration": 578,
    "start_time": "2022-11-08T15:51:35.748Z"
   },
   {
    "duration": 334,
    "start_time": "2022-11-08T15:52:08.096Z"
   },
   {
    "duration": 6,
    "start_time": "2022-11-08T15:54:17.146Z"
   },
   {
    "duration": 364,
    "start_time": "2022-11-08T15:59:51.856Z"
   },
   {
    "duration": 200,
    "start_time": "2022-11-08T16:01:05.403Z"
   },
   {
    "duration": 196,
    "start_time": "2022-11-08T16:01:17.907Z"
   },
   {
    "duration": 192,
    "start_time": "2022-11-08T16:01:22.931Z"
   },
   {
    "duration": 378,
    "start_time": "2022-11-08T16:01:37.827Z"
   },
   {
    "duration": 96,
    "start_time": "2022-11-08T16:01:49.808Z"
   },
   {
    "duration": 74,
    "start_time": "2022-11-08T16:01:51.887Z"
   },
   {
    "duration": 75,
    "start_time": "2022-11-08T16:01:59.512Z"
   },
   {
    "duration": 77,
    "start_time": "2022-11-08T16:02:03.370Z"
   },
   {
    "duration": 339,
    "start_time": "2022-11-08T16:02:14.662Z"
   },
   {
    "duration": 323,
    "start_time": "2022-11-08T16:02:18.716Z"
   },
   {
    "duration": 80,
    "start_time": "2022-11-08T16:02:32.578Z"
   },
   {
    "duration": 383,
    "start_time": "2022-11-08T16:02:39.311Z"
   },
   {
    "duration": 370,
    "start_time": "2022-11-08T16:02:57.139Z"
   },
   {
    "duration": 385,
    "start_time": "2022-11-08T16:04:50.210Z"
   },
   {
    "duration": 526,
    "start_time": "2022-11-08T16:07:29.892Z"
   },
   {
    "duration": 10,
    "start_time": "2022-11-08T16:13:21.979Z"
   },
   {
    "duration": 10,
    "start_time": "2022-11-08T16:13:36.984Z"
   },
   {
    "duration": 288,
    "start_time": "2022-11-08T16:13:39.598Z"
   },
   {
    "duration": 1159,
    "start_time": "2022-11-08T16:17:04.533Z"
   },
   {
    "duration": 98,
    "start_time": "2022-11-08T16:18:13.890Z"
   },
   {
    "duration": 94,
    "start_time": "2022-11-08T16:25:11.713Z"
   },
   {
    "duration": 69,
    "start_time": "2022-11-08T16:40:16.320Z"
   },
   {
    "duration": 19,
    "start_time": "2022-11-08T16:40:26.744Z"
   },
   {
    "duration": 5,
    "start_time": "2022-11-08T16:40:35.264Z"
   },
   {
    "duration": 7,
    "start_time": "2022-11-08T16:40:42.126Z"
   },
   {
    "duration": 6,
    "start_time": "2022-11-08T16:40:58.623Z"
   },
   {
    "duration": 11,
    "start_time": "2022-11-08T16:43:34.680Z"
   },
   {
    "duration": 15,
    "start_time": "2022-11-08T16:43:42.396Z"
   },
   {
    "duration": 20,
    "start_time": "2022-11-08T16:44:00.820Z"
   },
   {
    "duration": 26,
    "start_time": "2022-11-08T16:46:20.702Z"
   },
   {
    "duration": 15,
    "start_time": "2022-11-08T16:46:37.085Z"
   },
   {
    "duration": 21,
    "start_time": "2022-11-08T16:48:15.545Z"
   },
   {
    "duration": 10,
    "start_time": "2022-11-08T16:48:44.041Z"
   },
   {
    "duration": 21,
    "start_time": "2022-11-08T16:48:49.471Z"
   },
   {
    "duration": 28,
    "start_time": "2022-11-08T16:54:45.656Z"
   },
   {
    "duration": 12,
    "start_time": "2022-11-08T16:57:15.644Z"
   },
   {
    "duration": 18,
    "start_time": "2022-11-08T16:57:33.765Z"
   },
   {
    "duration": 26,
    "start_time": "2022-11-08T16:58:06.970Z"
   },
   {
    "duration": 300,
    "start_time": "2022-11-08T16:58:15.385Z"
   },
   {
    "duration": 404,
    "start_time": "2022-11-08T16:58:29.131Z"
   },
   {
    "duration": 37,
    "start_time": "2022-11-08T16:59:02.980Z"
   },
   {
    "duration": 449,
    "start_time": "2022-11-08T16:59:09.835Z"
   },
   {
    "duration": 37,
    "start_time": "2022-11-08T16:59:20.897Z"
   },
   {
    "duration": 30,
    "start_time": "2022-11-08T16:59:43.730Z"
   },
   {
    "duration": 402,
    "start_time": "2022-11-08T17:00:44.067Z"
   },
   {
    "duration": 429,
    "start_time": "2022-11-08T17:00:51.676Z"
   },
   {
    "duration": 563,
    "start_time": "2022-11-08T17:01:10.109Z"
   },
   {
    "duration": 425,
    "start_time": "2022-11-08T17:01:18.829Z"
   },
   {
    "duration": 439,
    "start_time": "2022-11-08T17:01:32.480Z"
   },
   {
    "duration": 359,
    "start_time": "2022-11-08T17:01:51.120Z"
   },
   {
    "duration": 362,
    "start_time": "2022-11-08T17:02:05.083Z"
   },
   {
    "duration": 15,
    "start_time": "2022-11-08T17:02:22.766Z"
   },
   {
    "duration": 617,
    "start_time": "2022-11-08T17:02:30.460Z"
   },
   {
    "duration": 365,
    "start_time": "2022-11-08T17:03:07.751Z"
   },
   {
    "duration": 562,
    "start_time": "2022-11-08T17:03:55.555Z"
   },
   {
    "duration": 489,
    "start_time": "2022-11-08T17:04:11.897Z"
   },
   {
    "duration": 359,
    "start_time": "2022-11-08T17:04:45.895Z"
   },
   {
    "duration": 24,
    "start_time": "2022-11-08T17:05:22.334Z"
   },
   {
    "duration": 22,
    "start_time": "2022-11-08T17:05:31.850Z"
   },
   {
    "duration": 23,
    "start_time": "2022-11-08T17:05:37.767Z"
   },
   {
    "duration": 31,
    "start_time": "2022-11-08T17:06:18.602Z"
   },
   {
    "duration": 25,
    "start_time": "2022-11-08T17:06:34.404Z"
   },
   {
    "duration": 25,
    "start_time": "2022-11-08T17:06:47.000Z"
   },
   {
    "duration": 23,
    "start_time": "2022-11-08T17:06:51.774Z"
   },
   {
    "duration": 391,
    "start_time": "2022-11-08T17:06:57.563Z"
   },
   {
    "duration": 345,
    "start_time": "2022-11-08T17:07:40.181Z"
   },
   {
    "duration": 22,
    "start_time": "2022-11-08T17:07:53.126Z"
   },
   {
    "duration": 23,
    "start_time": "2022-11-08T17:08:00.689Z"
   },
   {
    "duration": 23,
    "start_time": "2022-11-08T17:08:04.910Z"
   },
   {
    "duration": 340,
    "start_time": "2022-11-08T17:08:09.160Z"
   },
   {
    "duration": 313,
    "start_time": "2022-11-08T17:08:14.950Z"
   },
   {
    "duration": 347,
    "start_time": "2022-11-08T17:08:28.243Z"
   },
   {
    "duration": 404,
    "start_time": "2022-11-08T17:08:34.329Z"
   },
   {
    "duration": 500,
    "start_time": "2022-11-08T17:08:41.033Z"
   },
   {
    "duration": 639,
    "start_time": "2022-11-08T17:09:41.632Z"
   },
   {
    "duration": 611,
    "start_time": "2022-11-08T17:10:13.598Z"
   },
   {
    "duration": 606,
    "start_time": "2022-11-08T17:12:17.065Z"
   },
   {
    "duration": 671,
    "start_time": "2022-11-08T17:12:26.195Z"
   },
   {
    "duration": 641,
    "start_time": "2022-11-08T17:12:37.134Z"
   },
   {
    "duration": 605,
    "start_time": "2022-11-08T17:14:02.395Z"
   },
   {
    "duration": 3,
    "start_time": "2022-11-08T17:14:14.243Z"
   },
   {
    "duration": 618,
    "start_time": "2022-11-08T17:15:08.984Z"
   },
   {
    "duration": 7,
    "start_time": "2022-11-08T17:20:06.137Z"
   },
   {
    "duration": 357,
    "start_time": "2022-11-08T17:20:08.269Z"
   },
   {
    "duration": 19,
    "start_time": "2022-11-08T17:21:28.261Z"
   },
   {
    "duration": 450,
    "start_time": "2022-11-08T17:21:33.228Z"
   },
   {
    "duration": 7,
    "start_time": "2022-11-08T17:22:47.468Z"
   },
   {
    "duration": 9,
    "start_time": "2022-11-08T17:23:55.865Z"
   },
   {
    "duration": 8,
    "start_time": "2022-11-08T17:24:20.661Z"
   },
   {
    "duration": 257,
    "start_time": "2022-11-08T17:24:21.492Z"
   },
   {
    "duration": 10,
    "start_time": "2022-11-08T17:24:25.290Z"
   },
   {
    "duration": 28,
    "start_time": "2022-11-08T17:24:42.707Z"
   },
   {
    "duration": 8,
    "start_time": "2022-11-08T17:24:43.576Z"
   },
   {
    "duration": 18,
    "start_time": "2022-11-08T17:24:44.378Z"
   },
   {
    "duration": 8,
    "start_time": "2022-11-08T17:25:00.302Z"
   },
   {
    "duration": 22,
    "start_time": "2022-11-08T17:25:01.438Z"
   },
   {
    "duration": 1184,
    "start_time": "2022-11-09T19:14:30.606Z"
   },
   {
    "duration": 95,
    "start_time": "2022-11-09T19:14:31.792Z"
   },
   {
    "duration": 14,
    "start_time": "2022-11-09T19:14:31.889Z"
   },
   {
    "duration": 3,
    "start_time": "2022-11-09T19:14:31.905Z"
   },
   {
    "duration": 34,
    "start_time": "2022-11-09T19:14:31.909Z"
   },
   {
    "duration": 8,
    "start_time": "2022-11-09T19:14:31.944Z"
   },
   {
    "duration": 26,
    "start_time": "2022-11-09T19:14:31.953Z"
   },
   {
    "duration": 13,
    "start_time": "2022-11-09T19:14:31.981Z"
   },
   {
    "duration": 10,
    "start_time": "2022-11-09T19:14:31.995Z"
   },
   {
    "duration": 7,
    "start_time": "2022-11-09T19:14:32.008Z"
   },
   {
    "duration": 93,
    "start_time": "2022-11-09T19:14:32.017Z"
   },
   {
    "duration": 504,
    "start_time": "2022-11-09T19:14:32.112Z"
   },
   {
    "duration": 8,
    "start_time": "2022-11-09T19:14:32.618Z"
   },
   {
    "duration": 39,
    "start_time": "2022-11-09T19:14:32.629Z"
   },
   {
    "duration": 16,
    "start_time": "2022-11-09T19:14:32.670Z"
   },
   {
    "duration": 33,
    "start_time": "2022-11-09T19:14:32.688Z"
   },
   {
    "duration": 208,
    "start_time": "2022-11-09T19:14:32.723Z"
   },
   {
    "duration": 5,
    "start_time": "2022-11-09T19:14:32.933Z"
   },
   {
    "duration": 1314,
    "start_time": "2022-11-09T19:14:32.939Z"
   },
   {
    "duration": 31,
    "start_time": "2022-11-09T19:14:34.254Z"
   },
   {
    "duration": 4,
    "start_time": "2022-11-09T19:14:34.287Z"
   },
   {
    "duration": 330,
    "start_time": "2022-11-09T19:14:34.292Z"
   },
   {
    "duration": 775,
    "start_time": "2022-11-09T19:14:34.623Z"
   },
   {
    "duration": 791,
    "start_time": "2022-11-09T19:14:35.401Z"
   },
   {
    "duration": 291,
    "start_time": "2022-11-09T19:14:36.194Z"
   },
   {
    "duration": 383,
    "start_time": "2022-11-09T19:14:36.487Z"
   },
   {
    "duration": 288,
    "start_time": "2022-11-09T19:14:36.871Z"
   },
   {
    "duration": 17,
    "start_time": "2022-11-09T19:14:37.162Z"
   },
   {
    "duration": 115,
    "start_time": "2022-11-09T19:14:37.181Z"
   },
   {
    "duration": 0,
    "start_time": "2022-11-09T19:14:37.297Z"
   },
   {
    "duration": 0,
    "start_time": "2022-11-09T19:14:37.298Z"
   },
   {
    "duration": 0,
    "start_time": "2022-11-09T19:14:37.299Z"
   },
   {
    "duration": 0,
    "start_time": "2022-11-09T19:14:37.301Z"
   },
   {
    "duration": 0,
    "start_time": "2022-11-09T19:14:37.302Z"
   },
   {
    "duration": 0,
    "start_time": "2022-11-09T19:14:37.303Z"
   },
   {
    "duration": 0,
    "start_time": "2022-11-09T19:14:37.304Z"
   },
   {
    "duration": 0,
    "start_time": "2022-11-09T19:14:37.306Z"
   },
   {
    "duration": 0,
    "start_time": "2022-11-09T19:14:37.306Z"
   },
   {
    "duration": 0,
    "start_time": "2022-11-09T19:14:37.308Z"
   },
   {
    "duration": 0,
    "start_time": "2022-11-09T19:14:37.309Z"
   },
   {
    "duration": 23,
    "start_time": "2022-11-09T19:24:58.597Z"
   },
   {
    "duration": 45,
    "start_time": "2022-11-10T02:51:29.536Z"
   },
   {
    "duration": 1211,
    "start_time": "2022-11-10T02:51:37.694Z"
   },
   {
    "duration": 237,
    "start_time": "2022-11-10T02:51:38.907Z"
   },
   {
    "duration": 14,
    "start_time": "2022-11-10T02:51:39.145Z"
   },
   {
    "duration": 3,
    "start_time": "2022-11-10T02:51:39.161Z"
   },
   {
    "duration": 22,
    "start_time": "2022-11-10T02:51:39.165Z"
   },
   {
    "duration": 7,
    "start_time": "2022-11-10T02:51:39.188Z"
   },
   {
    "duration": 12,
    "start_time": "2022-11-10T02:51:39.197Z"
   },
   {
    "duration": 15,
    "start_time": "2022-11-10T02:51:39.210Z"
   },
   {
    "duration": 24,
    "start_time": "2022-11-10T02:51:39.226Z"
   },
   {
    "duration": 7,
    "start_time": "2022-11-10T02:51:39.252Z"
   },
   {
    "duration": 90,
    "start_time": "2022-11-10T02:51:39.261Z"
   },
   {
    "duration": 365,
    "start_time": "2022-11-10T02:51:41.280Z"
   },
   {
    "duration": 5,
    "start_time": "2022-11-10T02:56:55.299Z"
   },
   {
    "duration": 496,
    "start_time": "2022-11-10T03:10:55.267Z"
   },
   {
    "duration": 463,
    "start_time": "2022-11-10T03:11:03.346Z"
   },
   {
    "duration": 339,
    "start_time": "2022-11-10T03:12:38.626Z"
   },
   {
    "duration": 264,
    "start_time": "2022-11-10T03:13:10.316Z"
   },
   {
    "duration": 283,
    "start_time": "2022-11-10T03:13:39.692Z"
   },
   {
    "duration": 5,
    "start_time": "2022-11-10T03:15:48.865Z"
   },
   {
    "duration": 77,
    "start_time": "2022-11-10T03:15:53.269Z"
   },
   {
    "duration": 188,
    "start_time": "2022-11-10T03:16:37.660Z"
   },
   {
    "duration": 504,
    "start_time": "2022-11-10T03:17:24.739Z"
   },
   {
    "duration": 387,
    "start_time": "2022-11-10T03:22:18.165Z"
   },
   {
    "duration": 312,
    "start_time": "2022-11-10T03:23:19.164Z"
   },
   {
    "duration": 291,
    "start_time": "2022-11-10T03:27:27.029Z"
   },
   {
    "duration": 11,
    "start_time": "2022-11-10T03:30:40.814Z"
   },
   {
    "duration": 11,
    "start_time": "2022-11-10T03:31:54.085Z"
   },
   {
    "duration": 10,
    "start_time": "2022-11-10T03:32:03.616Z"
   },
   {
    "duration": 10,
    "start_time": "2022-11-10T03:32:13.698Z"
   },
   {
    "duration": 6,
    "start_time": "2022-11-10T03:33:02.082Z"
   },
   {
    "duration": 6,
    "start_time": "2022-11-10T03:33:15.873Z"
   },
   {
    "duration": 1088,
    "start_time": "2022-11-11T00:04:08.816Z"
   },
   {
    "duration": 87,
    "start_time": "2022-11-11T00:04:09.906Z"
   },
   {
    "duration": 15,
    "start_time": "2022-11-11T00:04:09.994Z"
   },
   {
    "duration": 13,
    "start_time": "2022-11-11T00:04:10.011Z"
   },
   {
    "duration": 35,
    "start_time": "2022-11-11T00:04:10.025Z"
   },
   {
    "duration": 8,
    "start_time": "2022-11-11T00:04:10.062Z"
   },
   {
    "duration": 12,
    "start_time": "2022-11-11T00:04:10.072Z"
   },
   {
    "duration": 22,
    "start_time": "2022-11-11T00:04:10.085Z"
   },
   {
    "duration": 7,
    "start_time": "2022-11-11T00:04:10.108Z"
   },
   {
    "duration": 7,
    "start_time": "2022-11-11T00:04:10.118Z"
   },
   {
    "duration": 98,
    "start_time": "2022-11-11T00:04:10.127Z"
   },
   {
    "duration": 395,
    "start_time": "2022-11-11T00:04:10.227Z"
   },
   {
    "duration": 6,
    "start_time": "2022-11-11T00:04:10.623Z"
   },
   {
    "duration": 107,
    "start_time": "2022-11-11T00:04:10.631Z"
   },
   {
    "duration": 0,
    "start_time": "2022-11-11T00:04:10.740Z"
   },
   {
    "duration": 0,
    "start_time": "2022-11-11T00:04:10.741Z"
   },
   {
    "duration": 0,
    "start_time": "2022-11-11T00:04:10.742Z"
   },
   {
    "duration": 0,
    "start_time": "2022-11-11T00:04:10.743Z"
   },
   {
    "duration": 0,
    "start_time": "2022-11-11T00:04:10.744Z"
   },
   {
    "duration": 0,
    "start_time": "2022-11-11T00:04:10.745Z"
   },
   {
    "duration": 0,
    "start_time": "2022-11-11T00:04:10.758Z"
   },
   {
    "duration": 0,
    "start_time": "2022-11-11T00:04:10.759Z"
   },
   {
    "duration": 0,
    "start_time": "2022-11-11T00:04:10.760Z"
   },
   {
    "duration": 0,
    "start_time": "2022-11-11T00:04:10.761Z"
   },
   {
    "duration": 0,
    "start_time": "2022-11-11T00:04:10.762Z"
   },
   {
    "duration": 0,
    "start_time": "2022-11-11T00:04:10.763Z"
   },
   {
    "duration": 0,
    "start_time": "2022-11-11T00:04:10.764Z"
   },
   {
    "duration": 0,
    "start_time": "2022-11-11T00:04:10.765Z"
   },
   {
    "duration": 0,
    "start_time": "2022-11-11T00:04:10.766Z"
   },
   {
    "duration": 0,
    "start_time": "2022-11-11T00:04:10.767Z"
   },
   {
    "duration": 0,
    "start_time": "2022-11-11T00:04:10.768Z"
   },
   {
    "duration": 0,
    "start_time": "2022-11-11T00:04:10.769Z"
   },
   {
    "duration": 0,
    "start_time": "2022-11-11T00:04:10.770Z"
   },
   {
    "duration": 0,
    "start_time": "2022-11-11T00:04:10.771Z"
   },
   {
    "duration": 0,
    "start_time": "2022-11-11T00:04:10.772Z"
   },
   {
    "duration": 0,
    "start_time": "2022-11-11T00:04:10.773Z"
   },
   {
    "duration": 0,
    "start_time": "2022-11-11T00:04:10.773Z"
   },
   {
    "duration": 0,
    "start_time": "2022-11-11T00:04:10.774Z"
   },
   {
    "duration": 0,
    "start_time": "2022-11-11T00:04:10.776Z"
   },
   {
    "duration": 0,
    "start_time": "2022-11-11T00:04:10.777Z"
   },
   {
    "duration": 1116,
    "start_time": "2022-11-11T00:06:08.214Z"
   },
   {
    "duration": 90,
    "start_time": "2022-11-11T00:06:09.332Z"
   },
   {
    "duration": 16,
    "start_time": "2022-11-11T00:06:09.424Z"
   },
   {
    "duration": 16,
    "start_time": "2022-11-11T00:06:09.442Z"
   },
   {
    "duration": 24,
    "start_time": "2022-11-11T00:06:09.460Z"
   },
   {
    "duration": 8,
    "start_time": "2022-11-11T00:06:09.486Z"
   },
   {
    "duration": 6,
    "start_time": "2022-11-11T00:06:09.495Z"
   },
   {
    "duration": 13,
    "start_time": "2022-11-11T00:06:09.503Z"
   },
   {
    "duration": 8,
    "start_time": "2022-11-11T00:06:09.517Z"
   },
   {
    "duration": 36,
    "start_time": "2022-11-11T00:06:09.528Z"
   },
   {
    "duration": 75,
    "start_time": "2022-11-11T00:06:09.565Z"
   },
   {
    "duration": 378,
    "start_time": "2022-11-11T00:06:09.659Z"
   },
   {
    "duration": 8,
    "start_time": "2022-11-11T00:06:10.039Z"
   },
   {
    "duration": 12,
    "start_time": "2022-11-11T00:06:10.048Z"
   },
   {
    "duration": 10,
    "start_time": "2022-11-11T00:06:10.061Z"
   },
   {
    "duration": 214,
    "start_time": "2022-11-11T00:06:10.073Z"
   },
   {
    "duration": 6,
    "start_time": "2022-11-11T00:06:10.289Z"
   },
   {
    "duration": 1234,
    "start_time": "2022-11-11T00:06:10.297Z"
   },
   {
    "duration": 31,
    "start_time": "2022-11-11T00:06:11.533Z"
   },
   {
    "duration": 4,
    "start_time": "2022-11-11T00:06:11.565Z"
   },
   {
    "duration": 299,
    "start_time": "2022-11-11T00:06:11.570Z"
   },
   {
    "duration": 406,
    "start_time": "2022-11-11T00:06:11.871Z"
   },
   {
    "duration": 407,
    "start_time": "2022-11-11T00:06:12.278Z"
   },
   {
    "duration": 262,
    "start_time": "2022-11-11T00:06:12.687Z"
   },
   {
    "duration": 264,
    "start_time": "2022-11-11T00:06:12.950Z"
   },
   {
    "duration": 354,
    "start_time": "2022-11-11T00:06:13.215Z"
   },
   {
    "duration": 5,
    "start_time": "2022-11-11T00:06:13.570Z"
   },
   {
    "duration": 197,
    "start_time": "2022-11-11T00:06:13.578Z"
   },
   {
    "duration": 7,
    "start_time": "2022-11-11T00:06:13.776Z"
   },
   {
    "duration": 457,
    "start_time": "2022-11-11T00:06:13.784Z"
   },
   {
    "duration": 4,
    "start_time": "2022-11-11T00:06:14.242Z"
   },
   {
    "duration": 307,
    "start_time": "2022-11-11T00:06:14.260Z"
   },
   {
    "duration": 4,
    "start_time": "2022-11-11T00:06:14.569Z"
   },
   {
    "duration": 311,
    "start_time": "2022-11-11T00:06:14.575Z"
   },
   {
    "duration": 300,
    "start_time": "2022-11-11T00:06:14.888Z"
   },
   {
    "duration": 9,
    "start_time": "2022-11-11T00:06:15.190Z"
   },
   {
    "duration": 9,
    "start_time": "2022-11-11T00:06:15.201Z"
   },
   {
    "duration": 10,
    "start_time": "2022-11-11T00:06:15.211Z"
   },
   {
    "duration": 5,
    "start_time": "2022-11-11T00:06:15.223Z"
   },
   {
    "duration": 381,
    "start_time": "2022-11-11T00:13:33.838Z"
   }
  ],
  "kernelspec": {
   "display_name": "Python 3 (ipykernel)",
   "language": "python",
   "name": "python3"
  },
  "language_info": {
   "codemirror_mode": {
    "name": "ipython",
    "version": 3
   },
   "file_extension": ".py",
   "mimetype": "text/x-python",
   "name": "python",
   "nbconvert_exporter": "python",
   "pygments_lexer": "ipython3",
   "version": "3.9.5"
  },
  "toc": {
   "base_numbering": 1,
   "nav_menu": {},
   "number_sections": true,
   "sideBar": true,
   "skip_h1_title": true,
   "title_cell": "Table of Contents",
   "title_sidebar": "Contents",
   "toc_cell": false,
   "toc_position": {
    "height": "calc(100% - 180px)",
    "left": "10px",
    "top": "150px",
    "width": "264.188px"
   },
   "toc_section_display": true,
   "toc_window_display": true
  }
 },
 "nbformat": 4,
 "nbformat_minor": 2
}
