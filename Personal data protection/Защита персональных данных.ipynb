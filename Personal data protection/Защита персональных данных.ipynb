{
 "cells": [
  {
   "cell_type": "markdown",
   "metadata": {},
   "source": [
    "# Защита персональных данных клиентов"
   ]
  },
  {
   "cell_type": "markdown",
   "metadata": {},
   "source": [
    "## Загрузка данных"
   ]
  },
  {
   "cell_type": "markdown",
   "metadata": {},
   "source": [
    "Импортируем нужные для работы библиотеки:"
   ]
  },
  {
   "cell_type": "code",
   "execution_count": 2,
   "metadata": {},
   "outputs": [],
   "source": [
    "import numpy as np\n",
    "import pandas as pd\n",
    "import seaborn as sns\n",
    "from sklearn.metrics import r2_score\n",
    "from sklearn.linear_model import LinearRegression\n",
    "import matplotlib.pyplot as plt"
   ]
  },
  {
   "cell_type": "markdown",
   "metadata": {},
   "source": [
    "Посмотрим общую информацию об имеющихся данных:"
   ]
  },
  {
   "cell_type": "code",
   "execution_count": 3,
   "metadata": {},
   "outputs": [
    {
     "name": "stdout",
     "output_type": "stream",
     "text": [
      "<class 'pandas.core.frame.DataFrame'>\n",
      "RangeIndex: 5000 entries, 0 to 4999\n",
      "Data columns (total 5 columns):\n",
      " #   Column             Non-Null Count  Dtype  \n",
      "---  ------             --------------  -----  \n",
      " 0   Пол                5000 non-null   int64  \n",
      " 1   Возраст            5000 non-null   float64\n",
      " 2   Зарплата           5000 non-null   float64\n",
      " 3   Члены семьи        5000 non-null   int64  \n",
      " 4   Страховые выплаты  5000 non-null   int64  \n",
      "dtypes: float64(2), int64(3)\n",
      "memory usage: 195.4 KB\n"
     ]
    }
   ],
   "source": [
    "data = pd.read_csv('/datasets/insurance.csv')\n",
    "data.info()"
   ]
  },
  {
   "cell_type": "code",
   "execution_count": 4,
   "metadata": {
    "scrolled": false
   },
   "outputs": [
    {
     "data": {
      "text/html": [
       "<div>\n",
       "<style scoped>\n",
       "    .dataframe tbody tr th:only-of-type {\n",
       "        vertical-align: middle;\n",
       "    }\n",
       "\n",
       "    .dataframe tbody tr th {\n",
       "        vertical-align: top;\n",
       "    }\n",
       "\n",
       "    .dataframe thead th {\n",
       "        text-align: right;\n",
       "    }\n",
       "</style>\n",
       "<table border=\"1\" class=\"dataframe\">\n",
       "  <thead>\n",
       "    <tr style=\"text-align: right;\">\n",
       "      <th></th>\n",
       "      <th>Пол</th>\n",
       "      <th>Возраст</th>\n",
       "      <th>Зарплата</th>\n",
       "      <th>Члены семьи</th>\n",
       "      <th>Страховые выплаты</th>\n",
       "    </tr>\n",
       "  </thead>\n",
       "  <tbody>\n",
       "    <tr>\n",
       "      <th>0</th>\n",
       "      <td>1</td>\n",
       "      <td>41.0</td>\n",
       "      <td>49600.0</td>\n",
       "      <td>1</td>\n",
       "      <td>0</td>\n",
       "    </tr>\n",
       "    <tr>\n",
       "      <th>1</th>\n",
       "      <td>0</td>\n",
       "      <td>46.0</td>\n",
       "      <td>38000.0</td>\n",
       "      <td>1</td>\n",
       "      <td>1</td>\n",
       "    </tr>\n",
       "    <tr>\n",
       "      <th>2</th>\n",
       "      <td>0</td>\n",
       "      <td>29.0</td>\n",
       "      <td>21000.0</td>\n",
       "      <td>0</td>\n",
       "      <td>0</td>\n",
       "    </tr>\n",
       "    <tr>\n",
       "      <th>3</th>\n",
       "      <td>0</td>\n",
       "      <td>21.0</td>\n",
       "      <td>41700.0</td>\n",
       "      <td>2</td>\n",
       "      <td>0</td>\n",
       "    </tr>\n",
       "    <tr>\n",
       "      <th>4</th>\n",
       "      <td>1</td>\n",
       "      <td>28.0</td>\n",
       "      <td>26100.0</td>\n",
       "      <td>0</td>\n",
       "      <td>0</td>\n",
       "    </tr>\n",
       "  </tbody>\n",
       "</table>\n",
       "</div>"
      ],
      "text/plain": [
       "   Пол  Возраст  Зарплата  Члены семьи  Страховые выплаты\n",
       "0    1     41.0   49600.0            1                  0\n",
       "1    0     46.0   38000.0            1                  1\n",
       "2    0     29.0   21000.0            0                  0\n",
       "3    0     21.0   41700.0            2                  0\n",
       "4    1     28.0   26100.0            0                  0"
      ]
     },
     "execution_count": 4,
     "metadata": {},
     "output_type": "execute_result"
    }
   ],
   "source": [
    "data.head()"
   ]
  },
  {
   "cell_type": "markdown",
   "metadata": {},
   "source": [
    "Приведем столбцы к нижнему регистру, затем - к змеиному. Также сменим тип данных для столбца \"Возраст\", т.к. значение целочисленное."
   ]
  },
  {
   "cell_type": "code",
   "execution_count": 5,
   "metadata": {},
   "outputs": [
    {
     "data": {
      "text/plain": [
       "Index(['пол', 'возраст', 'зарплата', 'члены семьи', 'страховые выплаты'], dtype='object')"
      ]
     },
     "execution_count": 5,
     "metadata": {},
     "output_type": "execute_result"
    }
   ],
   "source": [
    "data.columns = data.columns.str.lower()\n",
    "data.columns"
   ]
  },
  {
   "cell_type": "code",
   "execution_count": 6,
   "metadata": {
    "scrolled": true
   },
   "outputs": [],
   "source": [
    "data = data.rename(columns={'страховые выплаты':'страховые_выплаты', 'члены семьи':'члены_семьи'})"
   ]
  },
  {
   "cell_type": "code",
   "execution_count": 7,
   "metadata": {},
   "outputs": [
    {
     "name": "stdout",
     "output_type": "stream",
     "text": [
      "<class 'pandas.core.frame.DataFrame'>\n",
      "RangeIndex: 5000 entries, 0 to 4999\n",
      "Data columns (total 5 columns):\n",
      " #   Column             Non-Null Count  Dtype  \n",
      "---  ------             --------------  -----  \n",
      " 0   пол                5000 non-null   int64  \n",
      " 1   возраст            5000 non-null   int64  \n",
      " 2   зарплата           5000 non-null   float64\n",
      " 3   члены_семьи        5000 non-null   int64  \n",
      " 4   страховые_выплаты  5000 non-null   int64  \n",
      "dtypes: float64(1), int64(4)\n",
      "memory usage: 195.4 KB\n"
     ]
    }
   ],
   "source": [
    "data['возраст'] = data['возраст'].astype('int')\n",
    "data.info()"
   ]
  },
  {
   "cell_type": "markdown",
   "metadata": {},
   "source": [
    "В данной ситуации (со столбцами, которые предполагают не уникальные данные), дубли имеют место быть. Не будем их убирать."
   ]
  },
  {
   "cell_type": "code",
   "execution_count": 8,
   "metadata": {},
   "outputs": [
    {
     "data": {
      "text/html": [
       "<div>\n",
       "<style scoped>\n",
       "    .dataframe tbody tr th:only-of-type {\n",
       "        vertical-align: middle;\n",
       "    }\n",
       "\n",
       "    .dataframe tbody tr th {\n",
       "        vertical-align: top;\n",
       "    }\n",
       "\n",
       "    .dataframe thead th {\n",
       "        text-align: right;\n",
       "    }\n",
       "</style>\n",
       "<table border=\"1\" class=\"dataframe\">\n",
       "  <thead>\n",
       "    <tr style=\"text-align: right;\">\n",
       "      <th></th>\n",
       "      <th>возраст</th>\n",
       "      <th>зарплата</th>\n",
       "      <th>члены_семьи</th>\n",
       "      <th>страховые_выплаты</th>\n",
       "    </tr>\n",
       "  </thead>\n",
       "  <tbody>\n",
       "    <tr>\n",
       "      <th>возраст</th>\n",
       "      <td>1.000000</td>\n",
       "      <td>-0.019093</td>\n",
       "      <td>-0.006692</td>\n",
       "      <td>0.651030</td>\n",
       "    </tr>\n",
       "    <tr>\n",
       "      <th>зарплата</th>\n",
       "      <td>-0.019093</td>\n",
       "      <td>1.000000</td>\n",
       "      <td>-0.030296</td>\n",
       "      <td>-0.014963</td>\n",
       "    </tr>\n",
       "    <tr>\n",
       "      <th>члены_семьи</th>\n",
       "      <td>-0.006692</td>\n",
       "      <td>-0.030296</td>\n",
       "      <td>1.000000</td>\n",
       "      <td>-0.036290</td>\n",
       "    </tr>\n",
       "    <tr>\n",
       "      <th>страховые_выплаты</th>\n",
       "      <td>0.651030</td>\n",
       "      <td>-0.014963</td>\n",
       "      <td>-0.036290</td>\n",
       "      <td>1.000000</td>\n",
       "    </tr>\n",
       "  </tbody>\n",
       "</table>\n",
       "</div>"
      ],
      "text/plain": [
       "                    возраст  зарплата  члены_семьи  страховые_выплаты\n",
       "возраст            1.000000 -0.019093    -0.006692           0.651030\n",
       "зарплата          -0.019093  1.000000    -0.030296          -0.014963\n",
       "члены_семьи       -0.006692 -0.030296     1.000000          -0.036290\n",
       "страховые_выплаты  0.651030 -0.014963    -0.036290           1.000000"
      ]
     },
     "execution_count": 8,
     "metadata": {},
     "output_type": "execute_result"
    }
   ],
   "source": [
    "numeric = ['возраст', 'зарплата', 'члены_семьи', 'страховые_выплаты']\n",
    "data[numeric].corr()"
   ]
  },
  {
   "cell_type": "code",
   "execution_count": 9,
   "metadata": {},
   "outputs": [
    {
     "data": {
      "text/plain": [
       "<AxesSubplot:>"
      ]
     },
     "execution_count": 9,
     "metadata": {},
     "output_type": "execute_result"
    },
    {
     "data": {
      "image/png": "[encoded data removed]",
      "text/plain": [
       "<Figure size 1080x1080 with 2 Axes>"
      ]
     },
     "metadata": {
      "needs_background": "light"
     },
     "output_type": "display_data"
    }
   ],
   "source": [
    "fig = plt.figure(figsize = (15,15))\n",
    "sns.heatmap(data[numeric].corr(), annot = True, cmap=sns.color_palette(\"pastel\", as_cmap=True), linewidth=.5, square=True)"
   ]
  },
  {
   "cell_type": "markdown",
   "metadata": {},
   "source": [
    "Посмотрим на распределение признаков:"
   ]
  },
  {
   "cell_type": "code",
   "execution_count": 39,
   "metadata": {},
   "outputs": [
    {
     "data": {
      "image/png": "[encoded data removed]",
      "text/plain": [
       "<Figure size 1440x864 with 6 Axes>"
      ]
     },
     "metadata": {
      "needs_background": "light"
     },
     "output_type": "display_data"
    }
   ],
   "source": [
    "distr = data.hist(bins=20, figsize=(20, 12), edgecolor='black')\n",
    "plt.show()"
   ]
  },
  {
   "cell_type": "code",
   "execution_count": 28,
   "metadata": {},
   "outputs": [
    {
     "data": {
      "text/plain": [
       "Text(0.5, 1, 'Отношения между признаками')"
      ]
     },
     "execution_count": 28,
     "metadata": {},
     "output_type": "execute_result"
    },
    {
     "data": {
      "image/png": "[encoded data removed]",
      "text/plain": [
       "<Figure size 900x900 with 30 Axes>"
      ]
     },
     "metadata": {
      "needs_background": "light"
     },
     "output_type": "display_data"
    }
   ],
   "source": [
    "gigaplot = sns.pairplot(data)\n",
    "gigaplot.fig.suptitle(\"Отношения между признаками\", y=1)"
   ]
  },
  {
   "cell_type": "markdown",
   "metadata": {},
   "source": [
    "Вывод по разделу: <p>\n",
    " - Получили общую информацию о датасете.\n",
    " - Привели названия столбцов к нижнему змеиному регистру.\n",
    " - Аномалий и пропусков в данных не обнаружили.\n",
    " - По матрице корелляции увидели среднюю зависимость между возрастом клиента и страховыми выплатами."
   ]
  },
  {
   "cell_type": "markdown",
   "metadata": {},
   "source": [
    "## Умножение матриц"
   ]
  },
  {
   "cell_type": "markdown",
   "metadata": {},
   "source": [
    "Обозначения:\n",
    "\n",
    "- $X$ — матрица признаков (нулевой столбец состоит из единиц)\n",
    "\n",
    "- $y$ — вектор целевого признака\n",
    "\n",
    "- $P$ — матрица, на которую умножаются признаки\n",
    "\n",
    "- $w$ — вектор весов линейной регрессии (нулевой элемент равен сдвигу)"
   ]
  },
  {
   "cell_type": "markdown",
   "metadata": {},
   "source": [
    "Предсказания:\n",
    "\n",
    "$$\n",
    "a = Xw\n",
    "$$\n",
    "\n",
    "Задача обучения:\n",
    "\n",
    "$$\n",
    "w = \\arg\\min_w MSE(Xw, y)\n",
    "$$\n",
    "\n",
    "Формула обучения:\n",
    "\n",
    "$$\n",
    "w = (X^T X)^{-1} X^T y\n",
    "$$\n"
   ]
  },
  {
   "cell_type": "markdown",
   "metadata": {},
   "source": [
    "**Ответ:** <p>\n",
    "Умножение признаков на обратимую матрицу не влияет на качество линейной регрессии.\n",
    "\n",
    "**Обоснование:** <p>\n",
    "\n",
    "$$\n",
    "w_1 = ((XP)^TXP)^{-1}(XP)^T y = (P^TX^TXP)^{-1}P^TX^Ty = P^{-1}(X^TX)^{-1}(P^T)^{-1}P^TX^Ty = P^{-1}(X^TX)^{-1}X^Ty\n",
    "$$\n",
    "    \n",
    "$$\n",
    "a_1 = XPw_1\n",
    "$$\n",
    "    \n",
    "$$\n",
    "a_1 = XPP^{-1}(X^TX)^{-1}X^Ty = X(X^TX)^{-1}X^Ty = Xw\n",
    "$$\n",
    "\n",
    "Выражения для a и a_1 идентичны, соответственно, a и a_1 равны. "
   ]
  },
  {
   "cell_type": "markdown",
   "metadata": {},
   "source": [
    "## Алгоритм преобразования"
   ]
  },
  {
   "cell_type": "markdown",
   "metadata": {},
   "source": [
    "**Алгоритм**\n",
    "\n",
    "1. Разделение выборки на обучающие и целевой признаки.\n",
    "2. Создание случайной обратимой матрицы\n",
    "3. Умножение обратной матрицы на матрицу признаков\n",
    "4. Проверка обратимости матрицы\n",
    "5. Обучение модели и расчет показателя R2 для исходных данных\n",
    "6. Обучение модели и расчет показателя R2 для преобразованных данных"
   ]
  },
  {
   "cell_type": "code",
   "execution_count": 8,
   "metadata": {},
   "outputs": [
    {
     "data": {
      "text/plain": [
       "((5000, 4), (5000,))"
      ]
     },
     "execution_count": 8,
     "metadata": {},
     "output_type": "execute_result"
    }
   ],
   "source": [
    "features = data.drop(columns='страховые_выплаты')\n",
    "target = data['страховые_выплаты']\n",
    "\n",
    "features.shape, target.shape"
   ]
  },
  {
   "cell_type": "markdown",
   "metadata": {},
   "source": [
    "**Обоснование**\n",
    "\n",
    "Качество линейной регрессии не изменится при умножении матриц, значит, будет целесообразно применить данный алгоритм для целей шифрования."
   ]
  },
  {
   "cell_type": "markdown",
   "metadata": {},
   "source": [
    "Создадим матрицу 4х4:"
   ]
  },
  {
   "cell_type": "code",
   "execution_count": 9,
   "metadata": {},
   "outputs": [
    {
     "data": {
      "text/plain": [
       "array([[ 1.16034951,  1.06411647,  2.45657966, -0.17571561],\n",
       "       [ 2.728668  ,  0.0575881 , -0.71498757, -0.91276988],\n",
       "       [ 0.91723885,  0.55792097,  0.06710459, -1.35857268],\n",
       "       [ 0.40663582, -1.14174846,  1.04088071,  1.55020874]])"
      ]
     },
     "execution_count": 9,
     "metadata": {},
     "output_type": "execute_result"
    }
   ],
   "source": [
    "matrix = np.random.normal(size=(features.shape[1], features.shape[1]))\n",
    "matrix"
   ]
  },
  {
   "cell_type": "markdown",
   "metadata": {},
   "source": [
    "И проверим ее обратимость:"
   ]
  },
  {
   "cell_type": "code",
   "execution_count": 10,
   "metadata": {},
   "outputs": [
    {
     "data": {
      "text/plain": [
       "array([[ 1.00000000e+00, -3.91210613e-17, -8.69061334e-18,\n",
       "        -1.76539779e-17],\n",
       "       [-3.49836963e-16,  1.00000000e+00,  8.07396543e-17,\n",
       "        -4.91183652e-17],\n",
       "       [ 7.00523881e-17,  2.69317193e-18,  1.00000000e+00,\n",
       "        -1.12367167e-16],\n",
       "       [-1.55121009e-16, -9.88585066e-17,  3.18952417e-16,\n",
       "         1.00000000e+00]])"
      ]
     },
     "execution_count": 10,
     "metadata": {},
     "output_type": "execute_result"
    }
   ],
   "source": [
    "np.linalg.inv(matrix) @ matrix"
   ]
  },
  {
   "cell_type": "markdown",
   "metadata": {},
   "source": [
    "Матрицу можно считать обратимой (при двойной инверсии мы получаем единицы на главной диагонали, а в остальных местах - нули (в данном случае - числа, приближенные к нулю, но, вероятно, дело в перемножении чисел с большой разрядностью в пайтоне)). "
   ]
  },
  {
   "cell_type": "markdown",
   "metadata": {},
   "source": [
    "Зашифруем целевой признак с помощью созданной матрицы  "
   ]
  },
  {
   "cell_type": "code",
   "execution_count": 11,
   "metadata": {},
   "outputs": [
    {
     "data": {
      "text/html": [
       "<div>\n",
       "<style scoped>\n",
       "    .dataframe tbody tr th:only-of-type {\n",
       "        vertical-align: middle;\n",
       "    }\n",
       "\n",
       "    .dataframe tbody tr th {\n",
       "        vertical-align: top;\n",
       "    }\n",
       "\n",
       "    .dataframe thead th {\n",
       "        text-align: right;\n",
       "    }\n",
       "</style>\n",
       "<table border=\"1\" class=\"dataframe\">\n",
       "  <thead>\n",
       "    <tr style=\"text-align: right;\">\n",
       "      <th></th>\n",
       "      <th>0</th>\n",
       "      <th>1</th>\n",
       "      <th>2</th>\n",
       "      <th>3</th>\n",
       "    </tr>\n",
       "  </thead>\n",
       "  <tbody>\n",
       "    <tr>\n",
       "      <th>0</th>\n",
       "      <td>45608.489093</td>\n",
       "      <td>27675.163603</td>\n",
       "      <td>3302.570812</td>\n",
       "      <td>-67421.254012</td>\n",
       "    </tr>\n",
       "    <tr>\n",
       "      <th>1</th>\n",
       "      <td>34981.001480</td>\n",
       "      <td>21202.504172</td>\n",
       "      <td>2518.126009</td>\n",
       "      <td>-51666.199055</td>\n",
       "    </tr>\n",
       "    <tr>\n",
       "      <th>2</th>\n",
       "      <td>19341.147120</td>\n",
       "      <td>11718.010429</td>\n",
       "      <td>1388.461826</td>\n",
       "      <td>-28556.496612</td>\n",
       "    </tr>\n",
       "    <tr>\n",
       "      <th>3</th>\n",
       "      <td>38306.975142</td>\n",
       "      <td>23264.230311</td>\n",
       "      <td>2785.328575</td>\n",
       "      <td>-56668.548516</td>\n",
       "    </tr>\n",
       "    <tr>\n",
       "      <th>4</th>\n",
       "      <td>24017.496912</td>\n",
       "      <td>14564.413906</td>\n",
       "      <td>1733.866820</td>\n",
       "      <td>-35484.480227</td>\n",
       "    </tr>\n",
       "    <tr>\n",
       "      <th>...</th>\n",
       "      <td>...</td>\n",
       "      <td>...</td>\n",
       "      <td>...</td>\n",
       "      <td>...</td>\n",
       "    </tr>\n",
       "    <tr>\n",
       "      <th>4995</th>\n",
       "      <td>32822.642748</td>\n",
       "      <td>19917.107606</td>\n",
       "      <td>2377.696101</td>\n",
       "      <td>-48523.501824</td>\n",
       "    </tr>\n",
       "    <tr>\n",
       "      <th>4996</th>\n",
       "      <td>48156.496834</td>\n",
       "      <td>29235.875086</td>\n",
       "      <td>3493.012008</td>\n",
       "      <td>-71218.692412</td>\n",
       "    </tr>\n",
       "    <tr>\n",
       "      <th>4997</th>\n",
       "      <td>31149.783482</td>\n",
       "      <td>18912.389155</td>\n",
       "      <td>2262.627733</td>\n",
       "      <td>-46070.768841</td>\n",
       "    </tr>\n",
       "    <tr>\n",
       "      <th>4998</th>\n",
       "      <td>30056.121189</td>\n",
       "      <td>18242.921535</td>\n",
       "      <td>2184.169706</td>\n",
       "      <td>-44440.932671</td>\n",
       "    </tr>\n",
       "    <tr>\n",
       "      <th>4999</th>\n",
       "      <td>37317.866802</td>\n",
       "      <td>22653.126225</td>\n",
       "      <td>2707.924308</td>\n",
       "      <td>-55182.233882</td>\n",
       "    </tr>\n",
       "  </tbody>\n",
       "</table>\n",
       "<p>5000 rows × 4 columns</p>\n",
       "</div>"
      ],
      "text/plain": [
       "                 0             1            2             3\n",
       "0     45608.489093  27675.163603  3302.570812 -67421.254012\n",
       "1     34981.001480  21202.504172  2518.126009 -51666.199055\n",
       "2     19341.147120  11718.010429  1388.461826 -28556.496612\n",
       "3     38306.975142  23264.230311  2785.328575 -56668.548516\n",
       "4     24017.496912  14564.413906  1733.866820 -35484.480227\n",
       "...            ...           ...          ...           ...\n",
       "4995  32822.642748  19917.107606  2377.696101 -48523.501824\n",
       "4996  48156.496834  29235.875086  3493.012008 -71218.692412\n",
       "4997  31149.783482  18912.389155  2262.627733 -46070.768841\n",
       "4998  30056.121189  18242.921535  2184.169706 -44440.932671\n",
       "4999  37317.866802  22653.126225  2707.924308 -55182.233882\n",
       "\n",
       "[5000 rows x 4 columns]"
      ]
     },
     "execution_count": 11,
     "metadata": {},
     "output_type": "execute_result"
    }
   ],
   "source": [
    "features_encrypted = features @ matrix\n",
    "features_encrypted"
   ]
  },
  {
   "cell_type": "markdown",
   "metadata": {},
   "source": [
    "## Проверка алгоритма"
   ]
  },
  {
   "cell_type": "markdown",
   "metadata": {},
   "source": [
    "Сравним исходную модель и модель с преобразованными данными: "
   ]
  },
  {
   "cell_type": "code",
   "execution_count": 14,
   "metadata": {},
   "outputs": [
    {
     "name": "stdout",
     "output_type": "stream",
     "text": [
      "Значение R2-метрики: 0.4249455028666801\n"
     ]
    }
   ],
   "source": [
    "lr = LinearRegression()\n",
    "lr.fit(features, target)\n",
    "preds = lr.predict(features)\n",
    "r2_lr = r2_score(target, preds)\n",
    "\n",
    "print('Значение R2-метрики:', r2_lr)"
   ]
  },
  {
   "cell_type": "code",
   "execution_count": 15,
   "metadata": {},
   "outputs": [
    {
     "name": "stdout",
     "output_type": "stream",
     "text": [
      "Значение R2-метрики на преобразованных данных: 0.42494550286667643\n"
     ]
    }
   ],
   "source": [
    "lr_enc = LinearRegression()\n",
    "lr_enc.fit(features_encrypted, target)\n",
    "preds_enc = lr_enc.predict(features_encrypted)\n",
    "r2_lr_enc = r2_score(target, preds_enc)\n",
    "\n",
    "print('Значение R2-метрики на преобразованных данных:', r2_lr_enc)"
   ]
  },
  {
   "cell_type": "markdown",
   "metadata": {},
   "source": [
    "Качество линейной регрессии практически не изменилось, значит - наш алгоритм шифрования/преобразования данных сработал корректно."
   ]
  }
 ],
 "metadata": {
  "ExecuteTimeLog": [
   {
    "duration": 401,
    "start_time": "2023-01-22T14:36:36.929Z"
   },
   {
    "duration": 85,
    "start_time": "2023-01-22T14:36:59.276Z"
   },
   {
    "duration": 41,
    "start_time": "2023-01-22T14:37:04.680Z"
   },
   {
    "duration": 46,
    "start_time": "2023-01-25T18:00:26.387Z"
   },
   {
    "duration": 1118,
    "start_time": "2023-01-25T18:00:29.211Z"
   },
   {
    "duration": 112,
    "start_time": "2023-01-25T18:00:30.331Z"
   },
   {
    "duration": 24,
    "start_time": "2023-01-25T18:00:41.796Z"
   },
   {
    "duration": 11,
    "start_time": "2023-01-25T18:00:50.552Z"
   },
   {
    "duration": 12,
    "start_time": "2023-01-25T18:01:25.901Z"
   },
   {
    "duration": 62,
    "start_time": "2023-01-25T18:01:38.299Z"
   },
   {
    "duration": 10,
    "start_time": "2023-01-25T18:01:41.196Z"
   },
   {
    "duration": 6,
    "start_time": "2023-01-25T18:07:02.451Z"
   },
   {
    "duration": 3,
    "start_time": "2023-01-25T18:07:14.802Z"
   },
   {
    "duration": 5,
    "start_time": "2023-01-25T18:07:21.534Z"
   },
   {
    "duration": 6,
    "start_time": "2023-01-25T18:07:28.559Z"
   },
   {
    "duration": 50,
    "start_time": "2023-01-25T18:13:53.306Z"
   },
   {
    "duration": 6,
    "start_time": "2023-01-25T18:14:02.801Z"
   },
   {
    "duration": 17,
    "start_time": "2023-01-25T18:14:23.498Z"
   },
   {
    "duration": 6,
    "start_time": "2023-01-25T18:14:29.291Z"
   },
   {
    "duration": 12,
    "start_time": "2023-01-25T18:16:08.777Z"
   },
   {
    "duration": 8,
    "start_time": "2023-01-25T18:28:50.775Z"
   },
   {
    "duration": 395,
    "start_time": "2023-01-25T18:29:04.410Z"
   },
   {
    "duration": 21,
    "start_time": "2023-01-25T18:29:08.720Z"
   },
   {
    "duration": 61,
    "start_time": "2023-01-25T18:29:20.533Z"
   },
   {
    "duration": 16,
    "start_time": "2023-01-25T18:29:25.990Z"
   },
   {
    "duration": 101887,
    "start_time": "2023-01-25T18:29:52.470Z"
   },
   {
    "duration": 31,
    "start_time": "2023-01-25T18:33:09.035Z"
   },
   {
    "duration": 407,
    "start_time": "2023-01-25T18:33:57.347Z"
   },
   {
    "duration": 369,
    "start_time": "2023-01-25T18:34:09.676Z"
   },
   {
    "duration": 368,
    "start_time": "2023-01-25T18:34:17.014Z"
   },
   {
    "duration": 14,
    "start_time": "2023-01-25T18:35:51.847Z"
   },
   {
    "duration": 15,
    "start_time": "2023-01-25T18:37:04.143Z"
   },
   {
    "duration": 120,
    "start_time": "2023-01-25T18:37:19.311Z"
   },
   {
    "duration": 373,
    "start_time": "2023-01-25T18:37:26.496Z"
   },
   {
    "duration": 854,
    "start_time": "2023-01-25T18:37:36.313Z"
   },
   {
    "duration": 335,
    "start_time": "2023-01-25T18:37:41.128Z"
   },
   {
    "duration": 376,
    "start_time": "2023-01-25T18:37:48.377Z"
   },
   {
    "duration": 411,
    "start_time": "2023-01-25T18:37:58.843Z"
   },
   {
    "duration": 383,
    "start_time": "2023-01-25T18:38:28.792Z"
   },
   {
    "duration": 383,
    "start_time": "2023-01-25T18:38:44.221Z"
   },
   {
    "duration": 335,
    "start_time": "2023-01-25T18:38:58.615Z"
   },
   {
    "duration": 425,
    "start_time": "2023-01-25T18:39:02.978Z"
   },
   {
    "duration": 418,
    "start_time": "2023-01-25T18:39:06.575Z"
   },
   {
    "duration": 420,
    "start_time": "2023-01-25T18:39:17.878Z"
   },
   {
    "duration": 444,
    "start_time": "2023-01-25T18:39:22.767Z"
   },
   {
    "duration": 6,
    "start_time": "2023-01-26T00:19:29.139Z"
   },
   {
    "duration": 20,
    "start_time": "2023-01-26T00:25:54.013Z"
   },
   {
    "duration": 4,
    "start_time": "2023-01-26T00:26:01.401Z"
   },
   {
    "duration": 36,
    "start_time": "2023-01-26T00:26:02.701Z"
   },
   {
    "duration": 12,
    "start_time": "2023-01-26T00:26:03.739Z"
   },
   {
    "duration": 4,
    "start_time": "2023-01-26T00:26:04.742Z"
   },
   {
    "duration": 13,
    "start_time": "2023-01-26T00:26:06.272Z"
   },
   {
    "duration": 13,
    "start_time": "2023-01-26T00:26:40.735Z"
   },
   {
    "duration": 12,
    "start_time": "2023-01-26T00:26:43.616Z"
   },
   {
    "duration": 384,
    "start_time": "2023-01-26T00:26:45.781Z"
   },
   {
    "duration": 15,
    "start_time": "2023-01-26T00:26:52.423Z"
   },
   {
    "duration": 14,
    "start_time": "2023-01-26T00:27:12.543Z"
   },
   {
    "duration": 4,
    "start_time": "2023-01-26T00:27:21.947Z"
   },
   {
    "duration": 12,
    "start_time": "2023-01-26T00:27:23.732Z"
   },
   {
    "duration": 13,
    "start_time": "2023-01-26T00:27:29.354Z"
   },
   {
    "duration": 376,
    "start_time": "2023-01-26T00:27:34.038Z"
   },
   {
    "duration": 6,
    "start_time": "2023-01-26T00:27:36.401Z"
   },
   {
    "duration": 46,
    "start_time": "2023-01-26T00:30:25.754Z"
   },
   {
    "duration": 3,
    "start_time": "2023-01-26T00:30:33.494Z"
   },
   {
    "duration": 4,
    "start_time": "2023-01-26T00:30:40.315Z"
   },
   {
    "duration": 4,
    "start_time": "2023-01-26T00:30:41.192Z"
   },
   {
    "duration": 4,
    "start_time": "2023-01-26T00:30:42.065Z"
   },
   {
    "duration": 180,
    "start_time": "2023-01-26T00:30:55.933Z"
   },
   {
    "duration": 5,
    "start_time": "2023-01-26T00:31:44.125Z"
   },
   {
    "duration": 5,
    "start_time": "2023-01-26T00:31:45.093Z"
   },
   {
    "duration": 5,
    "start_time": "2023-01-26T00:31:46.650Z"
   },
   {
    "duration": 7,
    "start_time": "2023-01-26T00:31:47.503Z"
   },
   {
    "duration": 358,
    "start_time": "2023-01-26T00:32:10.207Z"
   },
   {
    "duration": 631,
    "start_time": "2023-01-26T00:32:21.103Z"
   },
   {
    "duration": 10,
    "start_time": "2023-01-26T00:32:33.251Z"
   },
   {
    "duration": 9,
    "start_time": "2023-01-26T00:32:40.617Z"
   },
   {
    "duration": 708,
    "start_time": "2023-01-26T00:32:57.062Z"
   },
   {
    "duration": 4,
    "start_time": "2023-01-26T00:33:05.153Z"
   },
   {
    "duration": 4,
    "start_time": "2023-01-26T00:40:18.776Z"
   },
   {
    "duration": 4,
    "start_time": "2023-01-26T00:41:44.357Z"
   },
   {
    "duration": 3,
    "start_time": "2023-01-26T00:41:45.487Z"
   },
   {
    "duration": 4,
    "start_time": "2023-01-26T00:41:57.027Z"
   },
   {
    "duration": 5,
    "start_time": "2023-01-26T00:41:57.920Z"
   },
   {
    "duration": 5,
    "start_time": "2023-01-26T00:41:58.966Z"
   },
   {
    "duration": 4,
    "start_time": "2023-01-26T00:42:37.987Z"
   },
   {
    "duration": 5,
    "start_time": "2023-01-26T00:42:39.227Z"
   },
   {
    "duration": 10,
    "start_time": "2023-01-26T00:52:46.786Z"
   },
   {
    "duration": 4,
    "start_time": "2023-01-26T00:52:51.096Z"
   },
   {
    "duration": 5,
    "start_time": "2023-01-26T00:52:52.421Z"
   },
   {
    "duration": 5,
    "start_time": "2023-01-26T00:52:54.450Z"
   },
   {
    "duration": 5,
    "start_time": "2023-01-26T00:53:41.325Z"
   },
   {
    "duration": 3,
    "start_time": "2023-01-26T01:01:05.652Z"
   },
   {
    "duration": 11,
    "start_time": "2023-01-26T01:01:09.766Z"
   },
   {
    "duration": 376,
    "start_time": "2023-01-26T01:03:43.121Z"
   },
   {
    "duration": 46,
    "start_time": "2023-01-26T01:04:04.854Z"
   },
   {
    "duration": 42,
    "start_time": "2023-01-26T01:04:10.607Z"
   },
   {
    "duration": 379,
    "start_time": "2023-01-26T01:04:14.338Z"
   },
   {
    "duration": 12,
    "start_time": "2023-01-26T01:04:25.187Z"
   },
   {
    "duration": 385,
    "start_time": "2023-01-26T01:04:31.224Z"
   },
   {
    "duration": 352,
    "start_time": "2023-01-26T01:04:49.242Z"
   },
   {
    "duration": 348,
    "start_time": "2023-01-26T01:05:02.734Z"
   },
   {
    "duration": 360,
    "start_time": "2023-01-26T01:05:09.246Z"
   },
   {
    "duration": 374,
    "start_time": "2023-01-26T01:06:09.501Z"
   },
   {
    "duration": 361,
    "start_time": "2023-01-26T01:07:37.428Z"
   },
   {
    "duration": 14,
    "start_time": "2023-01-26T01:10:31.410Z"
   },
   {
    "duration": 96,
    "start_time": "2023-01-26T01:10:55.504Z"
   },
   {
    "duration": 9,
    "start_time": "2023-01-26T01:10:56.938Z"
   },
   {
    "duration": 9,
    "start_time": "2023-01-26T01:11:17.018Z"
   },
   {
    "duration": 1296,
    "start_time": "2023-01-26T01:27:02.214Z"
   },
   {
    "duration": 32,
    "start_time": "2023-01-26T01:27:03.512Z"
   },
   {
    "duration": 11,
    "start_time": "2023-01-26T01:27:03.546Z"
   },
   {
    "duration": 4,
    "start_time": "2023-01-26T01:27:03.559Z"
   },
   {
    "duration": 5,
    "start_time": "2023-01-26T01:27:03.564Z"
   },
   {
    "duration": 13,
    "start_time": "2023-01-26T01:27:03.571Z"
   },
   {
    "duration": 409,
    "start_time": "2023-01-26T01:27:03.585Z"
   },
   {
    "duration": 6,
    "start_time": "2023-01-26T01:27:03.998Z"
   },
   {
    "duration": 7,
    "start_time": "2023-01-26T01:27:04.006Z"
   },
   {
    "duration": 8,
    "start_time": "2023-01-26T01:27:04.014Z"
   },
   {
    "duration": 84,
    "start_time": "2023-01-26T01:27:04.023Z"
   },
   {
    "duration": 191,
    "start_time": "2023-01-26T01:27:04.109Z"
   },
   {
    "duration": 98,
    "start_time": "2023-01-26T01:27:04.302Z"
   },
   {
    "duration": 9,
    "start_time": "2023-01-26T01:31:07.102Z"
   },
   {
    "duration": 9,
    "start_time": "2023-01-26T01:31:28.647Z"
   },
   {
    "duration": 44,
    "start_time": "2023-01-26T12:08:11.930Z"
   },
   {
    "duration": 7,
    "start_time": "2023-01-26T12:08:15.752Z"
   },
   {
    "duration": 1433,
    "start_time": "2023-01-26T12:08:20.485Z"
   },
   {
    "duration": 135,
    "start_time": "2023-01-26T12:08:21.920Z"
   },
   {
    "duration": 12,
    "start_time": "2023-01-26T12:08:22.691Z"
   },
   {
    "duration": 3,
    "start_time": "2023-01-26T12:08:23.622Z"
   },
   {
    "duration": 3,
    "start_time": "2023-01-26T12:08:23.958Z"
   },
   {
    "duration": 17,
    "start_time": "2023-01-26T12:08:23.963Z"
   },
   {
    "duration": 74,
    "start_time": "2023-01-26T12:08:25.849Z"
   },
   {
    "duration": 5,
    "start_time": "2023-01-26T12:09:16.856Z"
   },
   {
    "duration": 10,
    "start_time": "2023-01-26T12:09:30.165Z"
   },
   {
    "duration": 10,
    "start_time": "2023-01-26T12:27:54.479Z"
   },
   {
    "duration": 436,
    "start_time": "2023-01-26T12:27:55.319Z"
   },
   {
    "duration": 164,
    "start_time": "2023-01-26T19:49:18.863Z"
   },
   {
    "duration": 100,
    "start_time": "2023-01-26T19:49:44.695Z"
   },
   {
    "duration": 52,
    "start_time": "2023-02-01T10:33:15.563Z"
   },
   {
    "duration": 1783,
    "start_time": "2023-02-01T10:33:21.591Z"
   },
   {
    "duration": 98,
    "start_time": "2023-02-01T10:33:23.376Z"
   },
   {
    "duration": 13,
    "start_time": "2023-02-01T10:33:23.476Z"
   },
   {
    "duration": 5,
    "start_time": "2023-02-01T10:33:24.283Z"
   },
   {
    "duration": 3,
    "start_time": "2023-02-01T10:33:25.189Z"
   },
   {
    "duration": 13,
    "start_time": "2023-02-01T10:33:25.418Z"
   },
   {
    "duration": 11,
    "start_time": "2023-02-01T10:33:25.906Z"
   },
   {
    "duration": 465,
    "start_time": "2023-02-01T10:33:26.209Z"
   },
   {
    "duration": 142,
    "start_time": "2023-02-01T10:33:30.128Z"
   },
   {
    "duration": 79,
    "start_time": "2023-02-01T10:35:06.428Z"
   },
   {
    "duration": 1134,
    "start_time": "2023-02-01T10:35:13.403Z"
   },
   {
    "duration": 107,
    "start_time": "2023-02-01T10:36:44.322Z"
   },
   {
    "duration": 173,
    "start_time": "2023-02-01T10:36:52.480Z"
   },
   {
    "duration": 209,
    "start_time": "2023-02-01T10:37:48.842Z"
   },
   {
    "duration": 427,
    "start_time": "2023-02-01T10:38:00.476Z"
   },
   {
    "duration": 310,
    "start_time": "2023-02-01T10:38:04.280Z"
   },
   {
    "duration": 236,
    "start_time": "2023-02-01T10:38:13.351Z"
   },
   {
    "duration": 405,
    "start_time": "2023-02-01T10:38:16.103Z"
   },
   {
    "duration": 392,
    "start_time": "2023-02-01T10:38:21.915Z"
   },
   {
    "duration": 10,
    "start_time": "2023-02-01T10:38:36.577Z"
   },
   {
    "duration": 960,
    "start_time": "2023-02-01T10:38:42.473Z"
   },
   {
    "duration": 1027,
    "start_time": "2023-02-01T10:41:02.690Z"
   },
   {
    "duration": 957,
    "start_time": "2023-02-01T10:41:07.926Z"
   },
   {
    "duration": 1161,
    "start_time": "2023-02-01T10:41:14.360Z"
   },
   {
    "duration": 1501,
    "start_time": "2023-02-01T10:41:24.051Z"
   },
   {
    "duration": 904,
    "start_time": "2023-02-01T10:41:34.402Z"
   },
   {
    "duration": 790,
    "start_time": "2023-02-01T10:41:43.349Z"
   },
   {
    "duration": 11,
    "start_time": "2023-02-01T10:43:58.193Z"
   },
   {
    "duration": 733,
    "start_time": "2023-02-01T10:44:02.617Z"
   },
   {
    "duration": 28,
    "start_time": "2023-02-01T10:44:13.913Z"
   },
   {
    "duration": 306309,
    "start_time": "2023-02-01T10:48:16.992Z"
   },
   {
    "duration": 16,
    "start_time": "2023-02-01T10:59:16.605Z"
   },
   {
    "duration": 16,
    "start_time": "2023-02-01T10:59:30.292Z"
   },
   {
    "duration": 155,
    "start_time": "2023-02-01T10:59:45.504Z"
   },
   {
    "duration": 14,
    "start_time": "2023-02-01T10:59:52.491Z"
   },
   {
    "duration": 54,
    "start_time": "2023-02-01T11:16:12.033Z"
   },
   {
    "duration": 1605,
    "start_time": "2023-02-01T11:16:19.449Z"
   },
   {
    "duration": 109,
    "start_time": "2023-02-01T11:16:21.056Z"
   },
   {
    "duration": 13,
    "start_time": "2023-02-01T11:16:21.167Z"
   },
   {
    "duration": 5,
    "start_time": "2023-02-01T11:16:21.182Z"
   },
   {
    "duration": 31,
    "start_time": "2023-02-01T11:16:21.189Z"
   },
   {
    "duration": 12,
    "start_time": "2023-02-01T11:16:21.290Z"
   },
   {
    "duration": 11,
    "start_time": "2023-02-01T11:16:21.639Z"
   },
   {
    "duration": 435,
    "start_time": "2023-02-01T11:16:21.806Z"
   },
   {
    "duration": 863,
    "start_time": "2023-02-01T11:16:23.734Z"
   },
   {
    "duration": 4153,
    "start_time": "2023-02-01T11:16:26.003Z"
   },
   {
    "duration": 755,
    "start_time": "2023-02-01T11:19:50.634Z"
   },
   {
    "duration": 838,
    "start_time": "2023-02-01T11:20:15.623Z"
   },
   {
    "duration": 958,
    "start_time": "2023-02-01T11:20:51.632Z"
   },
   {
    "duration": 703,
    "start_time": "2023-02-01T11:21:01.398Z"
   },
   {
    "duration": 797,
    "start_time": "2023-02-01T11:21:15.094Z"
   },
   {
    "duration": 970,
    "start_time": "2023-02-01T11:22:02.791Z"
   },
   {
    "duration": 4466,
    "start_time": "2023-02-01T11:23:03.293Z"
   },
   {
    "duration": 4234,
    "start_time": "2023-02-01T11:23:35.387Z"
   },
   {
    "duration": 4401,
    "start_time": "2023-02-01T11:23:59.398Z"
   },
   {
    "duration": 4215,
    "start_time": "2023-02-01T11:24:35.425Z"
   },
   {
    "duration": 4108,
    "start_time": "2023-02-01T11:25:48.847Z"
   },
   {
    "duration": 4324,
    "start_time": "2023-02-01T11:25:57.417Z"
   },
   {
    "duration": 4163,
    "start_time": "2023-02-01T11:26:05.295Z"
   },
   {
    "duration": 0,
    "start_time": "2023-02-01T11:26:59.227Z"
   },
   {
    "duration": 4361,
    "start_time": "2023-02-01T11:27:31.413Z"
   },
   {
    "duration": 4207,
    "start_time": "2023-02-01T11:27:49.686Z"
   },
   {
    "duration": 4492,
    "start_time": "2023-02-01T11:27:58.898Z"
   },
   {
    "duration": 763,
    "start_time": "2023-02-01T11:28:33.334Z"
   },
   {
    "duration": 1047,
    "start_time": "2023-02-01T11:29:25.022Z"
   },
   {
    "duration": 838,
    "start_time": "2023-02-01T11:32:41.604Z"
   },
   {
    "duration": 824,
    "start_time": "2023-02-01T11:32:50.438Z"
   },
   {
    "duration": 1165,
    "start_time": "2023-02-01T11:34:11.587Z"
   },
   {
    "duration": 1494,
    "start_time": "2023-02-01T11:34:23.120Z"
   },
   {
    "duration": 926,
    "start_time": "2023-02-01T11:34:55.533Z"
   },
   {
    "duration": 857,
    "start_time": "2023-02-01T11:35:30.593Z"
   },
   {
    "duration": 888,
    "start_time": "2023-02-01T11:36:04.905Z"
   },
   {
    "duration": 825,
    "start_time": "2023-02-01T11:36:26.633Z"
   },
   {
    "duration": 1046,
    "start_time": "2023-02-01T11:38:58.406Z"
   }
  ],
  "kernelspec": {
   "display_name": "Python 3 (ipykernel)",
   "language": "python",
   "name": "python3"
  },
  "language_info": {
   "codemirror_mode": {
    "name": "ipython",
    "version": 3
   },
   "file_extension": ".py",
   "mimetype": "text/x-python",
   "name": "python",
   "nbconvert_exporter": "python",
   "pygments_lexer": "ipython3",
   "version": "3.9.5"
  },
  "toc": {
   "base_numbering": 1,
   "nav_menu": {},
   "number_sections": true,
   "sideBar": true,
   "skip_h1_title": true,
   "title_cell": "Содержание",
   "title_sidebar": "Contents",
   "toc_cell": true,
   "toc_position": {
    "height": "calc(100% - 180px)",
    "left": "10px",
    "top": "150px",
    "width": "165px"
   },
   "toc_section_display": true,
   "toc_window_display": true
  }
 },
 "nbformat": 4,
 "nbformat_minor": 2
}
